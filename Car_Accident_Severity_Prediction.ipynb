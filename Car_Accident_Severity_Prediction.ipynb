{
 "cells": [
  {
   "cell_type": "markdown",
   "metadata": {},
   "source": [
    "<h1 style=\"text-align:center;\"> IBM Applied Data Science Capstone Project </h1>\n",
    "<h2 style=\"text-align:center;\"> \"Car Accident Severity Prediction\" </h2>\n",
    "<h3 style=\"text-align:center;\"> Submission by:<a href=\"www.linkedin.com/in/tukait13\"> Sankhadeep Bhowmick</a></h3>"
   ]
  },
  {
   "cell_type": "markdown",
   "metadata": {},
   "source": [
    "This project aims to build a Machine Learning model using historical data on collisions in the city of Seattle, WA to predict the severity of future accidents."
   ]
  },
  {
   "cell_type": "code",
   "execution_count": 1,
   "metadata": {},
   "outputs": [],
   "source": [
    "import pandas as pd\n",
    "import numpy as np"
   ]
  },
  {
   "cell_type": "code",
   "execution_count": 2,
   "metadata": {},
   "outputs": [
    {
     "name": "stdout",
     "output_type": "stream",
     "text": [
      "Hello Capstone Project Course!\n"
     ]
    }
   ],
   "source": [
    "print(\"Hello Capstone Project Course!\")"
   ]
  },
  {
   "cell_type": "markdown",
   "metadata": {},
   "source": [
    "# Data Acquisition"
   ]
  },
  {
   "cell_type": "markdown",
   "metadata": {},
   "source": [
    "The collisions data is recorded by Seattle Department of Transportation, Traffic Management Division, Traffic Records Group and maintained by ArcGIS and can be found in the Kaggle dataset <a href = \"https://www.kaggle.com/jonleon/seattle-sdot-collisions-data\"> here </a> "
   ]
  },
  {
   "cell_type": "markdown",
   "metadata": {},
   "source": [
    "The dataset has been downloaded and saved to local."
   ]
  },
  {
   "cell_type": "markdown",
   "metadata": {},
   "source": [
    "# Data Understanding"
   ]
  },
  {
   "cell_type": "code",
   "execution_count": 3,
   "metadata": {
    "scrolled": false
   },
   "outputs": [
    {
     "data": {
      "text/html": [
       "<div>\n",
       "<style scoped>\n",
       "    .dataframe tbody tr th:only-of-type {\n",
       "        vertical-align: middle;\n",
       "    }\n",
       "\n",
       "    .dataframe tbody tr th {\n",
       "        vertical-align: top;\n",
       "    }\n",
       "\n",
       "    .dataframe thead th {\n",
       "        text-align: right;\n",
       "    }\n",
       "</style>\n",
       "<table border=\"1\" class=\"dataframe\">\n",
       "  <thead>\n",
       "    <tr style=\"text-align: right;\">\n",
       "      <th></th>\n",
       "      <th>X</th>\n",
       "      <th>Y</th>\n",
       "      <th>OBJECTID</th>\n",
       "      <th>INCKEY</th>\n",
       "      <th>COLDETKEY</th>\n",
       "      <th>REPORTNO</th>\n",
       "      <th>STATUS</th>\n",
       "      <th>ADDRTYPE</th>\n",
       "      <th>INTKEY</th>\n",
       "      <th>LOCATION</th>\n",
       "      <th>...</th>\n",
       "      <th>ROADCOND</th>\n",
       "      <th>LIGHTCOND</th>\n",
       "      <th>PEDROWNOTGRNT</th>\n",
       "      <th>SDOTCOLNUM</th>\n",
       "      <th>SPEEDING</th>\n",
       "      <th>ST_COLCODE</th>\n",
       "      <th>ST_COLDESC</th>\n",
       "      <th>SEGLANEKEY</th>\n",
       "      <th>CROSSWALKKEY</th>\n",
       "      <th>HITPARKEDCAR</th>\n",
       "    </tr>\n",
       "  </thead>\n",
       "  <tbody>\n",
       "    <tr>\n",
       "      <th>0</th>\n",
       "      <td>-122.386772</td>\n",
       "      <td>47.564720</td>\n",
       "      <td>1</td>\n",
       "      <td>326234</td>\n",
       "      <td>327734</td>\n",
       "      <td>E984735</td>\n",
       "      <td>Matched</td>\n",
       "      <td>Intersection</td>\n",
       "      <td>31893.0</td>\n",
       "      <td>CALIFORNIA AVE SW AND SW GENESEE ST</td>\n",
       "      <td>...</td>\n",
       "      <td>Dry</td>\n",
       "      <td>Daylight</td>\n",
       "      <td>Y</td>\n",
       "      <td>NaN</td>\n",
       "      <td>NaN</td>\n",
       "      <td>2</td>\n",
       "      <td>Vehicle turning left hits pedestrian</td>\n",
       "      <td>0</td>\n",
       "      <td>0</td>\n",
       "      <td>N</td>\n",
       "    </tr>\n",
       "    <tr>\n",
       "      <th>1</th>\n",
       "      <td>-122.341806</td>\n",
       "      <td>47.686934</td>\n",
       "      <td>2</td>\n",
       "      <td>326246</td>\n",
       "      <td>327746</td>\n",
       "      <td>E985430</td>\n",
       "      <td>Matched</td>\n",
       "      <td>Intersection</td>\n",
       "      <td>24228.0</td>\n",
       "      <td>STONE AVE N AND N 80TH ST</td>\n",
       "      <td>...</td>\n",
       "      <td>Wet</td>\n",
       "      <td>Dark - Street Lights On</td>\n",
       "      <td>NaN</td>\n",
       "      <td>NaN</td>\n",
       "      <td>NaN</td>\n",
       "      <td>10</td>\n",
       "      <td>Entering at angle</td>\n",
       "      <td>0</td>\n",
       "      <td>0</td>\n",
       "      <td>N</td>\n",
       "    </tr>\n",
       "    <tr>\n",
       "      <th>2</th>\n",
       "      <td>-122.374899</td>\n",
       "      <td>47.668666</td>\n",
       "      <td>3</td>\n",
       "      <td>329254</td>\n",
       "      <td>330754</td>\n",
       "      <td>EA16720</td>\n",
       "      <td>Matched</td>\n",
       "      <td>Block</td>\n",
       "      <td>NaN</td>\n",
       "      <td>NW MARKET ST BETWEEN 14TH AVE NW AND 15TH AVE NW</td>\n",
       "      <td>...</td>\n",
       "      <td>Dry</td>\n",
       "      <td>Daylight</td>\n",
       "      <td>NaN</td>\n",
       "      <td>NaN</td>\n",
       "      <td>NaN</td>\n",
       "      <td>11</td>\n",
       "      <td>From same direction - both going straight - bo...</td>\n",
       "      <td>0</td>\n",
       "      <td>0</td>\n",
       "      <td>N</td>\n",
       "    </tr>\n",
       "    <tr>\n",
       "      <th>3</th>\n",
       "      <td>-122.300758</td>\n",
       "      <td>47.683047</td>\n",
       "      <td>4</td>\n",
       "      <td>21200</td>\n",
       "      <td>21200</td>\n",
       "      <td>1227970</td>\n",
       "      <td>Matched</td>\n",
       "      <td>Intersection</td>\n",
       "      <td>24661.0</td>\n",
       "      <td>25TH AVE NE AND NE 75TH ST</td>\n",
       "      <td>...</td>\n",
       "      <td>Wet</td>\n",
       "      <td>Dark - Street Lights On</td>\n",
       "      <td>NaN</td>\n",
       "      <td>4160038.0</td>\n",
       "      <td>NaN</td>\n",
       "      <td>28</td>\n",
       "      <td>From opposite direction - one left turn - one ...</td>\n",
       "      <td>0</td>\n",
       "      <td>0</td>\n",
       "      <td>N</td>\n",
       "    </tr>\n",
       "    <tr>\n",
       "      <th>4</th>\n",
       "      <td>-122.313053</td>\n",
       "      <td>47.567241</td>\n",
       "      <td>5</td>\n",
       "      <td>17000</td>\n",
       "      <td>17000</td>\n",
       "      <td>1793348</td>\n",
       "      <td>Unmatched</td>\n",
       "      <td>Block</td>\n",
       "      <td>NaN</td>\n",
       "      <td>S DAKOTA ST BETWEEN 15TH AVE S AND 16TH AVE S</td>\n",
       "      <td>...</td>\n",
       "      <td>NaN</td>\n",
       "      <td>NaN</td>\n",
       "      <td>NaN</td>\n",
       "      <td>4289025.0</td>\n",
       "      <td>NaN</td>\n",
       "      <td>NaN</td>\n",
       "      <td>NaN</td>\n",
       "      <td>0</td>\n",
       "      <td>0</td>\n",
       "      <td>N</td>\n",
       "    </tr>\n",
       "  </tbody>\n",
       "</table>\n",
       "<p>5 rows × 40 columns</p>\n",
       "</div>"
      ],
      "text/plain": [
       "            X          Y  OBJECTID  INCKEY  COLDETKEY REPORTNO     STATUS  \\\n",
       "0 -122.386772  47.564720         1  326234     327734  E984735    Matched   \n",
       "1 -122.341806  47.686934         2  326246     327746  E985430    Matched   \n",
       "2 -122.374899  47.668666         3  329254     330754  EA16720    Matched   \n",
       "3 -122.300758  47.683047         4   21200      21200  1227970    Matched   \n",
       "4 -122.313053  47.567241         5   17000      17000  1793348  Unmatched   \n",
       "\n",
       "       ADDRTYPE   INTKEY                                          LOCATION  \\\n",
       "0  Intersection  31893.0               CALIFORNIA AVE SW AND SW GENESEE ST   \n",
       "1  Intersection  24228.0                         STONE AVE N AND N 80TH ST   \n",
       "2         Block      NaN  NW MARKET ST BETWEEN 14TH AVE NW AND 15TH AVE NW   \n",
       "3  Intersection  24661.0                        25TH AVE NE AND NE 75TH ST   \n",
       "4         Block      NaN     S DAKOTA ST BETWEEN 15TH AVE S AND 16TH AVE S   \n",
       "\n",
       "   ... ROADCOND                LIGHTCOND PEDROWNOTGRNT SDOTCOLNUM SPEEDING  \\\n",
       "0  ...      Dry                 Daylight             Y        NaN      NaN   \n",
       "1  ...      Wet  Dark - Street Lights On           NaN        NaN      NaN   \n",
       "2  ...      Dry                 Daylight           NaN        NaN      NaN   \n",
       "3  ...      Wet  Dark - Street Lights On           NaN  4160038.0      NaN   \n",
       "4  ...      NaN                      NaN           NaN  4289025.0      NaN   \n",
       "\n",
       "   ST_COLCODE                                         ST_COLDESC  SEGLANEKEY  \\\n",
       "0           2               Vehicle turning left hits pedestrian           0   \n",
       "1          10                                  Entering at angle           0   \n",
       "2          11  From same direction - both going straight - bo...           0   \n",
       "3          28  From opposite direction - one left turn - one ...           0   \n",
       "4         NaN                                                NaN           0   \n",
       "\n",
       "   CROSSWALKKEY  HITPARKEDCAR  \n",
       "0             0             N  \n",
       "1             0             N  \n",
       "2             0             N  \n",
       "3             0             N  \n",
       "4             0             N  \n",
       "\n",
       "[5 rows x 40 columns]"
      ]
     },
     "execution_count": 3,
     "metadata": {},
     "output_type": "execute_result"
    }
   ],
   "source": [
    "# reading the data into a pandas dataframe\n",
    "\n",
    "df_coll = pd.read_csv(\"Collisions.csv\")\n",
    "df_coll.head(5)"
   ]
  },
  {
   "cell_type": "code",
   "execution_count": 4,
   "metadata": {},
   "outputs": [
    {
     "data": {
      "text/plain": [
       "(221266, 40)"
      ]
     },
     "execution_count": 4,
     "metadata": {},
     "output_type": "execute_result"
    }
   ],
   "source": [
    "df_coll.shape"
   ]
  },
  {
   "cell_type": "code",
   "execution_count": 5,
   "metadata": {
    "scrolled": false
   },
   "outputs": [
    {
     "name": "stdout",
     "output_type": "stream",
     "text": [
      "<class 'pandas.core.frame.DataFrame'>\n",
      "RangeIndex: 221266 entries, 0 to 221265\n",
      "Data columns (total 40 columns):\n",
      " #   Column           Non-Null Count   Dtype  \n",
      "---  ------           --------------   -----  \n",
      " 0   X                213797 non-null  float64\n",
      " 1   Y                213797 non-null  float64\n",
      " 2   OBJECTID         221266 non-null  int64  \n",
      " 3   INCKEY           221266 non-null  int64  \n",
      " 4   COLDETKEY        221266 non-null  int64  \n",
      " 5   REPORTNO         221266 non-null  object \n",
      " 6   STATUS           221266 non-null  object \n",
      " 7   ADDRTYPE         217554 non-null  object \n",
      " 8   INTKEY           71823 non-null   float64\n",
      " 9   LOCATION         216680 non-null  object \n",
      " 10  EXCEPTRSNCODE    100863 non-null  object \n",
      " 11  EXCEPTRSNDESC    11775 non-null   object \n",
      " 12  SEVERITYCODE     221265 non-null  object \n",
      " 13  SEVERITYDESC     221266 non-null  object \n",
      " 14  COLLISIONTYPE    194767 non-null  object \n",
      " 15  PERSONCOUNT      221266 non-null  int64  \n",
      " 16  PEDCOUNT         221266 non-null  int64  \n",
      " 17  PEDCYLCOUNT      221266 non-null  int64  \n",
      " 18  VEHCOUNT         221266 non-null  int64  \n",
      " 19  INJURIES         221266 non-null  int64  \n",
      " 20  SERIOUSINJURIES  221266 non-null  int64  \n",
      " 21  FATALITIES       221266 non-null  int64  \n",
      " 22  INCDATE          221266 non-null  object \n",
      " 23  INCDTTM          221266 non-null  object \n",
      " 24  JUNCTIONTYPE     209299 non-null  object \n",
      " 25  SDOT_COLCODE     221265 non-null  float64\n",
      " 26  SDOT_COLDESC     221265 non-null  object \n",
      " 27  INATTENTIONIND   30188 non-null   object \n",
      " 28  UNDERINFL        194787 non-null  object \n",
      " 29  WEATHER          194578 non-null  object \n",
      " 30  ROADCOND         194658 non-null  object \n",
      " 31  LIGHTCOND        194490 non-null  object \n",
      " 32  PEDROWNOTGRNT    5188 non-null    object \n",
      " 33  SDOTCOLNUM       127205 non-null  float64\n",
      " 34  SPEEDING         9913 non-null    object \n",
      " 35  ST_COLCODE       211853 non-null  object \n",
      " 36  ST_COLDESC       194767 non-null  object \n",
      " 37  SEGLANEKEY       221266 non-null  int64  \n",
      " 38  CROSSWALKKEY     221266 non-null  int64  \n",
      " 39  HITPARKEDCAR     221266 non-null  object \n",
      "dtypes: float64(5), int64(12), object(23)\n",
      "memory usage: 67.5+ MB\n"
     ]
    }
   ],
   "source": [
    "df_coll.info()"
   ]
  },
  {
   "cell_type": "markdown",
   "metadata": {},
   "source": [
    "**The locations of the accidents can be visualized on a map using the lattitude `Y` and longitude `X` columns**"
   ]
  },
  {
   "cell_type": "code",
   "execution_count": 6,
   "metadata": {},
   "outputs": [
    {
     "data": {
      "text/html": [
       "<div style=\"width:100%;\"><div style=\"position:relative;width:100%;height:0;padding-bottom:60%;\"><span style=\"color:#565656\">Make this Notebook Trusted to load map: File -> Trust Notebook</span><iframe src=\"about:blank\" style=\"position:absolute;width:100%;height:100%;left:0;top:0;border:none !important;\" data-html=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 onload=\"this.contentDocument.open();this.contentDocument.write(atob(this.getAttribute('data-html')));this.contentDocument.close();\" allowfullscreen webkitallowfullscreen mozallowfullscreen></iframe></div></div>"
      ],
      "text/plain": [
       "<folium.folium.Map at 0x1fb7a2542b0>"
      ]
     },
     "execution_count": 6,
     "metadata": {},
     "output_type": "execute_result"
    }
   ],
   "source": [
    "import folium\n",
    "from folium.plugins import MarkerCluster\n",
    "\n",
    "map = folium.Map(location=[47.6062, -122.3321], zoom_start=12)\n",
    "marker_cluster = MarkerCluster().add_to(map)\n",
    "locations = df_coll[['Y', 'X']][df_coll['Y'].notna()].head(1000)\n",
    "locationlist = locations.values.tolist()\n",
    "for point in range(len(locations)):\n",
    "    folium.Marker(locationlist[point]).add_to(marker_cluster)\n",
    "map"
   ]
  },
  {
   "cell_type": "code",
   "execution_count": 7,
   "metadata": {},
   "outputs": [
    {
     "data": {
      "text/plain": [
       "Index(['X', 'Y', 'OBJECTID', 'INCKEY', 'COLDETKEY', 'REPORTNO', 'STATUS',\n",
       "       'ADDRTYPE', 'INTKEY', 'LOCATION', 'EXCEPTRSNCODE', 'EXCEPTRSNDESC',\n",
       "       'SEVERITYCODE', 'SEVERITYDESC', 'COLLISIONTYPE', 'PERSONCOUNT',\n",
       "       'PEDCOUNT', 'PEDCYLCOUNT', 'VEHCOUNT', 'INJURIES', 'SERIOUSINJURIES',\n",
       "       'FATALITIES', 'INCDATE', 'INCDTTM', 'JUNCTIONTYPE', 'SDOT_COLCODE',\n",
       "       'SDOT_COLDESC', 'INATTENTIONIND', 'UNDERINFL', 'WEATHER', 'ROADCOND',\n",
       "       'LIGHTCOND', 'PEDROWNOTGRNT', 'SDOTCOLNUM', 'SPEEDING', 'ST_COLCODE',\n",
       "       'ST_COLDESC', 'SEGLANEKEY', 'CROSSWALKKEY', 'HITPARKEDCAR'],\n",
       "      dtype='object')"
      ]
     },
     "execution_count": 7,
     "metadata": {},
     "output_type": "execute_result"
    }
   ],
   "source": [
    "df_coll.columns"
   ]
  },
  {
   "cell_type": "code",
   "execution_count": 8,
   "metadata": {},
   "outputs": [
    {
     "data": {
      "text/html": [
       "<div>\n",
       "<style scoped>\n",
       "    .dataframe tbody tr th:only-of-type {\n",
       "        vertical-align: middle;\n",
       "    }\n",
       "\n",
       "    .dataframe tbody tr th {\n",
       "        vertical-align: top;\n",
       "    }\n",
       "\n",
       "    .dataframe thead th {\n",
       "        text-align: right;\n",
       "    }\n",
       "</style>\n",
       "<table border=\"1\" class=\"dataframe\">\n",
       "  <thead>\n",
       "    <tr style=\"text-align: right;\">\n",
       "      <th></th>\n",
       "      <th>Count</th>\n",
       "    </tr>\n",
       "  </thead>\n",
       "  <tbody>\n",
       "    <tr>\n",
       "      <th>Matched</th>\n",
       "      <td>194840</td>\n",
       "    </tr>\n",
       "    <tr>\n",
       "      <th>Unmatched</th>\n",
       "      <td>26426</td>\n",
       "    </tr>\n",
       "  </tbody>\n",
       "</table>\n",
       "</div>"
      ],
      "text/plain": [
       "            Count\n",
       "Matched    194840\n",
       "Unmatched   26426"
      ]
     },
     "execution_count": 8,
     "metadata": {},
     "output_type": "execute_result"
    }
   ],
   "source": [
    "df_coll['STATUS'].value_counts().to_frame('Count')"
   ]
  },
  {
   "cell_type": "code",
   "execution_count": 9,
   "metadata": {},
   "outputs": [
    {
     "data": {
      "text/html": [
       "<div>\n",
       "<style scoped>\n",
       "    .dataframe tbody tr th:only-of-type {\n",
       "        vertical-align: middle;\n",
       "    }\n",
       "\n",
       "    .dataframe tbody tr th {\n",
       "        vertical-align: top;\n",
       "    }\n",
       "\n",
       "    .dataframe thead th {\n",
       "        text-align: right;\n",
       "    }\n",
       "</style>\n",
       "<table border=\"1\" class=\"dataframe\">\n",
       "  <thead>\n",
       "    <tr style=\"text-align: right;\">\n",
       "      <th></th>\n",
       "      <th>Count</th>\n",
       "    </tr>\n",
       "  </thead>\n",
       "  <tbody>\n",
       "    <tr>\n",
       "      <th>Block</th>\n",
       "      <td>144857</td>\n",
       "    </tr>\n",
       "    <tr>\n",
       "      <th>Intersection</th>\n",
       "      <td>71823</td>\n",
       "    </tr>\n",
       "    <tr>\n",
       "      <th>Alley</th>\n",
       "      <td>874</td>\n",
       "    </tr>\n",
       "  </tbody>\n",
       "</table>\n",
       "</div>"
      ],
      "text/plain": [
       "               Count\n",
       "Block         144857\n",
       "Intersection   71823\n",
       "Alley            874"
      ]
     },
     "execution_count": 9,
     "metadata": {},
     "output_type": "execute_result"
    }
   ],
   "source": [
    "df_coll['ADDRTYPE'].value_counts().to_frame('Count')"
   ]
  },
  {
   "cell_type": "code",
   "execution_count": 10,
   "metadata": {
    "scrolled": true
   },
   "outputs": [
    {
     "data": {
      "text/html": [
       "<div>\n",
       "<style scoped>\n",
       "    .dataframe tbody tr th:only-of-type {\n",
       "        vertical-align: middle;\n",
       "    }\n",
       "\n",
       "    .dataframe tbody tr th {\n",
       "        vertical-align: top;\n",
       "    }\n",
       "\n",
       "    .dataframe thead th {\n",
       "        text-align: right;\n",
       "    }\n",
       "</style>\n",
       "<table border=\"1\" class=\"dataframe\">\n",
       "  <thead>\n",
       "    <tr style=\"text-align: right;\">\n",
       "      <th></th>\n",
       "      <th>Count</th>\n",
       "    </tr>\n",
       "  </thead>\n",
       "  <tbody>\n",
       "    <tr>\n",
       "      <th>1</th>\n",
       "      <td>137485</td>\n",
       "    </tr>\n",
       "    <tr>\n",
       "      <th>2</th>\n",
       "      <td>58698</td>\n",
       "    </tr>\n",
       "    <tr>\n",
       "      <th>0</th>\n",
       "      <td>21635</td>\n",
       "    </tr>\n",
       "    <tr>\n",
       "      <th>2b</th>\n",
       "      <td>3098</td>\n",
       "    </tr>\n",
       "    <tr>\n",
       "      <th>3</th>\n",
       "      <td>349</td>\n",
       "    </tr>\n",
       "  </tbody>\n",
       "</table>\n",
       "</div>"
      ],
      "text/plain": [
       "     Count\n",
       "1   137485\n",
       "2    58698\n",
       "0    21635\n",
       "2b    3098\n",
       "3      349"
      ]
     },
     "execution_count": 10,
     "metadata": {},
     "output_type": "execute_result"
    }
   ],
   "source": [
    "df_coll['SEVERITYCODE'].value_counts().to_frame('Count')"
   ]
  },
  {
   "cell_type": "code",
   "execution_count": 11,
   "metadata": {
    "scrolled": true
   },
   "outputs": [
    {
     "data": {
      "text/html": [
       "<div>\n",
       "<style scoped>\n",
       "    .dataframe tbody tr th:only-of-type {\n",
       "        vertical-align: middle;\n",
       "    }\n",
       "\n",
       "    .dataframe tbody tr th {\n",
       "        vertical-align: top;\n",
       "    }\n",
       "\n",
       "    .dataframe thead th {\n",
       "        text-align: right;\n",
       "    }\n",
       "</style>\n",
       "<table border=\"1\" class=\"dataframe\">\n",
       "  <thead>\n",
       "    <tr style=\"text-align: right;\">\n",
       "      <th></th>\n",
       "      <th>Count</th>\n",
       "    </tr>\n",
       "  </thead>\n",
       "  <tbody>\n",
       "    <tr>\n",
       "      <th>Parked Car</th>\n",
       "      <td>48455</td>\n",
       "    </tr>\n",
       "    <tr>\n",
       "      <th>Angles</th>\n",
       "      <td>35469</td>\n",
       "    </tr>\n",
       "    <tr>\n",
       "      <th>Rear Ended</th>\n",
       "      <td>34624</td>\n",
       "    </tr>\n",
       "    <tr>\n",
       "      <th>Other</th>\n",
       "      <td>24528</td>\n",
       "    </tr>\n",
       "    <tr>\n",
       "      <th>Sideswipe</th>\n",
       "      <td>18855</td>\n",
       "    </tr>\n",
       "    <tr>\n",
       "      <th>Left Turn</th>\n",
       "      <td>14082</td>\n",
       "    </tr>\n",
       "    <tr>\n",
       "      <th>Pedestrian</th>\n",
       "      <td>7654</td>\n",
       "    </tr>\n",
       "    <tr>\n",
       "      <th>Cycles</th>\n",
       "      <td>5911</td>\n",
       "    </tr>\n",
       "    <tr>\n",
       "      <th>Right Turn</th>\n",
       "      <td>3008</td>\n",
       "    </tr>\n",
       "    <tr>\n",
       "      <th>Head On</th>\n",
       "      <td>2181</td>\n",
       "    </tr>\n",
       "  </tbody>\n",
       "</table>\n",
       "</div>"
      ],
      "text/plain": [
       "            Count\n",
       "Parked Car  48455\n",
       "Angles      35469\n",
       "Rear Ended  34624\n",
       "Other       24528\n",
       "Sideswipe   18855\n",
       "Left Turn   14082\n",
       "Pedestrian   7654\n",
       "Cycles       5911\n",
       "Right Turn   3008\n",
       "Head On      2181"
      ]
     },
     "execution_count": 11,
     "metadata": {},
     "output_type": "execute_result"
    }
   ],
   "source": [
    "df_coll['COLLISIONTYPE'].value_counts().to_frame('Count')"
   ]
  },
  {
   "cell_type": "code",
   "execution_count": 12,
   "metadata": {
    "scrolled": false
   },
   "outputs": [
    {
     "data": {
      "text/plain": [
       "count    221266.000000\n",
       "mean          2.226230\n",
       "std           1.470364\n",
       "min           0.000000\n",
       "25%           2.000000\n",
       "50%           2.000000\n",
       "75%           3.000000\n",
       "max          93.000000\n",
       "Name: PERSONCOUNT, dtype: float64"
      ]
     },
     "execution_count": 12,
     "metadata": {},
     "output_type": "execute_result"
    }
   ],
   "source": [
    "df_coll['PERSONCOUNT'].describe()"
   ]
  },
  {
   "cell_type": "code",
   "execution_count": 13,
   "metadata": {},
   "outputs": [
    {
     "data": {
      "text/plain": [
       "count    221266.000000\n",
       "mean          0.038103\n",
       "std           0.201745\n",
       "min           0.000000\n",
       "25%           0.000000\n",
       "50%           0.000000\n",
       "75%           0.000000\n",
       "max           6.000000\n",
       "Name: PEDCOUNT, dtype: float64"
      ]
     },
     "execution_count": 13,
     "metadata": {},
     "output_type": "execute_result"
    }
   ],
   "source": [
    "df_coll['PEDCOUNT'].describe()"
   ]
  },
  {
   "cell_type": "code",
   "execution_count": 14,
   "metadata": {},
   "outputs": [
    {
     "data": {
      "text/plain": [
       "count    221266.000000\n",
       "mean          0.027293\n",
       "std           0.164345\n",
       "min           0.000000\n",
       "25%           0.000000\n",
       "50%           0.000000\n",
       "75%           0.000000\n",
       "max           2.000000\n",
       "Name: PEDCYLCOUNT, dtype: float64"
      ]
     },
     "execution_count": 14,
     "metadata": {},
     "output_type": "execute_result"
    }
   ],
   "source": [
    "df_coll['PEDCYLCOUNT'].describe()"
   ]
  },
  {
   "cell_type": "code",
   "execution_count": 15,
   "metadata": {
    "scrolled": true
   },
   "outputs": [
    {
     "data": {
      "text/plain": [
       "count    221266.000000\n",
       "mean          1.728544\n",
       "std           0.831224\n",
       "min           0.000000\n",
       "25%           2.000000\n",
       "50%           2.000000\n",
       "75%           2.000000\n",
       "max          15.000000\n",
       "Name: VEHCOUNT, dtype: float64"
      ]
     },
     "execution_count": 15,
     "metadata": {},
     "output_type": "execute_result"
    }
   ],
   "source": [
    "df_coll['VEHCOUNT'].describe()"
   ]
  },
  {
   "cell_type": "code",
   "execution_count": 16,
   "metadata": {},
   "outputs": [
    {
     "data": {
      "text/plain": [
       "count    221266.000000\n",
       "mean          0.373844\n",
       "std           0.732086\n",
       "min           0.000000\n",
       "25%           0.000000\n",
       "50%           0.000000\n",
       "75%           1.000000\n",
       "max          78.000000\n",
       "Name: INJURIES, dtype: float64"
      ]
     },
     "execution_count": 16,
     "metadata": {},
     "output_type": "execute_result"
    }
   ],
   "source": [
    "df_coll['INJURIES'].describe()"
   ]
  },
  {
   "cell_type": "code",
   "execution_count": 17,
   "metadata": {},
   "outputs": [
    {
     "data": {
      "text/plain": [
       "count    221266.000000\n",
       "mean          0.015149\n",
       "std           0.157908\n",
       "min           0.000000\n",
       "25%           0.000000\n",
       "50%           0.000000\n",
       "75%           0.000000\n",
       "max          41.000000\n",
       "Name: SERIOUSINJURIES, dtype: float64"
      ]
     },
     "execution_count": 17,
     "metadata": {},
     "output_type": "execute_result"
    }
   ],
   "source": [
    "df_coll['SERIOUSINJURIES'].describe()"
   ]
  },
  {
   "cell_type": "code",
   "execution_count": 18,
   "metadata": {
    "scrolled": true
   },
   "outputs": [
    {
     "data": {
      "text/plain": [
       "count    221266.000000\n",
       "mean          0.001681\n",
       "std           0.044562\n",
       "min           0.000000\n",
       "25%           0.000000\n",
       "50%           0.000000\n",
       "75%           0.000000\n",
       "max           5.000000\n",
       "Name: FATALITIES, dtype: float64"
      ]
     },
     "execution_count": 18,
     "metadata": {},
     "output_type": "execute_result"
    }
   ],
   "source": [
    "df_coll['FATALITIES'].describe()"
   ]
  },
  {
   "cell_type": "code",
   "execution_count": 19,
   "metadata": {
    "scrolled": false
   },
   "outputs": [
    {
     "data": {
      "text/html": [
       "<div>\n",
       "<style scoped>\n",
       "    .dataframe tbody tr th:only-of-type {\n",
       "        vertical-align: middle;\n",
       "    }\n",
       "\n",
       "    .dataframe tbody tr th {\n",
       "        vertical-align: top;\n",
       "    }\n",
       "\n",
       "    .dataframe thead th {\n",
       "        text-align: right;\n",
       "    }\n",
       "</style>\n",
       "<table border=\"1\" class=\"dataframe\">\n",
       "  <thead>\n",
       "    <tr style=\"text-align: right;\">\n",
       "      <th></th>\n",
       "      <th>Count</th>\n",
       "    </tr>\n",
       "  </thead>\n",
       "  <tbody>\n",
       "    <tr>\n",
       "      <th>Mid-Block (not related to intersection)</th>\n",
       "      <td>101579</td>\n",
       "    </tr>\n",
       "    <tr>\n",
       "      <th>At Intersection (intersection related)</th>\n",
       "      <td>69117</td>\n",
       "    </tr>\n",
       "    <tr>\n",
       "      <th>Mid-Block (but intersection related)</th>\n",
       "      <td>24402</td>\n",
       "    </tr>\n",
       "    <tr>\n",
       "      <th>Driveway Junction</th>\n",
       "      <td>11495</td>\n",
       "    </tr>\n",
       "    <tr>\n",
       "      <th>At Intersection (but not related to intersection)</th>\n",
       "      <td>2495</td>\n",
       "    </tr>\n",
       "    <tr>\n",
       "      <th>Ramp Junction</th>\n",
       "      <td>190</td>\n",
       "    </tr>\n",
       "    <tr>\n",
       "      <th>Unknown</th>\n",
       "      <td>21</td>\n",
       "    </tr>\n",
       "  </tbody>\n",
       "</table>\n",
       "</div>"
      ],
      "text/plain": [
       "                                                    Count\n",
       "Mid-Block (not related to intersection)            101579\n",
       "At Intersection (intersection related)              69117\n",
       "Mid-Block (but intersection related)                24402\n",
       "Driveway Junction                                   11495\n",
       "At Intersection (but not related to intersection)    2495\n",
       "Ramp Junction                                         190\n",
       "Unknown                                                21"
      ]
     },
     "execution_count": 19,
     "metadata": {},
     "output_type": "execute_result"
    }
   ],
   "source": [
    "df_coll['JUNCTIONTYPE'].value_counts().to_frame('Count')"
   ]
  },
  {
   "cell_type": "code",
   "execution_count": 20,
   "metadata": {},
   "outputs": [
    {
     "data": {
      "text/html": [
       "<div>\n",
       "<style scoped>\n",
       "    .dataframe tbody tr th:only-of-type {\n",
       "        vertical-align: middle;\n",
       "    }\n",
       "\n",
       "    .dataframe tbody tr th {\n",
       "        vertical-align: top;\n",
       "    }\n",
       "\n",
       "    .dataframe thead th {\n",
       "        text-align: right;\n",
       "    }\n",
       "</style>\n",
       "<table border=\"1\" class=\"dataframe\">\n",
       "  <thead>\n",
       "    <tr style=\"text-align: right;\">\n",
       "      <th></th>\n",
       "      <th>Count</th>\n",
       "    </tr>\n",
       "  </thead>\n",
       "  <tbody>\n",
       "    <tr>\n",
       "      <th>Y</th>\n",
       "      <td>30188</td>\n",
       "    </tr>\n",
       "  </tbody>\n",
       "</table>\n",
       "</div>"
      ],
      "text/plain": [
       "   Count\n",
       "Y  30188"
      ]
     },
     "execution_count": 20,
     "metadata": {},
     "output_type": "execute_result"
    }
   ],
   "source": [
    "df_coll['INATTENTIONIND'].value_counts().to_frame('Count')"
   ]
  },
  {
   "cell_type": "code",
   "execution_count": 21,
   "metadata": {},
   "outputs": [
    {
     "data": {
      "text/html": [
       "<div>\n",
       "<style scoped>\n",
       "    .dataframe tbody tr th:only-of-type {\n",
       "        vertical-align: middle;\n",
       "    }\n",
       "\n",
       "    .dataframe tbody tr th {\n",
       "        vertical-align: top;\n",
       "    }\n",
       "\n",
       "    .dataframe thead th {\n",
       "        text-align: right;\n",
       "    }\n",
       "</style>\n",
       "<table border=\"1\" class=\"dataframe\">\n",
       "  <thead>\n",
       "    <tr style=\"text-align: right;\">\n",
       "      <th></th>\n",
       "      <th>Count</th>\n",
       "    </tr>\n",
       "  </thead>\n",
       "  <tbody>\n",
       "    <tr>\n",
       "      <th>N</th>\n",
       "      <td>103482</td>\n",
       "    </tr>\n",
       "    <tr>\n",
       "      <th>0</th>\n",
       "      <td>81676</td>\n",
       "    </tr>\n",
       "    <tr>\n",
       "      <th>Y</th>\n",
       "      <td>5399</td>\n",
       "    </tr>\n",
       "    <tr>\n",
       "      <th>1</th>\n",
       "      <td>4230</td>\n",
       "    </tr>\n",
       "  </tbody>\n",
       "</table>\n",
       "</div>"
      ],
      "text/plain": [
       "    Count\n",
       "N  103482\n",
       "0   81676\n",
       "Y    5399\n",
       "1    4230"
      ]
     },
     "execution_count": 21,
     "metadata": {},
     "output_type": "execute_result"
    }
   ],
   "source": [
    "df_coll['UNDERINFL'].value_counts().to_frame('Count')"
   ]
  },
  {
   "cell_type": "code",
   "execution_count": 22,
   "metadata": {},
   "outputs": [
    {
     "data": {
      "text/html": [
       "<div>\n",
       "<style scoped>\n",
       "    .dataframe tbody tr th:only-of-type {\n",
       "        vertical-align: middle;\n",
       "    }\n",
       "\n",
       "    .dataframe tbody tr th {\n",
       "        vertical-align: top;\n",
       "    }\n",
       "\n",
       "    .dataframe thead th {\n",
       "        text-align: right;\n",
       "    }\n",
       "</style>\n",
       "<table border=\"1\" class=\"dataframe\">\n",
       "  <thead>\n",
       "    <tr style=\"text-align: right;\">\n",
       "      <th></th>\n",
       "      <th>Count</th>\n",
       "    </tr>\n",
       "  </thead>\n",
       "  <tbody>\n",
       "    <tr>\n",
       "      <th>Clear</th>\n",
       "      <td>114361</td>\n",
       "    </tr>\n",
       "    <tr>\n",
       "      <th>Raining</th>\n",
       "      <td>34021</td>\n",
       "    </tr>\n",
       "    <tr>\n",
       "      <th>Overcast</th>\n",
       "      <td>28508</td>\n",
       "    </tr>\n",
       "    <tr>\n",
       "      <th>Unknown</th>\n",
       "      <td>15131</td>\n",
       "    </tr>\n",
       "    <tr>\n",
       "      <th>Snowing</th>\n",
       "      <td>919</td>\n",
       "    </tr>\n",
       "    <tr>\n",
       "      <th>Other</th>\n",
       "      <td>853</td>\n",
       "    </tr>\n",
       "    <tr>\n",
       "      <th>Fog/Smog/Smoke</th>\n",
       "      <td>577</td>\n",
       "    </tr>\n",
       "    <tr>\n",
       "      <th>Sleet/Hail/Freezing Rain</th>\n",
       "      <td>116</td>\n",
       "    </tr>\n",
       "    <tr>\n",
       "      <th>Blowing Sand/Dirt</th>\n",
       "      <td>56</td>\n",
       "    </tr>\n",
       "    <tr>\n",
       "      <th>Severe Crosswind</th>\n",
       "      <td>26</td>\n",
       "    </tr>\n",
       "    <tr>\n",
       "      <th>Partly Cloudy</th>\n",
       "      <td>9</td>\n",
       "    </tr>\n",
       "    <tr>\n",
       "      <th>Blowing Snow</th>\n",
       "      <td>1</td>\n",
       "    </tr>\n",
       "  </tbody>\n",
       "</table>\n",
       "</div>"
      ],
      "text/plain": [
       "                           Count\n",
       "Clear                     114361\n",
       "Raining                    34021\n",
       "Overcast                   28508\n",
       "Unknown                    15131\n",
       "Snowing                      919\n",
       "Other                        853\n",
       "Fog/Smog/Smoke               577\n",
       "Sleet/Hail/Freezing Rain     116\n",
       "Blowing Sand/Dirt             56\n",
       "Severe Crosswind              26\n",
       "Partly Cloudy                  9\n",
       "Blowing Snow                   1"
      ]
     },
     "execution_count": 22,
     "metadata": {},
     "output_type": "execute_result"
    }
   ],
   "source": [
    "df_coll['WEATHER'].value_counts().to_frame('Count')"
   ]
  },
  {
   "cell_type": "code",
   "execution_count": 23,
   "metadata": {},
   "outputs": [
    {
     "data": {
      "text/html": [
       "<div>\n",
       "<style scoped>\n",
       "    .dataframe tbody tr th:only-of-type {\n",
       "        vertical-align: middle;\n",
       "    }\n",
       "\n",
       "    .dataframe tbody tr th {\n",
       "        vertical-align: top;\n",
       "    }\n",
       "\n",
       "    .dataframe thead th {\n",
       "        text-align: right;\n",
       "    }\n",
       "</style>\n",
       "<table border=\"1\" class=\"dataframe\">\n",
       "  <thead>\n",
       "    <tr style=\"text-align: right;\">\n",
       "      <th></th>\n",
       "      <th>Count</th>\n",
       "    </tr>\n",
       "  </thead>\n",
       "  <tbody>\n",
       "    <tr>\n",
       "      <th>Dry</th>\n",
       "      <td>128171</td>\n",
       "    </tr>\n",
       "    <tr>\n",
       "      <th>Wet</th>\n",
       "      <td>48715</td>\n",
       "    </tr>\n",
       "    <tr>\n",
       "      <th>Unknown</th>\n",
       "      <td>15131</td>\n",
       "    </tr>\n",
       "    <tr>\n",
       "      <th>Ice</th>\n",
       "      <td>1231</td>\n",
       "    </tr>\n",
       "    <tr>\n",
       "      <th>Snow/Slush</th>\n",
       "      <td>1014</td>\n",
       "    </tr>\n",
       "    <tr>\n",
       "      <th>Other</th>\n",
       "      <td>136</td>\n",
       "    </tr>\n",
       "    <tr>\n",
       "      <th>Standing Water</th>\n",
       "      <td>119</td>\n",
       "    </tr>\n",
       "    <tr>\n",
       "      <th>Sand/Mud/Dirt</th>\n",
       "      <td>77</td>\n",
       "    </tr>\n",
       "    <tr>\n",
       "      <th>Oil</th>\n",
       "      <td>64</td>\n",
       "    </tr>\n",
       "  </tbody>\n",
       "</table>\n",
       "</div>"
      ],
      "text/plain": [
       "                 Count\n",
       "Dry             128171\n",
       "Wet              48715\n",
       "Unknown          15131\n",
       "Ice               1231\n",
       "Snow/Slush        1014\n",
       "Other              136\n",
       "Standing Water     119\n",
       "Sand/Mud/Dirt       77\n",
       "Oil                 64"
      ]
     },
     "execution_count": 23,
     "metadata": {},
     "output_type": "execute_result"
    }
   ],
   "source": [
    "df_coll['ROADCOND'].value_counts().to_frame('Count')"
   ]
  },
  {
   "cell_type": "code",
   "execution_count": 24,
   "metadata": {
    "scrolled": true
   },
   "outputs": [
    {
     "data": {
      "text/html": [
       "<div>\n",
       "<style scoped>\n",
       "    .dataframe tbody tr th:only-of-type {\n",
       "        vertical-align: middle;\n",
       "    }\n",
       "\n",
       "    .dataframe tbody tr th {\n",
       "        vertical-align: top;\n",
       "    }\n",
       "\n",
       "    .dataframe thead th {\n",
       "        text-align: right;\n",
       "    }\n",
       "</style>\n",
       "<table border=\"1\" class=\"dataframe\">\n",
       "  <thead>\n",
       "    <tr style=\"text-align: right;\">\n",
       "      <th></th>\n",
       "      <th>Count</th>\n",
       "    </tr>\n",
       "  </thead>\n",
       "  <tbody>\n",
       "    <tr>\n",
       "      <th>Daylight</th>\n",
       "      <td>119166</td>\n",
       "    </tr>\n",
       "    <tr>\n",
       "      <th>Dark - Street Lights On</th>\n",
       "      <td>50053</td>\n",
       "    </tr>\n",
       "    <tr>\n",
       "      <th>Unknown</th>\n",
       "      <td>13523</td>\n",
       "    </tr>\n",
       "    <tr>\n",
       "      <th>Dusk</th>\n",
       "      <td>6076</td>\n",
       "    </tr>\n",
       "    <tr>\n",
       "      <th>Dawn</th>\n",
       "      <td>2599</td>\n",
       "    </tr>\n",
       "    <tr>\n",
       "      <th>Dark - No Street Lights</th>\n",
       "      <td>1573</td>\n",
       "    </tr>\n",
       "    <tr>\n",
       "      <th>Dark - Street Lights Off</th>\n",
       "      <td>1236</td>\n",
       "    </tr>\n",
       "    <tr>\n",
       "      <th>Other</th>\n",
       "      <td>244</td>\n",
       "    </tr>\n",
       "    <tr>\n",
       "      <th>Dark - Unknown Lighting</th>\n",
       "      <td>20</td>\n",
       "    </tr>\n",
       "  </tbody>\n",
       "</table>\n",
       "</div>"
      ],
      "text/plain": [
       "                           Count\n",
       "Daylight                  119166\n",
       "Dark - Street Lights On    50053\n",
       "Unknown                    13523\n",
       "Dusk                        6076\n",
       "Dawn                        2599\n",
       "Dark - No Street Lights     1573\n",
       "Dark - Street Lights Off    1236\n",
       "Other                        244\n",
       "Dark - Unknown Lighting       20"
      ]
     },
     "execution_count": 24,
     "metadata": {},
     "output_type": "execute_result"
    }
   ],
   "source": [
    "df_coll['LIGHTCOND'].value_counts().to_frame('Count')"
   ]
  },
  {
   "cell_type": "code",
   "execution_count": 25,
   "metadata": {},
   "outputs": [
    {
     "data": {
      "text/html": [
       "<div>\n",
       "<style scoped>\n",
       "    .dataframe tbody tr th:only-of-type {\n",
       "        vertical-align: middle;\n",
       "    }\n",
       "\n",
       "    .dataframe tbody tr th {\n",
       "        vertical-align: top;\n",
       "    }\n",
       "\n",
       "    .dataframe thead th {\n",
       "        text-align: right;\n",
       "    }\n",
       "</style>\n",
       "<table border=\"1\" class=\"dataframe\">\n",
       "  <thead>\n",
       "    <tr style=\"text-align: right;\">\n",
       "      <th></th>\n",
       "      <th>Count</th>\n",
       "    </tr>\n",
       "  </thead>\n",
       "  <tbody>\n",
       "    <tr>\n",
       "      <th>Y</th>\n",
       "      <td>9913</td>\n",
       "    </tr>\n",
       "  </tbody>\n",
       "</table>\n",
       "</div>"
      ],
      "text/plain": [
       "   Count\n",
       "Y   9913"
      ]
     },
     "execution_count": 25,
     "metadata": {},
     "output_type": "execute_result"
    }
   ],
   "source": [
    "df_coll['SPEEDING'].value_counts().to_frame('Count')"
   ]
  },
  {
   "cell_type": "code",
   "execution_count": 26,
   "metadata": {
    "scrolled": false
   },
   "outputs": [
    {
     "data": {
      "text/html": [
       "<div>\n",
       "<style scoped>\n",
       "    .dataframe tbody tr th:only-of-type {\n",
       "        vertical-align: middle;\n",
       "    }\n",
       "\n",
       "    .dataframe tbody tr th {\n",
       "        vertical-align: top;\n",
       "    }\n",
       "\n",
       "    .dataframe thead th {\n",
       "        text-align: right;\n",
       "    }\n",
       "</style>\n",
       "<table border=\"1\" class=\"dataframe\">\n",
       "  <thead>\n",
       "    <tr style=\"text-align: right;\">\n",
       "      <th></th>\n",
       "      <th>Count</th>\n",
       "    </tr>\n",
       "  </thead>\n",
       "  <tbody>\n",
       "    <tr>\n",
       "      <th>N</th>\n",
       "      <td>209290</td>\n",
       "    </tr>\n",
       "    <tr>\n",
       "      <th>Y</th>\n",
       "      <td>11976</td>\n",
       "    </tr>\n",
       "  </tbody>\n",
       "</table>\n",
       "</div>"
      ],
      "text/plain": [
       "    Count\n",
       "N  209290\n",
       "Y   11976"
      ]
     },
     "execution_count": 26,
     "metadata": {},
     "output_type": "execute_result"
    }
   ],
   "source": [
    "df_coll['HITPARKEDCAR'].value_counts().to_frame('Count')"
   ]
  },
  {
   "cell_type": "markdown",
   "metadata": {},
   "source": [
    "# Data cleaning / Data wrangling"
   ]
  },
  {
   "cell_type": "markdown",
   "metadata": {},
   "source": [
    "**At first, let's check if there are entries in the dataset where no person, pedestrian, cyclists or vehicles are involved and let's handle such situations**"
   ]
  },
  {
   "cell_type": "code",
   "execution_count": 27,
   "metadata": {
    "scrolled": true
   },
   "outputs": [
    {
     "name": "stdout",
     "output_type": "stream",
     "text": [
      "Number of such rows in the dataset is: 19449\n"
     ]
    }
   ],
   "source": [
    "# finding out the irrelevant rows in the dataset\n",
    "irr_rows_df = df_coll[(df_coll['PERSONCOUNT'] == 0) & \\\n",
    "                         (df_coll['PEDCOUNT'] == 0)& \\\n",
    "                         (df_coll['PEDCYLCOUNT'] == 0) & \\\n",
    "                         (df_coll['VEHCOUNT'] == 0)]\n",
    "\n",
    "print(\"Number of such rows in the dataset is:\", irr_rows_df.shape[0])"
   ]
  },
  {
   "cell_type": "markdown",
   "metadata": {},
   "source": [
    "It appears that there are 19449 such rows in the dataset!! Let's explore a bit further to determine whether these rows should be kept or deleted from the dataframe. "
   ]
  },
  {
   "cell_type": "code",
   "execution_count": 28,
   "metadata": {},
   "outputs": [
    {
     "name": "stdout",
     "output_type": "stream",
     "text": [
      "The number entries with atleast 1 injured person is: 1\n",
      "The number entries with atleast 1 seriously injured person is: 0\n",
      "The number entries with atleast 1 fatality is: 0\n"
     ]
    }
   ],
   "source": [
    "# let's check for the number of injuries, serious injuries and fatalities in these situations\n",
    "\n",
    "print(\"The number entries with atleast 1 injured person is:\", irr_rows_df[irr_rows_df['INJURIES'] > 0].shape[0])\n",
    "\n",
    "print(\"The number entries with atleast 1 seriously injured person is:\", \\\n",
    "      irr_rows_df[irr_rows_df['SERIOUSINJURIES'] > 0].shape[0])\n",
    "\n",
    "print(\"The number entries with atleast 1 fatality is:\", irr_rows_df[irr_rows_df['FATALITIES'] > 0].shape[0])"
   ]
  },
  {
   "cell_type": "code",
   "execution_count": 29,
   "metadata": {},
   "outputs": [
    {
     "data": {
      "text/html": [
       "<div>\n",
       "<style scoped>\n",
       "    .dataframe tbody tr th:only-of-type {\n",
       "        vertical-align: middle;\n",
       "    }\n",
       "\n",
       "    .dataframe tbody tr th {\n",
       "        vertical-align: top;\n",
       "    }\n",
       "\n",
       "    .dataframe thead th {\n",
       "        text-align: right;\n",
       "    }\n",
       "</style>\n",
       "<table border=\"1\" class=\"dataframe\">\n",
       "  <thead>\n",
       "    <tr style=\"text-align: right;\">\n",
       "      <th></th>\n",
       "      <th>count</th>\n",
       "    </tr>\n",
       "  </thead>\n",
       "  <tbody>\n",
       "    <tr>\n",
       "      <th>0</th>\n",
       "      <td>19446</td>\n",
       "    </tr>\n",
       "    <tr>\n",
       "      <th>1</th>\n",
       "      <td>2</td>\n",
       "    </tr>\n",
       "    <tr>\n",
       "      <th>2</th>\n",
       "      <td>1</td>\n",
       "    </tr>\n",
       "  </tbody>\n",
       "</table>\n",
       "</div>"
      ],
      "text/plain": [
       "   count\n",
       "0  19446\n",
       "1      2\n",
       "2      1"
      ]
     },
     "execution_count": 29,
     "metadata": {},
     "output_type": "execute_result"
    }
   ],
   "source": [
    "# let's see which severity category these situations fall into\n",
    "\n",
    "irr_rows_df[\"SEVERITYCODE\"].value_counts().to_frame('count')"
   ]
  },
  {
   "cell_type": "code",
   "execution_count": 30,
   "metadata": {},
   "outputs": [
    {
     "data": {
      "text/html": [
       "<div>\n",
       "<style scoped>\n",
       "    .dataframe tbody tr th:only-of-type {\n",
       "        vertical-align: middle;\n",
       "    }\n",
       "\n",
       "    .dataframe tbody tr th {\n",
       "        vertical-align: top;\n",
       "    }\n",
       "\n",
       "    .dataframe thead th {\n",
       "        text-align: right;\n",
       "    }\n",
       "</style>\n",
       "<table border=\"1\" class=\"dataframe\">\n",
       "  <thead>\n",
       "    <tr style=\"text-align: right;\">\n",
       "      <th></th>\n",
       "      <th>count</th>\n",
       "    </tr>\n",
       "  </thead>\n",
       "  <tbody>\n",
       "    <tr>\n",
       "      <th>Unmatched</th>\n",
       "      <td>19393</td>\n",
       "    </tr>\n",
       "    <tr>\n",
       "      <th>Matched</th>\n",
       "      <td>56</td>\n",
       "    </tr>\n",
       "  </tbody>\n",
       "</table>\n",
       "</div>"
      ],
      "text/plain": [
       "           count\n",
       "Unmatched  19393\n",
       "Matched       56"
      ]
     },
     "execution_count": 30,
     "metadata": {},
     "output_type": "execute_result"
    }
   ],
   "source": [
    "irr_rows_df[\"STATUS\"].value_counts().to_frame('count')"
   ]
  },
  {
   "cell_type": "markdown",
   "metadata": {},
   "source": [
    "Now based on the above observations we can say that these situations did not cause any injuries (other than the 1 odd one), serious injuries or fatalities and they also tend to be biased towards the '0' category of the severity code. Moreover most of them are unmatched with the acutal incidents. So, lets drop these entries from our dataset."
   ]
  },
  {
   "cell_type": "code",
   "execution_count": 31,
   "metadata": {},
   "outputs": [
    {
     "data": {
      "text/plain": [
       "(201817, 40)"
      ]
     },
     "execution_count": 31,
     "metadata": {},
     "output_type": "execute_result"
    }
   ],
   "source": [
    "df_coll.drop(df_coll[(df_coll['PERSONCOUNT'] == 0) & \\\n",
    "                         (df_coll['PEDCOUNT'] == 0)& \\\n",
    "                         (df_coll['PEDCYLCOUNT'] == 0) & \\\n",
    "                         (df_coll['VEHCOUNT'] == 0)].index, inplace = True)\n",
    "\n",
    "df_coll.shape"
   ]
  },
  {
   "cell_type": "markdown",
   "metadata": {},
   "source": [
    "**Dropping the columns that are irrelevant to our final goal**"
   ]
  },
  {
   "cell_type": "code",
   "execution_count": 32,
   "metadata": {},
   "outputs": [
    {
     "data": {
      "text/plain": [
       "Index(['X', 'Y', 'OBJECTID', 'INCKEY', 'COLDETKEY', 'REPORTNO', 'STATUS',\n",
       "       'ADDRTYPE', 'INTKEY', 'LOCATION', 'EXCEPTRSNCODE', 'EXCEPTRSNDESC',\n",
       "       'SEVERITYCODE', 'SEVERITYDESC', 'COLLISIONTYPE', 'PERSONCOUNT',\n",
       "       'PEDCOUNT', 'PEDCYLCOUNT', 'VEHCOUNT', 'INJURIES', 'SERIOUSINJURIES',\n",
       "       'FATALITIES', 'INCDATE', 'INCDTTM', 'JUNCTIONTYPE', 'SDOT_COLCODE',\n",
       "       'SDOT_COLDESC', 'INATTENTIONIND', 'UNDERINFL', 'WEATHER', 'ROADCOND',\n",
       "       'LIGHTCOND', 'PEDROWNOTGRNT', 'SDOTCOLNUM', 'SPEEDING', 'ST_COLCODE',\n",
       "       'ST_COLDESC', 'SEGLANEKEY', 'CROSSWALKKEY', 'HITPARKEDCAR'],\n",
       "      dtype='object')"
      ]
     },
     "execution_count": 32,
     "metadata": {},
     "output_type": "execute_result"
    }
   ],
   "source": [
    "df_coll.columns"
   ]
  },
  {
   "cell_type": "code",
   "execution_count": 33,
   "metadata": {
    "scrolled": false
   },
   "outputs": [
    {
     "data": {
      "text/html": [
       "<div>\n",
       "<style scoped>\n",
       "    .dataframe tbody tr th:only-of-type {\n",
       "        vertical-align: middle;\n",
       "    }\n",
       "\n",
       "    .dataframe tbody tr th {\n",
       "        vertical-align: top;\n",
       "    }\n",
       "\n",
       "    .dataframe thead th {\n",
       "        text-align: right;\n",
       "    }\n",
       "</style>\n",
       "<table border=\"1\" class=\"dataframe\">\n",
       "  <thead>\n",
       "    <tr style=\"text-align: right;\">\n",
       "      <th></th>\n",
       "      <th>X</th>\n",
       "      <th>Y</th>\n",
       "      <th>ADDRTYPE</th>\n",
       "      <th>SEVERITYCODE</th>\n",
       "      <th>PERSONCOUNT</th>\n",
       "      <th>PEDCOUNT</th>\n",
       "      <th>PEDCYLCOUNT</th>\n",
       "      <th>VEHCOUNT</th>\n",
       "      <th>JUNCTIONTYPE</th>\n",
       "      <th>INATTENTIONIND</th>\n",
       "      <th>UNDERINFL</th>\n",
       "      <th>WEATHER</th>\n",
       "      <th>ROADCOND</th>\n",
       "      <th>LIGHTCOND</th>\n",
       "      <th>SPEEDING</th>\n",
       "    </tr>\n",
       "  </thead>\n",
       "  <tbody>\n",
       "    <tr>\n",
       "      <th>0</th>\n",
       "      <td>-122.386772</td>\n",
       "      <td>47.564720</td>\n",
       "      <td>Intersection</td>\n",
       "      <td>2</td>\n",
       "      <td>2</td>\n",
       "      <td>1</td>\n",
       "      <td>0</td>\n",
       "      <td>1</td>\n",
       "      <td>At Intersection (intersection related)</td>\n",
       "      <td>NaN</td>\n",
       "      <td>N</td>\n",
       "      <td>Clear</td>\n",
       "      <td>Dry</td>\n",
       "      <td>Daylight</td>\n",
       "      <td>NaN</td>\n",
       "    </tr>\n",
       "    <tr>\n",
       "      <th>1</th>\n",
       "      <td>-122.341806</td>\n",
       "      <td>47.686934</td>\n",
       "      <td>Intersection</td>\n",
       "      <td>2</td>\n",
       "      <td>4</td>\n",
       "      <td>0</td>\n",
       "      <td>0</td>\n",
       "      <td>2</td>\n",
       "      <td>At Intersection (intersection related)</td>\n",
       "      <td>NaN</td>\n",
       "      <td>N</td>\n",
       "      <td>Raining</td>\n",
       "      <td>Wet</td>\n",
       "      <td>Dark - Street Lights On</td>\n",
       "      <td>NaN</td>\n",
       "    </tr>\n",
       "    <tr>\n",
       "      <th>2</th>\n",
       "      <td>-122.374899</td>\n",
       "      <td>47.668666</td>\n",
       "      <td>Block</td>\n",
       "      <td>1</td>\n",
       "      <td>4</td>\n",
       "      <td>0</td>\n",
       "      <td>0</td>\n",
       "      <td>3</td>\n",
       "      <td>Mid-Block (not related to intersection)</td>\n",
       "      <td>NaN</td>\n",
       "      <td>N</td>\n",
       "      <td>Clear</td>\n",
       "      <td>Dry</td>\n",
       "      <td>Daylight</td>\n",
       "      <td>NaN</td>\n",
       "    </tr>\n",
       "    <tr>\n",
       "      <th>3</th>\n",
       "      <td>-122.300758</td>\n",
       "      <td>47.683047</td>\n",
       "      <td>Intersection</td>\n",
       "      <td>1</td>\n",
       "      <td>2</td>\n",
       "      <td>0</td>\n",
       "      <td>0</td>\n",
       "      <td>2</td>\n",
       "      <td>At Intersection (intersection related)</td>\n",
       "      <td>NaN</td>\n",
       "      <td>0</td>\n",
       "      <td>Raining</td>\n",
       "      <td>Wet</td>\n",
       "      <td>Dark - Street Lights On</td>\n",
       "      <td>NaN</td>\n",
       "    </tr>\n",
       "    <tr>\n",
       "      <th>6</th>\n",
       "      <td>-122.323569</td>\n",
       "      <td>47.722577</td>\n",
       "      <td>Block</td>\n",
       "      <td>1</td>\n",
       "      <td>2</td>\n",
       "      <td>0</td>\n",
       "      <td>0</td>\n",
       "      <td>2</td>\n",
       "      <td>Mid-Block (not related to intersection)</td>\n",
       "      <td>NaN</td>\n",
       "      <td>N</td>\n",
       "      <td>Clear</td>\n",
       "      <td>Dry</td>\n",
       "      <td>Dark - Street Lights On</td>\n",
       "      <td>NaN</td>\n",
       "    </tr>\n",
       "  </tbody>\n",
       "</table>\n",
       "</div>"
      ],
      "text/plain": [
       "            X          Y      ADDRTYPE SEVERITYCODE  PERSONCOUNT  PEDCOUNT  \\\n",
       "0 -122.386772  47.564720  Intersection            2            2         1   \n",
       "1 -122.341806  47.686934  Intersection            2            4         0   \n",
       "2 -122.374899  47.668666         Block            1            4         0   \n",
       "3 -122.300758  47.683047  Intersection            1            2         0   \n",
       "6 -122.323569  47.722577         Block            1            2         0   \n",
       "\n",
       "   PEDCYLCOUNT  VEHCOUNT                             JUNCTIONTYPE  \\\n",
       "0            0         1   At Intersection (intersection related)   \n",
       "1            0         2   At Intersection (intersection related)   \n",
       "2            0         3  Mid-Block (not related to intersection)   \n",
       "3            0         2   At Intersection (intersection related)   \n",
       "6            0         2  Mid-Block (not related to intersection)   \n",
       "\n",
       "  INATTENTIONIND UNDERINFL  WEATHER ROADCOND                LIGHTCOND SPEEDING  \n",
       "0            NaN         N    Clear      Dry                 Daylight      NaN  \n",
       "1            NaN         N  Raining      Wet  Dark - Street Lights On      NaN  \n",
       "2            NaN         N    Clear      Dry                 Daylight      NaN  \n",
       "3            NaN         0  Raining      Wet  Dark - Street Lights On      NaN  \n",
       "6            NaN         N    Clear      Dry  Dark - Street Lights On      NaN  "
      ]
     },
     "execution_count": 33,
     "metadata": {},
     "output_type": "execute_result"
    }
   ],
   "source": [
    "df_coll_rel = df_coll.drop(['OBJECTID', 'INCKEY', 'COLDETKEY', 'REPORTNO', 'STATUS', 'INTKEY', 'LOCATION', \\\n",
    "                            'EXCEPTRSNCODE', 'EXCEPTRSNDESC', 'SEVERITYDESC', 'COLLISIONTYPE', 'INJURIES', \\\n",
    "                            'SERIOUSINJURIES', 'FATALITIES', 'INCDATE', 'INCDTTM', 'SDOT_COLCODE','SDOT_COLDESC', \\\n",
    "                            'PEDROWNOTGRNT', 'SDOTCOLNUM', 'ST_COLCODE', 'ST_COLDESC', 'SEGLANEKEY', \\\n",
    "                            'CROSSWALKKEY', 'HITPARKEDCAR'],axis=1)\n",
    "\n",
    "df_coll_rel.head(5) # The relevant dataframe"
   ]
  },
  {
   "cell_type": "markdown",
   "metadata": {},
   "source": [
    "**We would also drop the `X` and `Y` coordinates as we want our model to be independent of the location of the accidents, rather we would keep the `ADDRTYPE` and `JUNCTIONTYPE` columns to include the properties of the locations where the accidents took place**"
   ]
  },
  {
   "cell_type": "code",
   "execution_count": 34,
   "metadata": {
    "scrolled": true
   },
   "outputs": [
    {
     "data": {
      "text/html": [
       "<div>\n",
       "<style scoped>\n",
       "    .dataframe tbody tr th:only-of-type {\n",
       "        vertical-align: middle;\n",
       "    }\n",
       "\n",
       "    .dataframe tbody tr th {\n",
       "        vertical-align: top;\n",
       "    }\n",
       "\n",
       "    .dataframe thead th {\n",
       "        text-align: right;\n",
       "    }\n",
       "</style>\n",
       "<table border=\"1\" class=\"dataframe\">\n",
       "  <thead>\n",
       "    <tr style=\"text-align: right;\">\n",
       "      <th></th>\n",
       "      <th>ADDRTYPE</th>\n",
       "      <th>SEVERITYCODE</th>\n",
       "      <th>PERSONCOUNT</th>\n",
       "      <th>PEDCOUNT</th>\n",
       "      <th>PEDCYLCOUNT</th>\n",
       "      <th>VEHCOUNT</th>\n",
       "      <th>JUNCTIONTYPE</th>\n",
       "      <th>INATTENTIONIND</th>\n",
       "      <th>UNDERINFL</th>\n",
       "      <th>WEATHER</th>\n",
       "      <th>ROADCOND</th>\n",
       "      <th>LIGHTCOND</th>\n",
       "      <th>SPEEDING</th>\n",
       "    </tr>\n",
       "  </thead>\n",
       "  <tbody>\n",
       "    <tr>\n",
       "      <th>0</th>\n",
       "      <td>Intersection</td>\n",
       "      <td>2</td>\n",
       "      <td>2</td>\n",
       "      <td>1</td>\n",
       "      <td>0</td>\n",
       "      <td>1</td>\n",
       "      <td>At Intersection (intersection related)</td>\n",
       "      <td>NaN</td>\n",
       "      <td>N</td>\n",
       "      <td>Clear</td>\n",
       "      <td>Dry</td>\n",
       "      <td>Daylight</td>\n",
       "      <td>NaN</td>\n",
       "    </tr>\n",
       "    <tr>\n",
       "      <th>1</th>\n",
       "      <td>Intersection</td>\n",
       "      <td>2</td>\n",
       "      <td>4</td>\n",
       "      <td>0</td>\n",
       "      <td>0</td>\n",
       "      <td>2</td>\n",
       "      <td>At Intersection (intersection related)</td>\n",
       "      <td>NaN</td>\n",
       "      <td>N</td>\n",
       "      <td>Raining</td>\n",
       "      <td>Wet</td>\n",
       "      <td>Dark - Street Lights On</td>\n",
       "      <td>NaN</td>\n",
       "    </tr>\n",
       "    <tr>\n",
       "      <th>2</th>\n",
       "      <td>Block</td>\n",
       "      <td>1</td>\n",
       "      <td>4</td>\n",
       "      <td>0</td>\n",
       "      <td>0</td>\n",
       "      <td>3</td>\n",
       "      <td>Mid-Block (not related to intersection)</td>\n",
       "      <td>NaN</td>\n",
       "      <td>N</td>\n",
       "      <td>Clear</td>\n",
       "      <td>Dry</td>\n",
       "      <td>Daylight</td>\n",
       "      <td>NaN</td>\n",
       "    </tr>\n",
       "    <tr>\n",
       "      <th>3</th>\n",
       "      <td>Intersection</td>\n",
       "      <td>1</td>\n",
       "      <td>2</td>\n",
       "      <td>0</td>\n",
       "      <td>0</td>\n",
       "      <td>2</td>\n",
       "      <td>At Intersection (intersection related)</td>\n",
       "      <td>NaN</td>\n",
       "      <td>0</td>\n",
       "      <td>Raining</td>\n",
       "      <td>Wet</td>\n",
       "      <td>Dark - Street Lights On</td>\n",
       "      <td>NaN</td>\n",
       "    </tr>\n",
       "    <tr>\n",
       "      <th>6</th>\n",
       "      <td>Block</td>\n",
       "      <td>1</td>\n",
       "      <td>2</td>\n",
       "      <td>0</td>\n",
       "      <td>0</td>\n",
       "      <td>2</td>\n",
       "      <td>Mid-Block (not related to intersection)</td>\n",
       "      <td>NaN</td>\n",
       "      <td>N</td>\n",
       "      <td>Clear</td>\n",
       "      <td>Dry</td>\n",
       "      <td>Dark - Street Lights On</td>\n",
       "      <td>NaN</td>\n",
       "    </tr>\n",
       "  </tbody>\n",
       "</table>\n",
       "</div>"
      ],
      "text/plain": [
       "       ADDRTYPE SEVERITYCODE  PERSONCOUNT  PEDCOUNT  PEDCYLCOUNT  VEHCOUNT  \\\n",
       "0  Intersection            2            2         1            0         1   \n",
       "1  Intersection            2            4         0            0         2   \n",
       "2         Block            1            4         0            0         3   \n",
       "3  Intersection            1            2         0            0         2   \n",
       "6         Block            1            2         0            0         2   \n",
       "\n",
       "                              JUNCTIONTYPE INATTENTIONIND UNDERINFL  WEATHER  \\\n",
       "0   At Intersection (intersection related)            NaN         N    Clear   \n",
       "1   At Intersection (intersection related)            NaN         N  Raining   \n",
       "2  Mid-Block (not related to intersection)            NaN         N    Clear   \n",
       "3   At Intersection (intersection related)            NaN         0  Raining   \n",
       "6  Mid-Block (not related to intersection)            NaN         N    Clear   \n",
       "\n",
       "  ROADCOND                LIGHTCOND SPEEDING  \n",
       "0      Dry                 Daylight      NaN  \n",
       "1      Wet  Dark - Street Lights On      NaN  \n",
       "2      Dry                 Daylight      NaN  \n",
       "3      Wet  Dark - Street Lights On      NaN  \n",
       "6      Dry  Dark - Street Lights On      NaN  "
      ]
     },
     "execution_count": 34,
     "metadata": {},
     "output_type": "execute_result"
    }
   ],
   "source": [
    "df_coll_rel.drop(['X', 'Y'],axis=1, inplace = True)\n",
    "df_coll_rel.head(5)"
   ]
  },
  {
   "cell_type": "markdown",
   "metadata": {},
   "source": [
    "**Checking for missing values in the relevant dataframe and dealing with them**"
   ]
  },
  {
   "cell_type": "code",
   "execution_count": 35,
   "metadata": {
    "scrolled": true
   },
   "outputs": [
    {
     "data": {
      "text/plain": [
       "ADDRTYPE            2011\n",
       "SEVERITYCODE           1\n",
       "PERSONCOUNT            0\n",
       "PEDCOUNT               0\n",
       "PEDCYLCOUNT            0\n",
       "VEHCOUNT               0\n",
       "JUNCTIONTYPE        6576\n",
       "INATTENTIONIND    171629\n",
       "UNDERINFL           7030\n",
       "WEATHER             7240\n",
       "ROADCOND            7160\n",
       "LIGHTCOND           7328\n",
       "SPEEDING          191904\n",
       "dtype: int64"
      ]
     },
     "execution_count": 35,
     "metadata": {},
     "output_type": "execute_result"
    }
   ],
   "source": [
    "df_coll_rel.isnull().sum()"
   ]
  },
  {
   "cell_type": "code",
   "execution_count": 36,
   "metadata": {
    "scrolled": true
   },
   "outputs": [
    {
     "data": {
      "text/plain": [
       "ADDRTYPE            2011\n",
       "SEVERITYCODE           0\n",
       "PERSONCOUNT            0\n",
       "PEDCOUNT               0\n",
       "PEDCYLCOUNT            0\n",
       "VEHCOUNT               0\n",
       "JUNCTIONTYPE        6576\n",
       "INATTENTIONIND    171628\n",
       "UNDERINFL           7030\n",
       "WEATHER             7240\n",
       "ROADCOND            7160\n",
       "LIGHTCOND           7328\n",
       "SPEEDING          191903\n",
       "dtype: int64"
      ]
     },
     "execution_count": 36,
     "metadata": {},
     "output_type": "execute_result"
    }
   ],
   "source": [
    "# removing the entire row where 'SEVERITYCODE' is NULL\n",
    "\n",
    "df_coll_rel.dropna(subset=['SEVERITYCODE'], inplace = True)\n",
    "\n",
    "df_coll_rel.isnull().sum()"
   ]
  },
  {
   "cell_type": "code",
   "execution_count": 37,
   "metadata": {
    "scrolled": true
   },
   "outputs": [
    {
     "data": {
      "text/html": [
       "<div>\n",
       "<style scoped>\n",
       "    .dataframe tbody tr th:only-of-type {\n",
       "        vertical-align: middle;\n",
       "    }\n",
       "\n",
       "    .dataframe tbody tr th {\n",
       "        vertical-align: top;\n",
       "    }\n",
       "\n",
       "    .dataframe thead th {\n",
       "        text-align: right;\n",
       "    }\n",
       "</style>\n",
       "<table border=\"1\" class=\"dataframe\">\n",
       "  <thead>\n",
       "    <tr style=\"text-align: right;\">\n",
       "      <th></th>\n",
       "      <th>ADDRTYPE</th>\n",
       "      <th>SEVERITYCODE</th>\n",
       "      <th>PERSONCOUNT</th>\n",
       "      <th>PEDCOUNT</th>\n",
       "      <th>PEDCYLCOUNT</th>\n",
       "      <th>VEHCOUNT</th>\n",
       "      <th>JUNCTIONTYPE</th>\n",
       "      <th>INATTENTIONIND</th>\n",
       "      <th>UNDERINFL</th>\n",
       "      <th>WEATHER</th>\n",
       "      <th>ROADCOND</th>\n",
       "      <th>LIGHTCOND</th>\n",
       "      <th>SPEEDING</th>\n",
       "    </tr>\n",
       "  </thead>\n",
       "  <tbody>\n",
       "    <tr>\n",
       "      <th>0</th>\n",
       "      <td>Intersection</td>\n",
       "      <td>2</td>\n",
       "      <td>2</td>\n",
       "      <td>1</td>\n",
       "      <td>0</td>\n",
       "      <td>1</td>\n",
       "      <td>At Intersection (intersection related)</td>\n",
       "      <td>NaN</td>\n",
       "      <td>N</td>\n",
       "      <td>Clear</td>\n",
       "      <td>Dry</td>\n",
       "      <td>Daylight</td>\n",
       "      <td>NaN</td>\n",
       "    </tr>\n",
       "    <tr>\n",
       "      <th>1</th>\n",
       "      <td>Intersection</td>\n",
       "      <td>2</td>\n",
       "      <td>4</td>\n",
       "      <td>0</td>\n",
       "      <td>0</td>\n",
       "      <td>2</td>\n",
       "      <td>At Intersection (intersection related)</td>\n",
       "      <td>NaN</td>\n",
       "      <td>N</td>\n",
       "      <td>Raining</td>\n",
       "      <td>Wet</td>\n",
       "      <td>Dark - Street Lights On</td>\n",
       "      <td>NaN</td>\n",
       "    </tr>\n",
       "    <tr>\n",
       "      <th>2</th>\n",
       "      <td>Block</td>\n",
       "      <td>1</td>\n",
       "      <td>4</td>\n",
       "      <td>0</td>\n",
       "      <td>0</td>\n",
       "      <td>3</td>\n",
       "      <td>Mid-Block (not related to intersection)</td>\n",
       "      <td>NaN</td>\n",
       "      <td>N</td>\n",
       "      <td>Clear</td>\n",
       "      <td>Dry</td>\n",
       "      <td>Daylight</td>\n",
       "      <td>NaN</td>\n",
       "    </tr>\n",
       "    <tr>\n",
       "      <th>3</th>\n",
       "      <td>Intersection</td>\n",
       "      <td>1</td>\n",
       "      <td>2</td>\n",
       "      <td>0</td>\n",
       "      <td>0</td>\n",
       "      <td>2</td>\n",
       "      <td>At Intersection (intersection related)</td>\n",
       "      <td>NaN</td>\n",
       "      <td>0</td>\n",
       "      <td>Raining</td>\n",
       "      <td>Wet</td>\n",
       "      <td>Dark - Street Lights On</td>\n",
       "      <td>NaN</td>\n",
       "    </tr>\n",
       "    <tr>\n",
       "      <th>6</th>\n",
       "      <td>Block</td>\n",
       "      <td>1</td>\n",
       "      <td>2</td>\n",
       "      <td>0</td>\n",
       "      <td>0</td>\n",
       "      <td>2</td>\n",
       "      <td>Mid-Block (not related to intersection)</td>\n",
       "      <td>NaN</td>\n",
       "      <td>N</td>\n",
       "      <td>Clear</td>\n",
       "      <td>Dry</td>\n",
       "      <td>Dark - Street Lights On</td>\n",
       "      <td>NaN</td>\n",
       "    </tr>\n",
       "  </tbody>\n",
       "</table>\n",
       "</div>"
      ],
      "text/plain": [
       "       ADDRTYPE SEVERITYCODE  PERSONCOUNT  PEDCOUNT  PEDCYLCOUNT  VEHCOUNT  \\\n",
       "0  Intersection            2            2         1            0         1   \n",
       "1  Intersection            2            4         0            0         2   \n",
       "2         Block            1            4         0            0         3   \n",
       "3  Intersection            1            2         0            0         2   \n",
       "6         Block            1            2         0            0         2   \n",
       "\n",
       "                              JUNCTIONTYPE INATTENTIONIND UNDERINFL  WEATHER  \\\n",
       "0   At Intersection (intersection related)            NaN         N    Clear   \n",
       "1   At Intersection (intersection related)            NaN         N  Raining   \n",
       "2  Mid-Block (not related to intersection)            NaN         N    Clear   \n",
       "3   At Intersection (intersection related)            NaN         0  Raining   \n",
       "6  Mid-Block (not related to intersection)            NaN         N    Clear   \n",
       "\n",
       "  ROADCOND                LIGHTCOND SPEEDING  \n",
       "0      Dry                 Daylight      NaN  \n",
       "1      Wet  Dark - Street Lights On      NaN  \n",
       "2      Dry                 Daylight      NaN  \n",
       "3      Wet  Dark - Street Lights On      NaN  \n",
       "6      Dry  Dark - Street Lights On      NaN  "
      ]
     },
     "execution_count": 37,
     "metadata": {},
     "output_type": "execute_result"
    }
   ],
   "source": [
    "# Labeling the missing values for the categorical variables 'ADDRTYPE', \n",
    "# 'JUNCTIONTYPE', 'WEATHER', 'ROADCOND' and 'LIGHTCOND' to \"Other\" / \"Unspecified\"\n",
    "\n",
    "\n",
    "df_coll_rel['ADDRTYPE'] = df_coll_rel['ADDRTYPE'].fillna(0)\n",
    "df_coll_rel['ADDRTYPE'] = df_coll_rel['ADDRTYPE'].replace(0,'Other')\n",
    "\n",
    "df_coll_rel['JUNCTIONTYPE'] = df_coll_rel['JUNCTIONTYPE'].fillna(0)\n",
    "df_coll_rel['JUNCTIONTYPE'] = df_coll_rel['JUNCTIONTYPE'].replace(0,'Other')\n",
    "\n",
    "df_coll_rel['WEATHER'] = df_coll_rel['WEATHER'].fillna(0)\n",
    "df_coll_rel['WEATHER'] = df_coll_rel['WEATHER'].replace(0,'Unspecified')\n",
    "\n",
    "df_coll_rel['ROADCOND'] = df_coll_rel['ROADCOND'].fillna(0)\n",
    "df_coll_rel['ROADCOND'] = df_coll_rel['ROADCOND'].replace(0,'Unspecified')\n",
    "\n",
    "df_coll_rel['LIGHTCOND'] = df_coll_rel['LIGHTCOND'].fillna(0)\n",
    "df_coll_rel['LIGHTCOND'] = df_coll_rel['LIGHTCOND'].replace(0,'Unspecified')\n",
    "\n",
    "\n",
    "df_coll_rel.head(5)"
   ]
  },
  {
   "cell_type": "code",
   "execution_count": 38,
   "metadata": {
    "scrolled": true
   },
   "outputs": [
    {
     "data": {
      "text/plain": [
       "ADDRTYPE               0\n",
       "SEVERITYCODE           0\n",
       "PERSONCOUNT            0\n",
       "PEDCOUNT               0\n",
       "PEDCYLCOUNT            0\n",
       "VEHCOUNT               0\n",
       "JUNCTIONTYPE           0\n",
       "INATTENTIONIND    171628\n",
       "UNDERINFL           7030\n",
       "WEATHER                0\n",
       "ROADCOND               0\n",
       "LIGHTCOND              0\n",
       "SPEEDING          191903\n",
       "dtype: int64"
      ]
     },
     "execution_count": 38,
     "metadata": {},
     "output_type": "execute_result"
    }
   ],
   "source": [
    "df_coll_rel.isnull().sum()"
   ]
  },
  {
   "cell_type": "code",
   "execution_count": 39,
   "metadata": {},
   "outputs": [
    {
     "data": {
      "text/html": [
       "<div>\n",
       "<style scoped>\n",
       "    .dataframe tbody tr th:only-of-type {\n",
       "        vertical-align: middle;\n",
       "    }\n",
       "\n",
       "    .dataframe tbody tr th {\n",
       "        vertical-align: top;\n",
       "    }\n",
       "\n",
       "    .dataframe thead th {\n",
       "        text-align: right;\n",
       "    }\n",
       "</style>\n",
       "<table border=\"1\" class=\"dataframe\">\n",
       "  <thead>\n",
       "    <tr style=\"text-align: right;\">\n",
       "      <th></th>\n",
       "      <th>count</th>\n",
       "    </tr>\n",
       "  </thead>\n",
       "  <tbody>\n",
       "    <tr>\n",
       "      <th>Y</th>\n",
       "      <td>30188</td>\n",
       "    </tr>\n",
       "  </tbody>\n",
       "</table>\n",
       "</div>"
      ],
      "text/plain": [
       "   count\n",
       "Y  30188"
      ]
     },
     "execution_count": 39,
     "metadata": {},
     "output_type": "execute_result"
    }
   ],
   "source": [
    "df_coll_rel['INATTENTIONIND'].value_counts().to_frame('count')"
   ]
  },
  {
   "cell_type": "code",
   "execution_count": 40,
   "metadata": {},
   "outputs": [
    {
     "data": {
      "text/html": [
       "<div>\n",
       "<style scoped>\n",
       "    .dataframe tbody tr th:only-of-type {\n",
       "        vertical-align: middle;\n",
       "    }\n",
       "\n",
       "    .dataframe tbody tr th {\n",
       "        vertical-align: top;\n",
       "    }\n",
       "\n",
       "    .dataframe thead th {\n",
       "        text-align: right;\n",
       "    }\n",
       "</style>\n",
       "<table border=\"1\" class=\"dataframe\">\n",
       "  <thead>\n",
       "    <tr style=\"text-align: right;\">\n",
       "      <th></th>\n",
       "      <th>count</th>\n",
       "    </tr>\n",
       "  </thead>\n",
       "  <tbody>\n",
       "    <tr>\n",
       "      <th>0</th>\n",
       "      <td>171628</td>\n",
       "    </tr>\n",
       "    <tr>\n",
       "      <th>1</th>\n",
       "      <td>30188</td>\n",
       "    </tr>\n",
       "  </tbody>\n",
       "</table>\n",
       "</div>"
      ],
      "text/plain": [
       "    count\n",
       "0  171628\n",
       "1   30188"
      ]
     },
     "execution_count": 40,
     "metadata": {},
     "output_type": "execute_result"
    }
   ],
   "source": [
    "# replacing the missing values in the 'INATTENTIONIND' column with 0 and 'Y' with 1\n",
    "\n",
    "df_coll_rel['INATTENTIONIND'] = df_coll_rel['INATTENTIONIND'].fillna(0)\n",
    "df_coll_rel['INATTENTIONIND'] = df_coll_rel['INATTENTIONIND'].replace('Y',1)\n",
    "\n",
    "df_coll_rel['INATTENTIONIND'].value_counts().to_frame('count')"
   ]
  },
  {
   "cell_type": "code",
   "execution_count": 41,
   "metadata": {
    "scrolled": true
   },
   "outputs": [
    {
     "data": {
      "text/html": [
       "<div>\n",
       "<style scoped>\n",
       "    .dataframe tbody tr th:only-of-type {\n",
       "        vertical-align: middle;\n",
       "    }\n",
       "\n",
       "    .dataframe tbody tr th {\n",
       "        vertical-align: top;\n",
       "    }\n",
       "\n",
       "    .dataframe thead th {\n",
       "        text-align: right;\n",
       "    }\n",
       "</style>\n",
       "<table border=\"1\" class=\"dataframe\">\n",
       "  <thead>\n",
       "    <tr style=\"text-align: right;\">\n",
       "      <th></th>\n",
       "      <th>count</th>\n",
       "    </tr>\n",
       "  </thead>\n",
       "  <tbody>\n",
       "    <tr>\n",
       "      <th>N</th>\n",
       "      <td>103481</td>\n",
       "    </tr>\n",
       "    <tr>\n",
       "      <th>0</th>\n",
       "      <td>81676</td>\n",
       "    </tr>\n",
       "    <tr>\n",
       "      <th>Y</th>\n",
       "      <td>5399</td>\n",
       "    </tr>\n",
       "    <tr>\n",
       "      <th>1</th>\n",
       "      <td>4230</td>\n",
       "    </tr>\n",
       "  </tbody>\n",
       "</table>\n",
       "</div>"
      ],
      "text/plain": [
       "    count\n",
       "N  103481\n",
       "0   81676\n",
       "Y    5399\n",
       "1    4230"
      ]
     },
     "execution_count": 41,
     "metadata": {},
     "output_type": "execute_result"
    }
   ],
   "source": [
    "df_coll_rel['UNDERINFL'].value_counts().to_frame('count')"
   ]
  },
  {
   "cell_type": "code",
   "execution_count": 42,
   "metadata": {},
   "outputs": [
    {
     "data": {
      "text/html": [
       "<div>\n",
       "<style scoped>\n",
       "    .dataframe tbody tr th:only-of-type {\n",
       "        vertical-align: middle;\n",
       "    }\n",
       "\n",
       "    .dataframe tbody tr th {\n",
       "        vertical-align: top;\n",
       "    }\n",
       "\n",
       "    .dataframe thead th {\n",
       "        text-align: right;\n",
       "    }\n",
       "</style>\n",
       "<table border=\"1\" class=\"dataframe\">\n",
       "  <thead>\n",
       "    <tr style=\"text-align: right;\">\n",
       "      <th></th>\n",
       "      <th>count</th>\n",
       "    </tr>\n",
       "  </thead>\n",
       "  <tbody>\n",
       "    <tr>\n",
       "      <th>N</th>\n",
       "      <td>185157</td>\n",
       "    </tr>\n",
       "    <tr>\n",
       "      <th>Y</th>\n",
       "      <td>9629</td>\n",
       "    </tr>\n",
       "    <tr>\n",
       "      <th>UN</th>\n",
       "      <td>7030</td>\n",
       "    </tr>\n",
       "  </tbody>\n",
       "</table>\n",
       "</div>"
      ],
      "text/plain": [
       "     count\n",
       "N   185157\n",
       "Y     9629\n",
       "UN    7030"
      ]
     },
     "execution_count": 42,
     "metadata": {},
     "output_type": "execute_result"
    }
   ],
   "source": [
    "# keeping the labels of the 'UNDERINFL' columns cateorical as of now\n",
    "# replacing 0 with 'N' and 1 with 'Y' and the NaN values with 'UN' (stands for 'Unknown')\n",
    "\n",
    "df_coll_rel['UNDERINFL'] = df_coll_rel['UNDERINFL'].replace('1', 'Y')\n",
    "df_coll_rel['UNDERINFL'] = df_coll_rel['UNDERINFL'].replace('0', 'N')\n",
    "\n",
    "df_coll_rel['UNDERINFL'] = df_coll_rel['UNDERINFL'].fillna(2)\n",
    "df_coll_rel['UNDERINFL'] = df_coll_rel['UNDERINFL'].replace(2,'UN')\n",
    "\n",
    "\n",
    "df_coll_rel['UNDERINFL'].value_counts().to_frame('count')"
   ]
  },
  {
   "cell_type": "code",
   "execution_count": 43,
   "metadata": {},
   "outputs": [
    {
     "data": {
      "text/html": [
       "<div>\n",
       "<style scoped>\n",
       "    .dataframe tbody tr th:only-of-type {\n",
       "        vertical-align: middle;\n",
       "    }\n",
       "\n",
       "    .dataframe tbody tr th {\n",
       "        vertical-align: top;\n",
       "    }\n",
       "\n",
       "    .dataframe thead th {\n",
       "        text-align: right;\n",
       "    }\n",
       "</style>\n",
       "<table border=\"1\" class=\"dataframe\">\n",
       "  <thead>\n",
       "    <tr style=\"text-align: right;\">\n",
       "      <th></th>\n",
       "      <th>count</th>\n",
       "    </tr>\n",
       "  </thead>\n",
       "  <tbody>\n",
       "    <tr>\n",
       "      <th>Y</th>\n",
       "      <td>9913</td>\n",
       "    </tr>\n",
       "  </tbody>\n",
       "</table>\n",
       "</div>"
      ],
      "text/plain": [
       "   count\n",
       "Y   9913"
      ]
     },
     "execution_count": 43,
     "metadata": {},
     "output_type": "execute_result"
    }
   ],
   "source": [
    "df_coll_rel['SPEEDING'].value_counts().to_frame('count')"
   ]
  },
  {
   "cell_type": "code",
   "execution_count": 44,
   "metadata": {},
   "outputs": [
    {
     "data": {
      "text/html": [
       "<div>\n",
       "<style scoped>\n",
       "    .dataframe tbody tr th:only-of-type {\n",
       "        vertical-align: middle;\n",
       "    }\n",
       "\n",
       "    .dataframe tbody tr th {\n",
       "        vertical-align: top;\n",
       "    }\n",
       "\n",
       "    .dataframe thead th {\n",
       "        text-align: right;\n",
       "    }\n",
       "</style>\n",
       "<table border=\"1\" class=\"dataframe\">\n",
       "  <thead>\n",
       "    <tr style=\"text-align: right;\">\n",
       "      <th></th>\n",
       "      <th>count</th>\n",
       "    </tr>\n",
       "  </thead>\n",
       "  <tbody>\n",
       "    <tr>\n",
       "      <th>0</th>\n",
       "      <td>191903</td>\n",
       "    </tr>\n",
       "    <tr>\n",
       "      <th>1</th>\n",
       "      <td>9913</td>\n",
       "    </tr>\n",
       "  </tbody>\n",
       "</table>\n",
       "</div>"
      ],
      "text/plain": [
       "    count\n",
       "0  191903\n",
       "1    9913"
      ]
     },
     "execution_count": 44,
     "metadata": {},
     "output_type": "execute_result"
    }
   ],
   "source": [
    "# replacing the labels of the 'SPEEDING' column, 'Y' with 1 and NaN values with 0\n",
    "\n",
    "df_coll_rel['SPEEDING'] = df_coll_rel['SPEEDING'].map({'Y': 1, np.nan : 0})\n",
    "\n",
    "df_coll_rel['SPEEDING'].value_counts().to_frame('count')"
   ]
  },
  {
   "cell_type": "markdown",
   "metadata": {},
   "source": [
    "**Deleting rows with too few values for a variable**"
   ]
  },
  {
   "cell_type": "code",
   "execution_count": 45,
   "metadata": {},
   "outputs": [
    {
     "data": {
      "text/html": [
       "<div>\n",
       "<style scoped>\n",
       "    .dataframe tbody tr th:only-of-type {\n",
       "        vertical-align: middle;\n",
       "    }\n",
       "\n",
       "    .dataframe tbody tr th {\n",
       "        vertical-align: top;\n",
       "    }\n",
       "\n",
       "    .dataframe thead th {\n",
       "        text-align: right;\n",
       "    }\n",
       "</style>\n",
       "<table border=\"1\" class=\"dataframe\">\n",
       "  <thead>\n",
       "    <tr style=\"text-align: right;\">\n",
       "      <th></th>\n",
       "      <th>count</th>\n",
       "    </tr>\n",
       "  </thead>\n",
       "  <tbody>\n",
       "    <tr>\n",
       "      <th>Clear</th>\n",
       "      <td>114361</td>\n",
       "    </tr>\n",
       "    <tr>\n",
       "      <th>Raining</th>\n",
       "      <td>34020</td>\n",
       "    </tr>\n",
       "    <tr>\n",
       "      <th>Overcast</th>\n",
       "      <td>28507</td>\n",
       "    </tr>\n",
       "    <tr>\n",
       "      <th>Unknown</th>\n",
       "      <td>15131</td>\n",
       "    </tr>\n",
       "    <tr>\n",
       "      <th>Unspecified</th>\n",
       "      <td>7240</td>\n",
       "    </tr>\n",
       "    <tr>\n",
       "      <th>Snowing</th>\n",
       "      <td>919</td>\n",
       "    </tr>\n",
       "    <tr>\n",
       "      <th>Other</th>\n",
       "      <td>853</td>\n",
       "    </tr>\n",
       "    <tr>\n",
       "      <th>Fog/Smog/Smoke</th>\n",
       "      <td>577</td>\n",
       "    </tr>\n",
       "    <tr>\n",
       "      <th>Sleet/Hail/Freezing Rain</th>\n",
       "      <td>116</td>\n",
       "    </tr>\n",
       "    <tr>\n",
       "      <th>Blowing Sand/Dirt</th>\n",
       "      <td>56</td>\n",
       "    </tr>\n",
       "    <tr>\n",
       "      <th>Severe Crosswind</th>\n",
       "      <td>26</td>\n",
       "    </tr>\n",
       "    <tr>\n",
       "      <th>Partly Cloudy</th>\n",
       "      <td>9</td>\n",
       "    </tr>\n",
       "    <tr>\n",
       "      <th>Blowing Snow</th>\n",
       "      <td>1</td>\n",
       "    </tr>\n",
       "  </tbody>\n",
       "</table>\n",
       "</div>"
      ],
      "text/plain": [
       "                           count\n",
       "Clear                     114361\n",
       "Raining                    34020\n",
       "Overcast                   28507\n",
       "Unknown                    15131\n",
       "Unspecified                 7240\n",
       "Snowing                      919\n",
       "Other                        853\n",
       "Fog/Smog/Smoke               577\n",
       "Sleet/Hail/Freezing Rain     116\n",
       "Blowing Sand/Dirt             56\n",
       "Severe Crosswind              26\n",
       "Partly Cloudy                  9\n",
       "Blowing Snow                   1"
      ]
     },
     "execution_count": 45,
     "metadata": {},
     "output_type": "execute_result"
    }
   ],
   "source": [
    "df_coll_rel['WEATHER'].value_counts().to_frame('count')"
   ]
  },
  {
   "cell_type": "code",
   "execution_count": 46,
   "metadata": {},
   "outputs": [
    {
     "data": {
      "text/html": [
       "<div>\n",
       "<style scoped>\n",
       "    .dataframe tbody tr th:only-of-type {\n",
       "        vertical-align: middle;\n",
       "    }\n",
       "\n",
       "    .dataframe tbody tr th {\n",
       "        vertical-align: top;\n",
       "    }\n",
       "\n",
       "    .dataframe thead th {\n",
       "        text-align: right;\n",
       "    }\n",
       "</style>\n",
       "<table border=\"1\" class=\"dataframe\">\n",
       "  <thead>\n",
       "    <tr style=\"text-align: right;\">\n",
       "      <th></th>\n",
       "      <th>count</th>\n",
       "    </tr>\n",
       "  </thead>\n",
       "  <tbody>\n",
       "    <tr>\n",
       "      <th>Clear</th>\n",
       "      <td>114361</td>\n",
       "    </tr>\n",
       "    <tr>\n",
       "      <th>Raining</th>\n",
       "      <td>34020</td>\n",
       "    </tr>\n",
       "    <tr>\n",
       "      <th>Overcast</th>\n",
       "      <td>28507</td>\n",
       "    </tr>\n",
       "    <tr>\n",
       "      <th>Unknown</th>\n",
       "      <td>15131</td>\n",
       "    </tr>\n",
       "    <tr>\n",
       "      <th>Unspecified</th>\n",
       "      <td>7240</td>\n",
       "    </tr>\n",
       "    <tr>\n",
       "      <th>Snowing</th>\n",
       "      <td>919</td>\n",
       "    </tr>\n",
       "    <tr>\n",
       "      <th>Other</th>\n",
       "      <td>853</td>\n",
       "    </tr>\n",
       "    <tr>\n",
       "      <th>Fog/Smog/Smoke</th>\n",
       "      <td>577</td>\n",
       "    </tr>\n",
       "    <tr>\n",
       "      <th>Sleet/Hail/Freezing Rain</th>\n",
       "      <td>116</td>\n",
       "    </tr>\n",
       "    <tr>\n",
       "      <th>Blowing Sand/Dirt</th>\n",
       "      <td>56</td>\n",
       "    </tr>\n",
       "    <tr>\n",
       "      <th>Severe Crosswind</th>\n",
       "      <td>26</td>\n",
       "    </tr>\n",
       "  </tbody>\n",
       "</table>\n",
       "</div>"
      ],
      "text/plain": [
       "                           count\n",
       "Clear                     114361\n",
       "Raining                    34020\n",
       "Overcast                   28507\n",
       "Unknown                    15131\n",
       "Unspecified                 7240\n",
       "Snowing                      919\n",
       "Other                        853\n",
       "Fog/Smog/Smoke               577\n",
       "Sleet/Hail/Freezing Rain     116\n",
       "Blowing Sand/Dirt             56\n",
       "Severe Crosswind              26"
      ]
     },
     "execution_count": 46,
     "metadata": {},
     "output_type": "execute_result"
    }
   ],
   "source": [
    "# deleting the rows with 'Blowing Snow' label and 'Pratly Cloudy' from the dataframe\n",
    "\n",
    "df_coll_rel.drop(df_coll_rel[(df_coll_rel['WEATHER'] == 'Blowing Snow') | \\\n",
    "                            (df_coll_rel['WEATHER'] == 'Partly Cloudy')].index, inplace = True)\n",
    "\n",
    "df_coll_rel['WEATHER'].value_counts().to_frame('count')"
   ]
  },
  {
   "cell_type": "code",
   "execution_count": 47,
   "metadata": {
    "scrolled": true
   },
   "outputs": [
    {
     "data": {
      "text/html": [
       "<div>\n",
       "<style scoped>\n",
       "    .dataframe tbody tr th:only-of-type {\n",
       "        vertical-align: middle;\n",
       "    }\n",
       "\n",
       "    .dataframe tbody tr th {\n",
       "        vertical-align: top;\n",
       "    }\n",
       "\n",
       "    .dataframe thead th {\n",
       "        text-align: right;\n",
       "    }\n",
       "</style>\n",
       "<table border=\"1\" class=\"dataframe\">\n",
       "  <thead>\n",
       "    <tr style=\"text-align: right;\">\n",
       "      <th></th>\n",
       "      <th>count</th>\n",
       "    </tr>\n",
       "  </thead>\n",
       "  <tbody>\n",
       "    <tr>\n",
       "      <th>Daylight</th>\n",
       "      <td>119160</td>\n",
       "    </tr>\n",
       "    <tr>\n",
       "      <th>Dark - Street Lights On</th>\n",
       "      <td>50049</td>\n",
       "    </tr>\n",
       "    <tr>\n",
       "      <th>Unknown</th>\n",
       "      <td>13523</td>\n",
       "    </tr>\n",
       "    <tr>\n",
       "      <th>Unspecified</th>\n",
       "      <td>7328</td>\n",
       "    </tr>\n",
       "    <tr>\n",
       "      <th>Dusk</th>\n",
       "      <td>6076</td>\n",
       "    </tr>\n",
       "    <tr>\n",
       "      <th>Dawn</th>\n",
       "      <td>2598</td>\n",
       "    </tr>\n",
       "    <tr>\n",
       "      <th>Dark - No Street Lights</th>\n",
       "      <td>1572</td>\n",
       "    </tr>\n",
       "    <tr>\n",
       "      <th>Dark - Street Lights Off</th>\n",
       "      <td>1236</td>\n",
       "    </tr>\n",
       "    <tr>\n",
       "      <th>Other</th>\n",
       "      <td>244</td>\n",
       "    </tr>\n",
       "    <tr>\n",
       "      <th>Dark - Unknown Lighting</th>\n",
       "      <td>20</td>\n",
       "    </tr>\n",
       "  </tbody>\n",
       "</table>\n",
       "</div>"
      ],
      "text/plain": [
       "                           count\n",
       "Daylight                  119160\n",
       "Dark - Street Lights On    50049\n",
       "Unknown                    13523\n",
       "Unspecified                 7328\n",
       "Dusk                        6076\n",
       "Dawn                        2598\n",
       "Dark - No Street Lights     1572\n",
       "Dark - Street Lights Off    1236\n",
       "Other                        244\n",
       "Dark - Unknown Lighting       20"
      ]
     },
     "execution_count": 47,
     "metadata": {},
     "output_type": "execute_result"
    }
   ],
   "source": [
    "df_coll_rel['LIGHTCOND'].value_counts().to_frame('count')"
   ]
  },
  {
   "cell_type": "code",
   "execution_count": 48,
   "metadata": {
    "scrolled": false
   },
   "outputs": [
    {
     "data": {
      "text/html": [
       "<div>\n",
       "<style scoped>\n",
       "    .dataframe tbody tr th:only-of-type {\n",
       "        vertical-align: middle;\n",
       "    }\n",
       "\n",
       "    .dataframe tbody tr th {\n",
       "        vertical-align: top;\n",
       "    }\n",
       "\n",
       "    .dataframe thead th {\n",
       "        text-align: right;\n",
       "    }\n",
       "</style>\n",
       "<table border=\"1\" class=\"dataframe\">\n",
       "  <thead>\n",
       "    <tr style=\"text-align: right;\">\n",
       "      <th></th>\n",
       "      <th>count</th>\n",
       "    </tr>\n",
       "  </thead>\n",
       "  <tbody>\n",
       "    <tr>\n",
       "      <th>Daylight</th>\n",
       "      <td>119160</td>\n",
       "    </tr>\n",
       "    <tr>\n",
       "      <th>Dark - Street Lights On</th>\n",
       "      <td>50049</td>\n",
       "    </tr>\n",
       "    <tr>\n",
       "      <th>Unknown</th>\n",
       "      <td>13523</td>\n",
       "    </tr>\n",
       "    <tr>\n",
       "      <th>Unspecified</th>\n",
       "      <td>7328</td>\n",
       "    </tr>\n",
       "    <tr>\n",
       "      <th>Dusk</th>\n",
       "      <td>6076</td>\n",
       "    </tr>\n",
       "    <tr>\n",
       "      <th>Dawn</th>\n",
       "      <td>2598</td>\n",
       "    </tr>\n",
       "    <tr>\n",
       "      <th>Dark - No Street Lights</th>\n",
       "      <td>1572</td>\n",
       "    </tr>\n",
       "    <tr>\n",
       "      <th>Dark - Street Lights Off</th>\n",
       "      <td>1236</td>\n",
       "    </tr>\n",
       "    <tr>\n",
       "      <th>Other</th>\n",
       "      <td>244</td>\n",
       "    </tr>\n",
       "  </tbody>\n",
       "</table>\n",
       "</div>"
      ],
      "text/plain": [
       "                           count\n",
       "Daylight                  119160\n",
       "Dark - Street Lights On    50049\n",
       "Unknown                    13523\n",
       "Unspecified                 7328\n",
       "Dusk                        6076\n",
       "Dawn                        2598\n",
       "Dark - No Street Lights     1572\n",
       "Dark - Street Lights Off    1236\n",
       "Other                        244"
      ]
     },
     "execution_count": 48,
     "metadata": {},
     "output_type": "execute_result"
    }
   ],
   "source": [
    "# There a very few rows with 'Dark - Unknown Lighting' label compared to \n",
    "# the other label counts. So let's delete the rows having 'Dark - Unknown Lighting' label\n",
    "\n",
    "df_coll_rel.drop(df_coll_rel[(df_coll_rel['LIGHTCOND'] == 'Dark - Unknown Lighting')].index, inplace = True)\n",
    "\n",
    "df_coll_rel['LIGHTCOND'].value_counts().to_frame('count')"
   ]
  },
  {
   "cell_type": "markdown",
   "metadata": {},
   "source": [
    "**Now we finally have our cleaned dataset**"
   ]
  },
  {
   "cell_type": "code",
   "execution_count": 49,
   "metadata": {
    "scrolled": false
   },
   "outputs": [
    {
     "data": {
      "text/html": [
       "<div>\n",
       "<style scoped>\n",
       "    .dataframe tbody tr th:only-of-type {\n",
       "        vertical-align: middle;\n",
       "    }\n",
       "\n",
       "    .dataframe tbody tr th {\n",
       "        vertical-align: top;\n",
       "    }\n",
       "\n",
       "    .dataframe thead th {\n",
       "        text-align: right;\n",
       "    }\n",
       "</style>\n",
       "<table border=\"1\" class=\"dataframe\">\n",
       "  <thead>\n",
       "    <tr style=\"text-align: right;\">\n",
       "      <th></th>\n",
       "      <th>ADDRTYPE</th>\n",
       "      <th>SEVERITYCODE</th>\n",
       "      <th>PERSONCOUNT</th>\n",
       "      <th>PEDCOUNT</th>\n",
       "      <th>PEDCYLCOUNT</th>\n",
       "      <th>VEHCOUNT</th>\n",
       "      <th>JUNCTIONTYPE</th>\n",
       "      <th>INATTENTIONIND</th>\n",
       "      <th>UNDERINFL</th>\n",
       "      <th>WEATHER</th>\n",
       "      <th>ROADCOND</th>\n",
       "      <th>LIGHTCOND</th>\n",
       "      <th>SPEEDING</th>\n",
       "    </tr>\n",
       "  </thead>\n",
       "  <tbody>\n",
       "    <tr>\n",
       "      <th>0</th>\n",
       "      <td>Intersection</td>\n",
       "      <td>2</td>\n",
       "      <td>2</td>\n",
       "      <td>1</td>\n",
       "      <td>0</td>\n",
       "      <td>1</td>\n",
       "      <td>At Intersection (intersection related)</td>\n",
       "      <td>0</td>\n",
       "      <td>N</td>\n",
       "      <td>Clear</td>\n",
       "      <td>Dry</td>\n",
       "      <td>Daylight</td>\n",
       "      <td>0</td>\n",
       "    </tr>\n",
       "    <tr>\n",
       "      <th>1</th>\n",
       "      <td>Intersection</td>\n",
       "      <td>2</td>\n",
       "      <td>4</td>\n",
       "      <td>0</td>\n",
       "      <td>0</td>\n",
       "      <td>2</td>\n",
       "      <td>At Intersection (intersection related)</td>\n",
       "      <td>0</td>\n",
       "      <td>N</td>\n",
       "      <td>Raining</td>\n",
       "      <td>Wet</td>\n",
       "      <td>Dark - Street Lights On</td>\n",
       "      <td>0</td>\n",
       "    </tr>\n",
       "    <tr>\n",
       "      <th>2</th>\n",
       "      <td>Block</td>\n",
       "      <td>1</td>\n",
       "      <td>4</td>\n",
       "      <td>0</td>\n",
       "      <td>0</td>\n",
       "      <td>3</td>\n",
       "      <td>Mid-Block (not related to intersection)</td>\n",
       "      <td>0</td>\n",
       "      <td>N</td>\n",
       "      <td>Clear</td>\n",
       "      <td>Dry</td>\n",
       "      <td>Daylight</td>\n",
       "      <td>0</td>\n",
       "    </tr>\n",
       "    <tr>\n",
       "      <th>3</th>\n",
       "      <td>Intersection</td>\n",
       "      <td>1</td>\n",
       "      <td>2</td>\n",
       "      <td>0</td>\n",
       "      <td>0</td>\n",
       "      <td>2</td>\n",
       "      <td>At Intersection (intersection related)</td>\n",
       "      <td>0</td>\n",
       "      <td>N</td>\n",
       "      <td>Raining</td>\n",
       "      <td>Wet</td>\n",
       "      <td>Dark - Street Lights On</td>\n",
       "      <td>0</td>\n",
       "    </tr>\n",
       "    <tr>\n",
       "      <th>6</th>\n",
       "      <td>Block</td>\n",
       "      <td>1</td>\n",
       "      <td>2</td>\n",
       "      <td>0</td>\n",
       "      <td>0</td>\n",
       "      <td>2</td>\n",
       "      <td>Mid-Block (not related to intersection)</td>\n",
       "      <td>0</td>\n",
       "      <td>N</td>\n",
       "      <td>Clear</td>\n",
       "      <td>Dry</td>\n",
       "      <td>Dark - Street Lights On</td>\n",
       "      <td>0</td>\n",
       "    </tr>\n",
       "  </tbody>\n",
       "</table>\n",
       "</div>"
      ],
      "text/plain": [
       "       ADDRTYPE SEVERITYCODE  PERSONCOUNT  PEDCOUNT  PEDCYLCOUNT  VEHCOUNT  \\\n",
       "0  Intersection            2            2         1            0         1   \n",
       "1  Intersection            2            4         0            0         2   \n",
       "2         Block            1            4         0            0         3   \n",
       "3  Intersection            1            2         0            0         2   \n",
       "6         Block            1            2         0            0         2   \n",
       "\n",
       "                              JUNCTIONTYPE  INATTENTIONIND UNDERINFL  WEATHER  \\\n",
       "0   At Intersection (intersection related)               0         N    Clear   \n",
       "1   At Intersection (intersection related)               0         N  Raining   \n",
       "2  Mid-Block (not related to intersection)               0         N    Clear   \n",
       "3   At Intersection (intersection related)               0         N  Raining   \n",
       "6  Mid-Block (not related to intersection)               0         N    Clear   \n",
       "\n",
       "  ROADCOND                LIGHTCOND  SPEEDING  \n",
       "0      Dry                 Daylight         0  \n",
       "1      Wet  Dark - Street Lights On         0  \n",
       "2      Dry                 Daylight         0  \n",
       "3      Wet  Dark - Street Lights On         0  \n",
       "6      Dry  Dark - Street Lights On         0  "
      ]
     },
     "execution_count": 49,
     "metadata": {},
     "output_type": "execute_result"
    }
   ],
   "source": [
    "df_coll_clean = df_coll_rel\n",
    "df_coll_clean.head(5)"
   ]
  },
  {
   "cell_type": "code",
   "execution_count": 50,
   "metadata": {},
   "outputs": [
    {
     "data": {
      "text/plain": [
       "ADDRTYPE          0\n",
       "SEVERITYCODE      0\n",
       "PERSONCOUNT       0\n",
       "PEDCOUNT          0\n",
       "PEDCYLCOUNT       0\n",
       "VEHCOUNT          0\n",
       "JUNCTIONTYPE      0\n",
       "INATTENTIONIND    0\n",
       "UNDERINFL         0\n",
       "WEATHER           0\n",
       "ROADCOND          0\n",
       "LIGHTCOND         0\n",
       "SPEEDING          0\n",
       "dtype: int64"
      ]
     },
     "execution_count": 50,
     "metadata": {},
     "output_type": "execute_result"
    }
   ],
   "source": [
    "df_coll_clean.isnull().sum()"
   ]
  },
  {
   "cell_type": "code",
   "execution_count": 51,
   "metadata": {},
   "outputs": [
    {
     "name": "stdout",
     "output_type": "stream",
     "text": [
      "<class 'pandas.core.frame.DataFrame'>\n",
      "Int64Index: 201786 entries, 0 to 221265\n",
      "Data columns (total 13 columns):\n",
      " #   Column          Non-Null Count   Dtype \n",
      "---  ------          --------------   ----- \n",
      " 0   ADDRTYPE        201786 non-null  object\n",
      " 1   SEVERITYCODE    201786 non-null  object\n",
      " 2   PERSONCOUNT     201786 non-null  int64 \n",
      " 3   PEDCOUNT        201786 non-null  int64 \n",
      " 4   PEDCYLCOUNT     201786 non-null  int64 \n",
      " 5   VEHCOUNT        201786 non-null  int64 \n",
      " 6   JUNCTIONTYPE    201786 non-null  object\n",
      " 7   INATTENTIONIND  201786 non-null  int64 \n",
      " 8   UNDERINFL       201786 non-null  object\n",
      " 9   WEATHER         201786 non-null  object\n",
      " 10  ROADCOND        201786 non-null  object\n",
      " 11  LIGHTCOND       201786 non-null  object\n",
      " 12  SPEEDING        201786 non-null  int64 \n",
      "dtypes: int64(6), object(7)\n",
      "memory usage: 21.6+ MB\n"
     ]
    }
   ],
   "source": [
    "# checking whether the datatypes of the columns are consistent or not\n",
    "\n",
    "df_coll_clean.info()"
   ]
  },
  {
   "cell_type": "code",
   "execution_count": 52,
   "metadata": {
    "scrolled": true
   },
   "outputs": [
    {
     "name": "stdout",
     "output_type": "stream",
     "text": [
      "<class 'pandas.core.frame.DataFrame'>\n",
      "Int64Index: 201786 entries, 0 to 221265\n",
      "Data columns (total 13 columns):\n",
      " #   Column          Non-Null Count   Dtype \n",
      "---  ------          --------------   ----- \n",
      " 0   ADDRTYPE        201786 non-null  object\n",
      " 1   SEVERITYCODE    201786 non-null  object\n",
      " 2   PERSONCOUNT     201786 non-null  int64 \n",
      " 3   PEDCOUNT        201786 non-null  int64 \n",
      " 4   PEDCYLCOUNT     201786 non-null  int64 \n",
      " 5   VEHCOUNT        201786 non-null  int64 \n",
      " 6   JUNCTIONTYPE    201786 non-null  object\n",
      " 7   INATTENTIONIND  201786 non-null  int64 \n",
      " 8   UNDERINFL       201786 non-null  object\n",
      " 9   WEATHER         201786 non-null  object\n",
      " 10  ROADCOND        201786 non-null  object\n",
      " 11  LIGHTCOND       201786 non-null  object\n",
      " 12  SPEEDING        201786 non-null  int64 \n",
      "dtypes: int64(6), object(7)\n",
      "memory usage: 21.6+ MB\n"
     ]
    }
   ],
   "source": [
    "# the datatype of 'INATTENSIONID' column should be 'int64' as we\n",
    "# have coverted the labels to either 0's or 1's, but it's 'object'\n",
    "# so lets convert the datatype to 'int64'\n",
    "\n",
    "df_coll_clean['INATTENTIONIND'] = df_coll_clean['INATTENTIONIND'].astype('int64')\n",
    "\n",
    "df_coll_clean.info()"
   ]
  },
  {
   "cell_type": "code",
   "execution_count": 53,
   "metadata": {},
   "outputs": [
    {
     "data": {
      "text/plain": [
       "(201786, 13)"
      ]
     },
     "execution_count": 53,
     "metadata": {},
     "output_type": "execute_result"
    }
   ],
   "source": [
    "df_coll_clean.shape"
   ]
  },
  {
   "cell_type": "markdown",
   "metadata": {},
   "source": [
    "# Feature Selection"
   ]
  },
  {
   "cell_type": "markdown",
   "metadata": {},
   "source": [
    "**Calculating Pearson correlation for the Features in the cleaned dataset in order to best select the Features for modelling**"
   ]
  },
  {
   "cell_type": "code",
   "execution_count": 54,
   "metadata": {},
   "outputs": [],
   "source": [
    "# I'm going to use \"one hot encoding\" for the categorical variables while developing the model\n",
    "# so copying the cleaned dataset into another variable because I am going to use LabelEncoder()\n",
    "# as of now to convert the labels of categorical variables into numeric values in order to calculate their\n",
    "# Pearson correlation with the target variable 'SEVERITYCODE'\n",
    "\n",
    "df_coll_pearson = df_coll_clean.copy()"
   ]
  },
  {
   "cell_type": "code",
   "execution_count": 55,
   "metadata": {
    "scrolled": false
   },
   "outputs": [
    {
     "data": {
      "text/html": [
       "<div>\n",
       "<style scoped>\n",
       "    .dataframe tbody tr th:only-of-type {\n",
       "        vertical-align: middle;\n",
       "    }\n",
       "\n",
       "    .dataframe tbody tr th {\n",
       "        vertical-align: top;\n",
       "    }\n",
       "\n",
       "    .dataframe thead th {\n",
       "        text-align: right;\n",
       "    }\n",
       "</style>\n",
       "<table border=\"1\" class=\"dataframe\">\n",
       "  <thead>\n",
       "    <tr style=\"text-align: right;\">\n",
       "      <th></th>\n",
       "      <th>ADDRTYPE</th>\n",
       "      <th>SEVERITYCODE</th>\n",
       "      <th>PERSONCOUNT</th>\n",
       "      <th>PEDCOUNT</th>\n",
       "      <th>PEDCYLCOUNT</th>\n",
       "      <th>VEHCOUNT</th>\n",
       "      <th>JUNCTIONTYPE</th>\n",
       "      <th>INATTENTIONIND</th>\n",
       "      <th>UNDERINFL</th>\n",
       "      <th>WEATHER</th>\n",
       "      <th>ROADCOND</th>\n",
       "      <th>LIGHTCOND</th>\n",
       "      <th>SPEEDING</th>\n",
       "    </tr>\n",
       "  </thead>\n",
       "  <tbody>\n",
       "    <tr>\n",
       "      <th>0</th>\n",
       "      <td>2</td>\n",
       "      <td>2</td>\n",
       "      <td>2</td>\n",
       "      <td>1</td>\n",
       "      <td>0</td>\n",
       "      <td>1</td>\n",
       "      <td>1</td>\n",
       "      <td>0</td>\n",
       "      <td>0</td>\n",
       "      <td>1</td>\n",
       "      <td>0</td>\n",
       "      <td>4</td>\n",
       "      <td>0</td>\n",
       "    </tr>\n",
       "    <tr>\n",
       "      <th>1</th>\n",
       "      <td>2</td>\n",
       "      <td>2</td>\n",
       "      <td>4</td>\n",
       "      <td>0</td>\n",
       "      <td>0</td>\n",
       "      <td>2</td>\n",
       "      <td>1</td>\n",
       "      <td>0</td>\n",
       "      <td>0</td>\n",
       "      <td>5</td>\n",
       "      <td>9</td>\n",
       "      <td>2</td>\n",
       "      <td>0</td>\n",
       "    </tr>\n",
       "    <tr>\n",
       "      <th>2</th>\n",
       "      <td>1</td>\n",
       "      <td>1</td>\n",
       "      <td>4</td>\n",
       "      <td>0</td>\n",
       "      <td>0</td>\n",
       "      <td>3</td>\n",
       "      <td>4</td>\n",
       "      <td>0</td>\n",
       "      <td>0</td>\n",
       "      <td>1</td>\n",
       "      <td>0</td>\n",
       "      <td>4</td>\n",
       "      <td>0</td>\n",
       "    </tr>\n",
       "    <tr>\n",
       "      <th>3</th>\n",
       "      <td>2</td>\n",
       "      <td>1</td>\n",
       "      <td>2</td>\n",
       "      <td>0</td>\n",
       "      <td>0</td>\n",
       "      <td>2</td>\n",
       "      <td>1</td>\n",
       "      <td>0</td>\n",
       "      <td>0</td>\n",
       "      <td>5</td>\n",
       "      <td>9</td>\n",
       "      <td>2</td>\n",
       "      <td>0</td>\n",
       "    </tr>\n",
       "    <tr>\n",
       "      <th>6</th>\n",
       "      <td>1</td>\n",
       "      <td>1</td>\n",
       "      <td>2</td>\n",
       "      <td>0</td>\n",
       "      <td>0</td>\n",
       "      <td>2</td>\n",
       "      <td>4</td>\n",
       "      <td>0</td>\n",
       "      <td>0</td>\n",
       "      <td>1</td>\n",
       "      <td>0</td>\n",
       "      <td>2</td>\n",
       "      <td>0</td>\n",
       "    </tr>\n",
       "  </tbody>\n",
       "</table>\n",
       "</div>"
      ],
      "text/plain": [
       "   ADDRTYPE  SEVERITYCODE  PERSONCOUNT  PEDCOUNT  PEDCYLCOUNT  VEHCOUNT  \\\n",
       "0         2             2            2         1            0         1   \n",
       "1         2             2            4         0            0         2   \n",
       "2         1             1            4         0            0         3   \n",
       "3         2             1            2         0            0         2   \n",
       "6         1             1            2         0            0         2   \n",
       "\n",
       "   JUNCTIONTYPE  INATTENTIONIND  UNDERINFL  WEATHER  ROADCOND  LIGHTCOND  \\\n",
       "0             1               0          0        1         0          4   \n",
       "1             1               0          0        5         9          2   \n",
       "2             4               0          0        1         0          4   \n",
       "3             1               0          0        5         9          2   \n",
       "6             4               0          0        1         0          2   \n",
       "\n",
       "   SPEEDING  \n",
       "0         0  \n",
       "1         0  \n",
       "2         0  \n",
       "3         0  \n",
       "6         0  "
      ]
     },
     "execution_count": 55,
     "metadata": {},
     "output_type": "execute_result"
    }
   ],
   "source": [
    "# encoding the labels of the categorical variables as Pearson's Correlation only works\n",
    "# on numeric values\n",
    "\n",
    "from sklearn import preprocessing\n",
    "\n",
    "\n",
    "severity = preprocessing.LabelEncoder()\n",
    "severity.fit(df_coll_pearson['SEVERITYCODE'])\n",
    "df_coll_pearson['SEVERITYCODE'] = severity.transform(df_coll_pearson['SEVERITYCODE'])\n",
    "\n",
    "\n",
    "addrtype = preprocessing.LabelEncoder()\n",
    "addrtype.fit(df_coll_pearson['ADDRTYPE'])\n",
    "df_coll_pearson['ADDRTYPE'] = addrtype.transform(df_coll_pearson['ADDRTYPE'])\n",
    "\n",
    "junctype = preprocessing.LabelEncoder()\n",
    "junctype.fit(df_coll_pearson['JUNCTIONTYPE'])\n",
    "df_coll_pearson['JUNCTIONTYPE'] = junctype.transform(df_coll_pearson['JUNCTIONTYPE'])\n",
    "\n",
    "underinfl = preprocessing.LabelEncoder()\n",
    "underinfl.fit(df_coll_pearson['UNDERINFL'])\n",
    "df_coll_pearson['UNDERINFL'] = underinfl.transform(df_coll_pearson['UNDERINFL'])\n",
    "\n",
    "\n",
    "weather = preprocessing.LabelEncoder()\n",
    "weather.fit(df_coll_pearson['WEATHER'])\n",
    "df_coll_pearson['WEATHER'] = weather.transform(df_coll_pearson['WEATHER'])\n",
    "\n",
    "roadcond = preprocessing.LabelEncoder()\n",
    "roadcond.fit(df_coll_pearson['ROADCOND'])\n",
    "df_coll_pearson['ROADCOND'] = roadcond.transform(df_coll_pearson['ROADCOND'])\n",
    "\n",
    "lightcond = preprocessing.LabelEncoder()\n",
    "lightcond.fit(df_coll_pearson['LIGHTCOND'])\n",
    "df_coll_pearson['LIGHTCOND'] = lightcond.transform(df_coll_pearson['LIGHTCOND'])\n",
    "\n",
    "\n",
    "df_coll_pearson.head(5)\n"
   ]
  },
  {
   "cell_type": "code",
   "execution_count": 56,
   "metadata": {
    "scrolled": true
   },
   "outputs": [
    {
     "data": {
      "text/html": [
       "<div>\n",
       "<style scoped>\n",
       "    .dataframe tbody tr th:only-of-type {\n",
       "        vertical-align: middle;\n",
       "    }\n",
       "\n",
       "    .dataframe tbody tr th {\n",
       "        vertical-align: top;\n",
       "    }\n",
       "\n",
       "    .dataframe thead th {\n",
       "        text-align: right;\n",
       "    }\n",
       "</style>\n",
       "<table border=\"1\" class=\"dataframe\">\n",
       "  <thead>\n",
       "    <tr style=\"text-align: right;\">\n",
       "      <th></th>\n",
       "      <th>ADDRTYPE</th>\n",
       "      <th>SEVERITYCODE</th>\n",
       "      <th>PERSONCOUNT</th>\n",
       "      <th>PEDCOUNT</th>\n",
       "      <th>PEDCYLCOUNT</th>\n",
       "      <th>VEHCOUNT</th>\n",
       "      <th>JUNCTIONTYPE</th>\n",
       "      <th>INATTENTIONIND</th>\n",
       "      <th>UNDERINFL</th>\n",
       "      <th>WEATHER</th>\n",
       "      <th>ROADCOND</th>\n",
       "      <th>LIGHTCOND</th>\n",
       "      <th>SPEEDING</th>\n",
       "    </tr>\n",
       "  </thead>\n",
       "  <tbody>\n",
       "    <tr>\n",
       "      <th>ADDRTYPE</th>\n",
       "      <td>1.000000</td>\n",
       "      <td>0.173803</td>\n",
       "      <td>0.053029</td>\n",
       "      <td>0.129287</td>\n",
       "      <td>0.076917</td>\n",
       "      <td>-0.054608</td>\n",
       "      <td>-0.805299</td>\n",
       "      <td>-0.076085</td>\n",
       "      <td>-0.050694</td>\n",
       "      <td>-0.051918</td>\n",
       "      <td>-0.009064</td>\n",
       "      <td>-0.035142</td>\n",
       "      <td>-0.058861</td>\n",
       "    </tr>\n",
       "    <tr>\n",
       "      <th>SEVERITYCODE</th>\n",
       "      <td>0.173803</td>\n",
       "      <td>1.000000</td>\n",
       "      <td>0.128641</td>\n",
       "      <td>0.281092</td>\n",
       "      <td>0.214854</td>\n",
       "      <td>0.002208</td>\n",
       "      <td>-0.220452</td>\n",
       "      <td>0.043036</td>\n",
       "      <td>-0.000790</td>\n",
       "      <td>-0.176131</td>\n",
       "      <td>-0.080253</td>\n",
       "      <td>-0.158328</td>\n",
       "      <td>0.063186</td>\n",
       "    </tr>\n",
       "    <tr>\n",
       "      <th>PERSONCOUNT</th>\n",
       "      <td>0.053029</td>\n",
       "      <td>0.128641</td>\n",
       "      <td>1.000000</td>\n",
       "      <td>-0.018095</td>\n",
       "      <td>-0.037887</td>\n",
       "      <td>0.378822</td>\n",
       "      <td>-0.087081</td>\n",
       "      <td>0.076741</td>\n",
       "      <td>-0.008585</td>\n",
       "      <td>-0.096414</td>\n",
       "      <td>-0.044655</td>\n",
       "      <td>-0.081753</td>\n",
       "      <td>0.001155</td>\n",
       "    </tr>\n",
       "    <tr>\n",
       "      <th>PEDCOUNT</th>\n",
       "      <td>0.129287</td>\n",
       "      <td>0.281092</td>\n",
       "      <td>-0.018095</td>\n",
       "      <td>1.000000</td>\n",
       "      <td>-0.018894</td>\n",
       "      <td>-0.252076</td>\n",
       "      <td>-0.132095</td>\n",
       "      <td>-0.006251</td>\n",
       "      <td>0.011215</td>\n",
       "      <td>-0.032379</td>\n",
       "      <td>-0.003183</td>\n",
       "      <td>-0.059443</td>\n",
       "      <td>-0.031209</td>\n",
       "    </tr>\n",
       "    <tr>\n",
       "      <th>PEDCYLCOUNT</th>\n",
       "      <td>0.076917</td>\n",
       "      <td>0.214854</td>\n",
       "      <td>-0.037887</td>\n",
       "      <td>-0.018894</td>\n",
       "      <td>1.000000</td>\n",
       "      <td>-0.241278</td>\n",
       "      <td>-0.093751</td>\n",
       "      <td>0.003787</td>\n",
       "      <td>-0.028309</td>\n",
       "      <td>-0.064170</td>\n",
       "      <td>-0.057263</td>\n",
       "      <td>-0.013756</td>\n",
       "      <td>-0.021157</td>\n",
       "    </tr>\n",
       "    <tr>\n",
       "      <th>VEHCOUNT</th>\n",
       "      <td>-0.054608</td>\n",
       "      <td>0.002208</td>\n",
       "      <td>0.378822</td>\n",
       "      <td>-0.252076</td>\n",
       "      <td>-0.241278</td>\n",
       "      <td>1.000000</td>\n",
       "      <td>0.034829</td>\n",
       "      <td>0.084990</td>\n",
       "      <td>-0.207664</td>\n",
       "      <td>-0.263241</td>\n",
       "      <td>-0.138814</td>\n",
       "      <td>-0.253710</td>\n",
       "      <td>-0.016586</td>\n",
       "    </tr>\n",
       "    <tr>\n",
       "      <th>JUNCTIONTYPE</th>\n",
       "      <td>-0.805299</td>\n",
       "      <td>-0.220452</td>\n",
       "      <td>-0.087081</td>\n",
       "      <td>-0.132095</td>\n",
       "      <td>-0.093751</td>\n",
       "      <td>0.034829</td>\n",
       "      <td>1.000000</td>\n",
       "      <td>0.049467</td>\n",
       "      <td>0.063518</td>\n",
       "      <td>0.153067</td>\n",
       "      <td>0.057577</td>\n",
       "      <td>0.117492</td>\n",
       "      <td>0.053291</td>\n",
       "    </tr>\n",
       "    <tr>\n",
       "      <th>INATTENTIONIND</th>\n",
       "      <td>-0.076085</td>\n",
       "      <td>0.043036</td>\n",
       "      <td>0.076741</td>\n",
       "      <td>-0.006251</td>\n",
       "      <td>0.003787</td>\n",
       "      <td>0.084990</td>\n",
       "      <td>0.049467</td>\n",
       "      <td>1.000000</td>\n",
       "      <td>-0.055614</td>\n",
       "      <td>-0.108806</td>\n",
       "      <td>-0.068360</td>\n",
       "      <td>-0.053503</td>\n",
       "      <td>-0.048658</td>\n",
       "    </tr>\n",
       "    <tr>\n",
       "      <th>UNDERINFL</th>\n",
       "      <td>-0.050694</td>\n",
       "      <td>-0.000790</td>\n",
       "      <td>-0.008585</td>\n",
       "      <td>0.011215</td>\n",
       "      <td>-0.028309</td>\n",
       "      <td>-0.207664</td>\n",
       "      <td>0.063518</td>\n",
       "      <td>-0.055614</td>\n",
       "      <td>1.000000</td>\n",
       "      <td>0.135482</td>\n",
       "      <td>0.074952</td>\n",
       "      <td>0.028738</td>\n",
       "      <td>0.074816</td>\n",
       "    </tr>\n",
       "    <tr>\n",
       "      <th>WEATHER</th>\n",
       "      <td>-0.051918</td>\n",
       "      <td>-0.176131</td>\n",
       "      <td>-0.096414</td>\n",
       "      <td>-0.032379</td>\n",
       "      <td>-0.064170</td>\n",
       "      <td>-0.263241</td>\n",
       "      <td>0.153067</td>\n",
       "      <td>-0.108806</td>\n",
       "      <td>0.135482</td>\n",
       "      <td>1.000000</td>\n",
       "      <td>0.707405</td>\n",
       "      <td>0.467006</td>\n",
       "      <td>0.004657</td>\n",
       "    </tr>\n",
       "    <tr>\n",
       "      <th>ROADCOND</th>\n",
       "      <td>-0.009064</td>\n",
       "      <td>-0.080253</td>\n",
       "      <td>-0.044655</td>\n",
       "      <td>-0.003183</td>\n",
       "      <td>-0.057263</td>\n",
       "      <td>-0.138814</td>\n",
       "      <td>0.057577</td>\n",
       "      <td>-0.068360</td>\n",
       "      <td>0.074952</td>\n",
       "      <td>0.707405</td>\n",
       "      <td>1.000000</td>\n",
       "      <td>0.155149</td>\n",
       "      <td>0.077448</td>\n",
       "    </tr>\n",
       "    <tr>\n",
       "      <th>LIGHTCOND</th>\n",
       "      <td>-0.035142</td>\n",
       "      <td>-0.158328</td>\n",
       "      <td>-0.081753</td>\n",
       "      <td>-0.059443</td>\n",
       "      <td>-0.013756</td>\n",
       "      <td>-0.253710</td>\n",
       "      <td>0.117492</td>\n",
       "      <td>-0.053503</td>\n",
       "      <td>0.028738</td>\n",
       "      <td>0.467006</td>\n",
       "      <td>0.155149</td>\n",
       "      <td>1.000000</td>\n",
       "      <td>-0.107317</td>\n",
       "    </tr>\n",
       "    <tr>\n",
       "      <th>SPEEDING</th>\n",
       "      <td>-0.058861</td>\n",
       "      <td>0.063186</td>\n",
       "      <td>0.001155</td>\n",
       "      <td>-0.031209</td>\n",
       "      <td>-0.021157</td>\n",
       "      <td>-0.016586</td>\n",
       "      <td>0.053291</td>\n",
       "      <td>-0.048658</td>\n",
       "      <td>0.074816</td>\n",
       "      <td>0.004657</td>\n",
       "      <td>0.077448</td>\n",
       "      <td>-0.107317</td>\n",
       "      <td>1.000000</td>\n",
       "    </tr>\n",
       "  </tbody>\n",
       "</table>\n",
       "</div>"
      ],
      "text/plain": [
       "                ADDRTYPE  SEVERITYCODE  PERSONCOUNT  PEDCOUNT  PEDCYLCOUNT  \\\n",
       "ADDRTYPE        1.000000      0.173803     0.053029  0.129287     0.076917   \n",
       "SEVERITYCODE    0.173803      1.000000     0.128641  0.281092     0.214854   \n",
       "PERSONCOUNT     0.053029      0.128641     1.000000 -0.018095    -0.037887   \n",
       "PEDCOUNT        0.129287      0.281092    -0.018095  1.000000    -0.018894   \n",
       "PEDCYLCOUNT     0.076917      0.214854    -0.037887 -0.018894     1.000000   \n",
       "VEHCOUNT       -0.054608      0.002208     0.378822 -0.252076    -0.241278   \n",
       "JUNCTIONTYPE   -0.805299     -0.220452    -0.087081 -0.132095    -0.093751   \n",
       "INATTENTIONIND -0.076085      0.043036     0.076741 -0.006251     0.003787   \n",
       "UNDERINFL      -0.050694     -0.000790    -0.008585  0.011215    -0.028309   \n",
       "WEATHER        -0.051918     -0.176131    -0.096414 -0.032379    -0.064170   \n",
       "ROADCOND       -0.009064     -0.080253    -0.044655 -0.003183    -0.057263   \n",
       "LIGHTCOND      -0.035142     -0.158328    -0.081753 -0.059443    -0.013756   \n",
       "SPEEDING       -0.058861      0.063186     0.001155 -0.031209    -0.021157   \n",
       "\n",
       "                VEHCOUNT  JUNCTIONTYPE  INATTENTIONIND  UNDERINFL   WEATHER  \\\n",
       "ADDRTYPE       -0.054608     -0.805299       -0.076085  -0.050694 -0.051918   \n",
       "SEVERITYCODE    0.002208     -0.220452        0.043036  -0.000790 -0.176131   \n",
       "PERSONCOUNT     0.378822     -0.087081        0.076741  -0.008585 -0.096414   \n",
       "PEDCOUNT       -0.252076     -0.132095       -0.006251   0.011215 -0.032379   \n",
       "PEDCYLCOUNT    -0.241278     -0.093751        0.003787  -0.028309 -0.064170   \n",
       "VEHCOUNT        1.000000      0.034829        0.084990  -0.207664 -0.263241   \n",
       "JUNCTIONTYPE    0.034829      1.000000        0.049467   0.063518  0.153067   \n",
       "INATTENTIONIND  0.084990      0.049467        1.000000  -0.055614 -0.108806   \n",
       "UNDERINFL      -0.207664      0.063518       -0.055614   1.000000  0.135482   \n",
       "WEATHER        -0.263241      0.153067       -0.108806   0.135482  1.000000   \n",
       "ROADCOND       -0.138814      0.057577       -0.068360   0.074952  0.707405   \n",
       "LIGHTCOND      -0.253710      0.117492       -0.053503   0.028738  0.467006   \n",
       "SPEEDING       -0.016586      0.053291       -0.048658   0.074816  0.004657   \n",
       "\n",
       "                ROADCOND  LIGHTCOND  SPEEDING  \n",
       "ADDRTYPE       -0.009064  -0.035142 -0.058861  \n",
       "SEVERITYCODE   -0.080253  -0.158328  0.063186  \n",
       "PERSONCOUNT    -0.044655  -0.081753  0.001155  \n",
       "PEDCOUNT       -0.003183  -0.059443 -0.031209  \n",
       "PEDCYLCOUNT    -0.057263  -0.013756 -0.021157  \n",
       "VEHCOUNT       -0.138814  -0.253710 -0.016586  \n",
       "JUNCTIONTYPE    0.057577   0.117492  0.053291  \n",
       "INATTENTIONIND -0.068360  -0.053503 -0.048658  \n",
       "UNDERINFL       0.074952   0.028738  0.074816  \n",
       "WEATHER         0.707405   0.467006  0.004657  \n",
       "ROADCOND        1.000000   0.155149  0.077448  \n",
       "LIGHTCOND       0.155149   1.000000 -0.107317  \n",
       "SPEEDING        0.077448  -0.107317  1.000000  "
      ]
     },
     "execution_count": 56,
     "metadata": {},
     "output_type": "execute_result"
    }
   ],
   "source": [
    "# Pearson correlation\n",
    "\n",
    "df_coll_pearson.corr()"
   ]
  },
  {
   "cell_type": "code",
   "execution_count": 57,
   "metadata": {
    "scrolled": true
   },
   "outputs": [
    {
     "data": {
      "text/plain": [
       "<AxesSubplot:>"
      ]
     },
     "execution_count": 57,
     "metadata": {},
     "output_type": "execute_result"
    },
    {
     "data": {
      "image/png": "[encoded data removed]",
      "text/plain": [
       "<Figure size 432x288 with 2 Axes>"
      ]
     },
     "metadata": {
      "needs_background": "light"
     },
     "output_type": "display_data"
    }
   ],
   "source": [
    "# the correlation heatmap\n",
    "\n",
    "import seaborn as sns\n",
    "\n",
    "sns.heatmap(df_coll_pearson.corr(), linewidth=.2, cbar_kws={\"shrink\": 1})"
   ]
  },
  {
   "cell_type": "markdown",
   "metadata": {},
   "source": [
    "**Selecting the Features set**"
   ]
  },
  {
   "cell_type": "code",
   "execution_count": 58,
   "metadata": {},
   "outputs": [
    {
     "name": "stdout",
     "output_type": "stream",
     "text": [
      "The number of rows and columns in the features set respectively are: (201786, 12)\n"
     ]
    },
    {
     "data": {
      "text/html": [
       "<div>\n",
       "<style scoped>\n",
       "    .dataframe tbody tr th:only-of-type {\n",
       "        vertical-align: middle;\n",
       "    }\n",
       "\n",
       "    .dataframe tbody tr th {\n",
       "        vertical-align: top;\n",
       "    }\n",
       "\n",
       "    .dataframe thead th {\n",
       "        text-align: right;\n",
       "    }\n",
       "</style>\n",
       "<table border=\"1\" class=\"dataframe\">\n",
       "  <thead>\n",
       "    <tr style=\"text-align: right;\">\n",
       "      <th></th>\n",
       "      <th>ADDRTYPE</th>\n",
       "      <th>PERSONCOUNT</th>\n",
       "      <th>PEDCOUNT</th>\n",
       "      <th>PEDCYLCOUNT</th>\n",
       "      <th>VEHCOUNT</th>\n",
       "      <th>JUNCTIONTYPE</th>\n",
       "      <th>INATTENTIONIND</th>\n",
       "      <th>UNDERINFL</th>\n",
       "      <th>WEATHER</th>\n",
       "      <th>ROADCOND</th>\n",
       "      <th>LIGHTCOND</th>\n",
       "      <th>SPEEDING</th>\n",
       "    </tr>\n",
       "  </thead>\n",
       "  <tbody>\n",
       "    <tr>\n",
       "      <th>0</th>\n",
       "      <td>Intersection</td>\n",
       "      <td>2</td>\n",
       "      <td>1</td>\n",
       "      <td>0</td>\n",
       "      <td>1</td>\n",
       "      <td>At Intersection (intersection related)</td>\n",
       "      <td>0</td>\n",
       "      <td>N</td>\n",
       "      <td>Clear</td>\n",
       "      <td>Dry</td>\n",
       "      <td>Daylight</td>\n",
       "      <td>0</td>\n",
       "    </tr>\n",
       "    <tr>\n",
       "      <th>1</th>\n",
       "      <td>Intersection</td>\n",
       "      <td>4</td>\n",
       "      <td>0</td>\n",
       "      <td>0</td>\n",
       "      <td>2</td>\n",
       "      <td>At Intersection (intersection related)</td>\n",
       "      <td>0</td>\n",
       "      <td>N</td>\n",
       "      <td>Raining</td>\n",
       "      <td>Wet</td>\n",
       "      <td>Dark - Street Lights On</td>\n",
       "      <td>0</td>\n",
       "    </tr>\n",
       "    <tr>\n",
       "      <th>2</th>\n",
       "      <td>Block</td>\n",
       "      <td>4</td>\n",
       "      <td>0</td>\n",
       "      <td>0</td>\n",
       "      <td>3</td>\n",
       "      <td>Mid-Block (not related to intersection)</td>\n",
       "      <td>0</td>\n",
       "      <td>N</td>\n",
       "      <td>Clear</td>\n",
       "      <td>Dry</td>\n",
       "      <td>Daylight</td>\n",
       "      <td>0</td>\n",
       "    </tr>\n",
       "    <tr>\n",
       "      <th>3</th>\n",
       "      <td>Intersection</td>\n",
       "      <td>2</td>\n",
       "      <td>0</td>\n",
       "      <td>0</td>\n",
       "      <td>2</td>\n",
       "      <td>At Intersection (intersection related)</td>\n",
       "      <td>0</td>\n",
       "      <td>N</td>\n",
       "      <td>Raining</td>\n",
       "      <td>Wet</td>\n",
       "      <td>Dark - Street Lights On</td>\n",
       "      <td>0</td>\n",
       "    </tr>\n",
       "    <tr>\n",
       "      <th>6</th>\n",
       "      <td>Block</td>\n",
       "      <td>2</td>\n",
       "      <td>0</td>\n",
       "      <td>0</td>\n",
       "      <td>2</td>\n",
       "      <td>Mid-Block (not related to intersection)</td>\n",
       "      <td>0</td>\n",
       "      <td>N</td>\n",
       "      <td>Clear</td>\n",
       "      <td>Dry</td>\n",
       "      <td>Dark - Street Lights On</td>\n",
       "      <td>0</td>\n",
       "    </tr>\n",
       "  </tbody>\n",
       "</table>\n",
       "</div>"
      ],
      "text/plain": [
       "       ADDRTYPE  PERSONCOUNT  PEDCOUNT  PEDCYLCOUNT  VEHCOUNT  \\\n",
       "0  Intersection            2         1            0         1   \n",
       "1  Intersection            4         0            0         2   \n",
       "2         Block            4         0            0         3   \n",
       "3  Intersection            2         0            0         2   \n",
       "6         Block            2         0            0         2   \n",
       "\n",
       "                              JUNCTIONTYPE  INATTENTIONIND UNDERINFL  WEATHER  \\\n",
       "0   At Intersection (intersection related)               0         N    Clear   \n",
       "1   At Intersection (intersection related)               0         N  Raining   \n",
       "2  Mid-Block (not related to intersection)               0         N    Clear   \n",
       "3   At Intersection (intersection related)               0         N  Raining   \n",
       "6  Mid-Block (not related to intersection)               0         N    Clear   \n",
       "\n",
       "  ROADCOND                LIGHTCOND  SPEEDING  \n",
       "0      Dry                 Daylight         0  \n",
       "1      Wet  Dark - Street Lights On         0  \n",
       "2      Dry                 Daylight         0  \n",
       "3      Wet  Dark - Street Lights On         0  \n",
       "6      Dry  Dark - Street Lights On         0  "
      ]
     },
     "execution_count": 58,
     "metadata": {},
     "output_type": "execute_result"
    }
   ],
   "source": [
    "# based on the above observation of the Pearson correlation actually there is nothing to drop as it seems\n",
    "\n",
    "features = df_coll_clean[['ADDRTYPE', 'PERSONCOUNT', 'PEDCOUNT', 'PEDCYLCOUNT', \\\n",
    "                          'VEHCOUNT', 'JUNCTIONTYPE','INATTENTIONIND', 'UNDERINFL', 'WEATHER', 'ROADCOND', \\\n",
    "                          'LIGHTCOND', 'SPEEDING']]\n",
    "\n",
    "print(\"The number of rows and columns in the features set respectively are:\", features.shape)\n",
    "features.head()"
   ]
  },
  {
   "cell_type": "markdown",
   "metadata": {},
   "source": [
    "# Exploratory Data Analysis"
   ]
  },
  {
   "cell_type": "code",
   "execution_count": 59,
   "metadata": {},
   "outputs": [],
   "source": [
    "import seaborn as sns \n",
    "import matplotlib\n",
    "from matplotlib import pyplot as plt\n",
    "%matplotlib inline"
   ]
  },
  {
   "cell_type": "markdown",
   "metadata": {},
   "source": [
    "Let's try to get an idea about how much of the persons involved in an acident were pedestrians"
   ]
  },
  {
   "cell_type": "code",
   "execution_count": 60,
   "metadata": {},
   "outputs": [
    {
     "data": {
      "text/plain": [
       "<seaborn.axisgrid.FacetGrid at 0x1fb323c7d00>"
      ]
     },
     "execution_count": 60,
     "metadata": {},
     "output_type": "execute_result"
    },
    {
     "data": {
      "image/png": "[encoded data removed]",
      "text/plain": [
       "<Figure size 360x360 with 1 Axes>"
      ]
     },
     "metadata": {
      "needs_background": "light"
     },
     "output_type": "display_data"
    }
   ],
   "source": [
    "ax = sns.catplot (x = 'PEDCOUNT', y = 'PERSONCOUNT', jitter = False, data = df_coll_clean)\n",
    "ax.set(xlabel = 'Number of pedestrians among them', ylabel = 'Number of persons involved in the accident' )"
   ]
  },
  {
   "cell_type": "markdown",
   "metadata": {},
   "source": [
    "Let's try to get an idea about how much of the persons involved in an acident were cyclists"
   ]
  },
  {
   "cell_type": "code",
   "execution_count": 61,
   "metadata": {
    "scrolled": false
   },
   "outputs": [
    {
     "data": {
      "text/plain": [
       "<seaborn.axisgrid.FacetGrid at 0x1fb0ddfe160>"
      ]
     },
     "execution_count": 61,
     "metadata": {},
     "output_type": "execute_result"
    },
    {
     "data": {
      "image/png": "[encoded data removed]",
      "text/plain": [
       "<Figure size 360x360 with 1 Axes>"
      ]
     },
     "metadata": {
      "needs_background": "light"
     },
     "output_type": "display_data"
    }
   ],
   "source": [
    "ax1 = sns.catplot (x = 'PEDCYLCOUNT', y = 'PERSONCOUNT', jitter = False, data = df_coll_clean)\n",
    "ax1.set(xlabel = 'Number of cyclists among them', ylabel = 'Number of persons involved in the accident')"
   ]
  },
  {
   "cell_type": "markdown",
   "metadata": {},
   "source": [
    "Let's try to get an idea about the number of persons involved in an accident when vehicles are involved"
   ]
  },
  {
   "cell_type": "code",
   "execution_count": 62,
   "metadata": {
    "scrolled": true
   },
   "outputs": [
    {
     "data": {
      "text/plain": [
       "<seaborn.axisgrid.FacetGrid at 0x1fb33ecc9a0>"
      ]
     },
     "execution_count": 62,
     "metadata": {},
     "output_type": "execute_result"
    },
    {
     "data": {
      "image/png": "[encoded data removed]",
      "text/plain": [
       "<Figure size 360x360 with 1 Axes>"
      ]
     },
     "metadata": {
      "needs_background": "light"
     },
     "output_type": "display_data"
    }
   ],
   "source": [
    "ax2 = sns.catplot (x = 'VEHCOUNT', y = 'PERSONCOUNT', jitter = False, data = df_coll_clean)\n",
    "ax2.set(xlabel = 'Number of vehicles involved in the accident', ylabel = 'Number of persons involved in the accident' )"
   ]
  },
  {
   "cell_type": "markdown",
   "metadata": {},
   "source": [
    "Let's try to visualze the different label counts of the target variable SEVERITYCODE"
   ]
  },
  {
   "cell_type": "code",
   "execution_count": 63,
   "metadata": {
    "scrolled": false
   },
   "outputs": [
    {
     "data": {
      "text/plain": [
       "<AxesSubplot:xlabel='SEVERITYCODE', ylabel='count'>"
      ]
     },
     "execution_count": 63,
     "metadata": {},
     "output_type": "execute_result"
    },
    {
     "data": {
      "image/png": "[encoded data removed]",
      "text/plain": [
       "<Figure size 432x288 with 1 Axes>"
      ]
     },
     "metadata": {
      "needs_background": "light"
     },
     "output_type": "display_data"
    }
   ],
   "source": [
    "sns.countplot(x = df_coll_clean['SEVERITYCODE'], data=df_coll_clean)"
   ]
  },
  {
   "cell_type": "markdown",
   "metadata": {},
   "source": [
    "### Now we'll try to explore the relationship between each of the indipendent variables and `SEVERITYCODE`"
   ]
  },
  {
   "cell_type": "markdown",
   "metadata": {},
   "source": [
    "**Relationship between the Severity of an accident and Address type**"
   ]
  },
  {
   "cell_type": "code",
   "execution_count": 64,
   "metadata": {},
   "outputs": [
    {
     "data": {
      "text/plain": [
       "Block           131579\n",
       "Intersection     67433\n",
       "Other             2011\n",
       "Alley              763\n",
       "Name: ADDRTYPE, dtype: int64"
      ]
     },
     "execution_count": 64,
     "metadata": {},
     "output_type": "execute_result"
    }
   ],
   "source": [
    "df_coll_clean['ADDRTYPE'].value_counts()"
   ]
  },
  {
   "cell_type": "code",
   "execution_count": 65,
   "metadata": {
    "scrolled": true
   },
   "outputs": [
    {
     "data": {
      "text/plain": [
       "[Text(0.5, 0, 'Severity code'), Text(0, 0.5, 'Count, Intersection')]"
      ]
     },
     "execution_count": 65,
     "metadata": {},
     "output_type": "execute_result"
    },
    {
     "data": {
      "image/png": "[encoded data removed]",
      "text/plain": [
       "<Figure size 1080x360 with 4 Axes>"
      ]
     },
     "metadata": {
      "needs_background": "light"
     },
     "output_type": "display_data"
    }
   ],
   "source": [
    "block_df = df_coll_clean[df_coll_clean['ADDRTYPE']== 'Block']\n",
    "intersection_df = df_coll_clean[df_coll_clean['ADDRTYPE']== 'Intersection']\n",
    "alley_df = df_coll_clean[df_coll_clean['ADDRTYPE']== 'Alley']\n",
    "other_df = df_coll_clean[df_coll_clean['ADDRTYPE']== 'Other']\n",
    "\n",
    "fig, axes = plt.subplots(2, 2, sharex = True, figsize = (15,5))\n",
    "\n",
    "\n",
    "sns.countplot(ax = axes[1, 0], x = alley_df['SEVERITYCODE'], data = alley_df)\n",
    "axes[1,0].set(xlabel = 'Severity code', ylabel = 'Count, Alley')\n",
    "\n",
    "sns.countplot(ax = axes[1, 1], x = other_df['SEVERITYCODE'], data = other_df)\n",
    "axes[1,1].set(xlabel = 'Severity code', ylabel = 'Count, Intersection')\n",
    "\n",
    "sns.countplot(ax = axes[0, 0], x = block_df['SEVERITYCODE'], data = block_df)\n",
    "axes[0,0].set(xlabel = 'Severity code', ylabel = 'Count, Block')\n",
    "\n",
    "sns.countplot(ax = axes[0, 1], x = intersection_df['SEVERITYCODE'], data = intersection_df)\n",
    "axes[0,1].set(xlabel = 'Severity code', ylabel = 'Count, Intersection')"
   ]
  },
  {
   "cell_type": "markdown",
   "metadata": {},
   "source": [
    "**Relationship between the Severity of an accident and the junction type**"
   ]
  },
  {
   "cell_type": "markdown",
   "metadata": {},
   "source": [
    "**N.B.** it's tempting to keep only one independent feature between 'ADDRTYPE'\n",
    "and 'JUNCTIONTYPE' for modelling and drop the other, but on a close observation of the labels they\n",
    "contain, it becomes evident that they both are needed be kept"
   ]
  },
  {
   "cell_type": "code",
   "execution_count": 66,
   "metadata": {
    "scrolled": true
   },
   "outputs": [
    {
     "data": {
      "text/html": [
       "<div>\n",
       "<style scoped>\n",
       "    .dataframe tbody tr th:only-of-type {\n",
       "        vertical-align: middle;\n",
       "    }\n",
       "\n",
       "    .dataframe tbody tr th {\n",
       "        vertical-align: top;\n",
       "    }\n",
       "\n",
       "    .dataframe thead th {\n",
       "        text-align: right;\n",
       "    }\n",
       "</style>\n",
       "<table border=\"1\" class=\"dataframe\">\n",
       "  <thead>\n",
       "    <tr style=\"text-align: right;\">\n",
       "      <th></th>\n",
       "      <th>count</th>\n",
       "    </tr>\n",
       "  </thead>\n",
       "  <tbody>\n",
       "    <tr>\n",
       "      <th>Mid-Block (not related to intersection)</th>\n",
       "      <td>93815</td>\n",
       "    </tr>\n",
       "    <tr>\n",
       "      <th>At Intersection (intersection related)</th>\n",
       "      <td>65133</td>\n",
       "    </tr>\n",
       "    <tr>\n",
       "      <th>Mid-Block (but intersection related)</th>\n",
       "      <td>23088</td>\n",
       "    </tr>\n",
       "    <tr>\n",
       "      <th>Driveway Junction</th>\n",
       "      <td>10860</td>\n",
       "    </tr>\n",
       "    <tr>\n",
       "      <th>Other</th>\n",
       "      <td>6576</td>\n",
       "    </tr>\n",
       "    <tr>\n",
       "      <th>At Intersection (but not related to intersection)</th>\n",
       "      <td>2131</td>\n",
       "    </tr>\n",
       "    <tr>\n",
       "      <th>Ramp Junction</th>\n",
       "      <td>171</td>\n",
       "    </tr>\n",
       "    <tr>\n",
       "      <th>Unknown</th>\n",
       "      <td>12</td>\n",
       "    </tr>\n",
       "  </tbody>\n",
       "</table>\n",
       "</div>"
      ],
      "text/plain": [
       "                                                   count\n",
       "Mid-Block (not related to intersection)            93815\n",
       "At Intersection (intersection related)             65133\n",
       "Mid-Block (but intersection related)               23088\n",
       "Driveway Junction                                  10860\n",
       "Other                                               6576\n",
       "At Intersection (but not related to intersection)   2131\n",
       "Ramp Junction                                        171\n",
       "Unknown                                               12"
      ]
     },
     "execution_count": 66,
     "metadata": {},
     "output_type": "execute_result"
    }
   ],
   "source": [
    "df_coll_clean['JUNCTIONTYPE'].value_counts().to_frame('count')"
   ]
  },
  {
   "cell_type": "code",
   "execution_count": 67,
   "metadata": {
    "scrolled": false
   },
   "outputs": [
    {
     "data": {
      "text/plain": [
       "[Text(0.5, 0, 'Severity code'), Text(0, 0.5, 'Count, other')]"
      ]
     },
     "execution_count": 67,
     "metadata": {},
     "output_type": "execute_result"
    },
    {
     "data": {
      "image/png": "[encoded data removed]",
      "text/plain": [
       "<Figure size 1080x1440 with 8 Axes>"
      ]
     },
     "metadata": {
      "needs_background": "light"
     },
     "output_type": "display_data"
    }
   ],
   "source": [
    "junc1_df = df_coll_clean[df_coll_clean['JUNCTIONTYPE']== 'Mid-Block (not related to intersection)']\n",
    "junc2_df = df_coll_clean[df_coll_clean['JUNCTIONTYPE']== 'Mid-Block (but intersection related)']\n",
    "junc3_df = df_coll_clean[df_coll_clean['JUNCTIONTYPE']== 'At Intersection (but not related to intersection)']\n",
    "junc4_df = df_coll_clean[df_coll_clean['JUNCTIONTYPE']== 'At Intersection (intersection related)']\n",
    "junc5_df = df_coll_clean[df_coll_clean['JUNCTIONTYPE']== 'Driveway Junction']\n",
    "junc6_df = df_coll_clean[df_coll_clean['JUNCTIONTYPE']== 'Ramp Junction']\n",
    "junc7_df = df_coll_clean[df_coll_clean['JUNCTIONTYPE']== 'Other']\n",
    "junc8_df = df_coll_clean[df_coll_clean['JUNCTIONTYPE']== 'Unknown']\n",
    "\n",
    "\n",
    "fig, axes = plt.subplots(4, 2, sharex = True, figsize = (15,20))\n",
    "\n",
    "sns.countplot(ax = axes[3, 0], x = junc6_df['SEVERITYCODE'], palette = 'rocket', data = junc6_df)\n",
    "axes[3,0].set(xlabel = 'Severity code', ylabel = 'Count, Ramp Junction')\n",
    "\n",
    "sns.countplot(ax = axes[3, 1], x = junc8_df['SEVERITYCODE'], palette = 'rocket', data = junc8_df)\n",
    "axes[3,1].set(xlabel = 'Severity code', ylabel = 'Count, Unknown')\n",
    "\n",
    "sns.countplot(ax = axes[0, 0], x = junc1_df['SEVERITYCODE'], palette = 'rocket', data = junc1_df)\n",
    "axes[0,0].set(xlabel = 'Severity code', ylabel = 'Count, Mid-Block (not related to intersection)')\n",
    "\n",
    "sns.countplot(ax = axes[0, 1], x = junc2_df['SEVERITYCODE'], palette = 'rocket', data = junc2_df)\n",
    "axes[0,1].set(xlabel = 'Severity code', ylabel = 'Count, Mid-Block (but intersection related)')\n",
    "\n",
    "sns.countplot(ax = axes[1, 0], x = junc3_df['SEVERITYCODE'], palette = 'rocket', data = junc3_df)\n",
    "axes[1,0].set(xlabel = 'Severity code', ylabel = 'Count, At Intersection (but not related to intersection)')\n",
    "\n",
    "sns.countplot(ax = axes[1, 1], x = junc4_df['SEVERITYCODE'], palette = 'rocket', data = junc4_df)\n",
    "axes[1,1].set(xlabel = 'Severity code', ylabel = 'Count, At Intersection (intersection related)')\n",
    "\n",
    "sns.countplot(ax = axes[2, 0], x = junc5_df['SEVERITYCODE'], palette = 'rocket', data = junc5_df)\n",
    "axes[2,0].set(xlabel = 'Severity code', ylabel = 'Count, Driveway Junction')\n",
    "\n",
    "sns.countplot(ax = axes[2, 1], x = junc7_df['SEVERITYCODE'], palette = 'rocket', data = junc7_df)\n",
    "axes[2,1].set(xlabel = 'Severity code', ylabel = 'Count, other')"
   ]
  },
  {
   "cell_type": "markdown",
   "metadata": {},
   "source": [
    "**Relationship between the Severity of an accident and Person count**"
   ]
  },
  {
   "cell_type": "code",
   "execution_count": 68,
   "metadata": {},
   "outputs": [
    {
     "data": {
      "text/plain": [
       "[Text(0.5, 0, 'Severity code'),\n",
       " Text(0, 0.5, 'Number of persons involved in the accident')]"
      ]
     },
     "execution_count": 68,
     "metadata": {},
     "output_type": "execute_result"
    },
    {
     "data": {
      "image/png": "[encoded data removed]",
      "text/plain": [
       "<Figure size 432x288 with 1 Axes>"
      ]
     },
     "metadata": {
      "needs_background": "light"
     },
     "output_type": "display_data"
    }
   ],
   "source": [
    "ax3 = sns.barplot(x = 'SEVERITYCODE',y = 'PERSONCOUNT', data = df_coll_clean)\n",
    "ax3.set(xlabel = \"Severity code\", ylabel = 'Number of persons involved in the accident')\n"
   ]
  },
  {
   "cell_type": "markdown",
   "metadata": {},
   "source": [
    "**Relationship between the Severity of an accident and Pedestrian count**"
   ]
  },
  {
   "cell_type": "code",
   "execution_count": 69,
   "metadata": {},
   "outputs": [
    {
     "data": {
      "text/plain": [
       "[Text(0.5, 0, 'Severity code'),\n",
       " Text(0, 0.5, 'Number of pedestrians involved in the accident')]"
      ]
     },
     "execution_count": 69,
     "metadata": {},
     "output_type": "execute_result"
    },
    {
     "data": {
      "image/png": "[encoded data removed]",
      "text/plain": [
       "<Figure size 432x288 with 1 Axes>"
      ]
     },
     "metadata": {
      "needs_background": "light"
     },
     "output_type": "display_data"
    }
   ],
   "source": [
    "ax3 = sns.barplot(x = 'SEVERITYCODE',y = 'PEDCOUNT', data = df_coll_clean)\n",
    "ax3.set(xlabel = \"Severity code\", ylabel = 'Number of pedestrians involved in the accident')"
   ]
  },
  {
   "cell_type": "markdown",
   "metadata": {},
   "source": [
    "**Relationship between the Severity of an accident and Cyclist count**"
   ]
  },
  {
   "cell_type": "code",
   "execution_count": 70,
   "metadata": {},
   "outputs": [
    {
     "data": {
      "text/plain": [
       "[Text(0.5, 0, 'Severity code'),\n",
       " Text(0, 0.5, 'Number of cyclists involved in the accident')]"
      ]
     },
     "execution_count": 70,
     "metadata": {},
     "output_type": "execute_result"
    },
    {
     "data": {
      "image/png": "[encoded data removed]",
      "text/plain": [
       "<Figure size 432x288 with 1 Axes>"
      ]
     },
     "metadata": {
      "needs_background": "light"
     },
     "output_type": "display_data"
    }
   ],
   "source": [
    "ax3 = sns.barplot(x = 'SEVERITYCODE',y = 'PEDCYLCOUNT', data = df_coll_clean)\n",
    "ax3.set(xlabel = \"Severity code\", ylabel = 'Number of cyclists involved in the accident')"
   ]
  },
  {
   "cell_type": "markdown",
   "metadata": {},
   "source": [
    "**Relationship between the Severity of an accident and Vehicle count**"
   ]
  },
  {
   "cell_type": "code",
   "execution_count": 71,
   "metadata": {},
   "outputs": [
    {
     "data": {
      "text/plain": [
       "[Text(0.5, 0, 'Severity code'),\n",
       " Text(0, 0.5, 'Number of vehicles involved in the accident')]"
      ]
     },
     "execution_count": 71,
     "metadata": {},
     "output_type": "execute_result"
    },
    {
     "data": {
      "image/png": "[encoded data removed]",
      "text/plain": [
       "<Figure size 432x288 with 1 Axes>"
      ]
     },
     "metadata": {
      "needs_background": "light"
     },
     "output_type": "display_data"
    }
   ],
   "source": [
    "ax3 = sns.barplot(x = 'SEVERITYCODE',y = 'VEHCOUNT', data = df_coll_clean)\n",
    "ax3.set(xlabel = \"Severity code\", ylabel = 'Number of vehicles involved in the accident')"
   ]
  },
  {
   "cell_type": "markdown",
   "metadata": {},
   "source": [
    "**Severity of the accidents where Inattention played a part in the accident**"
   ]
  },
  {
   "cell_type": "code",
   "execution_count": 72,
   "metadata": {
    "scrolled": true
   },
   "outputs": [
    {
     "data": {
      "text/plain": [
       "[Text(0.5, 0, 'Severity code'),\n",
       " Text(0, 0.5, 'Count, when inattention played a part')]"
      ]
     },
     "execution_count": 72,
     "metadata": {},
     "output_type": "execute_result"
    },
    {
     "data": {
      "image/png": "[encoded data removed]",
      "text/plain": [
       "<Figure size 432x288 with 1 Axes>"
      ]
     },
     "metadata": {
      "needs_background": "light"
     },
     "output_type": "display_data"
    }
   ],
   "source": [
    "inatt_df = df_coll_clean[df_coll_clean['INATTENTIONIND']== 1]\n",
    "\n",
    "ax5 = sns.countplot(x = inatt_df['SEVERITYCODE'], data = inatt_df)\n",
    "ax5.set(xlabel = \"Severity code\", ylabel = 'Count, when inattention played a part')"
   ]
  },
  {
   "cell_type": "markdown",
   "metadata": {},
   "source": [
    "**Severity of the accidents where influence of Drug/Alcohol played a part in the accident**"
   ]
  },
  {
   "cell_type": "code",
   "execution_count": 73,
   "metadata": {},
   "outputs": [
    {
     "data": {
      "text/plain": [
       "[Text(0.5, 0, 'Severity code'),\n",
       " Text(0, 0.5, 'Count, when drug/alcohol influence played a part')]"
      ]
     },
     "execution_count": 73,
     "metadata": {},
     "output_type": "execute_result"
    },
    {
     "data": {
      "image/png": "[encoded data removed]",
      "text/plain": [
       "<Figure size 432x288 with 1 Axes>"
      ]
     },
     "metadata": {
      "needs_background": "light"
     },
     "output_type": "display_data"
    }
   ],
   "source": [
    "underinfl_df = df_coll_clean[df_coll_clean['UNDERINFL']== 'Y']\n",
    "\n",
    "ax6 = sns.countplot(x = underinfl_df['SEVERITYCODE'], data = underinfl_df)\n",
    "ax6.set(xlabel = \"Severity code\", ylabel = 'Count, when drug/alcohol influence played a part')"
   ]
  },
  {
   "cell_type": "markdown",
   "metadata": {},
   "source": [
    "**Severity of the accidents where Speeding of the vehicles played a part in the accident**"
   ]
  },
  {
   "cell_type": "code",
   "execution_count": 74,
   "metadata": {},
   "outputs": [
    {
     "data": {
      "text/plain": [
       "[Text(0.5, 0, 'Severity code'),\n",
       " Text(0, 0.5, 'Count, when speeding played a part')]"
      ]
     },
     "execution_count": 74,
     "metadata": {},
     "output_type": "execute_result"
    },
    {
     "data": {
      "image/png": "[encoded data removed]",
      "text/plain": [
       "<Figure size 432x288 with 1 Axes>"
      ]
     },
     "metadata": {
      "needs_background": "light"
     },
     "output_type": "display_data"
    }
   ],
   "source": [
    "speeding_df = df_coll_clean[df_coll_clean['SPEEDING']== 1]\n",
    "\n",
    "ax7 = sns.countplot(x = speeding_df['SPEEDING'], data = speeding_df)\n",
    "ax7.set(xlabel = \"Severity code\", ylabel = 'Count, when speeding played a part')"
   ]
  },
  {
   "cell_type": "markdown",
   "metadata": {},
   "source": [
    "**N.B.** We can see from the above plot that speeding only led to the accidents with severity code category '1' only, none of the other severity levels were seen when speeding was a factor in the accidents. And also over 86% of the rows in the original dataset were missing the values for the `SPEEDING` field. Therefore, I'm going to remove the `SPEEDING` variable from the features set to avoid bias in our model towards this severity code category."
   ]
  },
  {
   "cell_type": "code",
   "execution_count": 75,
   "metadata": {
    "scrolled": true
   },
   "outputs": [
    {
     "name": "stderr",
     "output_type": "stream",
     "text": [
      "c:\\users\\sankh\\appdata\\local\\programs\\python\\python38\\lib\\site-packages\\pandas\\core\\frame.py:4162: SettingWithCopyWarning: \n",
      "A value is trying to be set on a copy of a slice from a DataFrame\n",
      "\n",
      "See the caveats in the documentation: https://pandas.pydata.org/pandas-docs/stable/user_guide/indexing.html#returning-a-view-versus-a-copy\n",
      "  return super().drop(\n"
     ]
    },
    {
     "data": {
      "text/html": [
       "<div>\n",
       "<style scoped>\n",
       "    .dataframe tbody tr th:only-of-type {\n",
       "        vertical-align: middle;\n",
       "    }\n",
       "\n",
       "    .dataframe tbody tr th {\n",
       "        vertical-align: top;\n",
       "    }\n",
       "\n",
       "    .dataframe thead th {\n",
       "        text-align: right;\n",
       "    }\n",
       "</style>\n",
       "<table border=\"1\" class=\"dataframe\">\n",
       "  <thead>\n",
       "    <tr style=\"text-align: right;\">\n",
       "      <th></th>\n",
       "      <th>ADDRTYPE</th>\n",
       "      <th>PERSONCOUNT</th>\n",
       "      <th>PEDCOUNT</th>\n",
       "      <th>PEDCYLCOUNT</th>\n",
       "      <th>VEHCOUNT</th>\n",
       "      <th>JUNCTIONTYPE</th>\n",
       "      <th>INATTENTIONIND</th>\n",
       "      <th>UNDERINFL</th>\n",
       "      <th>WEATHER</th>\n",
       "      <th>ROADCOND</th>\n",
       "      <th>LIGHTCOND</th>\n",
       "    </tr>\n",
       "  </thead>\n",
       "  <tbody>\n",
       "    <tr>\n",
       "      <th>0</th>\n",
       "      <td>Intersection</td>\n",
       "      <td>2</td>\n",
       "      <td>1</td>\n",
       "      <td>0</td>\n",
       "      <td>1</td>\n",
       "      <td>At Intersection (intersection related)</td>\n",
       "      <td>0</td>\n",
       "      <td>N</td>\n",
       "      <td>Clear</td>\n",
       "      <td>Dry</td>\n",
       "      <td>Daylight</td>\n",
       "    </tr>\n",
       "    <tr>\n",
       "      <th>1</th>\n",
       "      <td>Intersection</td>\n",
       "      <td>4</td>\n",
       "      <td>0</td>\n",
       "      <td>0</td>\n",
       "      <td>2</td>\n",
       "      <td>At Intersection (intersection related)</td>\n",
       "      <td>0</td>\n",
       "      <td>N</td>\n",
       "      <td>Raining</td>\n",
       "      <td>Wet</td>\n",
       "      <td>Dark - Street Lights On</td>\n",
       "    </tr>\n",
       "    <tr>\n",
       "      <th>2</th>\n",
       "      <td>Block</td>\n",
       "      <td>4</td>\n",
       "      <td>0</td>\n",
       "      <td>0</td>\n",
       "      <td>3</td>\n",
       "      <td>Mid-Block (not related to intersection)</td>\n",
       "      <td>0</td>\n",
       "      <td>N</td>\n",
       "      <td>Clear</td>\n",
       "      <td>Dry</td>\n",
       "      <td>Daylight</td>\n",
       "    </tr>\n",
       "    <tr>\n",
       "      <th>3</th>\n",
       "      <td>Intersection</td>\n",
       "      <td>2</td>\n",
       "      <td>0</td>\n",
       "      <td>0</td>\n",
       "      <td>2</td>\n",
       "      <td>At Intersection (intersection related)</td>\n",
       "      <td>0</td>\n",
       "      <td>N</td>\n",
       "      <td>Raining</td>\n",
       "      <td>Wet</td>\n",
       "      <td>Dark - Street Lights On</td>\n",
       "    </tr>\n",
       "    <tr>\n",
       "      <th>6</th>\n",
       "      <td>Block</td>\n",
       "      <td>2</td>\n",
       "      <td>0</td>\n",
       "      <td>0</td>\n",
       "      <td>2</td>\n",
       "      <td>Mid-Block (not related to intersection)</td>\n",
       "      <td>0</td>\n",
       "      <td>N</td>\n",
       "      <td>Clear</td>\n",
       "      <td>Dry</td>\n",
       "      <td>Dark - Street Lights On</td>\n",
       "    </tr>\n",
       "  </tbody>\n",
       "</table>\n",
       "</div>"
      ],
      "text/plain": [
       "       ADDRTYPE  PERSONCOUNT  PEDCOUNT  PEDCYLCOUNT  VEHCOUNT  \\\n",
       "0  Intersection            2         1            0         1   \n",
       "1  Intersection            4         0            0         2   \n",
       "2         Block            4         0            0         3   \n",
       "3  Intersection            2         0            0         2   \n",
       "6         Block            2         0            0         2   \n",
       "\n",
       "                              JUNCTIONTYPE  INATTENTIONIND UNDERINFL  WEATHER  \\\n",
       "0   At Intersection (intersection related)               0         N    Clear   \n",
       "1   At Intersection (intersection related)               0         N  Raining   \n",
       "2  Mid-Block (not related to intersection)               0         N    Clear   \n",
       "3   At Intersection (intersection related)               0         N  Raining   \n",
       "6  Mid-Block (not related to intersection)               0         N    Clear   \n",
       "\n",
       "  ROADCOND                LIGHTCOND  \n",
       "0      Dry                 Daylight  \n",
       "1      Wet  Dark - Street Lights On  \n",
       "2      Dry                 Daylight  \n",
       "3      Wet  Dark - Street Lights On  \n",
       "6      Dry  Dark - Street Lights On  "
      ]
     },
     "execution_count": 75,
     "metadata": {},
     "output_type": "execute_result"
    }
   ],
   "source": [
    "df_coll_clean.drop(['SPEEDING'], axis = 1, inplace = True) # let's also drop it from the df_coll_clean\n",
    "                                                             # as we will be using this dataframe further\n",
    "features.drop(['SPEEDING'], axis = 1, inplace = True)\n",
    "features.head(5)"
   ]
  },
  {
   "cell_type": "markdown",
   "metadata": {},
   "source": [
    "**Relationship between the Severity of an accident and the Weather condition**"
   ]
  },
  {
   "cell_type": "code",
   "execution_count": 76,
   "metadata": {},
   "outputs": [
    {
     "data": {
      "text/html": [
       "<div>\n",
       "<style scoped>\n",
       "    .dataframe tbody tr th:only-of-type {\n",
       "        vertical-align: middle;\n",
       "    }\n",
       "\n",
       "    .dataframe tbody tr th {\n",
       "        vertical-align: top;\n",
       "    }\n",
       "\n",
       "    .dataframe thead th {\n",
       "        text-align: right;\n",
       "    }\n",
       "</style>\n",
       "<table border=\"1\" class=\"dataframe\">\n",
       "  <thead>\n",
       "    <tr style=\"text-align: right;\">\n",
       "      <th></th>\n",
       "      <th>WEATHER</th>\n",
       "    </tr>\n",
       "  </thead>\n",
       "  <tbody>\n",
       "    <tr>\n",
       "      <th>Clear</th>\n",
       "      <td>114355</td>\n",
       "    </tr>\n",
       "    <tr>\n",
       "      <th>Raining</th>\n",
       "      <td>34011</td>\n",
       "    </tr>\n",
       "    <tr>\n",
       "      <th>Overcast</th>\n",
       "      <td>28506</td>\n",
       "    </tr>\n",
       "    <tr>\n",
       "      <th>Unknown</th>\n",
       "      <td>15131</td>\n",
       "    </tr>\n",
       "    <tr>\n",
       "      <th>Unspecified</th>\n",
       "      <td>7240</td>\n",
       "    </tr>\n",
       "    <tr>\n",
       "      <th>Snowing</th>\n",
       "      <td>919</td>\n",
       "    </tr>\n",
       "    <tr>\n",
       "      <th>Other</th>\n",
       "      <td>849</td>\n",
       "    </tr>\n",
       "    <tr>\n",
       "      <th>Fog/Smog/Smoke</th>\n",
       "      <td>577</td>\n",
       "    </tr>\n",
       "    <tr>\n",
       "      <th>Sleet/Hail/Freezing Rain</th>\n",
       "      <td>116</td>\n",
       "    </tr>\n",
       "    <tr>\n",
       "      <th>Blowing Sand/Dirt</th>\n",
       "      <td>56</td>\n",
       "    </tr>\n",
       "    <tr>\n",
       "      <th>Severe Crosswind</th>\n",
       "      <td>26</td>\n",
       "    </tr>\n",
       "  </tbody>\n",
       "</table>\n",
       "</div>"
      ],
      "text/plain": [
       "                          WEATHER\n",
       "Clear                      114355\n",
       "Raining                     34011\n",
       "Overcast                    28506\n",
       "Unknown                     15131\n",
       "Unspecified                  7240\n",
       "Snowing                       919\n",
       "Other                         849\n",
       "Fog/Smog/Smoke                577\n",
       "Sleet/Hail/Freezing Rain      116\n",
       "Blowing Sand/Dirt              56\n",
       "Severe Crosswind               26"
      ]
     },
     "execution_count": 76,
     "metadata": {},
     "output_type": "execute_result"
    }
   ],
   "source": [
    "df_coll_clean['WEATHER'].value_counts().to_frame()"
   ]
  },
  {
   "cell_type": "code",
   "execution_count": 77,
   "metadata": {},
   "outputs": [
    {
     "data": {
      "text/plain": [
       "[Text(0.5, 0, 'Severity code'), Text(0, 0.5, 'Count, Unspecified')]"
      ]
     },
     "execution_count": 77,
     "metadata": {},
     "output_type": "execute_result"
    },
    {
     "data": {
      "image/png": "[encoded data removed]",
      "text/plain": [
       "<Figure size 1080x1440 with 12 Axes>"
      ]
     },
     "metadata": {
      "needs_background": "light"
     },
     "output_type": "display_data"
    }
   ],
   "source": [
    "weath1_df = df_coll_clean[df_coll_clean['WEATHER']== 'Clear']\n",
    "weath2_df = df_coll_clean[df_coll_clean['WEATHER']== 'Raining']\n",
    "weath3_df = df_coll_clean[df_coll_clean['WEATHER']== 'Overcast']\n",
    "weath4_df = df_coll_clean[df_coll_clean['WEATHER']== 'Snowing']\n",
    "weath5_df = df_coll_clean[df_coll_clean['WEATHER']== 'Fog/Smog/Smoke']\n",
    "weath6_df = df_coll_clean[df_coll_clean['WEATHER']== 'Sleet/Hail/Freezing Rain']\n",
    "weath7_df = df_coll_clean[df_coll_clean['WEATHER']== 'Blowing Sand/Dirt']\n",
    "weath8_df = df_coll_clean[df_coll_clean['WEATHER']== 'Severe Crosswind']\n",
    "weath9_df = df_coll_clean[df_coll_clean['WEATHER']== 'Other']\n",
    "weath10_df = df_coll_clean[df_coll_clean['WEATHER']== 'Unknown']\n",
    "weath11_df = df_coll_clean[df_coll_clean['WEATHER']== 'Unspecified']\n",
    "\n",
    "\n",
    "fig, axes = plt.subplots(6, 2, sharex = True, figsize = (15,20))\n",
    "\n",
    "sns.countplot(ax = axes[0, 0], x = weath1_df['SEVERITYCODE'], palette = 'Set2', data = weath1_df)\n",
    "axes[0,0].set(xlabel = 'Severity code', ylabel = 'Count, Clear')\n",
    "\n",
    "sns.countplot(ax = axes[0, 1], x = weath2_df['SEVERITYCODE'], palette = 'Set2', data = weath2_df)\n",
    "axes[0,1].set(xlabel = 'Severity code', ylabel = 'Count, Raining')\n",
    "\n",
    "sns.countplot(ax = axes[1, 0], x = weath3_df['SEVERITYCODE'], palette = 'Set2', data = weath3_df)\n",
    "axes[1,0].set(xlabel = 'Severity code', ylabel = 'Count, Overcast')\n",
    "\n",
    "sns.countplot(ax = axes[1, 1], x = weath4_df['SEVERITYCODE'], palette = 'Set2', data = weath4_df)\n",
    "axes[1,1].set(xlabel = 'Severity code', ylabel = 'Count, Snowing')\n",
    "\n",
    "sns.countplot(ax = axes[2, 0], x = weath5_df['SEVERITYCODE'], palette = 'Set2', data = weath5_df)\n",
    "axes[2,0].set(xlabel = 'Severity code', ylabel = 'Count, Fog/Smog/Smoke')\n",
    "\n",
    "sns.countplot(ax = axes[2, 1], x = weath6_df['SEVERITYCODE'], palette = 'Set2', data = weath6_df)\n",
    "axes[2,1].set(xlabel = 'Severity code', ylabel = 'Count, Sleet/Hail/Freezing Rain')\n",
    "\n",
    "sns.countplot(ax = axes[3, 0], x = weath7_df['SEVERITYCODE'], palette = 'Set2', data = weath7_df)\n",
    "axes[3,0].set(xlabel = 'Severity code', ylabel = 'Count, Blowing Sand/Dirt')\n",
    "\n",
    "sns.countplot(ax = axes[3, 1], x = weath8_df['SEVERITYCODE'], palette = 'Set2', data = weath8_df)\n",
    "axes[3,1].set(xlabel = 'Severity code', ylabel = 'Count, Severe Crosswind')\n",
    "\n",
    "sns.countplot(ax = axes[4, 0], x = weath9_df['SEVERITYCODE'], palette = 'Set2', data = weath9_df)\n",
    "axes[4,0].set(xlabel = 'Severity code', ylabel = 'Count, Other')\n",
    "\n",
    "sns.countplot(ax = axes[4, 1], x = weath10_df['SEVERITYCODE'], palette = 'Set2', data = weath10_df)\n",
    "axes[4,1].set(xlabel = 'Severity code', ylabel = 'Count, Unknown')\n",
    "\n",
    "sns.countplot(ax = axes[5, 0], x = weath11_df['SEVERITYCODE'], palette = 'Set2', data = weath11_df)\n",
    "axes[5,0].set(xlabel = 'Severity code', ylabel = 'Count, Unspecified')"
   ]
  },
  {
   "cell_type": "markdown",
   "metadata": {},
   "source": [
    "**Relationship between Severity of an accident and Road condition**"
   ]
  },
  {
   "cell_type": "code",
   "execution_count": 78,
   "metadata": {},
   "outputs": [
    {
     "data": {
      "text/html": [
       "<div>\n",
       "<style scoped>\n",
       "    .dataframe tbody tr th:only-of-type {\n",
       "        vertical-align: middle;\n",
       "    }\n",
       "\n",
       "    .dataframe tbody tr th {\n",
       "        vertical-align: top;\n",
       "    }\n",
       "\n",
       "    .dataframe thead th {\n",
       "        text-align: right;\n",
       "    }\n",
       "</style>\n",
       "<table border=\"1\" class=\"dataframe\">\n",
       "  <thead>\n",
       "    <tr style=\"text-align: right;\">\n",
       "      <th></th>\n",
       "      <th>count</th>\n",
       "    </tr>\n",
       "  </thead>\n",
       "  <tbody>\n",
       "    <tr>\n",
       "      <th>Dry</th>\n",
       "      <td>128155</td>\n",
       "    </tr>\n",
       "    <tr>\n",
       "      <th>Wet</th>\n",
       "      <td>48702</td>\n",
       "    </tr>\n",
       "    <tr>\n",
       "      <th>Unknown</th>\n",
       "      <td>15129</td>\n",
       "    </tr>\n",
       "    <tr>\n",
       "      <th>Unspecified</th>\n",
       "      <td>7159</td>\n",
       "    </tr>\n",
       "    <tr>\n",
       "      <th>Ice</th>\n",
       "      <td>1231</td>\n",
       "    </tr>\n",
       "    <tr>\n",
       "      <th>Snow/Slush</th>\n",
       "      <td>1014</td>\n",
       "    </tr>\n",
       "    <tr>\n",
       "      <th>Other</th>\n",
       "      <td>136</td>\n",
       "    </tr>\n",
       "    <tr>\n",
       "      <th>Standing Water</th>\n",
       "      <td>119</td>\n",
       "    </tr>\n",
       "    <tr>\n",
       "      <th>Sand/Mud/Dirt</th>\n",
       "      <td>77</td>\n",
       "    </tr>\n",
       "    <tr>\n",
       "      <th>Oil</th>\n",
       "      <td>64</td>\n",
       "    </tr>\n",
       "  </tbody>\n",
       "</table>\n",
       "</div>"
      ],
      "text/plain": [
       "                 count\n",
       "Dry             128155\n",
       "Wet              48702\n",
       "Unknown          15129\n",
       "Unspecified       7159\n",
       "Ice               1231\n",
       "Snow/Slush        1014\n",
       "Other              136\n",
       "Standing Water     119\n",
       "Sand/Mud/Dirt       77\n",
       "Oil                 64"
      ]
     },
     "execution_count": 78,
     "metadata": {},
     "output_type": "execute_result"
    }
   ],
   "source": [
    "df_coll_clean['ROADCOND'].value_counts().to_frame('count')"
   ]
  },
  {
   "cell_type": "code",
   "execution_count": 79,
   "metadata": {
    "scrolled": true
   },
   "outputs": [
    {
     "data": {
      "text/plain": [
       "[Text(0.5, 0, 'Severity code'), Text(0, 0.5, 'Count, Unspecified')]"
      ]
     },
     "execution_count": 79,
     "metadata": {},
     "output_type": "execute_result"
    },
    {
     "data": {
      "image/png": "[encoded data removed]",
      "text/plain": [
       "<Figure size 1080x1440 with 10 Axes>"
      ]
     },
     "metadata": {
      "needs_background": "light"
     },
     "output_type": "display_data"
    }
   ],
   "source": [
    "road1_df = df_coll_clean[df_coll_clean['ROADCOND']== 'Dry']\n",
    "road2_df = df_coll_clean[df_coll_clean['ROADCOND']== 'Wet']\n",
    "road3_df = df_coll_clean[df_coll_clean['ROADCOND']== 'Ice']\n",
    "road4_df = df_coll_clean[df_coll_clean['ROADCOND']== 'Snow/Slush']\n",
    "road5_df = df_coll_clean[df_coll_clean['ROADCOND']== 'Standing Water']\n",
    "road6_df = df_coll_clean[df_coll_clean['ROADCOND']== 'Sand/Mud/Dirt']\n",
    "road7_df = df_coll_clean[df_coll_clean['ROADCOND']== 'Oil']\n",
    "road8_df = df_coll_clean[df_coll_clean['ROADCOND']== 'Other']\n",
    "road9_df = df_coll_clean[df_coll_clean['ROADCOND']== 'Unknown']\n",
    "road10_df = df_coll_clean[df_coll_clean['ROADCOND']== 'Unspecified']\n",
    "\n",
    "\n",
    "fig, axes = plt.subplots(5, 2, sharex = True, figsize = (15,20))\n",
    "\n",
    "sns.countplot(ax = axes[0, 0], x = road1_df['SEVERITYCODE'], palette = 'hls', data = road1_df)\n",
    "axes[0,0].set(xlabel = 'Severity code', ylabel = 'Count, Dry')\n",
    "\n",
    "sns.countplot(ax = axes[0, 1], x = road2_df['SEVERITYCODE'], palette = 'hls', data = road2_df)\n",
    "axes[0,1].set(xlabel = 'Severity code', ylabel = 'Count, Wet')\n",
    "\n",
    "sns.countplot(ax = axes[1, 0], x = road3_df['SEVERITYCODE'], palette = 'hls', data = road3_df)\n",
    "axes[1,0].set(xlabel = 'Severity code', ylabel = 'Count, Ice')\n",
    "\n",
    "sns.countplot(ax = axes[1, 1], x = road4_df['SEVERITYCODE'], palette = 'hls', data = road4_df)\n",
    "axes[1,1].set(xlabel = 'Severity code', ylabel = 'Count, Snow/Slush')\n",
    "\n",
    "sns.countplot(ax = axes[2, 0], x = road5_df['SEVERITYCODE'], palette = 'hls', data = road5_df)\n",
    "axes[2,0].set(xlabel = 'Severity code', ylabel = 'Count, Standing Water')\n",
    "\n",
    "sns.countplot(ax = axes[2, 1], x = road6_df['SEVERITYCODE'], palette = 'hls', data = road6_df)\n",
    "axes[2,1].set(xlabel = 'Severity code', ylabel = 'Count, Sand/Mud/Dirt')\n",
    "\n",
    "sns.countplot(ax = axes[3, 0], x = road7_df['SEVERITYCODE'], palette = 'hls', data = road7_df)\n",
    "axes[3,0].set(xlabel = 'Severity code', ylabel = 'Count, Oil')\n",
    "\n",
    "sns.countplot(ax = axes[3, 1], x = road8_df['SEVERITYCODE'], palette = 'hls', data = road8_df)\n",
    "axes[3,1].set(xlabel = 'Severity code', ylabel = 'Count, Other')\n",
    "\n",
    "sns.countplot(ax = axes[4, 0], x = road9_df['SEVERITYCODE'], palette = 'hls', data = road9_df)\n",
    "axes[4,0].set(xlabel = 'Severity code', ylabel = 'Count, Unknown')\n",
    "\n",
    "sns.countplot(ax = axes[4, 1], x = road10_df['SEVERITYCODE'], palette = 'hls', data = road10_df)\n",
    "axes[4,1].set(xlabel = 'Severity code', ylabel = 'Count, Unspecified')"
   ]
  },
  {
   "cell_type": "markdown",
   "metadata": {},
   "source": [
    "**Relationship between Severity of an Accident and Lighting condition**"
   ]
  },
  {
   "cell_type": "code",
   "execution_count": 80,
   "metadata": {
    "scrolled": true
   },
   "outputs": [
    {
     "data": {
      "text/html": [
       "<div>\n",
       "<style scoped>\n",
       "    .dataframe tbody tr th:only-of-type {\n",
       "        vertical-align: middle;\n",
       "    }\n",
       "\n",
       "    .dataframe tbody tr th {\n",
       "        vertical-align: top;\n",
       "    }\n",
       "\n",
       "    .dataframe thead th {\n",
       "        text-align: right;\n",
       "    }\n",
       "</style>\n",
       "<table border=\"1\" class=\"dataframe\">\n",
       "  <thead>\n",
       "    <tr style=\"text-align: right;\">\n",
       "      <th></th>\n",
       "      <th>count</th>\n",
       "    </tr>\n",
       "  </thead>\n",
       "  <tbody>\n",
       "    <tr>\n",
       "      <th>Daylight</th>\n",
       "      <td>119160</td>\n",
       "    </tr>\n",
       "    <tr>\n",
       "      <th>Dark - Street Lights On</th>\n",
       "      <td>50049</td>\n",
       "    </tr>\n",
       "    <tr>\n",
       "      <th>Unknown</th>\n",
       "      <td>13523</td>\n",
       "    </tr>\n",
       "    <tr>\n",
       "      <th>Unspecified</th>\n",
       "      <td>7328</td>\n",
       "    </tr>\n",
       "    <tr>\n",
       "      <th>Dusk</th>\n",
       "      <td>6076</td>\n",
       "    </tr>\n",
       "    <tr>\n",
       "      <th>Dawn</th>\n",
       "      <td>2598</td>\n",
       "    </tr>\n",
       "    <tr>\n",
       "      <th>Dark - No Street Lights</th>\n",
       "      <td>1572</td>\n",
       "    </tr>\n",
       "    <tr>\n",
       "      <th>Dark - Street Lights Off</th>\n",
       "      <td>1236</td>\n",
       "    </tr>\n",
       "    <tr>\n",
       "      <th>Other</th>\n",
       "      <td>244</td>\n",
       "    </tr>\n",
       "  </tbody>\n",
       "</table>\n",
       "</div>"
      ],
      "text/plain": [
       "                           count\n",
       "Daylight                  119160\n",
       "Dark - Street Lights On    50049\n",
       "Unknown                    13523\n",
       "Unspecified                 7328\n",
       "Dusk                        6076\n",
       "Dawn                        2598\n",
       "Dark - No Street Lights     1572\n",
       "Dark - Street Lights Off    1236\n",
       "Other                        244"
      ]
     },
     "execution_count": 80,
     "metadata": {},
     "output_type": "execute_result"
    }
   ],
   "source": [
    "df_coll_clean['LIGHTCOND'].value_counts().to_frame('count')"
   ]
  },
  {
   "cell_type": "code",
   "execution_count": 81,
   "metadata": {
    "scrolled": true
   },
   "outputs": [
    {
     "data": {
      "text/plain": [
       "[Text(0.5, 0, 'Severity code'), Text(0, 0.5, 'Count, Unspecified')]"
      ]
     },
     "execution_count": 81,
     "metadata": {},
     "output_type": "execute_result"
    },
    {
     "data": {
      "image/png": "[encoded data removed]",
      "text/plain": [
       "<Figure size 1080x1440 with 10 Axes>"
      ]
     },
     "metadata": {
      "needs_background": "light"
     },
     "output_type": "display_data"
    }
   ],
   "source": [
    "light1_df = df_coll_clean[df_coll_clean['LIGHTCOND']== 'Daylight']\n",
    "light2_df = df_coll_clean[df_coll_clean['LIGHTCOND']== 'Dusk']\n",
    "light3_df = df_coll_clean[df_coll_clean['LIGHTCOND']== 'Dawn']\n",
    "light4_df = df_coll_clean[df_coll_clean['LIGHTCOND']== 'Dark - Street Lights On']\n",
    "light5_df = df_coll_clean[df_coll_clean['LIGHTCOND']== 'Dark - Street Lights Off']\n",
    "light6_df = df_coll_clean[df_coll_clean['LIGHTCOND']== 'Dark - No Street Lights']\n",
    "light7_df = df_coll_clean[df_coll_clean['LIGHTCOND']== 'Other']\n",
    "light8_df = df_coll_clean[df_coll_clean['LIGHTCOND']== 'Unknown']\n",
    "light9_df = df_coll_clean[df_coll_clean['LIGHTCOND']== 'Unspecified']\n",
    "\n",
    "\n",
    "fig, axes = plt.subplots(5, 2, sharex = True, figsize = (15,20))\n",
    "\n",
    "sns.countplot(ax = axes[0, 0], x = light1_df['SEVERITYCODE'], palette = 'rocket', data = light1_df)\n",
    "axes[0,0].set(xlabel = 'Severity code', ylabel = 'Count, Daylight')\n",
    "\n",
    "sns.countplot(ax = axes[0, 1], x = light2_df['SEVERITYCODE'], palette = 'rocket', data = light2_df)\n",
    "axes[0,1].set(xlabel = 'Severity code', ylabel = 'Count, Dusk')\n",
    "\n",
    "sns.countplot(ax = axes[1, 0], x = light3_df['SEVERITYCODE'], palette = 'rocket', data = light3_df)\n",
    "axes[1,0].set(xlabel = 'Severity code', ylabel = 'Count, Dawn')\n",
    "\n",
    "sns.countplot(ax = axes[1, 1], x = light4_df['SEVERITYCODE'], palette = 'rocket', data = light4_df)\n",
    "axes[1,1].set(xlabel = 'Severity code', ylabel = 'Count, Dark - Street Lights On')\n",
    "\n",
    "sns.countplot(ax = axes[2, 0], x = light5_df['SEVERITYCODE'], palette = 'rocket', data = light5_df)\n",
    "axes[2,0].set(xlabel = 'Severity code', ylabel = 'Count, Dark - Street Lights Off')\n",
    "\n",
    "sns.countplot(ax = axes[2, 1], x = light6_df['SEVERITYCODE'], palette = 'rocket', data = light6_df)\n",
    "axes[2,1].set(xlabel = 'Severity code', ylabel = 'Count, Dark - No Street Lights')\n",
    "\n",
    "sns.countplot(ax = axes[3, 0], x = light7_df['SEVERITYCODE'], palette = 'rocket', data = light7_df)\n",
    "axes[3,0].set(xlabel = 'Severity code', ylabel = 'Count, Other')\n",
    "\n",
    "sns.countplot(ax = axes[3, 1], x = light8_df['SEVERITYCODE'], palette = 'rocket', data = light8_df)\n",
    "axes[3,1].set(xlabel = 'Severity code', ylabel = 'Count, Unknown')\n",
    "\n",
    "sns.countplot(ax = axes[4, 0], x = light9_df['SEVERITYCODE'], palette = 'rocket', data = light9_df)\n",
    "axes[4,0].set(xlabel = 'Severity code', ylabel = 'Count, Unspecified')"
   ]
  },
  {
   "cell_type": "markdown",
   "metadata": {},
   "source": [
    "**So the features data frame after the Exploratory Data Analysis phase looks like:**"
   ]
  },
  {
   "cell_type": "code",
   "execution_count": 82,
   "metadata": {},
   "outputs": [
    {
     "name": "stdout",
     "output_type": "stream",
     "text": [
      "Number of rows and columns in the features set respectively are: (201786, 11)\n"
     ]
    },
    {
     "data": {
      "text/html": [
       "<div>\n",
       "<style scoped>\n",
       "    .dataframe tbody tr th:only-of-type {\n",
       "        vertical-align: middle;\n",
       "    }\n",
       "\n",
       "    .dataframe tbody tr th {\n",
       "        vertical-align: top;\n",
       "    }\n",
       "\n",
       "    .dataframe thead th {\n",
       "        text-align: right;\n",
       "    }\n",
       "</style>\n",
       "<table border=\"1\" class=\"dataframe\">\n",
       "  <thead>\n",
       "    <tr style=\"text-align: right;\">\n",
       "      <th></th>\n",
       "      <th>ADDRTYPE</th>\n",
       "      <th>PERSONCOUNT</th>\n",
       "      <th>PEDCOUNT</th>\n",
       "      <th>PEDCYLCOUNT</th>\n",
       "      <th>VEHCOUNT</th>\n",
       "      <th>JUNCTIONTYPE</th>\n",
       "      <th>INATTENTIONIND</th>\n",
       "      <th>UNDERINFL</th>\n",
       "      <th>WEATHER</th>\n",
       "      <th>ROADCOND</th>\n",
       "      <th>LIGHTCOND</th>\n",
       "    </tr>\n",
       "  </thead>\n",
       "  <tbody>\n",
       "    <tr>\n",
       "      <th>0</th>\n",
       "      <td>Intersection</td>\n",
       "      <td>2</td>\n",
       "      <td>1</td>\n",
       "      <td>0</td>\n",
       "      <td>1</td>\n",
       "      <td>At Intersection (intersection related)</td>\n",
       "      <td>0</td>\n",
       "      <td>N</td>\n",
       "      <td>Clear</td>\n",
       "      <td>Dry</td>\n",
       "      <td>Daylight</td>\n",
       "    </tr>\n",
       "    <tr>\n",
       "      <th>1</th>\n",
       "      <td>Intersection</td>\n",
       "      <td>4</td>\n",
       "      <td>0</td>\n",
       "      <td>0</td>\n",
       "      <td>2</td>\n",
       "      <td>At Intersection (intersection related)</td>\n",
       "      <td>0</td>\n",
       "      <td>N</td>\n",
       "      <td>Raining</td>\n",
       "      <td>Wet</td>\n",
       "      <td>Dark - Street Lights On</td>\n",
       "    </tr>\n",
       "    <tr>\n",
       "      <th>2</th>\n",
       "      <td>Block</td>\n",
       "      <td>4</td>\n",
       "      <td>0</td>\n",
       "      <td>0</td>\n",
       "      <td>3</td>\n",
       "      <td>Mid-Block (not related to intersection)</td>\n",
       "      <td>0</td>\n",
       "      <td>N</td>\n",
       "      <td>Clear</td>\n",
       "      <td>Dry</td>\n",
       "      <td>Daylight</td>\n",
       "    </tr>\n",
       "    <tr>\n",
       "      <th>3</th>\n",
       "      <td>Intersection</td>\n",
       "      <td>2</td>\n",
       "      <td>0</td>\n",
       "      <td>0</td>\n",
       "      <td>2</td>\n",
       "      <td>At Intersection (intersection related)</td>\n",
       "      <td>0</td>\n",
       "      <td>N</td>\n",
       "      <td>Raining</td>\n",
       "      <td>Wet</td>\n",
       "      <td>Dark - Street Lights On</td>\n",
       "    </tr>\n",
       "    <tr>\n",
       "      <th>6</th>\n",
       "      <td>Block</td>\n",
       "      <td>2</td>\n",
       "      <td>0</td>\n",
       "      <td>0</td>\n",
       "      <td>2</td>\n",
       "      <td>Mid-Block (not related to intersection)</td>\n",
       "      <td>0</td>\n",
       "      <td>N</td>\n",
       "      <td>Clear</td>\n",
       "      <td>Dry</td>\n",
       "      <td>Dark - Street Lights On</td>\n",
       "    </tr>\n",
       "  </tbody>\n",
       "</table>\n",
       "</div>"
      ],
      "text/plain": [
       "       ADDRTYPE  PERSONCOUNT  PEDCOUNT  PEDCYLCOUNT  VEHCOUNT  \\\n",
       "0  Intersection            2         1            0         1   \n",
       "1  Intersection            4         0            0         2   \n",
       "2         Block            4         0            0         3   \n",
       "3  Intersection            2         0            0         2   \n",
       "6         Block            2         0            0         2   \n",
       "\n",
       "                              JUNCTIONTYPE  INATTENTIONIND UNDERINFL  WEATHER  \\\n",
       "0   At Intersection (intersection related)               0         N    Clear   \n",
       "1   At Intersection (intersection related)               0         N  Raining   \n",
       "2  Mid-Block (not related to intersection)               0         N    Clear   \n",
       "3   At Intersection (intersection related)               0         N  Raining   \n",
       "6  Mid-Block (not related to intersection)               0         N    Clear   \n",
       "\n",
       "  ROADCOND                LIGHTCOND  \n",
       "0      Dry                 Daylight  \n",
       "1      Wet  Dark - Street Lights On  \n",
       "2      Dry                 Daylight  \n",
       "3      Wet  Dark - Street Lights On  \n",
       "6      Dry  Dark - Street Lights On  "
      ]
     },
     "execution_count": 82,
     "metadata": {},
     "output_type": "execute_result"
    }
   ],
   "source": [
    "print(\"Number of rows and columns in the features set respectively are:\", features.shape)\n",
    "features.head()"
   ]
  },
  {
   "cell_type": "markdown",
   "metadata": {},
   "source": [
    "# Data pre-processing and Modeling"
   ]
  },
  {
   "cell_type": "markdown",
   "metadata": {},
   "source": [
    "## Data pre-processing: Feature Extraction"
   ]
  },
  {
   "cell_type": "code",
   "execution_count": 83,
   "metadata": {},
   "outputs": [],
   "source": [
    "from sklearn import preprocessing"
   ]
  },
  {
   "cell_type": "markdown",
   "metadata": {},
   "source": [
    "**We are going to use One Hot Encoding technique to convert actegorical variable to binary variable and append them to the features data frame**"
   ]
  },
  {
   "cell_type": "markdown",
   "metadata": {},
   "source": [
    "Let's define **our final features set as `X`** and let's first add to it all the numeric variables in the `features` dataframe"
   ]
  },
  {
   "cell_type": "code",
   "execution_count": 84,
   "metadata": {},
   "outputs": [
    {
     "data": {
      "text/html": [
       "<div>\n",
       "<style scoped>\n",
       "    .dataframe tbody tr th:only-of-type {\n",
       "        vertical-align: middle;\n",
       "    }\n",
       "\n",
       "    .dataframe tbody tr th {\n",
       "        vertical-align: top;\n",
       "    }\n",
       "\n",
       "    .dataframe thead th {\n",
       "        text-align: right;\n",
       "    }\n",
       "</style>\n",
       "<table border=\"1\" class=\"dataframe\">\n",
       "  <thead>\n",
       "    <tr style=\"text-align: right;\">\n",
       "      <th></th>\n",
       "      <th>PERSONCOUNT</th>\n",
       "      <th>PEDCOUNT</th>\n",
       "      <th>PEDCYLCOUNT</th>\n",
       "      <th>VEHCOUNT</th>\n",
       "      <th>INATTENTIONIND</th>\n",
       "    </tr>\n",
       "  </thead>\n",
       "  <tbody>\n",
       "    <tr>\n",
       "      <th>0</th>\n",
       "      <td>2</td>\n",
       "      <td>1</td>\n",
       "      <td>0</td>\n",
       "      <td>1</td>\n",
       "      <td>0</td>\n",
       "    </tr>\n",
       "    <tr>\n",
       "      <th>1</th>\n",
       "      <td>4</td>\n",
       "      <td>0</td>\n",
       "      <td>0</td>\n",
       "      <td>2</td>\n",
       "      <td>0</td>\n",
       "    </tr>\n",
       "    <tr>\n",
       "      <th>2</th>\n",
       "      <td>4</td>\n",
       "      <td>0</td>\n",
       "      <td>0</td>\n",
       "      <td>3</td>\n",
       "      <td>0</td>\n",
       "    </tr>\n",
       "    <tr>\n",
       "      <th>3</th>\n",
       "      <td>2</td>\n",
       "      <td>0</td>\n",
       "      <td>0</td>\n",
       "      <td>2</td>\n",
       "      <td>0</td>\n",
       "    </tr>\n",
       "    <tr>\n",
       "      <th>6</th>\n",
       "      <td>2</td>\n",
       "      <td>0</td>\n",
       "      <td>0</td>\n",
       "      <td>2</td>\n",
       "      <td>0</td>\n",
       "    </tr>\n",
       "  </tbody>\n",
       "</table>\n",
       "</div>"
      ],
      "text/plain": [
       "   PERSONCOUNT  PEDCOUNT  PEDCYLCOUNT  VEHCOUNT  INATTENTIONIND\n",
       "0            2         1            0         1               0\n",
       "1            4         0            0         2               0\n",
       "2            4         0            0         3               0\n",
       "3            2         0            0         2               0\n",
       "6            2         0            0         2               0"
      ]
     },
     "execution_count": 84,
     "metadata": {},
     "output_type": "execute_result"
    }
   ],
   "source": [
    "X = features[['PERSONCOUNT', 'PEDCOUNT', 'PEDCYLCOUNT', 'VEHCOUNT', 'INATTENTIONIND']]\n",
    "X.head()"
   ]
  },
  {
   "cell_type": "markdown",
   "metadata": {},
   "source": [
    "Now let's make use of **One Hot Encoding** technique and append to `X` all the categorical variables from `features` after converting them into binary variables "
   ]
  },
  {
   "cell_type": "code",
   "execution_count": 86,
   "metadata": {},
   "outputs": [
    {
     "name": "stdout",
     "output_type": "stream",
     "text": [
      "(201786, 50)\n"
     ]
    },
    {
     "data": {
      "text/html": [
       "<div>\n",
       "<style scoped>\n",
       "    .dataframe tbody tr th:only-of-type {\n",
       "        vertical-align: middle;\n",
       "    }\n",
       "\n",
       "    .dataframe tbody tr th {\n",
       "        vertical-align: top;\n",
       "    }\n",
       "\n",
       "    .dataframe thead th {\n",
       "        text-align: right;\n",
       "    }\n",
       "</style>\n",
       "<table border=\"1\" class=\"dataframe\">\n",
       "  <thead>\n",
       "    <tr style=\"text-align: right;\">\n",
       "      <th></th>\n",
       "      <th>PERSONCOUNT</th>\n",
       "      <th>PEDCOUNT</th>\n",
       "      <th>PEDCYLCOUNT</th>\n",
       "      <th>VEHCOUNT</th>\n",
       "      <th>INATTENTIONIND</th>\n",
       "      <th>Alley</th>\n",
       "      <th>Block</th>\n",
       "      <th>Intersection</th>\n",
       "      <th>Other</th>\n",
       "      <th>At Intersection (but not related to intersection)</th>\n",
       "      <th>...</th>\n",
       "      <th>Wet</th>\n",
       "      <th>Dark - No Street Lights</th>\n",
       "      <th>Dark - Street Lights Off</th>\n",
       "      <th>Dark - Street Lights On</th>\n",
       "      <th>Dawn</th>\n",
       "      <th>Daylight</th>\n",
       "      <th>Dusk</th>\n",
       "      <th>Other</th>\n",
       "      <th>Unknown</th>\n",
       "      <th>Unspecified</th>\n",
       "    </tr>\n",
       "  </thead>\n",
       "  <tbody>\n",
       "    <tr>\n",
       "      <th>0</th>\n",
       "      <td>2</td>\n",
       "      <td>1</td>\n",
       "      <td>0</td>\n",
       "      <td>1</td>\n",
       "      <td>0</td>\n",
       "      <td>0</td>\n",
       "      <td>0</td>\n",
       "      <td>1</td>\n",
       "      <td>0</td>\n",
       "      <td>0</td>\n",
       "      <td>...</td>\n",
       "      <td>0</td>\n",
       "      <td>0</td>\n",
       "      <td>0</td>\n",
       "      <td>0</td>\n",
       "      <td>0</td>\n",
       "      <td>1</td>\n",
       "      <td>0</td>\n",
       "      <td>0</td>\n",
       "      <td>0</td>\n",
       "      <td>0</td>\n",
       "    </tr>\n",
       "    <tr>\n",
       "      <th>1</th>\n",
       "      <td>4</td>\n",
       "      <td>0</td>\n",
       "      <td>0</td>\n",
       "      <td>2</td>\n",
       "      <td>0</td>\n",
       "      <td>0</td>\n",
       "      <td>0</td>\n",
       "      <td>1</td>\n",
       "      <td>0</td>\n",
       "      <td>0</td>\n",
       "      <td>...</td>\n",
       "      <td>1</td>\n",
       "      <td>0</td>\n",
       "      <td>0</td>\n",
       "      <td>1</td>\n",
       "      <td>0</td>\n",
       "      <td>0</td>\n",
       "      <td>0</td>\n",
       "      <td>0</td>\n",
       "      <td>0</td>\n",
       "      <td>0</td>\n",
       "    </tr>\n",
       "    <tr>\n",
       "      <th>2</th>\n",
       "      <td>4</td>\n",
       "      <td>0</td>\n",
       "      <td>0</td>\n",
       "      <td>3</td>\n",
       "      <td>0</td>\n",
       "      <td>0</td>\n",
       "      <td>1</td>\n",
       "      <td>0</td>\n",
       "      <td>0</td>\n",
       "      <td>0</td>\n",
       "      <td>...</td>\n",
       "      <td>0</td>\n",
       "      <td>0</td>\n",
       "      <td>0</td>\n",
       "      <td>0</td>\n",
       "      <td>0</td>\n",
       "      <td>1</td>\n",
       "      <td>0</td>\n",
       "      <td>0</td>\n",
       "      <td>0</td>\n",
       "      <td>0</td>\n",
       "    </tr>\n",
       "    <tr>\n",
       "      <th>3</th>\n",
       "      <td>2</td>\n",
       "      <td>0</td>\n",
       "      <td>0</td>\n",
       "      <td>2</td>\n",
       "      <td>0</td>\n",
       "      <td>0</td>\n",
       "      <td>0</td>\n",
       "      <td>1</td>\n",
       "      <td>0</td>\n",
       "      <td>0</td>\n",
       "      <td>...</td>\n",
       "      <td>1</td>\n",
       "      <td>0</td>\n",
       "      <td>0</td>\n",
       "      <td>1</td>\n",
       "      <td>0</td>\n",
       "      <td>0</td>\n",
       "      <td>0</td>\n",
       "      <td>0</td>\n",
       "      <td>0</td>\n",
       "      <td>0</td>\n",
       "    </tr>\n",
       "    <tr>\n",
       "      <th>6</th>\n",
       "      <td>2</td>\n",
       "      <td>0</td>\n",
       "      <td>0</td>\n",
       "      <td>2</td>\n",
       "      <td>0</td>\n",
       "      <td>0</td>\n",
       "      <td>1</td>\n",
       "      <td>0</td>\n",
       "      <td>0</td>\n",
       "      <td>0</td>\n",
       "      <td>...</td>\n",
       "      <td>0</td>\n",
       "      <td>0</td>\n",
       "      <td>0</td>\n",
       "      <td>1</td>\n",
       "      <td>0</td>\n",
       "      <td>0</td>\n",
       "      <td>0</td>\n",
       "      <td>0</td>\n",
       "      <td>0</td>\n",
       "      <td>0</td>\n",
       "    </tr>\n",
       "  </tbody>\n",
       "</table>\n",
       "<p>5 rows × 50 columns</p>\n",
       "</div>"
      ],
      "text/plain": [
       "   PERSONCOUNT  PEDCOUNT  PEDCYLCOUNT  VEHCOUNT  INATTENTIONIND  Alley  Block  \\\n",
       "0            2         1            0         1               0      0      0   \n",
       "1            4         0            0         2               0      0      0   \n",
       "2            4         0            0         3               0      0      1   \n",
       "3            2         0            0         2               0      0      0   \n",
       "6            2         0            0         2               0      0      1   \n",
       "\n",
       "   Intersection  Other  At Intersection (but not related to intersection)  \\\n",
       "0             1      0                                                  0   \n",
       "1             1      0                                                  0   \n",
       "2             0      0                                                  0   \n",
       "3             1      0                                                  0   \n",
       "6             0      0                                                  0   \n",
       "\n",
       "   ...  Wet  Dark - No Street Lights  Dark - Street Lights Off  \\\n",
       "0  ...    0                        0                         0   \n",
       "1  ...    1                        0                         0   \n",
       "2  ...    0                        0                         0   \n",
       "3  ...    1                        0                         0   \n",
       "6  ...    0                        0                         0   \n",
       "\n",
       "   Dark - Street Lights On  Dawn  Daylight  Dusk  Other  Unknown  Unspecified  \n",
       "0                        0     0         1     0      0        0            0  \n",
       "1                        1     0         0     0      0        0            0  \n",
       "2                        0     0         1     0      0        0            0  \n",
       "3                        1     0         0     0      0        0            0  \n",
       "6                        1     0         0     0      0        0            0  \n",
       "\n",
       "[5 rows x 50 columns]"
      ]
     },
     "execution_count": 86,
     "metadata": {},
     "output_type": "execute_result"
    }
   ],
   "source": [
    "X = pd.concat([X, pd.get_dummies(features['ADDRTYPE'])], axis=1)\n",
    "X = pd.concat([X, pd.get_dummies(features['JUNCTIONTYPE'])], axis=1)\n",
    "X = pd.concat([X, pd.get_dummies(features['UNDERINFL'])], axis=1)\n",
    "X = pd.concat([X, pd.get_dummies(features['WEATHER'])], axis=1)\n",
    "X = pd.concat([X, pd.get_dummies(features['ROADCOND'])], axis=1)\n",
    "X = pd.concat([X, pd.get_dummies(features['LIGHTCOND'])], axis=1)\n",
    "\n",
    "print(X.shape)\n",
    "X.head()"
   ]
  },
  {
   "cell_type": "markdown",
   "metadata": {},
   "source": [
    "Now let's define **our target variavle as `y`**"
   ]
  },
  {
   "cell_type": "code",
   "execution_count": 87,
   "metadata": {},
   "outputs": [
    {
     "data": {
      "text/plain": [
       "array(['2', '2', '1', '1', '1'], dtype=object)"
      ]
     },
     "execution_count": 87,
     "metadata": {},
     "output_type": "execute_result"
    }
   ],
   "source": [
    "y = df_coll_clean['SEVERITYCODE'].values ## the 'df_coll_clean' dataframe is consistent with the 'features' dataframe\n",
    "                                            \n",
    "y[0:5]"
   ]
  },
  {
   "cell_type": "markdown",
   "metadata": {},
   "source": [
    "## Modeling"
   ]
  },
  {
   "cell_type": "markdown",
   "metadata": {},
   "source": [
    "We are going to develope a **preditive model** which would be capable of predicting the Severity of the future accidents."
   ]
  },
  {
   "cell_type": "markdown",
   "metadata": {},
   "source": [
    "This problem is of the type **\"Muti-class Classification\"** as there are more than two labels in our taget variable `SEVERITYCODE` to predict from."
   ]
  },
  {
   "cell_type": "markdown",
   "metadata": {},
   "source": [
    "So **we are goin to develope Classification Models** with various classification algorithms and compare their performances in the \"Model Evaluation\" phase in an intent to select the model with the best accuracy scores."
   ]
  },
  {
   "cell_type": "code",
   "execution_count": null,
   "metadata": {},
   "outputs": [],
   "source": []
  },
  {
   "cell_type": "code",
   "execution_count": null,
   "metadata": {},
   "outputs": [],
   "source": []
  },
  {
   "cell_type": "code",
   "execution_count": null,
   "metadata": {},
   "outputs": [],
   "source": []
  },
  {
   "cell_type": "code",
   "execution_count": null,
   "metadata": {},
   "outputs": [],
   "source": []
  },
  {
   "cell_type": "code",
   "execution_count": null,
   "metadata": {},
   "outputs": [],
   "source": []
  },
  {
   "cell_type": "code",
   "execution_count": null,
   "metadata": {},
   "outputs": [],
   "source": []
  },
  {
   "cell_type": "code",
   "execution_count": null,
   "metadata": {},
   "outputs": [],
   "source": []
  },
  {
   "cell_type": "code",
   "execution_count": null,
   "metadata": {},
   "outputs": [],
   "source": []
  },
  {
   "cell_type": "code",
   "execution_count": null,
   "metadata": {},
   "outputs": [],
   "source": []
  },
  {
   "cell_type": "markdown",
   "metadata": {},
   "source": [
    "# Model Evaluation"
   ]
  },
  {
   "cell_type": "code",
   "execution_count": null,
   "metadata": {},
   "outputs": [],
   "source": []
  },
  {
   "cell_type": "code",
   "execution_count": null,
   "metadata": {},
   "outputs": [],
   "source": []
  },
  {
   "cell_type": "code",
   "execution_count": null,
   "metadata": {},
   "outputs": [],
   "source": []
  }
 ],
 "metadata": {
  "kernelspec": {
   "display_name": "Python 3",
   "language": "python",
   "name": "python3"
  },
  "language_info": {
   "codemirror_mode": {
    "name": "ipython",
    "version": 3
   },
   "file_extension": ".py",
   "mimetype": "text/x-python",
   "name": "python",
   "nbconvert_exporter": "python",
   "pygments_lexer": "ipython3",
   "version": "3.8.2"
  }
 },
 "nbformat": 4,
 "nbformat_minor": 4
}
