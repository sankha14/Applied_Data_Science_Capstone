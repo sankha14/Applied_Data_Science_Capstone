{
 "cells": [
  {
   "cell_type": "markdown",
   "metadata": {},
   "source": [
    "<h1 style=\"text-align:center;\"> IBM Applied Data Science Capstone Project </h1>\n",
    "<h2 style=\"text-align:center;\"> \"Car Accident Severity Prediction\" </h2>\n",
    "<h3 style=\"text-align:center;\"> Submission by:<a href=\"www.linkedin.com/in/tukait13\"> Sankhadeep Bhowmick</a></h3>"
   ]
  },
  {
   "cell_type": "markdown",
   "metadata": {},
   "source": [
    "This project aims to build a Machine Learning model using historical data on collisions in the city of Seattle, WA to predict the severity of future accidents."
   ]
  },
  {
   "cell_type": "code",
   "execution_count": 1,
   "metadata": {},
   "outputs": [],
   "source": [
    "import pandas as pd\n",
    "import numpy as np"
   ]
  },
  {
   "cell_type": "code",
   "execution_count": 2,
   "metadata": {},
   "outputs": [
    {
     "name": "stdout",
     "output_type": "stream",
     "text": [
      "Hello Capstone Project Course!\n"
     ]
    }
   ],
   "source": [
    "print(\"Hello Capstone Project Course!\")"
   ]
  },
  {
   "cell_type": "markdown",
   "metadata": {},
   "source": [
    "# Data Acquisition"
   ]
  },
  {
   "cell_type": "markdown",
   "metadata": {},
   "source": [
    "The collisions data is recorded by Seattle Department of Transportation, Traffic Management Division, Traffic Records Group and maintained by ArcGIS and can be found in the Kaggle dataset <a href = \"https://www.kaggle.com/jonleon/seattle-sdot-collisions-data\"> here </a> "
   ]
  },
  {
   "cell_type": "markdown",
   "metadata": {},
   "source": [
    "The dataset has been downloaded and saved to local."
   ]
  },
  {
   "cell_type": "markdown",
   "metadata": {},
   "source": [
    "# Data Understanding"
   ]
  },
  {
   "cell_type": "code",
   "execution_count": 3,
   "metadata": {
    "scrolled": false
   },
   "outputs": [
    {
     "data": {
      "text/html": [
       "<div>\n",
       "<style scoped>\n",
       "    .dataframe tbody tr th:only-of-type {\n",
       "        vertical-align: middle;\n",
       "    }\n",
       "\n",
       "    .dataframe tbody tr th {\n",
       "        vertical-align: top;\n",
       "    }\n",
       "\n",
       "    .dataframe thead th {\n",
       "        text-align: right;\n",
       "    }\n",
       "</style>\n",
       "<table border=\"1\" class=\"dataframe\">\n",
       "  <thead>\n",
       "    <tr style=\"text-align: right;\">\n",
       "      <th></th>\n",
       "      <th>X</th>\n",
       "      <th>Y</th>\n",
       "      <th>OBJECTID</th>\n",
       "      <th>INCKEY</th>\n",
       "      <th>COLDETKEY</th>\n",
       "      <th>REPORTNO</th>\n",
       "      <th>STATUS</th>\n",
       "      <th>ADDRTYPE</th>\n",
       "      <th>INTKEY</th>\n",
       "      <th>LOCATION</th>\n",
       "      <th>...</th>\n",
       "      <th>ROADCOND</th>\n",
       "      <th>LIGHTCOND</th>\n",
       "      <th>PEDROWNOTGRNT</th>\n",
       "      <th>SDOTCOLNUM</th>\n",
       "      <th>SPEEDING</th>\n",
       "      <th>ST_COLCODE</th>\n",
       "      <th>ST_COLDESC</th>\n",
       "      <th>SEGLANEKEY</th>\n",
       "      <th>CROSSWALKKEY</th>\n",
       "      <th>HITPARKEDCAR</th>\n",
       "    </tr>\n",
       "  </thead>\n",
       "  <tbody>\n",
       "    <tr>\n",
       "      <th>0</th>\n",
       "      <td>-122.386772</td>\n",
       "      <td>47.564720</td>\n",
       "      <td>1</td>\n",
       "      <td>326234</td>\n",
       "      <td>327734</td>\n",
       "      <td>E984735</td>\n",
       "      <td>Matched</td>\n",
       "      <td>Intersection</td>\n",
       "      <td>31893.0</td>\n",
       "      <td>CALIFORNIA AVE SW AND SW GENESEE ST</td>\n",
       "      <td>...</td>\n",
       "      <td>Dry</td>\n",
       "      <td>Daylight</td>\n",
       "      <td>Y</td>\n",
       "      <td>NaN</td>\n",
       "      <td>NaN</td>\n",
       "      <td>2</td>\n",
       "      <td>Vehicle turning left hits pedestrian</td>\n",
       "      <td>0</td>\n",
       "      <td>0</td>\n",
       "      <td>N</td>\n",
       "    </tr>\n",
       "    <tr>\n",
       "      <th>1</th>\n",
       "      <td>-122.341806</td>\n",
       "      <td>47.686934</td>\n",
       "      <td>2</td>\n",
       "      <td>326246</td>\n",
       "      <td>327746</td>\n",
       "      <td>E985430</td>\n",
       "      <td>Matched</td>\n",
       "      <td>Intersection</td>\n",
       "      <td>24228.0</td>\n",
       "      <td>STONE AVE N AND N 80TH ST</td>\n",
       "      <td>...</td>\n",
       "      <td>Wet</td>\n",
       "      <td>Dark - Street Lights On</td>\n",
       "      <td>NaN</td>\n",
       "      <td>NaN</td>\n",
       "      <td>NaN</td>\n",
       "      <td>10</td>\n",
       "      <td>Entering at angle</td>\n",
       "      <td>0</td>\n",
       "      <td>0</td>\n",
       "      <td>N</td>\n",
       "    </tr>\n",
       "    <tr>\n",
       "      <th>2</th>\n",
       "      <td>-122.374899</td>\n",
       "      <td>47.668666</td>\n",
       "      <td>3</td>\n",
       "      <td>329254</td>\n",
       "      <td>330754</td>\n",
       "      <td>EA16720</td>\n",
       "      <td>Matched</td>\n",
       "      <td>Block</td>\n",
       "      <td>NaN</td>\n",
       "      <td>NW MARKET ST BETWEEN 14TH AVE NW AND 15TH AVE NW</td>\n",
       "      <td>...</td>\n",
       "      <td>Dry</td>\n",
       "      <td>Daylight</td>\n",
       "      <td>NaN</td>\n",
       "      <td>NaN</td>\n",
       "      <td>NaN</td>\n",
       "      <td>11</td>\n",
       "      <td>From same direction - both going straight - bo...</td>\n",
       "      <td>0</td>\n",
       "      <td>0</td>\n",
       "      <td>N</td>\n",
       "    </tr>\n",
       "    <tr>\n",
       "      <th>3</th>\n",
       "      <td>-122.300758</td>\n",
       "      <td>47.683047</td>\n",
       "      <td>4</td>\n",
       "      <td>21200</td>\n",
       "      <td>21200</td>\n",
       "      <td>1227970</td>\n",
       "      <td>Matched</td>\n",
       "      <td>Intersection</td>\n",
       "      <td>24661.0</td>\n",
       "      <td>25TH AVE NE AND NE 75TH ST</td>\n",
       "      <td>...</td>\n",
       "      <td>Wet</td>\n",
       "      <td>Dark - Street Lights On</td>\n",
       "      <td>NaN</td>\n",
       "      <td>4160038.0</td>\n",
       "      <td>NaN</td>\n",
       "      <td>28</td>\n",
       "      <td>From opposite direction - one left turn - one ...</td>\n",
       "      <td>0</td>\n",
       "      <td>0</td>\n",
       "      <td>N</td>\n",
       "    </tr>\n",
       "    <tr>\n",
       "      <th>4</th>\n",
       "      <td>-122.313053</td>\n",
       "      <td>47.567241</td>\n",
       "      <td>5</td>\n",
       "      <td>17000</td>\n",
       "      <td>17000</td>\n",
       "      <td>1793348</td>\n",
       "      <td>Unmatched</td>\n",
       "      <td>Block</td>\n",
       "      <td>NaN</td>\n",
       "      <td>S DAKOTA ST BETWEEN 15TH AVE S AND 16TH AVE S</td>\n",
       "      <td>...</td>\n",
       "      <td>NaN</td>\n",
       "      <td>NaN</td>\n",
       "      <td>NaN</td>\n",
       "      <td>4289025.0</td>\n",
       "      <td>NaN</td>\n",
       "      <td>NaN</td>\n",
       "      <td>NaN</td>\n",
       "      <td>0</td>\n",
       "      <td>0</td>\n",
       "      <td>N</td>\n",
       "    </tr>\n",
       "  </tbody>\n",
       "</table>\n",
       "<p>5 rows × 40 columns</p>\n",
       "</div>"
      ],
      "text/plain": [
       "            X          Y  OBJECTID  INCKEY  COLDETKEY REPORTNO     STATUS  \\\n",
       "0 -122.386772  47.564720         1  326234     327734  E984735    Matched   \n",
       "1 -122.341806  47.686934         2  326246     327746  E985430    Matched   \n",
       "2 -122.374899  47.668666         3  329254     330754  EA16720    Matched   \n",
       "3 -122.300758  47.683047         4   21200      21200  1227970    Matched   \n",
       "4 -122.313053  47.567241         5   17000      17000  1793348  Unmatched   \n",
       "\n",
       "       ADDRTYPE   INTKEY                                          LOCATION  \\\n",
       "0  Intersection  31893.0               CALIFORNIA AVE SW AND SW GENESEE ST   \n",
       "1  Intersection  24228.0                         STONE AVE N AND N 80TH ST   \n",
       "2         Block      NaN  NW MARKET ST BETWEEN 14TH AVE NW AND 15TH AVE NW   \n",
       "3  Intersection  24661.0                        25TH AVE NE AND NE 75TH ST   \n",
       "4         Block      NaN     S DAKOTA ST BETWEEN 15TH AVE S AND 16TH AVE S   \n",
       "\n",
       "   ... ROADCOND                LIGHTCOND PEDROWNOTGRNT SDOTCOLNUM SPEEDING  \\\n",
       "0  ...      Dry                 Daylight             Y        NaN      NaN   \n",
       "1  ...      Wet  Dark - Street Lights On           NaN        NaN      NaN   \n",
       "2  ...      Dry                 Daylight           NaN        NaN      NaN   \n",
       "3  ...      Wet  Dark - Street Lights On           NaN  4160038.0      NaN   \n",
       "4  ...      NaN                      NaN           NaN  4289025.0      NaN   \n",
       "\n",
       "   ST_COLCODE                                         ST_COLDESC  SEGLANEKEY  \\\n",
       "0           2               Vehicle turning left hits pedestrian           0   \n",
       "1          10                                  Entering at angle           0   \n",
       "2          11  From same direction - both going straight - bo...           0   \n",
       "3          28  From opposite direction - one left turn - one ...           0   \n",
       "4         NaN                                                NaN           0   \n",
       "\n",
       "   CROSSWALKKEY  HITPARKEDCAR  \n",
       "0             0             N  \n",
       "1             0             N  \n",
       "2             0             N  \n",
       "3             0             N  \n",
       "4             0             N  \n",
       "\n",
       "[5 rows x 40 columns]"
      ]
     },
     "execution_count": 3,
     "metadata": {},
     "output_type": "execute_result"
    }
   ],
   "source": [
    "# reading the data into a pandas dataframe\n",
    "\n",
    "df_coll = pd.read_csv(\"Collisions.csv\")\n",
    "df_coll.head(5)"
   ]
  },
  {
   "cell_type": "code",
   "execution_count": 4,
   "metadata": {},
   "outputs": [
    {
     "data": {
      "text/plain": [
       "(221266, 40)"
      ]
     },
     "execution_count": 4,
     "metadata": {},
     "output_type": "execute_result"
    }
   ],
   "source": [
    "df_coll.shape"
   ]
  },
  {
   "cell_type": "code",
   "execution_count": 5,
   "metadata": {
    "scrolled": false
   },
   "outputs": [
    {
     "name": "stdout",
     "output_type": "stream",
     "text": [
      "<class 'pandas.core.frame.DataFrame'>\n",
      "RangeIndex: 221266 entries, 0 to 221265\n",
      "Data columns (total 40 columns):\n",
      " #   Column           Non-Null Count   Dtype  \n",
      "---  ------           --------------   -----  \n",
      " 0   X                213797 non-null  float64\n",
      " 1   Y                213797 non-null  float64\n",
      " 2   OBJECTID         221266 non-null  int64  \n",
      " 3   INCKEY           221266 non-null  int64  \n",
      " 4   COLDETKEY        221266 non-null  int64  \n",
      " 5   REPORTNO         221266 non-null  object \n",
      " 6   STATUS           221266 non-null  object \n",
      " 7   ADDRTYPE         217554 non-null  object \n",
      " 8   INTKEY           71823 non-null   float64\n",
      " 9   LOCATION         216680 non-null  object \n",
      " 10  EXCEPTRSNCODE    100863 non-null  object \n",
      " 11  EXCEPTRSNDESC    11775 non-null   object \n",
      " 12  SEVERITYCODE     221265 non-null  object \n",
      " 13  SEVERITYDESC     221266 non-null  object \n",
      " 14  COLLISIONTYPE    194767 non-null  object \n",
      " 15  PERSONCOUNT      221266 non-null  int64  \n",
      " 16  PEDCOUNT         221266 non-null  int64  \n",
      " 17  PEDCYLCOUNT      221266 non-null  int64  \n",
      " 18  VEHCOUNT         221266 non-null  int64  \n",
      " 19  INJURIES         221266 non-null  int64  \n",
      " 20  SERIOUSINJURIES  221266 non-null  int64  \n",
      " 21  FATALITIES       221266 non-null  int64  \n",
      " 22  INCDATE          221266 non-null  object \n",
      " 23  INCDTTM          221266 non-null  object \n",
      " 24  JUNCTIONTYPE     209299 non-null  object \n",
      " 25  SDOT_COLCODE     221265 non-null  float64\n",
      " 26  SDOT_COLDESC     221265 non-null  object \n",
      " 27  INATTENTIONIND   30188 non-null   object \n",
      " 28  UNDERINFL        194787 non-null  object \n",
      " 29  WEATHER          194578 non-null  object \n",
      " 30  ROADCOND         194658 non-null  object \n",
      " 31  LIGHTCOND        194490 non-null  object \n",
      " 32  PEDROWNOTGRNT    5188 non-null    object \n",
      " 33  SDOTCOLNUM       127205 non-null  float64\n",
      " 34  SPEEDING         9913 non-null    object \n",
      " 35  ST_COLCODE       211853 non-null  object \n",
      " 36  ST_COLDESC       194767 non-null  object \n",
      " 37  SEGLANEKEY       221266 non-null  int64  \n",
      " 38  CROSSWALKKEY     221266 non-null  int64  \n",
      " 39  HITPARKEDCAR     221266 non-null  object \n",
      "dtypes: float64(5), int64(12), object(23)\n",
      "memory usage: 67.5+ MB\n"
     ]
    }
   ],
   "source": [
    "df_coll.info()"
   ]
  },
  {
   "cell_type": "markdown",
   "metadata": {},
   "source": [
    "**The locations of the accidents can be visualized on a map using the lattitude `Y` and longitude `X` columns**"
   ]
  },
  {
   "cell_type": "code",
   "execution_count": 6,
   "metadata": {},
   "outputs": [
    {
     "data": {
      "text/html": [
       "<div style=\"width:100%;\"><div style=\"position:relative;width:100%;height:0;padding-bottom:60%;\"><span style=\"color:#565656\">Make this Notebook Trusted to load map: File -> Trust Notebook</span><iframe src=\"about:blank\" style=\"position:absolute;width:100%;height:100%;left:0;top:0;border:none !important;\" data-html=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 onload=\"this.contentDocument.open();this.contentDocument.write(atob(this.getAttribute('data-html')));this.contentDocument.close();\" allowfullscreen webkitallowfullscreen mozallowfullscreen></iframe></div></div>"
      ],
      "text/plain": [
       "<folium.folium.Map at 0x27d8308c430>"
      ]
     },
     "execution_count": 6,
     "metadata": {},
     "output_type": "execute_result"
    }
   ],
   "source": [
    "import folium\n",
    "from folium.plugins import MarkerCluster\n",
    "\n",
    "map = folium.Map(location=[47.6062, -122.3321], zoom_start=12)\n",
    "marker_cluster = MarkerCluster().add_to(map)\n",
    "locations = df_coll[['Y', 'X']][df_coll['Y'].notna()].head(1000)\n",
    "locationlist = locations.values.tolist()\n",
    "for point in range(len(locations)):\n",
    "    folium.Marker(locationlist[point]).add_to(marker_cluster)\n",
    "map"
   ]
  },
  {
   "cell_type": "code",
   "execution_count": 7,
   "metadata": {},
   "outputs": [
    {
     "data": {
      "text/plain": [
       "Index(['X', 'Y', 'OBJECTID', 'INCKEY', 'COLDETKEY', 'REPORTNO', 'STATUS',\n",
       "       'ADDRTYPE', 'INTKEY', 'LOCATION', 'EXCEPTRSNCODE', 'EXCEPTRSNDESC',\n",
       "       'SEVERITYCODE', 'SEVERITYDESC', 'COLLISIONTYPE', 'PERSONCOUNT',\n",
       "       'PEDCOUNT', 'PEDCYLCOUNT', 'VEHCOUNT', 'INJURIES', 'SERIOUSINJURIES',\n",
       "       'FATALITIES', 'INCDATE', 'INCDTTM', 'JUNCTIONTYPE', 'SDOT_COLCODE',\n",
       "       'SDOT_COLDESC', 'INATTENTIONIND', 'UNDERINFL', 'WEATHER', 'ROADCOND',\n",
       "       'LIGHTCOND', 'PEDROWNOTGRNT', 'SDOTCOLNUM', 'SPEEDING', 'ST_COLCODE',\n",
       "       'ST_COLDESC', 'SEGLANEKEY', 'CROSSWALKKEY', 'HITPARKEDCAR'],\n",
       "      dtype='object')"
      ]
     },
     "execution_count": 7,
     "metadata": {},
     "output_type": "execute_result"
    }
   ],
   "source": [
    "df_coll.columns"
   ]
  },
  {
   "cell_type": "code",
   "execution_count": 8,
   "metadata": {},
   "outputs": [
    {
     "data": {
      "text/html": [
       "<div>\n",
       "<style scoped>\n",
       "    .dataframe tbody tr th:only-of-type {\n",
       "        vertical-align: middle;\n",
       "    }\n",
       "\n",
       "    .dataframe tbody tr th {\n",
       "        vertical-align: top;\n",
       "    }\n",
       "\n",
       "    .dataframe thead th {\n",
       "        text-align: right;\n",
       "    }\n",
       "</style>\n",
       "<table border=\"1\" class=\"dataframe\">\n",
       "  <thead>\n",
       "    <tr style=\"text-align: right;\">\n",
       "      <th></th>\n",
       "      <th>Count</th>\n",
       "    </tr>\n",
       "  </thead>\n",
       "  <tbody>\n",
       "    <tr>\n",
       "      <th>Matched</th>\n",
       "      <td>194840</td>\n",
       "    </tr>\n",
       "    <tr>\n",
       "      <th>Unmatched</th>\n",
       "      <td>26426</td>\n",
       "    </tr>\n",
       "  </tbody>\n",
       "</table>\n",
       "</div>"
      ],
      "text/plain": [
       "            Count\n",
       "Matched    194840\n",
       "Unmatched   26426"
      ]
     },
     "execution_count": 8,
     "metadata": {},
     "output_type": "execute_result"
    }
   ],
   "source": [
    "df_coll['STATUS'].value_counts().to_frame('Count')"
   ]
  },
  {
   "cell_type": "code",
   "execution_count": 9,
   "metadata": {},
   "outputs": [
    {
     "data": {
      "text/html": [
       "<div>\n",
       "<style scoped>\n",
       "    .dataframe tbody tr th:only-of-type {\n",
       "        vertical-align: middle;\n",
       "    }\n",
       "\n",
       "    .dataframe tbody tr th {\n",
       "        vertical-align: top;\n",
       "    }\n",
       "\n",
       "    .dataframe thead th {\n",
       "        text-align: right;\n",
       "    }\n",
       "</style>\n",
       "<table border=\"1\" class=\"dataframe\">\n",
       "  <thead>\n",
       "    <tr style=\"text-align: right;\">\n",
       "      <th></th>\n",
       "      <th>Count</th>\n",
       "    </tr>\n",
       "  </thead>\n",
       "  <tbody>\n",
       "    <tr>\n",
       "      <th>Block</th>\n",
       "      <td>144857</td>\n",
       "    </tr>\n",
       "    <tr>\n",
       "      <th>Intersection</th>\n",
       "      <td>71823</td>\n",
       "    </tr>\n",
       "    <tr>\n",
       "      <th>Alley</th>\n",
       "      <td>874</td>\n",
       "    </tr>\n",
       "  </tbody>\n",
       "</table>\n",
       "</div>"
      ],
      "text/plain": [
       "               Count\n",
       "Block         144857\n",
       "Intersection   71823\n",
       "Alley            874"
      ]
     },
     "execution_count": 9,
     "metadata": {},
     "output_type": "execute_result"
    }
   ],
   "source": [
    "df_coll['ADDRTYPE'].value_counts().to_frame('Count')"
   ]
  },
  {
   "cell_type": "code",
   "execution_count": 10,
   "metadata": {
    "scrolled": true
   },
   "outputs": [
    {
     "data": {
      "text/html": [
       "<div>\n",
       "<style scoped>\n",
       "    .dataframe tbody tr th:only-of-type {\n",
       "        vertical-align: middle;\n",
       "    }\n",
       "\n",
       "    .dataframe tbody tr th {\n",
       "        vertical-align: top;\n",
       "    }\n",
       "\n",
       "    .dataframe thead th {\n",
       "        text-align: right;\n",
       "    }\n",
       "</style>\n",
       "<table border=\"1\" class=\"dataframe\">\n",
       "  <thead>\n",
       "    <tr style=\"text-align: right;\">\n",
       "      <th></th>\n",
       "      <th>Count</th>\n",
       "    </tr>\n",
       "  </thead>\n",
       "  <tbody>\n",
       "    <tr>\n",
       "      <th>1</th>\n",
       "      <td>137485</td>\n",
       "    </tr>\n",
       "    <tr>\n",
       "      <th>2</th>\n",
       "      <td>58698</td>\n",
       "    </tr>\n",
       "    <tr>\n",
       "      <th>0</th>\n",
       "      <td>21635</td>\n",
       "    </tr>\n",
       "    <tr>\n",
       "      <th>2b</th>\n",
       "      <td>3098</td>\n",
       "    </tr>\n",
       "    <tr>\n",
       "      <th>3</th>\n",
       "      <td>349</td>\n",
       "    </tr>\n",
       "  </tbody>\n",
       "</table>\n",
       "</div>"
      ],
      "text/plain": [
       "     Count\n",
       "1   137485\n",
       "2    58698\n",
       "0    21635\n",
       "2b    3098\n",
       "3      349"
      ]
     },
     "execution_count": 10,
     "metadata": {},
     "output_type": "execute_result"
    }
   ],
   "source": [
    "df_coll['SEVERITYCODE'].value_counts().to_frame('Count')"
   ]
  },
  {
   "cell_type": "code",
   "execution_count": 11,
   "metadata": {
    "scrolled": true
   },
   "outputs": [
    {
     "data": {
      "text/html": [
       "<div>\n",
       "<style scoped>\n",
       "    .dataframe tbody tr th:only-of-type {\n",
       "        vertical-align: middle;\n",
       "    }\n",
       "\n",
       "    .dataframe tbody tr th {\n",
       "        vertical-align: top;\n",
       "    }\n",
       "\n",
       "    .dataframe thead th {\n",
       "        text-align: right;\n",
       "    }\n",
       "</style>\n",
       "<table border=\"1\" class=\"dataframe\">\n",
       "  <thead>\n",
       "    <tr style=\"text-align: right;\">\n",
       "      <th></th>\n",
       "      <th>Count</th>\n",
       "    </tr>\n",
       "  </thead>\n",
       "  <tbody>\n",
       "    <tr>\n",
       "      <th>Parked Car</th>\n",
       "      <td>48455</td>\n",
       "    </tr>\n",
       "    <tr>\n",
       "      <th>Angles</th>\n",
       "      <td>35469</td>\n",
       "    </tr>\n",
       "    <tr>\n",
       "      <th>Rear Ended</th>\n",
       "      <td>34624</td>\n",
       "    </tr>\n",
       "    <tr>\n",
       "      <th>Other</th>\n",
       "      <td>24528</td>\n",
       "    </tr>\n",
       "    <tr>\n",
       "      <th>Sideswipe</th>\n",
       "      <td>18855</td>\n",
       "    </tr>\n",
       "    <tr>\n",
       "      <th>Left Turn</th>\n",
       "      <td>14082</td>\n",
       "    </tr>\n",
       "    <tr>\n",
       "      <th>Pedestrian</th>\n",
       "      <td>7654</td>\n",
       "    </tr>\n",
       "    <tr>\n",
       "      <th>Cycles</th>\n",
       "      <td>5911</td>\n",
       "    </tr>\n",
       "    <tr>\n",
       "      <th>Right Turn</th>\n",
       "      <td>3008</td>\n",
       "    </tr>\n",
       "    <tr>\n",
       "      <th>Head On</th>\n",
       "      <td>2181</td>\n",
       "    </tr>\n",
       "  </tbody>\n",
       "</table>\n",
       "</div>"
      ],
      "text/plain": [
       "            Count\n",
       "Parked Car  48455\n",
       "Angles      35469\n",
       "Rear Ended  34624\n",
       "Other       24528\n",
       "Sideswipe   18855\n",
       "Left Turn   14082\n",
       "Pedestrian   7654\n",
       "Cycles       5911\n",
       "Right Turn   3008\n",
       "Head On      2181"
      ]
     },
     "execution_count": 11,
     "metadata": {},
     "output_type": "execute_result"
    }
   ],
   "source": [
    "df_coll['COLLISIONTYPE'].value_counts().to_frame('Count')"
   ]
  },
  {
   "cell_type": "code",
   "execution_count": 12,
   "metadata": {
    "scrolled": false
   },
   "outputs": [
    {
     "data": {
      "text/plain": [
       "count    221266.000000\n",
       "mean          2.226230\n",
       "std           1.470364\n",
       "min           0.000000\n",
       "25%           2.000000\n",
       "50%           2.000000\n",
       "75%           3.000000\n",
       "max          93.000000\n",
       "Name: PERSONCOUNT, dtype: float64"
      ]
     },
     "execution_count": 12,
     "metadata": {},
     "output_type": "execute_result"
    }
   ],
   "source": [
    "df_coll['PERSONCOUNT'].describe()"
   ]
  },
  {
   "cell_type": "code",
   "execution_count": 13,
   "metadata": {},
   "outputs": [
    {
     "data": {
      "text/plain": [
       "count    221266.000000\n",
       "mean          0.038103\n",
       "std           0.201745\n",
       "min           0.000000\n",
       "25%           0.000000\n",
       "50%           0.000000\n",
       "75%           0.000000\n",
       "max           6.000000\n",
       "Name: PEDCOUNT, dtype: float64"
      ]
     },
     "execution_count": 13,
     "metadata": {},
     "output_type": "execute_result"
    }
   ],
   "source": [
    "df_coll['PEDCOUNT'].describe()"
   ]
  },
  {
   "cell_type": "code",
   "execution_count": 14,
   "metadata": {},
   "outputs": [
    {
     "data": {
      "text/plain": [
       "count    221266.000000\n",
       "mean          0.027293\n",
       "std           0.164345\n",
       "min           0.000000\n",
       "25%           0.000000\n",
       "50%           0.000000\n",
       "75%           0.000000\n",
       "max           2.000000\n",
       "Name: PEDCYLCOUNT, dtype: float64"
      ]
     },
     "execution_count": 14,
     "metadata": {},
     "output_type": "execute_result"
    }
   ],
   "source": [
    "df_coll['PEDCYLCOUNT'].describe()"
   ]
  },
  {
   "cell_type": "code",
   "execution_count": 15,
   "metadata": {
    "scrolled": true
   },
   "outputs": [
    {
     "data": {
      "text/plain": [
       "count    221266.000000\n",
       "mean          1.728544\n",
       "std           0.831224\n",
       "min           0.000000\n",
       "25%           2.000000\n",
       "50%           2.000000\n",
       "75%           2.000000\n",
       "max          15.000000\n",
       "Name: VEHCOUNT, dtype: float64"
      ]
     },
     "execution_count": 15,
     "metadata": {},
     "output_type": "execute_result"
    }
   ],
   "source": [
    "df_coll['VEHCOUNT'].describe()"
   ]
  },
  {
   "cell_type": "code",
   "execution_count": 16,
   "metadata": {},
   "outputs": [
    {
     "data": {
      "text/plain": [
       "count    221266.000000\n",
       "mean          0.373844\n",
       "std           0.732086\n",
       "min           0.000000\n",
       "25%           0.000000\n",
       "50%           0.000000\n",
       "75%           1.000000\n",
       "max          78.000000\n",
       "Name: INJURIES, dtype: float64"
      ]
     },
     "execution_count": 16,
     "metadata": {},
     "output_type": "execute_result"
    }
   ],
   "source": [
    "df_coll['INJURIES'].describe()"
   ]
  },
  {
   "cell_type": "code",
   "execution_count": 17,
   "metadata": {},
   "outputs": [
    {
     "data": {
      "text/plain": [
       "count    221266.000000\n",
       "mean          0.015149\n",
       "std           0.157908\n",
       "min           0.000000\n",
       "25%           0.000000\n",
       "50%           0.000000\n",
       "75%           0.000000\n",
       "max          41.000000\n",
       "Name: SERIOUSINJURIES, dtype: float64"
      ]
     },
     "execution_count": 17,
     "metadata": {},
     "output_type": "execute_result"
    }
   ],
   "source": [
    "df_coll['SERIOUSINJURIES'].describe()"
   ]
  },
  {
   "cell_type": "code",
   "execution_count": 18,
   "metadata": {
    "scrolled": true
   },
   "outputs": [
    {
     "data": {
      "text/plain": [
       "count    221266.000000\n",
       "mean          0.001681\n",
       "std           0.044562\n",
       "min           0.000000\n",
       "25%           0.000000\n",
       "50%           0.000000\n",
       "75%           0.000000\n",
       "max           5.000000\n",
       "Name: FATALITIES, dtype: float64"
      ]
     },
     "execution_count": 18,
     "metadata": {},
     "output_type": "execute_result"
    }
   ],
   "source": [
    "df_coll['FATALITIES'].describe()"
   ]
  },
  {
   "cell_type": "code",
   "execution_count": 19,
   "metadata": {
    "scrolled": false
   },
   "outputs": [
    {
     "data": {
      "text/html": [
       "<div>\n",
       "<style scoped>\n",
       "    .dataframe tbody tr th:only-of-type {\n",
       "        vertical-align: middle;\n",
       "    }\n",
       "\n",
       "    .dataframe tbody tr th {\n",
       "        vertical-align: top;\n",
       "    }\n",
       "\n",
       "    .dataframe thead th {\n",
       "        text-align: right;\n",
       "    }\n",
       "</style>\n",
       "<table border=\"1\" class=\"dataframe\">\n",
       "  <thead>\n",
       "    <tr style=\"text-align: right;\">\n",
       "      <th></th>\n",
       "      <th>Count</th>\n",
       "    </tr>\n",
       "  </thead>\n",
       "  <tbody>\n",
       "    <tr>\n",
       "      <th>Mid-Block (not related to intersection)</th>\n",
       "      <td>101579</td>\n",
       "    </tr>\n",
       "    <tr>\n",
       "      <th>At Intersection (intersection related)</th>\n",
       "      <td>69117</td>\n",
       "    </tr>\n",
       "    <tr>\n",
       "      <th>Mid-Block (but intersection related)</th>\n",
       "      <td>24402</td>\n",
       "    </tr>\n",
       "    <tr>\n",
       "      <th>Driveway Junction</th>\n",
       "      <td>11495</td>\n",
       "    </tr>\n",
       "    <tr>\n",
       "      <th>At Intersection (but not related to intersection)</th>\n",
       "      <td>2495</td>\n",
       "    </tr>\n",
       "    <tr>\n",
       "      <th>Ramp Junction</th>\n",
       "      <td>190</td>\n",
       "    </tr>\n",
       "    <tr>\n",
       "      <th>Unknown</th>\n",
       "      <td>21</td>\n",
       "    </tr>\n",
       "  </tbody>\n",
       "</table>\n",
       "</div>"
      ],
      "text/plain": [
       "                                                    Count\n",
       "Mid-Block (not related to intersection)            101579\n",
       "At Intersection (intersection related)              69117\n",
       "Mid-Block (but intersection related)                24402\n",
       "Driveway Junction                                   11495\n",
       "At Intersection (but not related to intersection)    2495\n",
       "Ramp Junction                                         190\n",
       "Unknown                                                21"
      ]
     },
     "execution_count": 19,
     "metadata": {},
     "output_type": "execute_result"
    }
   ],
   "source": [
    "df_coll['JUNCTIONTYPE'].value_counts().to_frame('Count')"
   ]
  },
  {
   "cell_type": "code",
   "execution_count": 20,
   "metadata": {},
   "outputs": [
    {
     "data": {
      "text/html": [
       "<div>\n",
       "<style scoped>\n",
       "    .dataframe tbody tr th:only-of-type {\n",
       "        vertical-align: middle;\n",
       "    }\n",
       "\n",
       "    .dataframe tbody tr th {\n",
       "        vertical-align: top;\n",
       "    }\n",
       "\n",
       "    .dataframe thead th {\n",
       "        text-align: right;\n",
       "    }\n",
       "</style>\n",
       "<table border=\"1\" class=\"dataframe\">\n",
       "  <thead>\n",
       "    <tr style=\"text-align: right;\">\n",
       "      <th></th>\n",
       "      <th>Count</th>\n",
       "    </tr>\n",
       "  </thead>\n",
       "  <tbody>\n",
       "    <tr>\n",
       "      <th>Y</th>\n",
       "      <td>30188</td>\n",
       "    </tr>\n",
       "  </tbody>\n",
       "</table>\n",
       "</div>"
      ],
      "text/plain": [
       "   Count\n",
       "Y  30188"
      ]
     },
     "execution_count": 20,
     "metadata": {},
     "output_type": "execute_result"
    }
   ],
   "source": [
    "df_coll['INATTENTIONIND'].value_counts().to_frame('Count')"
   ]
  },
  {
   "cell_type": "code",
   "execution_count": 21,
   "metadata": {},
   "outputs": [
    {
     "data": {
      "text/html": [
       "<div>\n",
       "<style scoped>\n",
       "    .dataframe tbody tr th:only-of-type {\n",
       "        vertical-align: middle;\n",
       "    }\n",
       "\n",
       "    .dataframe tbody tr th {\n",
       "        vertical-align: top;\n",
       "    }\n",
       "\n",
       "    .dataframe thead th {\n",
       "        text-align: right;\n",
       "    }\n",
       "</style>\n",
       "<table border=\"1\" class=\"dataframe\">\n",
       "  <thead>\n",
       "    <tr style=\"text-align: right;\">\n",
       "      <th></th>\n",
       "      <th>Count</th>\n",
       "    </tr>\n",
       "  </thead>\n",
       "  <tbody>\n",
       "    <tr>\n",
       "      <th>N</th>\n",
       "      <td>103482</td>\n",
       "    </tr>\n",
       "    <tr>\n",
       "      <th>0</th>\n",
       "      <td>81676</td>\n",
       "    </tr>\n",
       "    <tr>\n",
       "      <th>Y</th>\n",
       "      <td>5399</td>\n",
       "    </tr>\n",
       "    <tr>\n",
       "      <th>1</th>\n",
       "      <td>4230</td>\n",
       "    </tr>\n",
       "  </tbody>\n",
       "</table>\n",
       "</div>"
      ],
      "text/plain": [
       "    Count\n",
       "N  103482\n",
       "0   81676\n",
       "Y    5399\n",
       "1    4230"
      ]
     },
     "execution_count": 21,
     "metadata": {},
     "output_type": "execute_result"
    }
   ],
   "source": [
    "df_coll['UNDERINFL'].value_counts().to_frame('Count')"
   ]
  },
  {
   "cell_type": "code",
   "execution_count": 22,
   "metadata": {},
   "outputs": [
    {
     "data": {
      "text/html": [
       "<div>\n",
       "<style scoped>\n",
       "    .dataframe tbody tr th:only-of-type {\n",
       "        vertical-align: middle;\n",
       "    }\n",
       "\n",
       "    .dataframe tbody tr th {\n",
       "        vertical-align: top;\n",
       "    }\n",
       "\n",
       "    .dataframe thead th {\n",
       "        text-align: right;\n",
       "    }\n",
       "</style>\n",
       "<table border=\"1\" class=\"dataframe\">\n",
       "  <thead>\n",
       "    <tr style=\"text-align: right;\">\n",
       "      <th></th>\n",
       "      <th>Count</th>\n",
       "    </tr>\n",
       "  </thead>\n",
       "  <tbody>\n",
       "    <tr>\n",
       "      <th>Clear</th>\n",
       "      <td>114361</td>\n",
       "    </tr>\n",
       "    <tr>\n",
       "      <th>Raining</th>\n",
       "      <td>34021</td>\n",
       "    </tr>\n",
       "    <tr>\n",
       "      <th>Overcast</th>\n",
       "      <td>28508</td>\n",
       "    </tr>\n",
       "    <tr>\n",
       "      <th>Unknown</th>\n",
       "      <td>15131</td>\n",
       "    </tr>\n",
       "    <tr>\n",
       "      <th>Snowing</th>\n",
       "      <td>919</td>\n",
       "    </tr>\n",
       "    <tr>\n",
       "      <th>Other</th>\n",
       "      <td>853</td>\n",
       "    </tr>\n",
       "    <tr>\n",
       "      <th>Fog/Smog/Smoke</th>\n",
       "      <td>577</td>\n",
       "    </tr>\n",
       "    <tr>\n",
       "      <th>Sleet/Hail/Freezing Rain</th>\n",
       "      <td>116</td>\n",
       "    </tr>\n",
       "    <tr>\n",
       "      <th>Blowing Sand/Dirt</th>\n",
       "      <td>56</td>\n",
       "    </tr>\n",
       "    <tr>\n",
       "      <th>Severe Crosswind</th>\n",
       "      <td>26</td>\n",
       "    </tr>\n",
       "    <tr>\n",
       "      <th>Partly Cloudy</th>\n",
       "      <td>9</td>\n",
       "    </tr>\n",
       "    <tr>\n",
       "      <th>Blowing Snow</th>\n",
       "      <td>1</td>\n",
       "    </tr>\n",
       "  </tbody>\n",
       "</table>\n",
       "</div>"
      ],
      "text/plain": [
       "                           Count\n",
       "Clear                     114361\n",
       "Raining                    34021\n",
       "Overcast                   28508\n",
       "Unknown                    15131\n",
       "Snowing                      919\n",
       "Other                        853\n",
       "Fog/Smog/Smoke               577\n",
       "Sleet/Hail/Freezing Rain     116\n",
       "Blowing Sand/Dirt             56\n",
       "Severe Crosswind              26\n",
       "Partly Cloudy                  9\n",
       "Blowing Snow                   1"
      ]
     },
     "execution_count": 22,
     "metadata": {},
     "output_type": "execute_result"
    }
   ],
   "source": [
    "df_coll['WEATHER'].value_counts().to_frame('Count')"
   ]
  },
  {
   "cell_type": "code",
   "execution_count": 23,
   "metadata": {},
   "outputs": [
    {
     "data": {
      "text/html": [
       "<div>\n",
       "<style scoped>\n",
       "    .dataframe tbody tr th:only-of-type {\n",
       "        vertical-align: middle;\n",
       "    }\n",
       "\n",
       "    .dataframe tbody tr th {\n",
       "        vertical-align: top;\n",
       "    }\n",
       "\n",
       "    .dataframe thead th {\n",
       "        text-align: right;\n",
       "    }\n",
       "</style>\n",
       "<table border=\"1\" class=\"dataframe\">\n",
       "  <thead>\n",
       "    <tr style=\"text-align: right;\">\n",
       "      <th></th>\n",
       "      <th>Count</th>\n",
       "    </tr>\n",
       "  </thead>\n",
       "  <tbody>\n",
       "    <tr>\n",
       "      <th>Dry</th>\n",
       "      <td>128171</td>\n",
       "    </tr>\n",
       "    <tr>\n",
       "      <th>Wet</th>\n",
       "      <td>48715</td>\n",
       "    </tr>\n",
       "    <tr>\n",
       "      <th>Unknown</th>\n",
       "      <td>15131</td>\n",
       "    </tr>\n",
       "    <tr>\n",
       "      <th>Ice</th>\n",
       "      <td>1231</td>\n",
       "    </tr>\n",
       "    <tr>\n",
       "      <th>Snow/Slush</th>\n",
       "      <td>1014</td>\n",
       "    </tr>\n",
       "    <tr>\n",
       "      <th>Other</th>\n",
       "      <td>136</td>\n",
       "    </tr>\n",
       "    <tr>\n",
       "      <th>Standing Water</th>\n",
       "      <td>119</td>\n",
       "    </tr>\n",
       "    <tr>\n",
       "      <th>Sand/Mud/Dirt</th>\n",
       "      <td>77</td>\n",
       "    </tr>\n",
       "    <tr>\n",
       "      <th>Oil</th>\n",
       "      <td>64</td>\n",
       "    </tr>\n",
       "  </tbody>\n",
       "</table>\n",
       "</div>"
      ],
      "text/plain": [
       "                 Count\n",
       "Dry             128171\n",
       "Wet              48715\n",
       "Unknown          15131\n",
       "Ice               1231\n",
       "Snow/Slush        1014\n",
       "Other              136\n",
       "Standing Water     119\n",
       "Sand/Mud/Dirt       77\n",
       "Oil                 64"
      ]
     },
     "execution_count": 23,
     "metadata": {},
     "output_type": "execute_result"
    }
   ],
   "source": [
    "df_coll['ROADCOND'].value_counts().to_frame('Count')"
   ]
  },
  {
   "cell_type": "code",
   "execution_count": 24,
   "metadata": {
    "scrolled": true
   },
   "outputs": [
    {
     "data": {
      "text/html": [
       "<div>\n",
       "<style scoped>\n",
       "    .dataframe tbody tr th:only-of-type {\n",
       "        vertical-align: middle;\n",
       "    }\n",
       "\n",
       "    .dataframe tbody tr th {\n",
       "        vertical-align: top;\n",
       "    }\n",
       "\n",
       "    .dataframe thead th {\n",
       "        text-align: right;\n",
       "    }\n",
       "</style>\n",
       "<table border=\"1\" class=\"dataframe\">\n",
       "  <thead>\n",
       "    <tr style=\"text-align: right;\">\n",
       "      <th></th>\n",
       "      <th>Count</th>\n",
       "    </tr>\n",
       "  </thead>\n",
       "  <tbody>\n",
       "    <tr>\n",
       "      <th>Daylight</th>\n",
       "      <td>119166</td>\n",
       "    </tr>\n",
       "    <tr>\n",
       "      <th>Dark - Street Lights On</th>\n",
       "      <td>50053</td>\n",
       "    </tr>\n",
       "    <tr>\n",
       "      <th>Unknown</th>\n",
       "      <td>13523</td>\n",
       "    </tr>\n",
       "    <tr>\n",
       "      <th>Dusk</th>\n",
       "      <td>6076</td>\n",
       "    </tr>\n",
       "    <tr>\n",
       "      <th>Dawn</th>\n",
       "      <td>2599</td>\n",
       "    </tr>\n",
       "    <tr>\n",
       "      <th>Dark - No Street Lights</th>\n",
       "      <td>1573</td>\n",
       "    </tr>\n",
       "    <tr>\n",
       "      <th>Dark - Street Lights Off</th>\n",
       "      <td>1236</td>\n",
       "    </tr>\n",
       "    <tr>\n",
       "      <th>Other</th>\n",
       "      <td>244</td>\n",
       "    </tr>\n",
       "    <tr>\n",
       "      <th>Dark - Unknown Lighting</th>\n",
       "      <td>20</td>\n",
       "    </tr>\n",
       "  </tbody>\n",
       "</table>\n",
       "</div>"
      ],
      "text/plain": [
       "                           Count\n",
       "Daylight                  119166\n",
       "Dark - Street Lights On    50053\n",
       "Unknown                    13523\n",
       "Dusk                        6076\n",
       "Dawn                        2599\n",
       "Dark - No Street Lights     1573\n",
       "Dark - Street Lights Off    1236\n",
       "Other                        244\n",
       "Dark - Unknown Lighting       20"
      ]
     },
     "execution_count": 24,
     "metadata": {},
     "output_type": "execute_result"
    }
   ],
   "source": [
    "df_coll['LIGHTCOND'].value_counts().to_frame('Count')"
   ]
  },
  {
   "cell_type": "code",
   "execution_count": 25,
   "metadata": {},
   "outputs": [
    {
     "data": {
      "text/html": [
       "<div>\n",
       "<style scoped>\n",
       "    .dataframe tbody tr th:only-of-type {\n",
       "        vertical-align: middle;\n",
       "    }\n",
       "\n",
       "    .dataframe tbody tr th {\n",
       "        vertical-align: top;\n",
       "    }\n",
       "\n",
       "    .dataframe thead th {\n",
       "        text-align: right;\n",
       "    }\n",
       "</style>\n",
       "<table border=\"1\" class=\"dataframe\">\n",
       "  <thead>\n",
       "    <tr style=\"text-align: right;\">\n",
       "      <th></th>\n",
       "      <th>Count</th>\n",
       "    </tr>\n",
       "  </thead>\n",
       "  <tbody>\n",
       "    <tr>\n",
       "      <th>Y</th>\n",
       "      <td>9913</td>\n",
       "    </tr>\n",
       "  </tbody>\n",
       "</table>\n",
       "</div>"
      ],
      "text/plain": [
       "   Count\n",
       "Y   9913"
      ]
     },
     "execution_count": 25,
     "metadata": {},
     "output_type": "execute_result"
    }
   ],
   "source": [
    "df_coll['SPEEDING'].value_counts().to_frame('Count')"
   ]
  },
  {
   "cell_type": "code",
   "execution_count": 26,
   "metadata": {
    "scrolled": false
   },
   "outputs": [
    {
     "data": {
      "text/html": [
       "<div>\n",
       "<style scoped>\n",
       "    .dataframe tbody tr th:only-of-type {\n",
       "        vertical-align: middle;\n",
       "    }\n",
       "\n",
       "    .dataframe tbody tr th {\n",
       "        vertical-align: top;\n",
       "    }\n",
       "\n",
       "    .dataframe thead th {\n",
       "        text-align: right;\n",
       "    }\n",
       "</style>\n",
       "<table border=\"1\" class=\"dataframe\">\n",
       "  <thead>\n",
       "    <tr style=\"text-align: right;\">\n",
       "      <th></th>\n",
       "      <th>Count</th>\n",
       "    </tr>\n",
       "  </thead>\n",
       "  <tbody>\n",
       "    <tr>\n",
       "      <th>N</th>\n",
       "      <td>209290</td>\n",
       "    </tr>\n",
       "    <tr>\n",
       "      <th>Y</th>\n",
       "      <td>11976</td>\n",
       "    </tr>\n",
       "  </tbody>\n",
       "</table>\n",
       "</div>"
      ],
      "text/plain": [
       "    Count\n",
       "N  209290\n",
       "Y   11976"
      ]
     },
     "execution_count": 26,
     "metadata": {},
     "output_type": "execute_result"
    }
   ],
   "source": [
    "df_coll['HITPARKEDCAR'].value_counts().to_frame('Count')"
   ]
  },
  {
   "cell_type": "markdown",
   "metadata": {},
   "source": [
    "# Data cleaning / Data wrangling"
   ]
  },
  {
   "cell_type": "markdown",
   "metadata": {},
   "source": [
    "**At first, let's check if there are entries in the dataset where no person, pedestrian, cyclists or vehicles are involved and let's handle such situations**"
   ]
  },
  {
   "cell_type": "code",
   "execution_count": 27,
   "metadata": {
    "scrolled": true
   },
   "outputs": [
    {
     "name": "stdout",
     "output_type": "stream",
     "text": [
      "Number of such rows in the dataset is: 19449\n"
     ]
    }
   ],
   "source": [
    "# finding out the irrelevant rows in the dataset\n",
    "irr_rows_df = df_coll[(df_coll['PERSONCOUNT'] == 0) & \\\n",
    "                         (df_coll['PEDCOUNT'] == 0)& \\\n",
    "                         (df_coll['PEDCYLCOUNT'] == 0) & \\\n",
    "                         (df_coll['VEHCOUNT'] == 0)]\n",
    "\n",
    "print(\"Number of such rows in the dataset is:\", irr_rows_df.shape[0])"
   ]
  },
  {
   "cell_type": "markdown",
   "metadata": {},
   "source": [
    "It appears that there are 19449 such rows in the dataset!! Let's explore a bit further to determine whether these rows should be kept or deleted from the dataframe. "
   ]
  },
  {
   "cell_type": "code",
   "execution_count": 28,
   "metadata": {},
   "outputs": [
    {
     "name": "stdout",
     "output_type": "stream",
     "text": [
      "The number entries with atleast 1 injured person is: 1\n",
      "The number entries with atleast 1 seriously injured person is: 0\n",
      "The number entries with atleast 1 fatality is: 0\n"
     ]
    }
   ],
   "source": [
    "# let's check for the number of injuries, serious injuries and fatalities in these situations\n",
    "\n",
    "print(\"The number entries with atleast 1 injured person is:\", irr_rows_df[irr_rows_df['INJURIES'] > 0].shape[0])\n",
    "\n",
    "print(\"The number entries with atleast 1 seriously injured person is:\", \\\n",
    "      irr_rows_df[irr_rows_df['SERIOUSINJURIES'] > 0].shape[0])\n",
    "\n",
    "print(\"The number entries with atleast 1 fatality is:\", irr_rows_df[irr_rows_df['FATALITIES'] > 0].shape[0])"
   ]
  },
  {
   "cell_type": "code",
   "execution_count": 29,
   "metadata": {},
   "outputs": [
    {
     "data": {
      "text/html": [
       "<div>\n",
       "<style scoped>\n",
       "    .dataframe tbody tr th:only-of-type {\n",
       "        vertical-align: middle;\n",
       "    }\n",
       "\n",
       "    .dataframe tbody tr th {\n",
       "        vertical-align: top;\n",
       "    }\n",
       "\n",
       "    .dataframe thead th {\n",
       "        text-align: right;\n",
       "    }\n",
       "</style>\n",
       "<table border=\"1\" class=\"dataframe\">\n",
       "  <thead>\n",
       "    <tr style=\"text-align: right;\">\n",
       "      <th></th>\n",
       "      <th>count</th>\n",
       "    </tr>\n",
       "  </thead>\n",
       "  <tbody>\n",
       "    <tr>\n",
       "      <th>0</th>\n",
       "      <td>19446</td>\n",
       "    </tr>\n",
       "    <tr>\n",
       "      <th>1</th>\n",
       "      <td>2</td>\n",
       "    </tr>\n",
       "    <tr>\n",
       "      <th>2</th>\n",
       "      <td>1</td>\n",
       "    </tr>\n",
       "  </tbody>\n",
       "</table>\n",
       "</div>"
      ],
      "text/plain": [
       "   count\n",
       "0  19446\n",
       "1      2\n",
       "2      1"
      ]
     },
     "execution_count": 29,
     "metadata": {},
     "output_type": "execute_result"
    }
   ],
   "source": [
    "# let's see which severity category these situations fall into\n",
    "\n",
    "irr_rows_df[\"SEVERITYCODE\"].value_counts().to_frame('count')"
   ]
  },
  {
   "cell_type": "code",
   "execution_count": 30,
   "metadata": {},
   "outputs": [
    {
     "data": {
      "text/html": [
       "<div>\n",
       "<style scoped>\n",
       "    .dataframe tbody tr th:only-of-type {\n",
       "        vertical-align: middle;\n",
       "    }\n",
       "\n",
       "    .dataframe tbody tr th {\n",
       "        vertical-align: top;\n",
       "    }\n",
       "\n",
       "    .dataframe thead th {\n",
       "        text-align: right;\n",
       "    }\n",
       "</style>\n",
       "<table border=\"1\" class=\"dataframe\">\n",
       "  <thead>\n",
       "    <tr style=\"text-align: right;\">\n",
       "      <th></th>\n",
       "      <th>count</th>\n",
       "    </tr>\n",
       "  </thead>\n",
       "  <tbody>\n",
       "    <tr>\n",
       "      <th>Unmatched</th>\n",
       "      <td>19393</td>\n",
       "    </tr>\n",
       "    <tr>\n",
       "      <th>Matched</th>\n",
       "      <td>56</td>\n",
       "    </tr>\n",
       "  </tbody>\n",
       "</table>\n",
       "</div>"
      ],
      "text/plain": [
       "           count\n",
       "Unmatched  19393\n",
       "Matched       56"
      ]
     },
     "execution_count": 30,
     "metadata": {},
     "output_type": "execute_result"
    }
   ],
   "source": [
    "irr_rows_df[\"STATUS\"].value_counts().to_frame('count')"
   ]
  },
  {
   "cell_type": "markdown",
   "metadata": {},
   "source": [
    "Now based on the above observations we can say that these situations did not cause any injuries (other than the 1 odd one), serious injuries or fatalities and they also tend to be biased towards the '0' category of the severity code. Moreover most of them are unmatched with the acutal incidents. So, lets drop those entries from our dataset."
   ]
  },
  {
   "cell_type": "code",
   "execution_count": 31,
   "metadata": {},
   "outputs": [
    {
     "data": {
      "text/plain": [
       "(201817, 40)"
      ]
     },
     "execution_count": 31,
     "metadata": {},
     "output_type": "execute_result"
    }
   ],
   "source": [
    "df_coll.drop(df_coll[(df_coll['PERSONCOUNT'] == 0) & \\\n",
    "                         (df_coll['PEDCOUNT'] == 0)& \\\n",
    "                         (df_coll['PEDCYLCOUNT'] == 0) & \\\n",
    "                         (df_coll['VEHCOUNT'] == 0)].index, inplace = True)\n",
    "\n",
    "df_coll.shape"
   ]
  },
  {
   "cell_type": "markdown",
   "metadata": {},
   "source": [
    "**Dropping the columns that are irrelevant to our final goal**"
   ]
  },
  {
   "cell_type": "code",
   "execution_count": 32,
   "metadata": {},
   "outputs": [
    {
     "data": {
      "text/plain": [
       "Index(['X', 'Y', 'OBJECTID', 'INCKEY', 'COLDETKEY', 'REPORTNO', 'STATUS',\n",
       "       'ADDRTYPE', 'INTKEY', 'LOCATION', 'EXCEPTRSNCODE', 'EXCEPTRSNDESC',\n",
       "       'SEVERITYCODE', 'SEVERITYDESC', 'COLLISIONTYPE', 'PERSONCOUNT',\n",
       "       'PEDCOUNT', 'PEDCYLCOUNT', 'VEHCOUNT', 'INJURIES', 'SERIOUSINJURIES',\n",
       "       'FATALITIES', 'INCDATE', 'INCDTTM', 'JUNCTIONTYPE', 'SDOT_COLCODE',\n",
       "       'SDOT_COLDESC', 'INATTENTIONIND', 'UNDERINFL', 'WEATHER', 'ROADCOND',\n",
       "       'LIGHTCOND', 'PEDROWNOTGRNT', 'SDOTCOLNUM', 'SPEEDING', 'ST_COLCODE',\n",
       "       'ST_COLDESC', 'SEGLANEKEY', 'CROSSWALKKEY', 'HITPARKEDCAR'],\n",
       "      dtype='object')"
      ]
     },
     "execution_count": 32,
     "metadata": {},
     "output_type": "execute_result"
    }
   ],
   "source": [
    "df_coll.columns"
   ]
  },
  {
   "cell_type": "code",
   "execution_count": 33,
   "metadata": {
    "scrolled": false
   },
   "outputs": [
    {
     "data": {
      "text/html": [
       "<div>\n",
       "<style scoped>\n",
       "    .dataframe tbody tr th:only-of-type {\n",
       "        vertical-align: middle;\n",
       "    }\n",
       "\n",
       "    .dataframe tbody tr th {\n",
       "        vertical-align: top;\n",
       "    }\n",
       "\n",
       "    .dataframe thead th {\n",
       "        text-align: right;\n",
       "    }\n",
       "</style>\n",
       "<table border=\"1\" class=\"dataframe\">\n",
       "  <thead>\n",
       "    <tr style=\"text-align: right;\">\n",
       "      <th></th>\n",
       "      <th>X</th>\n",
       "      <th>Y</th>\n",
       "      <th>ADDRTYPE</th>\n",
       "      <th>SEVERITYCODE</th>\n",
       "      <th>PERSONCOUNT</th>\n",
       "      <th>PEDCOUNT</th>\n",
       "      <th>PEDCYLCOUNT</th>\n",
       "      <th>VEHCOUNT</th>\n",
       "      <th>JUNCTIONTYPE</th>\n",
       "      <th>INATTENTIONIND</th>\n",
       "      <th>UNDERINFL</th>\n",
       "      <th>WEATHER</th>\n",
       "      <th>ROADCOND</th>\n",
       "      <th>LIGHTCOND</th>\n",
       "      <th>SPEEDING</th>\n",
       "    </tr>\n",
       "  </thead>\n",
       "  <tbody>\n",
       "    <tr>\n",
       "      <th>0</th>\n",
       "      <td>-122.386772</td>\n",
       "      <td>47.564720</td>\n",
       "      <td>Intersection</td>\n",
       "      <td>2</td>\n",
       "      <td>2</td>\n",
       "      <td>1</td>\n",
       "      <td>0</td>\n",
       "      <td>1</td>\n",
       "      <td>At Intersection (intersection related)</td>\n",
       "      <td>NaN</td>\n",
       "      <td>N</td>\n",
       "      <td>Clear</td>\n",
       "      <td>Dry</td>\n",
       "      <td>Daylight</td>\n",
       "      <td>NaN</td>\n",
       "    </tr>\n",
       "    <tr>\n",
       "      <th>1</th>\n",
       "      <td>-122.341806</td>\n",
       "      <td>47.686934</td>\n",
       "      <td>Intersection</td>\n",
       "      <td>2</td>\n",
       "      <td>4</td>\n",
       "      <td>0</td>\n",
       "      <td>0</td>\n",
       "      <td>2</td>\n",
       "      <td>At Intersection (intersection related)</td>\n",
       "      <td>NaN</td>\n",
       "      <td>N</td>\n",
       "      <td>Raining</td>\n",
       "      <td>Wet</td>\n",
       "      <td>Dark - Street Lights On</td>\n",
       "      <td>NaN</td>\n",
       "    </tr>\n",
       "    <tr>\n",
       "      <th>2</th>\n",
       "      <td>-122.374899</td>\n",
       "      <td>47.668666</td>\n",
       "      <td>Block</td>\n",
       "      <td>1</td>\n",
       "      <td>4</td>\n",
       "      <td>0</td>\n",
       "      <td>0</td>\n",
       "      <td>3</td>\n",
       "      <td>Mid-Block (not related to intersection)</td>\n",
       "      <td>NaN</td>\n",
       "      <td>N</td>\n",
       "      <td>Clear</td>\n",
       "      <td>Dry</td>\n",
       "      <td>Daylight</td>\n",
       "      <td>NaN</td>\n",
       "    </tr>\n",
       "    <tr>\n",
       "      <th>3</th>\n",
       "      <td>-122.300758</td>\n",
       "      <td>47.683047</td>\n",
       "      <td>Intersection</td>\n",
       "      <td>1</td>\n",
       "      <td>2</td>\n",
       "      <td>0</td>\n",
       "      <td>0</td>\n",
       "      <td>2</td>\n",
       "      <td>At Intersection (intersection related)</td>\n",
       "      <td>NaN</td>\n",
       "      <td>0</td>\n",
       "      <td>Raining</td>\n",
       "      <td>Wet</td>\n",
       "      <td>Dark - Street Lights On</td>\n",
       "      <td>NaN</td>\n",
       "    </tr>\n",
       "    <tr>\n",
       "      <th>6</th>\n",
       "      <td>-122.323569</td>\n",
       "      <td>47.722577</td>\n",
       "      <td>Block</td>\n",
       "      <td>1</td>\n",
       "      <td>2</td>\n",
       "      <td>0</td>\n",
       "      <td>0</td>\n",
       "      <td>2</td>\n",
       "      <td>Mid-Block (not related to intersection)</td>\n",
       "      <td>NaN</td>\n",
       "      <td>N</td>\n",
       "      <td>Clear</td>\n",
       "      <td>Dry</td>\n",
       "      <td>Dark - Street Lights On</td>\n",
       "      <td>NaN</td>\n",
       "    </tr>\n",
       "  </tbody>\n",
       "</table>\n",
       "</div>"
      ],
      "text/plain": [
       "            X          Y      ADDRTYPE SEVERITYCODE  PERSONCOUNT  PEDCOUNT  \\\n",
       "0 -122.386772  47.564720  Intersection            2            2         1   \n",
       "1 -122.341806  47.686934  Intersection            2            4         0   \n",
       "2 -122.374899  47.668666         Block            1            4         0   \n",
       "3 -122.300758  47.683047  Intersection            1            2         0   \n",
       "6 -122.323569  47.722577         Block            1            2         0   \n",
       "\n",
       "   PEDCYLCOUNT  VEHCOUNT                             JUNCTIONTYPE  \\\n",
       "0            0         1   At Intersection (intersection related)   \n",
       "1            0         2   At Intersection (intersection related)   \n",
       "2            0         3  Mid-Block (not related to intersection)   \n",
       "3            0         2   At Intersection (intersection related)   \n",
       "6            0         2  Mid-Block (not related to intersection)   \n",
       "\n",
       "  INATTENTIONIND UNDERINFL  WEATHER ROADCOND                LIGHTCOND SPEEDING  \n",
       "0            NaN         N    Clear      Dry                 Daylight      NaN  \n",
       "1            NaN         N  Raining      Wet  Dark - Street Lights On      NaN  \n",
       "2            NaN         N    Clear      Dry                 Daylight      NaN  \n",
       "3            NaN         0  Raining      Wet  Dark - Street Lights On      NaN  \n",
       "6            NaN         N    Clear      Dry  Dark - Street Lights On      NaN  "
      ]
     },
     "execution_count": 33,
     "metadata": {},
     "output_type": "execute_result"
    }
   ],
   "source": [
    "df_coll_rel = df_coll.drop(['OBJECTID', 'INCKEY', 'COLDETKEY', 'REPORTNO', 'STATUS', 'INTKEY', 'LOCATION', \\\n",
    "                            'EXCEPTRSNCODE', 'EXCEPTRSNDESC', 'SEVERITYDESC', 'COLLISIONTYPE', 'INJURIES', \\\n",
    "                            'SERIOUSINJURIES', 'FATALITIES', 'INCDATE', 'INCDTTM', 'SDOT_COLCODE','SDOT_COLDESC', \\\n",
    "                            'PEDROWNOTGRNT', 'SDOTCOLNUM', 'ST_COLCODE', 'ST_COLDESC', 'SEGLANEKEY', \\\n",
    "                            'CROSSWALKKEY', 'HITPARKEDCAR'],axis=1)\n",
    "\n",
    "df_coll_rel.head(5) # The relevant dataframe"
   ]
  },
  {
   "cell_type": "markdown",
   "metadata": {},
   "source": [
    "**We would also drop the `X` and `Y` coordinates as we want our model to be independent of the location of the accidents, rather we would keep the `ADDRTYPE` and `JUNCTIONTYPE` columns to include the properties of the locations where the accidents took place**"
   ]
  },
  {
   "cell_type": "code",
   "execution_count": 34,
   "metadata": {
    "scrolled": true
   },
   "outputs": [
    {
     "data": {
      "text/html": [
       "<div>\n",
       "<style scoped>\n",
       "    .dataframe tbody tr th:only-of-type {\n",
       "        vertical-align: middle;\n",
       "    }\n",
       "\n",
       "    .dataframe tbody tr th {\n",
       "        vertical-align: top;\n",
       "    }\n",
       "\n",
       "    .dataframe thead th {\n",
       "        text-align: right;\n",
       "    }\n",
       "</style>\n",
       "<table border=\"1\" class=\"dataframe\">\n",
       "  <thead>\n",
       "    <tr style=\"text-align: right;\">\n",
       "      <th></th>\n",
       "      <th>ADDRTYPE</th>\n",
       "      <th>SEVERITYCODE</th>\n",
       "      <th>PERSONCOUNT</th>\n",
       "      <th>PEDCOUNT</th>\n",
       "      <th>PEDCYLCOUNT</th>\n",
       "      <th>VEHCOUNT</th>\n",
       "      <th>JUNCTIONTYPE</th>\n",
       "      <th>INATTENTIONIND</th>\n",
       "      <th>UNDERINFL</th>\n",
       "      <th>WEATHER</th>\n",
       "      <th>ROADCOND</th>\n",
       "      <th>LIGHTCOND</th>\n",
       "      <th>SPEEDING</th>\n",
       "    </tr>\n",
       "  </thead>\n",
       "  <tbody>\n",
       "    <tr>\n",
       "      <th>0</th>\n",
       "      <td>Intersection</td>\n",
       "      <td>2</td>\n",
       "      <td>2</td>\n",
       "      <td>1</td>\n",
       "      <td>0</td>\n",
       "      <td>1</td>\n",
       "      <td>At Intersection (intersection related)</td>\n",
       "      <td>NaN</td>\n",
       "      <td>N</td>\n",
       "      <td>Clear</td>\n",
       "      <td>Dry</td>\n",
       "      <td>Daylight</td>\n",
       "      <td>NaN</td>\n",
       "    </tr>\n",
       "    <tr>\n",
       "      <th>1</th>\n",
       "      <td>Intersection</td>\n",
       "      <td>2</td>\n",
       "      <td>4</td>\n",
       "      <td>0</td>\n",
       "      <td>0</td>\n",
       "      <td>2</td>\n",
       "      <td>At Intersection (intersection related)</td>\n",
       "      <td>NaN</td>\n",
       "      <td>N</td>\n",
       "      <td>Raining</td>\n",
       "      <td>Wet</td>\n",
       "      <td>Dark - Street Lights On</td>\n",
       "      <td>NaN</td>\n",
       "    </tr>\n",
       "    <tr>\n",
       "      <th>2</th>\n",
       "      <td>Block</td>\n",
       "      <td>1</td>\n",
       "      <td>4</td>\n",
       "      <td>0</td>\n",
       "      <td>0</td>\n",
       "      <td>3</td>\n",
       "      <td>Mid-Block (not related to intersection)</td>\n",
       "      <td>NaN</td>\n",
       "      <td>N</td>\n",
       "      <td>Clear</td>\n",
       "      <td>Dry</td>\n",
       "      <td>Daylight</td>\n",
       "      <td>NaN</td>\n",
       "    </tr>\n",
       "    <tr>\n",
       "      <th>3</th>\n",
       "      <td>Intersection</td>\n",
       "      <td>1</td>\n",
       "      <td>2</td>\n",
       "      <td>0</td>\n",
       "      <td>0</td>\n",
       "      <td>2</td>\n",
       "      <td>At Intersection (intersection related)</td>\n",
       "      <td>NaN</td>\n",
       "      <td>0</td>\n",
       "      <td>Raining</td>\n",
       "      <td>Wet</td>\n",
       "      <td>Dark - Street Lights On</td>\n",
       "      <td>NaN</td>\n",
       "    </tr>\n",
       "    <tr>\n",
       "      <th>6</th>\n",
       "      <td>Block</td>\n",
       "      <td>1</td>\n",
       "      <td>2</td>\n",
       "      <td>0</td>\n",
       "      <td>0</td>\n",
       "      <td>2</td>\n",
       "      <td>Mid-Block (not related to intersection)</td>\n",
       "      <td>NaN</td>\n",
       "      <td>N</td>\n",
       "      <td>Clear</td>\n",
       "      <td>Dry</td>\n",
       "      <td>Dark - Street Lights On</td>\n",
       "      <td>NaN</td>\n",
       "    </tr>\n",
       "  </tbody>\n",
       "</table>\n",
       "</div>"
      ],
      "text/plain": [
       "       ADDRTYPE SEVERITYCODE  PERSONCOUNT  PEDCOUNT  PEDCYLCOUNT  VEHCOUNT  \\\n",
       "0  Intersection            2            2         1            0         1   \n",
       "1  Intersection            2            4         0            0         2   \n",
       "2         Block            1            4         0            0         3   \n",
       "3  Intersection            1            2         0            0         2   \n",
       "6         Block            1            2         0            0         2   \n",
       "\n",
       "                              JUNCTIONTYPE INATTENTIONIND UNDERINFL  WEATHER  \\\n",
       "0   At Intersection (intersection related)            NaN         N    Clear   \n",
       "1   At Intersection (intersection related)            NaN         N  Raining   \n",
       "2  Mid-Block (not related to intersection)            NaN         N    Clear   \n",
       "3   At Intersection (intersection related)            NaN         0  Raining   \n",
       "6  Mid-Block (not related to intersection)            NaN         N    Clear   \n",
       "\n",
       "  ROADCOND                LIGHTCOND SPEEDING  \n",
       "0      Dry                 Daylight      NaN  \n",
       "1      Wet  Dark - Street Lights On      NaN  \n",
       "2      Dry                 Daylight      NaN  \n",
       "3      Wet  Dark - Street Lights On      NaN  \n",
       "6      Dry  Dark - Street Lights On      NaN  "
      ]
     },
     "execution_count": 34,
     "metadata": {},
     "output_type": "execute_result"
    }
   ],
   "source": [
    "df_coll_rel.drop(['X', 'Y'],axis=1, inplace = True)\n",
    "df_coll_rel.head(5)"
   ]
  },
  {
   "cell_type": "markdown",
   "metadata": {},
   "source": [
    "**Checking for missing values in the relevant dataframe and dealing with them**"
   ]
  },
  {
   "cell_type": "code",
   "execution_count": 35,
   "metadata": {
    "scrolled": true
   },
   "outputs": [
    {
     "data": {
      "text/plain": [
       "ADDRTYPE            2011\n",
       "SEVERITYCODE           1\n",
       "PERSONCOUNT            0\n",
       "PEDCOUNT               0\n",
       "PEDCYLCOUNT            0\n",
       "VEHCOUNT               0\n",
       "JUNCTIONTYPE        6576\n",
       "INATTENTIONIND    171629\n",
       "UNDERINFL           7030\n",
       "WEATHER             7240\n",
       "ROADCOND            7160\n",
       "LIGHTCOND           7328\n",
       "SPEEDING          191904\n",
       "dtype: int64"
      ]
     },
     "execution_count": 35,
     "metadata": {},
     "output_type": "execute_result"
    }
   ],
   "source": [
    "df_coll_rel.isnull().sum()"
   ]
  },
  {
   "cell_type": "code",
   "execution_count": 36,
   "metadata": {
    "scrolled": true
   },
   "outputs": [
    {
     "data": {
      "text/plain": [
       "ADDRTYPE            2011\n",
       "SEVERITYCODE           0\n",
       "PERSONCOUNT            0\n",
       "PEDCOUNT               0\n",
       "PEDCYLCOUNT            0\n",
       "VEHCOUNT               0\n",
       "JUNCTIONTYPE        6576\n",
       "INATTENTIONIND    171628\n",
       "UNDERINFL           7030\n",
       "WEATHER             7240\n",
       "ROADCOND            7160\n",
       "LIGHTCOND           7328\n",
       "SPEEDING          191903\n",
       "dtype: int64"
      ]
     },
     "execution_count": 36,
     "metadata": {},
     "output_type": "execute_result"
    }
   ],
   "source": [
    "# removing the entire row where 'SEVERITYCODE' is NULL\n",
    "\n",
    "df_coll_rel.dropna(subset=['SEVERITYCODE'], inplace = True)\n",
    "\n",
    "df_coll_rel.isnull().sum()"
   ]
  },
  {
   "cell_type": "code",
   "execution_count": 37,
   "metadata": {
    "scrolled": true
   },
   "outputs": [
    {
     "data": {
      "text/html": [
       "<div>\n",
       "<style scoped>\n",
       "    .dataframe tbody tr th:only-of-type {\n",
       "        vertical-align: middle;\n",
       "    }\n",
       "\n",
       "    .dataframe tbody tr th {\n",
       "        vertical-align: top;\n",
       "    }\n",
       "\n",
       "    .dataframe thead th {\n",
       "        text-align: right;\n",
       "    }\n",
       "</style>\n",
       "<table border=\"1\" class=\"dataframe\">\n",
       "  <thead>\n",
       "    <tr style=\"text-align: right;\">\n",
       "      <th></th>\n",
       "      <th>ADDRTYPE</th>\n",
       "      <th>SEVERITYCODE</th>\n",
       "      <th>PERSONCOUNT</th>\n",
       "      <th>PEDCOUNT</th>\n",
       "      <th>PEDCYLCOUNT</th>\n",
       "      <th>VEHCOUNT</th>\n",
       "      <th>JUNCTIONTYPE</th>\n",
       "      <th>INATTENTIONIND</th>\n",
       "      <th>UNDERINFL</th>\n",
       "      <th>WEATHER</th>\n",
       "      <th>ROADCOND</th>\n",
       "      <th>LIGHTCOND</th>\n",
       "      <th>SPEEDING</th>\n",
       "    </tr>\n",
       "  </thead>\n",
       "  <tbody>\n",
       "    <tr>\n",
       "      <th>0</th>\n",
       "      <td>Intersection</td>\n",
       "      <td>2</td>\n",
       "      <td>2</td>\n",
       "      <td>1</td>\n",
       "      <td>0</td>\n",
       "      <td>1</td>\n",
       "      <td>At Intersection (intersection related)</td>\n",
       "      <td>NaN</td>\n",
       "      <td>N</td>\n",
       "      <td>Clear</td>\n",
       "      <td>Dry</td>\n",
       "      <td>Daylight</td>\n",
       "      <td>NaN</td>\n",
       "    </tr>\n",
       "    <tr>\n",
       "      <th>1</th>\n",
       "      <td>Intersection</td>\n",
       "      <td>2</td>\n",
       "      <td>4</td>\n",
       "      <td>0</td>\n",
       "      <td>0</td>\n",
       "      <td>2</td>\n",
       "      <td>At Intersection (intersection related)</td>\n",
       "      <td>NaN</td>\n",
       "      <td>N</td>\n",
       "      <td>Raining</td>\n",
       "      <td>Wet</td>\n",
       "      <td>Dark - Street Lights On</td>\n",
       "      <td>NaN</td>\n",
       "    </tr>\n",
       "    <tr>\n",
       "      <th>2</th>\n",
       "      <td>Block</td>\n",
       "      <td>1</td>\n",
       "      <td>4</td>\n",
       "      <td>0</td>\n",
       "      <td>0</td>\n",
       "      <td>3</td>\n",
       "      <td>Mid-Block (not related to intersection)</td>\n",
       "      <td>NaN</td>\n",
       "      <td>N</td>\n",
       "      <td>Clear</td>\n",
       "      <td>Dry</td>\n",
       "      <td>Daylight</td>\n",
       "      <td>NaN</td>\n",
       "    </tr>\n",
       "    <tr>\n",
       "      <th>3</th>\n",
       "      <td>Intersection</td>\n",
       "      <td>1</td>\n",
       "      <td>2</td>\n",
       "      <td>0</td>\n",
       "      <td>0</td>\n",
       "      <td>2</td>\n",
       "      <td>At Intersection (intersection related)</td>\n",
       "      <td>NaN</td>\n",
       "      <td>0</td>\n",
       "      <td>Raining</td>\n",
       "      <td>Wet</td>\n",
       "      <td>Dark - Street Lights On</td>\n",
       "      <td>NaN</td>\n",
       "    </tr>\n",
       "    <tr>\n",
       "      <th>6</th>\n",
       "      <td>Block</td>\n",
       "      <td>1</td>\n",
       "      <td>2</td>\n",
       "      <td>0</td>\n",
       "      <td>0</td>\n",
       "      <td>2</td>\n",
       "      <td>Mid-Block (not related to intersection)</td>\n",
       "      <td>NaN</td>\n",
       "      <td>N</td>\n",
       "      <td>Clear</td>\n",
       "      <td>Dry</td>\n",
       "      <td>Dark - Street Lights On</td>\n",
       "      <td>NaN</td>\n",
       "    </tr>\n",
       "  </tbody>\n",
       "</table>\n",
       "</div>"
      ],
      "text/plain": [
       "       ADDRTYPE SEVERITYCODE  PERSONCOUNT  PEDCOUNT  PEDCYLCOUNT  VEHCOUNT  \\\n",
       "0  Intersection            2            2         1            0         1   \n",
       "1  Intersection            2            4         0            0         2   \n",
       "2         Block            1            4         0            0         3   \n",
       "3  Intersection            1            2         0            0         2   \n",
       "6         Block            1            2         0            0         2   \n",
       "\n",
       "                              JUNCTIONTYPE INATTENTIONIND UNDERINFL  WEATHER  \\\n",
       "0   At Intersection (intersection related)            NaN         N    Clear   \n",
       "1   At Intersection (intersection related)            NaN         N  Raining   \n",
       "2  Mid-Block (not related to intersection)            NaN         N    Clear   \n",
       "3   At Intersection (intersection related)            NaN         0  Raining   \n",
       "6  Mid-Block (not related to intersection)            NaN         N    Clear   \n",
       "\n",
       "  ROADCOND                LIGHTCOND SPEEDING  \n",
       "0      Dry                 Daylight      NaN  \n",
       "1      Wet  Dark - Street Lights On      NaN  \n",
       "2      Dry                 Daylight      NaN  \n",
       "3      Wet  Dark - Street Lights On      NaN  \n",
       "6      Dry  Dark - Street Lights On      NaN  "
      ]
     },
     "execution_count": 37,
     "metadata": {},
     "output_type": "execute_result"
    }
   ],
   "source": [
    "# Labeling the missing values for the categorical variables 'ADDRTYPE', \n",
    "# 'JUNCTIONTYPE', 'WEATHER', 'ROADCOND' and 'LIGHTCOND' to \"Other\"\n",
    "\n",
    "\n",
    "df_coll_rel['ADDRTYPE'] = df_coll_rel['ADDRTYPE'].fillna(0)\n",
    "df_coll_rel['ADDRTYPE'] = df_coll_rel['ADDRTYPE'].replace(0,'Other')\n",
    "\n",
    "df_coll_rel['JUNCTIONTYPE'] = df_coll_rel['JUNCTIONTYPE'].fillna(0)\n",
    "df_coll_rel['JUNCTIONTYPE'] = df_coll_rel['JUNCTIONTYPE'].replace(0,'Other')\n",
    "\n",
    "df_coll_rel['WEATHER'] = df_coll_rel['WEATHER'].fillna(0)\n",
    "df_coll_rel['WEATHER'] = df_coll_rel['WEATHER'].replace(0,'Unspecified')\n",
    "\n",
    "df_coll_rel['ROADCOND'] = df_coll_rel['ROADCOND'].fillna(0)\n",
    "df_coll_rel['ROADCOND'] = df_coll_rel['ROADCOND'].replace(0,'Unspecified')\n",
    "\n",
    "df_coll_rel['LIGHTCOND'] = df_coll_rel['LIGHTCOND'].fillna(0)\n",
    "df_coll_rel['LIGHTCOND'] = df_coll_rel['LIGHTCOND'].replace(0,'Unspecified')\n",
    "\n",
    "\n",
    "df_coll_rel.head(5)"
   ]
  },
  {
   "cell_type": "code",
   "execution_count": 38,
   "metadata": {
    "scrolled": true
   },
   "outputs": [
    {
     "data": {
      "text/plain": [
       "ADDRTYPE               0\n",
       "SEVERITYCODE           0\n",
       "PERSONCOUNT            0\n",
       "PEDCOUNT               0\n",
       "PEDCYLCOUNT            0\n",
       "VEHCOUNT               0\n",
       "JUNCTIONTYPE           0\n",
       "INATTENTIONIND    171628\n",
       "UNDERINFL           7030\n",
       "WEATHER                0\n",
       "ROADCOND               0\n",
       "LIGHTCOND              0\n",
       "SPEEDING          191903\n",
       "dtype: int64"
      ]
     },
     "execution_count": 38,
     "metadata": {},
     "output_type": "execute_result"
    }
   ],
   "source": [
    "df_coll_rel.isnull().sum()"
   ]
  },
  {
   "cell_type": "code",
   "execution_count": 39,
   "metadata": {},
   "outputs": [
    {
     "data": {
      "text/html": [
       "<div>\n",
       "<style scoped>\n",
       "    .dataframe tbody tr th:only-of-type {\n",
       "        vertical-align: middle;\n",
       "    }\n",
       "\n",
       "    .dataframe tbody tr th {\n",
       "        vertical-align: top;\n",
       "    }\n",
       "\n",
       "    .dataframe thead th {\n",
       "        text-align: right;\n",
       "    }\n",
       "</style>\n",
       "<table border=\"1\" class=\"dataframe\">\n",
       "  <thead>\n",
       "    <tr style=\"text-align: right;\">\n",
       "      <th></th>\n",
       "      <th>count</th>\n",
       "    </tr>\n",
       "  </thead>\n",
       "  <tbody>\n",
       "    <tr>\n",
       "      <th>Y</th>\n",
       "      <td>30188</td>\n",
       "    </tr>\n",
       "  </tbody>\n",
       "</table>\n",
       "</div>"
      ],
      "text/plain": [
       "   count\n",
       "Y  30188"
      ]
     },
     "execution_count": 39,
     "metadata": {},
     "output_type": "execute_result"
    }
   ],
   "source": [
    "df_coll_rel['INATTENTIONIND'].value_counts().to_frame('count')"
   ]
  },
  {
   "cell_type": "code",
   "execution_count": 40,
   "metadata": {},
   "outputs": [
    {
     "data": {
      "text/html": [
       "<div>\n",
       "<style scoped>\n",
       "    .dataframe tbody tr th:only-of-type {\n",
       "        vertical-align: middle;\n",
       "    }\n",
       "\n",
       "    .dataframe tbody tr th {\n",
       "        vertical-align: top;\n",
       "    }\n",
       "\n",
       "    .dataframe thead th {\n",
       "        text-align: right;\n",
       "    }\n",
       "</style>\n",
       "<table border=\"1\" class=\"dataframe\">\n",
       "  <thead>\n",
       "    <tr style=\"text-align: right;\">\n",
       "      <th></th>\n",
       "      <th>count</th>\n",
       "    </tr>\n",
       "  </thead>\n",
       "  <tbody>\n",
       "    <tr>\n",
       "      <th>0</th>\n",
       "      <td>171628</td>\n",
       "    </tr>\n",
       "    <tr>\n",
       "      <th>1</th>\n",
       "      <td>30188</td>\n",
       "    </tr>\n",
       "  </tbody>\n",
       "</table>\n",
       "</div>"
      ],
      "text/plain": [
       "    count\n",
       "0  171628\n",
       "1   30188"
      ]
     },
     "execution_count": 40,
     "metadata": {},
     "output_type": "execute_result"
    }
   ],
   "source": [
    "# replacing the missing values in the 'INATTENTIONIND' column with 0 and 'Y' with 1\n",
    "\n",
    "df_coll_rel['INATTENTIONIND'] = df_coll_rel['INATTENTIONIND'].fillna(0)\n",
    "df_coll_rel['INATTENTIONIND'] = df_coll_rel['INATTENTIONIND'].replace('Y',1)\n",
    "\n",
    "df_coll_rel['INATTENTIONIND'].value_counts().to_frame('count')"
   ]
  },
  {
   "cell_type": "code",
   "execution_count": 41,
   "metadata": {
    "scrolled": true
   },
   "outputs": [
    {
     "data": {
      "text/html": [
       "<div>\n",
       "<style scoped>\n",
       "    .dataframe tbody tr th:only-of-type {\n",
       "        vertical-align: middle;\n",
       "    }\n",
       "\n",
       "    .dataframe tbody tr th {\n",
       "        vertical-align: top;\n",
       "    }\n",
       "\n",
       "    .dataframe thead th {\n",
       "        text-align: right;\n",
       "    }\n",
       "</style>\n",
       "<table border=\"1\" class=\"dataframe\">\n",
       "  <thead>\n",
       "    <tr style=\"text-align: right;\">\n",
       "      <th></th>\n",
       "      <th>count</th>\n",
       "    </tr>\n",
       "  </thead>\n",
       "  <tbody>\n",
       "    <tr>\n",
       "      <th>N</th>\n",
       "      <td>103481</td>\n",
       "    </tr>\n",
       "    <tr>\n",
       "      <th>0</th>\n",
       "      <td>81676</td>\n",
       "    </tr>\n",
       "    <tr>\n",
       "      <th>Y</th>\n",
       "      <td>5399</td>\n",
       "    </tr>\n",
       "    <tr>\n",
       "      <th>1</th>\n",
       "      <td>4230</td>\n",
       "    </tr>\n",
       "  </tbody>\n",
       "</table>\n",
       "</div>"
      ],
      "text/plain": [
       "    count\n",
       "N  103481\n",
       "0   81676\n",
       "Y    5399\n",
       "1    4230"
      ]
     },
     "execution_count": 41,
     "metadata": {},
     "output_type": "execute_result"
    }
   ],
   "source": [
    "df_coll_rel['UNDERINFL'].value_counts().to_frame('count')"
   ]
  },
  {
   "cell_type": "code",
   "execution_count": 42,
   "metadata": {},
   "outputs": [
    {
     "data": {
      "text/html": [
       "<div>\n",
       "<style scoped>\n",
       "    .dataframe tbody tr th:only-of-type {\n",
       "        vertical-align: middle;\n",
       "    }\n",
       "\n",
       "    .dataframe tbody tr th {\n",
       "        vertical-align: top;\n",
       "    }\n",
       "\n",
       "    .dataframe thead th {\n",
       "        text-align: right;\n",
       "    }\n",
       "</style>\n",
       "<table border=\"1\" class=\"dataframe\">\n",
       "  <thead>\n",
       "    <tr style=\"text-align: right;\">\n",
       "      <th></th>\n",
       "      <th>count</th>\n",
       "    </tr>\n",
       "  </thead>\n",
       "  <tbody>\n",
       "    <tr>\n",
       "      <th>N</th>\n",
       "      <td>185157</td>\n",
       "    </tr>\n",
       "    <tr>\n",
       "      <th>Y</th>\n",
       "      <td>9629</td>\n",
       "    </tr>\n",
       "    <tr>\n",
       "      <th>UN</th>\n",
       "      <td>7030</td>\n",
       "    </tr>\n",
       "  </tbody>\n",
       "</table>\n",
       "</div>"
      ],
      "text/plain": [
       "     count\n",
       "N   185157\n",
       "Y     9629\n",
       "UN    7030"
      ]
     },
     "execution_count": 42,
     "metadata": {},
     "output_type": "execute_result"
    }
   ],
   "source": [
    "# keeping the labels of the 'UNDERINFL' columns cateorical as of now\n",
    "# replacing 0 with 'N' and 1 with 'Y' and the NaN values with 'UN' (stands for 'Unknown')\n",
    "\n",
    "df_coll_rel['UNDERINFL'] = df_coll_rel['UNDERINFL'].replace('1', 'Y')\n",
    "df_coll_rel['UNDERINFL'] = df_coll_rel['UNDERINFL'].replace('0', 'N')\n",
    "\n",
    "df_coll_rel['UNDERINFL'] = df_coll_rel['UNDERINFL'].fillna(2)\n",
    "df_coll_rel['UNDERINFL'] = df_coll_rel['UNDERINFL'].replace(2,'UN')\n",
    "\n",
    "\n",
    "df_coll_rel['UNDERINFL'].value_counts().to_frame('count')"
   ]
  },
  {
   "cell_type": "code",
   "execution_count": 43,
   "metadata": {},
   "outputs": [
    {
     "data": {
      "text/html": [
       "<div>\n",
       "<style scoped>\n",
       "    .dataframe tbody tr th:only-of-type {\n",
       "        vertical-align: middle;\n",
       "    }\n",
       "\n",
       "    .dataframe tbody tr th {\n",
       "        vertical-align: top;\n",
       "    }\n",
       "\n",
       "    .dataframe thead th {\n",
       "        text-align: right;\n",
       "    }\n",
       "</style>\n",
       "<table border=\"1\" class=\"dataframe\">\n",
       "  <thead>\n",
       "    <tr style=\"text-align: right;\">\n",
       "      <th></th>\n",
       "      <th>count</th>\n",
       "    </tr>\n",
       "  </thead>\n",
       "  <tbody>\n",
       "    <tr>\n",
       "      <th>Y</th>\n",
       "      <td>9913</td>\n",
       "    </tr>\n",
       "  </tbody>\n",
       "</table>\n",
       "</div>"
      ],
      "text/plain": [
       "   count\n",
       "Y   9913"
      ]
     },
     "execution_count": 43,
     "metadata": {},
     "output_type": "execute_result"
    }
   ],
   "source": [
    "df_coll_rel['SPEEDING'].value_counts().to_frame('count')"
   ]
  },
  {
   "cell_type": "code",
   "execution_count": 44,
   "metadata": {},
   "outputs": [
    {
     "data": {
      "text/html": [
       "<div>\n",
       "<style scoped>\n",
       "    .dataframe tbody tr th:only-of-type {\n",
       "        vertical-align: middle;\n",
       "    }\n",
       "\n",
       "    .dataframe tbody tr th {\n",
       "        vertical-align: top;\n",
       "    }\n",
       "\n",
       "    .dataframe thead th {\n",
       "        text-align: right;\n",
       "    }\n",
       "</style>\n",
       "<table border=\"1\" class=\"dataframe\">\n",
       "  <thead>\n",
       "    <tr style=\"text-align: right;\">\n",
       "      <th></th>\n",
       "      <th>count</th>\n",
       "    </tr>\n",
       "  </thead>\n",
       "  <tbody>\n",
       "    <tr>\n",
       "      <th>0</th>\n",
       "      <td>191903</td>\n",
       "    </tr>\n",
       "    <tr>\n",
       "      <th>1</th>\n",
       "      <td>9913</td>\n",
       "    </tr>\n",
       "  </tbody>\n",
       "</table>\n",
       "</div>"
      ],
      "text/plain": [
       "    count\n",
       "0  191903\n",
       "1    9913"
      ]
     },
     "execution_count": 44,
     "metadata": {},
     "output_type": "execute_result"
    }
   ],
   "source": [
    "# replacing the labels of the 'SPEEDING' column, 'Y' with 1 and NaN values with 0\n",
    "\n",
    "df_coll_rel['SPEEDING'] = df_coll_rel['SPEEDING'].map({'Y': 1, np.nan : 0})\n",
    "\n",
    "df_coll_rel['SPEEDING'].value_counts().to_frame('count')"
   ]
  },
  {
   "cell_type": "markdown",
   "metadata": {},
   "source": [
    "**Deleting rows with too few values for a variable**"
   ]
  },
  {
   "cell_type": "code",
   "execution_count": 45,
   "metadata": {},
   "outputs": [
    {
     "data": {
      "text/html": [
       "<div>\n",
       "<style scoped>\n",
       "    .dataframe tbody tr th:only-of-type {\n",
       "        vertical-align: middle;\n",
       "    }\n",
       "\n",
       "    .dataframe tbody tr th {\n",
       "        vertical-align: top;\n",
       "    }\n",
       "\n",
       "    .dataframe thead th {\n",
       "        text-align: right;\n",
       "    }\n",
       "</style>\n",
       "<table border=\"1\" class=\"dataframe\">\n",
       "  <thead>\n",
       "    <tr style=\"text-align: right;\">\n",
       "      <th></th>\n",
       "      <th>count</th>\n",
       "    </tr>\n",
       "  </thead>\n",
       "  <tbody>\n",
       "    <tr>\n",
       "      <th>Clear</th>\n",
       "      <td>114361</td>\n",
       "    </tr>\n",
       "    <tr>\n",
       "      <th>Raining</th>\n",
       "      <td>34020</td>\n",
       "    </tr>\n",
       "    <tr>\n",
       "      <th>Overcast</th>\n",
       "      <td>28507</td>\n",
       "    </tr>\n",
       "    <tr>\n",
       "      <th>Unknown</th>\n",
       "      <td>15131</td>\n",
       "    </tr>\n",
       "    <tr>\n",
       "      <th>Unspecified</th>\n",
       "      <td>7240</td>\n",
       "    </tr>\n",
       "    <tr>\n",
       "      <th>Snowing</th>\n",
       "      <td>919</td>\n",
       "    </tr>\n",
       "    <tr>\n",
       "      <th>Other</th>\n",
       "      <td>853</td>\n",
       "    </tr>\n",
       "    <tr>\n",
       "      <th>Fog/Smog/Smoke</th>\n",
       "      <td>577</td>\n",
       "    </tr>\n",
       "    <tr>\n",
       "      <th>Sleet/Hail/Freezing Rain</th>\n",
       "      <td>116</td>\n",
       "    </tr>\n",
       "    <tr>\n",
       "      <th>Blowing Sand/Dirt</th>\n",
       "      <td>56</td>\n",
       "    </tr>\n",
       "    <tr>\n",
       "      <th>Severe Crosswind</th>\n",
       "      <td>26</td>\n",
       "    </tr>\n",
       "    <tr>\n",
       "      <th>Partly Cloudy</th>\n",
       "      <td>9</td>\n",
       "    </tr>\n",
       "    <tr>\n",
       "      <th>Blowing Snow</th>\n",
       "      <td>1</td>\n",
       "    </tr>\n",
       "  </tbody>\n",
       "</table>\n",
       "</div>"
      ],
      "text/plain": [
       "                           count\n",
       "Clear                     114361\n",
       "Raining                    34020\n",
       "Overcast                   28507\n",
       "Unknown                    15131\n",
       "Unspecified                 7240\n",
       "Snowing                      919\n",
       "Other                        853\n",
       "Fog/Smog/Smoke               577\n",
       "Sleet/Hail/Freezing Rain     116\n",
       "Blowing Sand/Dirt             56\n",
       "Severe Crosswind              26\n",
       "Partly Cloudy                  9\n",
       "Blowing Snow                   1"
      ]
     },
     "execution_count": 45,
     "metadata": {},
     "output_type": "execute_result"
    }
   ],
   "source": [
    "df_coll_rel['WEATHER'].value_counts().to_frame('count')"
   ]
  },
  {
   "cell_type": "code",
   "execution_count": 46,
   "metadata": {},
   "outputs": [
    {
     "data": {
      "text/html": [
       "<div>\n",
       "<style scoped>\n",
       "    .dataframe tbody tr th:only-of-type {\n",
       "        vertical-align: middle;\n",
       "    }\n",
       "\n",
       "    .dataframe tbody tr th {\n",
       "        vertical-align: top;\n",
       "    }\n",
       "\n",
       "    .dataframe thead th {\n",
       "        text-align: right;\n",
       "    }\n",
       "</style>\n",
       "<table border=\"1\" class=\"dataframe\">\n",
       "  <thead>\n",
       "    <tr style=\"text-align: right;\">\n",
       "      <th></th>\n",
       "      <th>count</th>\n",
       "    </tr>\n",
       "  </thead>\n",
       "  <tbody>\n",
       "    <tr>\n",
       "      <th>Clear</th>\n",
       "      <td>114361</td>\n",
       "    </tr>\n",
       "    <tr>\n",
       "      <th>Raining</th>\n",
       "      <td>34020</td>\n",
       "    </tr>\n",
       "    <tr>\n",
       "      <th>Overcast</th>\n",
       "      <td>28507</td>\n",
       "    </tr>\n",
       "    <tr>\n",
       "      <th>Unknown</th>\n",
       "      <td>15131</td>\n",
       "    </tr>\n",
       "    <tr>\n",
       "      <th>Unspecified</th>\n",
       "      <td>7240</td>\n",
       "    </tr>\n",
       "    <tr>\n",
       "      <th>Snowing</th>\n",
       "      <td>919</td>\n",
       "    </tr>\n",
       "    <tr>\n",
       "      <th>Other</th>\n",
       "      <td>853</td>\n",
       "    </tr>\n",
       "    <tr>\n",
       "      <th>Fog/Smog/Smoke</th>\n",
       "      <td>577</td>\n",
       "    </tr>\n",
       "    <tr>\n",
       "      <th>Sleet/Hail/Freezing Rain</th>\n",
       "      <td>116</td>\n",
       "    </tr>\n",
       "    <tr>\n",
       "      <th>Blowing Sand/Dirt</th>\n",
       "      <td>56</td>\n",
       "    </tr>\n",
       "    <tr>\n",
       "      <th>Severe Crosswind</th>\n",
       "      <td>26</td>\n",
       "    </tr>\n",
       "  </tbody>\n",
       "</table>\n",
       "</div>"
      ],
      "text/plain": [
       "                           count\n",
       "Clear                     114361\n",
       "Raining                    34020\n",
       "Overcast                   28507\n",
       "Unknown                    15131\n",
       "Unspecified                 7240\n",
       "Snowing                      919\n",
       "Other                        853\n",
       "Fog/Smog/Smoke               577\n",
       "Sleet/Hail/Freezing Rain     116\n",
       "Blowing Sand/Dirt             56\n",
       "Severe Crosswind              26"
      ]
     },
     "execution_count": 46,
     "metadata": {},
     "output_type": "execute_result"
    }
   ],
   "source": [
    "# deleting the rows with 'Blowing Snow' label and 'Pratly Cloudy' from the dataframe\n",
    "\n",
    "df_coll_rel.drop(df_coll_rel[(df_coll_rel['WEATHER'] == 'Blowing Snow') | \\\n",
    "                            (df_coll_rel['WEATHER'] == 'Partly Cloudy')].index, inplace = True)\n",
    "\n",
    "df_coll_rel['WEATHER'].value_counts().to_frame('count')"
   ]
  },
  {
   "cell_type": "code",
   "execution_count": 47,
   "metadata": {
    "scrolled": true
   },
   "outputs": [
    {
     "data": {
      "text/html": [
       "<div>\n",
       "<style scoped>\n",
       "    .dataframe tbody tr th:only-of-type {\n",
       "        vertical-align: middle;\n",
       "    }\n",
       "\n",
       "    .dataframe tbody tr th {\n",
       "        vertical-align: top;\n",
       "    }\n",
       "\n",
       "    .dataframe thead th {\n",
       "        text-align: right;\n",
       "    }\n",
       "</style>\n",
       "<table border=\"1\" class=\"dataframe\">\n",
       "  <thead>\n",
       "    <tr style=\"text-align: right;\">\n",
       "      <th></th>\n",
       "      <th>count</th>\n",
       "    </tr>\n",
       "  </thead>\n",
       "  <tbody>\n",
       "    <tr>\n",
       "      <th>Daylight</th>\n",
       "      <td>119160</td>\n",
       "    </tr>\n",
       "    <tr>\n",
       "      <th>Dark - Street Lights On</th>\n",
       "      <td>50049</td>\n",
       "    </tr>\n",
       "    <tr>\n",
       "      <th>Unknown</th>\n",
       "      <td>13523</td>\n",
       "    </tr>\n",
       "    <tr>\n",
       "      <th>Unspecified</th>\n",
       "      <td>7328</td>\n",
       "    </tr>\n",
       "    <tr>\n",
       "      <th>Dusk</th>\n",
       "      <td>6076</td>\n",
       "    </tr>\n",
       "    <tr>\n",
       "      <th>Dawn</th>\n",
       "      <td>2598</td>\n",
       "    </tr>\n",
       "    <tr>\n",
       "      <th>Dark - No Street Lights</th>\n",
       "      <td>1572</td>\n",
       "    </tr>\n",
       "    <tr>\n",
       "      <th>Dark - Street Lights Off</th>\n",
       "      <td>1236</td>\n",
       "    </tr>\n",
       "    <tr>\n",
       "      <th>Other</th>\n",
       "      <td>244</td>\n",
       "    </tr>\n",
       "    <tr>\n",
       "      <th>Dark - Unknown Lighting</th>\n",
       "      <td>20</td>\n",
       "    </tr>\n",
       "  </tbody>\n",
       "</table>\n",
       "</div>"
      ],
      "text/plain": [
       "                           count\n",
       "Daylight                  119160\n",
       "Dark - Street Lights On    50049\n",
       "Unknown                    13523\n",
       "Unspecified                 7328\n",
       "Dusk                        6076\n",
       "Dawn                        2598\n",
       "Dark - No Street Lights     1572\n",
       "Dark - Street Lights Off    1236\n",
       "Other                        244\n",
       "Dark - Unknown Lighting       20"
      ]
     },
     "execution_count": 47,
     "metadata": {},
     "output_type": "execute_result"
    }
   ],
   "source": [
    "df_coll_rel['LIGHTCOND'].value_counts().to_frame('count')"
   ]
  },
  {
   "cell_type": "code",
   "execution_count": 48,
   "metadata": {
    "scrolled": false
   },
   "outputs": [
    {
     "data": {
      "text/html": [
       "<div>\n",
       "<style scoped>\n",
       "    .dataframe tbody tr th:only-of-type {\n",
       "        vertical-align: middle;\n",
       "    }\n",
       "\n",
       "    .dataframe tbody tr th {\n",
       "        vertical-align: top;\n",
       "    }\n",
       "\n",
       "    .dataframe thead th {\n",
       "        text-align: right;\n",
       "    }\n",
       "</style>\n",
       "<table border=\"1\" class=\"dataframe\">\n",
       "  <thead>\n",
       "    <tr style=\"text-align: right;\">\n",
       "      <th></th>\n",
       "      <th>count</th>\n",
       "    </tr>\n",
       "  </thead>\n",
       "  <tbody>\n",
       "    <tr>\n",
       "      <th>Daylight</th>\n",
       "      <td>119160</td>\n",
       "    </tr>\n",
       "    <tr>\n",
       "      <th>Dark - Street Lights On</th>\n",
       "      <td>50049</td>\n",
       "    </tr>\n",
       "    <tr>\n",
       "      <th>Unknown</th>\n",
       "      <td>13523</td>\n",
       "    </tr>\n",
       "    <tr>\n",
       "      <th>Unspecified</th>\n",
       "      <td>7328</td>\n",
       "    </tr>\n",
       "    <tr>\n",
       "      <th>Dusk</th>\n",
       "      <td>6076</td>\n",
       "    </tr>\n",
       "    <tr>\n",
       "      <th>Dawn</th>\n",
       "      <td>2598</td>\n",
       "    </tr>\n",
       "    <tr>\n",
       "      <th>Dark - No Street Lights</th>\n",
       "      <td>1572</td>\n",
       "    </tr>\n",
       "    <tr>\n",
       "      <th>Dark - Street Lights Off</th>\n",
       "      <td>1236</td>\n",
       "    </tr>\n",
       "    <tr>\n",
       "      <th>Other</th>\n",
       "      <td>244</td>\n",
       "    </tr>\n",
       "  </tbody>\n",
       "</table>\n",
       "</div>"
      ],
      "text/plain": [
       "                           count\n",
       "Daylight                  119160\n",
       "Dark - Street Lights On    50049\n",
       "Unknown                    13523\n",
       "Unspecified                 7328\n",
       "Dusk                        6076\n",
       "Dawn                        2598\n",
       "Dark - No Street Lights     1572\n",
       "Dark - Street Lights Off    1236\n",
       "Other                        244"
      ]
     },
     "execution_count": 48,
     "metadata": {},
     "output_type": "execute_result"
    }
   ],
   "source": [
    "# There a very few rows with 'Dark - Unknown Lighting' label compared to \n",
    "# the other label counts. So let's delete the rows having 'Dark - Unknown Lighting' label\n",
    "\n",
    "df_coll_rel.drop(df_coll_rel[(df_coll_rel['LIGHTCOND'] == 'Dark - Unknown Lighting')].index, inplace = True)\n",
    "\n",
    "df_coll_rel['LIGHTCOND'].value_counts().to_frame('count')"
   ]
  },
  {
   "cell_type": "markdown",
   "metadata": {},
   "source": [
    "**Now we finally have our cleaned dataset**"
   ]
  },
  {
   "cell_type": "code",
   "execution_count": 49,
   "metadata": {
    "scrolled": false
   },
   "outputs": [
    {
     "data": {
      "text/html": [
       "<div>\n",
       "<style scoped>\n",
       "    .dataframe tbody tr th:only-of-type {\n",
       "        vertical-align: middle;\n",
       "    }\n",
       "\n",
       "    .dataframe tbody tr th {\n",
       "        vertical-align: top;\n",
       "    }\n",
       "\n",
       "    .dataframe thead th {\n",
       "        text-align: right;\n",
       "    }\n",
       "</style>\n",
       "<table border=\"1\" class=\"dataframe\">\n",
       "  <thead>\n",
       "    <tr style=\"text-align: right;\">\n",
       "      <th></th>\n",
       "      <th>ADDRTYPE</th>\n",
       "      <th>SEVERITYCODE</th>\n",
       "      <th>PERSONCOUNT</th>\n",
       "      <th>PEDCOUNT</th>\n",
       "      <th>PEDCYLCOUNT</th>\n",
       "      <th>VEHCOUNT</th>\n",
       "      <th>JUNCTIONTYPE</th>\n",
       "      <th>INATTENTIONIND</th>\n",
       "      <th>UNDERINFL</th>\n",
       "      <th>WEATHER</th>\n",
       "      <th>ROADCOND</th>\n",
       "      <th>LIGHTCOND</th>\n",
       "      <th>SPEEDING</th>\n",
       "    </tr>\n",
       "  </thead>\n",
       "  <tbody>\n",
       "    <tr>\n",
       "      <th>0</th>\n",
       "      <td>Intersection</td>\n",
       "      <td>2</td>\n",
       "      <td>2</td>\n",
       "      <td>1</td>\n",
       "      <td>0</td>\n",
       "      <td>1</td>\n",
       "      <td>At Intersection (intersection related)</td>\n",
       "      <td>0</td>\n",
       "      <td>N</td>\n",
       "      <td>Clear</td>\n",
       "      <td>Dry</td>\n",
       "      <td>Daylight</td>\n",
       "      <td>0</td>\n",
       "    </tr>\n",
       "    <tr>\n",
       "      <th>1</th>\n",
       "      <td>Intersection</td>\n",
       "      <td>2</td>\n",
       "      <td>4</td>\n",
       "      <td>0</td>\n",
       "      <td>0</td>\n",
       "      <td>2</td>\n",
       "      <td>At Intersection (intersection related)</td>\n",
       "      <td>0</td>\n",
       "      <td>N</td>\n",
       "      <td>Raining</td>\n",
       "      <td>Wet</td>\n",
       "      <td>Dark - Street Lights On</td>\n",
       "      <td>0</td>\n",
       "    </tr>\n",
       "    <tr>\n",
       "      <th>2</th>\n",
       "      <td>Block</td>\n",
       "      <td>1</td>\n",
       "      <td>4</td>\n",
       "      <td>0</td>\n",
       "      <td>0</td>\n",
       "      <td>3</td>\n",
       "      <td>Mid-Block (not related to intersection)</td>\n",
       "      <td>0</td>\n",
       "      <td>N</td>\n",
       "      <td>Clear</td>\n",
       "      <td>Dry</td>\n",
       "      <td>Daylight</td>\n",
       "      <td>0</td>\n",
       "    </tr>\n",
       "    <tr>\n",
       "      <th>3</th>\n",
       "      <td>Intersection</td>\n",
       "      <td>1</td>\n",
       "      <td>2</td>\n",
       "      <td>0</td>\n",
       "      <td>0</td>\n",
       "      <td>2</td>\n",
       "      <td>At Intersection (intersection related)</td>\n",
       "      <td>0</td>\n",
       "      <td>N</td>\n",
       "      <td>Raining</td>\n",
       "      <td>Wet</td>\n",
       "      <td>Dark - Street Lights On</td>\n",
       "      <td>0</td>\n",
       "    </tr>\n",
       "    <tr>\n",
       "      <th>6</th>\n",
       "      <td>Block</td>\n",
       "      <td>1</td>\n",
       "      <td>2</td>\n",
       "      <td>0</td>\n",
       "      <td>0</td>\n",
       "      <td>2</td>\n",
       "      <td>Mid-Block (not related to intersection)</td>\n",
       "      <td>0</td>\n",
       "      <td>N</td>\n",
       "      <td>Clear</td>\n",
       "      <td>Dry</td>\n",
       "      <td>Dark - Street Lights On</td>\n",
       "      <td>0</td>\n",
       "    </tr>\n",
       "  </tbody>\n",
       "</table>\n",
       "</div>"
      ],
      "text/plain": [
       "       ADDRTYPE SEVERITYCODE  PERSONCOUNT  PEDCOUNT  PEDCYLCOUNT  VEHCOUNT  \\\n",
       "0  Intersection            2            2         1            0         1   \n",
       "1  Intersection            2            4         0            0         2   \n",
       "2         Block            1            4         0            0         3   \n",
       "3  Intersection            1            2         0            0         2   \n",
       "6         Block            1            2         0            0         2   \n",
       "\n",
       "                              JUNCTIONTYPE  INATTENTIONIND UNDERINFL  WEATHER  \\\n",
       "0   At Intersection (intersection related)               0         N    Clear   \n",
       "1   At Intersection (intersection related)               0         N  Raining   \n",
       "2  Mid-Block (not related to intersection)               0         N    Clear   \n",
       "3   At Intersection (intersection related)               0         N  Raining   \n",
       "6  Mid-Block (not related to intersection)               0         N    Clear   \n",
       "\n",
       "  ROADCOND                LIGHTCOND  SPEEDING  \n",
       "0      Dry                 Daylight         0  \n",
       "1      Wet  Dark - Street Lights On         0  \n",
       "2      Dry                 Daylight         0  \n",
       "3      Wet  Dark - Street Lights On         0  \n",
       "6      Dry  Dark - Street Lights On         0  "
      ]
     },
     "execution_count": 49,
     "metadata": {},
     "output_type": "execute_result"
    }
   ],
   "source": [
    "df_coll_clean = df_coll_rel\n",
    "df_coll_clean.head(5)"
   ]
  },
  {
   "cell_type": "code",
   "execution_count": 50,
   "metadata": {},
   "outputs": [
    {
     "data": {
      "text/plain": [
       "ADDRTYPE          0\n",
       "SEVERITYCODE      0\n",
       "PERSONCOUNT       0\n",
       "PEDCOUNT          0\n",
       "PEDCYLCOUNT       0\n",
       "VEHCOUNT          0\n",
       "JUNCTIONTYPE      0\n",
       "INATTENTIONIND    0\n",
       "UNDERINFL         0\n",
       "WEATHER           0\n",
       "ROADCOND          0\n",
       "LIGHTCOND         0\n",
       "SPEEDING          0\n",
       "dtype: int64"
      ]
     },
     "execution_count": 50,
     "metadata": {},
     "output_type": "execute_result"
    }
   ],
   "source": [
    "df_coll_clean.isnull().sum()"
   ]
  },
  {
   "cell_type": "code",
   "execution_count": 51,
   "metadata": {},
   "outputs": [
    {
     "name": "stdout",
     "output_type": "stream",
     "text": [
      "<class 'pandas.core.frame.DataFrame'>\n",
      "Int64Index: 201786 entries, 0 to 221265\n",
      "Data columns (total 13 columns):\n",
      " #   Column          Non-Null Count   Dtype \n",
      "---  ------          --------------   ----- \n",
      " 0   ADDRTYPE        201786 non-null  object\n",
      " 1   SEVERITYCODE    201786 non-null  object\n",
      " 2   PERSONCOUNT     201786 non-null  int64 \n",
      " 3   PEDCOUNT        201786 non-null  int64 \n",
      " 4   PEDCYLCOUNT     201786 non-null  int64 \n",
      " 5   VEHCOUNT        201786 non-null  int64 \n",
      " 6   JUNCTIONTYPE    201786 non-null  object\n",
      " 7   INATTENTIONIND  201786 non-null  int64 \n",
      " 8   UNDERINFL       201786 non-null  object\n",
      " 9   WEATHER         201786 non-null  object\n",
      " 10  ROADCOND        201786 non-null  object\n",
      " 11  LIGHTCOND       201786 non-null  object\n",
      " 12  SPEEDING        201786 non-null  int64 \n",
      "dtypes: int64(6), object(7)\n",
      "memory usage: 21.6+ MB\n"
     ]
    }
   ],
   "source": [
    "# checking whether the datatypes of the columns are consistent or not\n",
    "\n",
    "df_coll_clean.info()"
   ]
  },
  {
   "cell_type": "code",
   "execution_count": 52,
   "metadata": {
    "scrolled": true
   },
   "outputs": [
    {
     "name": "stdout",
     "output_type": "stream",
     "text": [
      "<class 'pandas.core.frame.DataFrame'>\n",
      "Int64Index: 201786 entries, 0 to 221265\n",
      "Data columns (total 13 columns):\n",
      " #   Column          Non-Null Count   Dtype \n",
      "---  ------          --------------   ----- \n",
      " 0   ADDRTYPE        201786 non-null  object\n",
      " 1   SEVERITYCODE    201786 non-null  object\n",
      " 2   PERSONCOUNT     201786 non-null  int64 \n",
      " 3   PEDCOUNT        201786 non-null  int64 \n",
      " 4   PEDCYLCOUNT     201786 non-null  int64 \n",
      " 5   VEHCOUNT        201786 non-null  int64 \n",
      " 6   JUNCTIONTYPE    201786 non-null  object\n",
      " 7   INATTENTIONIND  201786 non-null  int64 \n",
      " 8   UNDERINFL       201786 non-null  object\n",
      " 9   WEATHER         201786 non-null  object\n",
      " 10  ROADCOND        201786 non-null  object\n",
      " 11  LIGHTCOND       201786 non-null  object\n",
      " 12  SPEEDING        201786 non-null  int64 \n",
      "dtypes: int64(6), object(7)\n",
      "memory usage: 21.6+ MB\n"
     ]
    }
   ],
   "source": [
    "# the datatype of 'INATTENSIONID' column should be 'int64' as we\n",
    "# have coverted the labels to either 0's or 1's, but it's 'object'\n",
    "# so lets convert the datatype to 'int64'\n",
    "\n",
    "df_coll_clean['INATTENTIONIND'] = df_coll_clean['INATTENTIONIND'].astype('int64')\n",
    "\n",
    "df_coll_clean.info()"
   ]
  },
  {
   "cell_type": "code",
   "execution_count": 53,
   "metadata": {},
   "outputs": [
    {
     "data": {
      "text/plain": [
       "(201786, 13)"
      ]
     },
     "execution_count": 53,
     "metadata": {},
     "output_type": "execute_result"
    }
   ],
   "source": [
    "df_coll_clean.shape"
   ]
  },
  {
   "cell_type": "markdown",
   "metadata": {},
   "source": [
    "# Feature Selection"
   ]
  },
  {
   "cell_type": "markdown",
   "metadata": {},
   "source": [
    "**Calculating Pearson correlation for the Features in the cleaned dataset in order to best select the Features for modelling**"
   ]
  },
  {
   "cell_type": "code",
   "execution_count": 54,
   "metadata": {},
   "outputs": [],
   "source": [
    "# I'm going to use \"one hot encoding\" for the categorical variables while developing the model\n",
    "# so copying the cleaned dataset into another variable because I am going to use LabelEncoder()\n",
    "# as of now to convert the labels of categorical variables into numeric values in order to calculate their\n",
    "# Pearson correlation with the target variable 'SEVERITYCODE'\n",
    "\n",
    "df_coll_pearson = df_coll_clean.copy()"
   ]
  },
  {
   "cell_type": "code",
   "execution_count": 55,
   "metadata": {
    "scrolled": false
   },
   "outputs": [
    {
     "data": {
      "text/html": [
       "<div>\n",
       "<style scoped>\n",
       "    .dataframe tbody tr th:only-of-type {\n",
       "        vertical-align: middle;\n",
       "    }\n",
       "\n",
       "    .dataframe tbody tr th {\n",
       "        vertical-align: top;\n",
       "    }\n",
       "\n",
       "    .dataframe thead th {\n",
       "        text-align: right;\n",
       "    }\n",
       "</style>\n",
       "<table border=\"1\" class=\"dataframe\">\n",
       "  <thead>\n",
       "    <tr style=\"text-align: right;\">\n",
       "      <th></th>\n",
       "      <th>ADDRTYPE</th>\n",
       "      <th>SEVERITYCODE</th>\n",
       "      <th>PERSONCOUNT</th>\n",
       "      <th>PEDCOUNT</th>\n",
       "      <th>PEDCYLCOUNT</th>\n",
       "      <th>VEHCOUNT</th>\n",
       "      <th>JUNCTIONTYPE</th>\n",
       "      <th>INATTENTIONIND</th>\n",
       "      <th>UNDERINFL</th>\n",
       "      <th>WEATHER</th>\n",
       "      <th>ROADCOND</th>\n",
       "      <th>LIGHTCOND</th>\n",
       "      <th>SPEEDING</th>\n",
       "    </tr>\n",
       "  </thead>\n",
       "  <tbody>\n",
       "    <tr>\n",
       "      <th>0</th>\n",
       "      <td>2</td>\n",
       "      <td>2</td>\n",
       "      <td>2</td>\n",
       "      <td>1</td>\n",
       "      <td>0</td>\n",
       "      <td>1</td>\n",
       "      <td>1</td>\n",
       "      <td>0</td>\n",
       "      <td>0</td>\n",
       "      <td>1</td>\n",
       "      <td>0</td>\n",
       "      <td>4</td>\n",
       "      <td>0</td>\n",
       "    </tr>\n",
       "    <tr>\n",
       "      <th>1</th>\n",
       "      <td>2</td>\n",
       "      <td>2</td>\n",
       "      <td>4</td>\n",
       "      <td>0</td>\n",
       "      <td>0</td>\n",
       "      <td>2</td>\n",
       "      <td>1</td>\n",
       "      <td>0</td>\n",
       "      <td>0</td>\n",
       "      <td>5</td>\n",
       "      <td>9</td>\n",
       "      <td>2</td>\n",
       "      <td>0</td>\n",
       "    </tr>\n",
       "    <tr>\n",
       "      <th>2</th>\n",
       "      <td>1</td>\n",
       "      <td>1</td>\n",
       "      <td>4</td>\n",
       "      <td>0</td>\n",
       "      <td>0</td>\n",
       "      <td>3</td>\n",
       "      <td>4</td>\n",
       "      <td>0</td>\n",
       "      <td>0</td>\n",
       "      <td>1</td>\n",
       "      <td>0</td>\n",
       "      <td>4</td>\n",
       "      <td>0</td>\n",
       "    </tr>\n",
       "    <tr>\n",
       "      <th>3</th>\n",
       "      <td>2</td>\n",
       "      <td>1</td>\n",
       "      <td>2</td>\n",
       "      <td>0</td>\n",
       "      <td>0</td>\n",
       "      <td>2</td>\n",
       "      <td>1</td>\n",
       "      <td>0</td>\n",
       "      <td>0</td>\n",
       "      <td>5</td>\n",
       "      <td>9</td>\n",
       "      <td>2</td>\n",
       "      <td>0</td>\n",
       "    </tr>\n",
       "    <tr>\n",
       "      <th>6</th>\n",
       "      <td>1</td>\n",
       "      <td>1</td>\n",
       "      <td>2</td>\n",
       "      <td>0</td>\n",
       "      <td>0</td>\n",
       "      <td>2</td>\n",
       "      <td>4</td>\n",
       "      <td>0</td>\n",
       "      <td>0</td>\n",
       "      <td>1</td>\n",
       "      <td>0</td>\n",
       "      <td>2</td>\n",
       "      <td>0</td>\n",
       "    </tr>\n",
       "  </tbody>\n",
       "</table>\n",
       "</div>"
      ],
      "text/plain": [
       "   ADDRTYPE  SEVERITYCODE  PERSONCOUNT  PEDCOUNT  PEDCYLCOUNT  VEHCOUNT  \\\n",
       "0         2             2            2         1            0         1   \n",
       "1         2             2            4         0            0         2   \n",
       "2         1             1            4         0            0         3   \n",
       "3         2             1            2         0            0         2   \n",
       "6         1             1            2         0            0         2   \n",
       "\n",
       "   JUNCTIONTYPE  INATTENTIONIND  UNDERINFL  WEATHER  ROADCOND  LIGHTCOND  \\\n",
       "0             1               0          0        1         0          4   \n",
       "1             1               0          0        5         9          2   \n",
       "2             4               0          0        1         0          4   \n",
       "3             1               0          0        5         9          2   \n",
       "6             4               0          0        1         0          2   \n",
       "\n",
       "   SPEEDING  \n",
       "0         0  \n",
       "1         0  \n",
       "2         0  \n",
       "3         0  \n",
       "6         0  "
      ]
     },
     "execution_count": 55,
     "metadata": {},
     "output_type": "execute_result"
    }
   ],
   "source": [
    "# encoding the labels of the categorical variables as Pearson's Correlation only works\n",
    "# on numeric values\n",
    "\n",
    "from sklearn import preprocessing\n",
    "\n",
    "\n",
    "severity = preprocessing.LabelEncoder()\n",
    "severity.fit(df_coll_pearson['SEVERITYCODE'])\n",
    "df_coll_pearson['SEVERITYCODE'] = severity.transform(df_coll_pearson['SEVERITYCODE'])\n",
    "\n",
    "\n",
    "addrtype = preprocessing.LabelEncoder()\n",
    "addrtype.fit(df_coll_pearson['ADDRTYPE'])\n",
    "df_coll_pearson['ADDRTYPE'] = addrtype.transform(df_coll_pearson['ADDRTYPE'])\n",
    "\n",
    "junctype = preprocessing.LabelEncoder()\n",
    "junctype.fit(df_coll_pearson['JUNCTIONTYPE'])\n",
    "df_coll_pearson['JUNCTIONTYPE'] = junctype.transform(df_coll_pearson['JUNCTIONTYPE'])\n",
    "\n",
    "underinfl = preprocessing.LabelEncoder()\n",
    "underinfl.fit(df_coll_pearson['UNDERINFL'])\n",
    "df_coll_pearson['UNDERINFL'] = underinfl.transform(df_coll_pearson['UNDERINFL'])\n",
    "\n",
    "\n",
    "weather = preprocessing.LabelEncoder()\n",
    "weather.fit(df_coll_pearson['WEATHER'])\n",
    "df_coll_pearson['WEATHER'] = weather.transform(df_coll_pearson['WEATHER'])\n",
    "\n",
    "roadcond = preprocessing.LabelEncoder()\n",
    "roadcond.fit(df_coll_pearson['ROADCOND'])\n",
    "df_coll_pearson['ROADCOND'] = roadcond.transform(df_coll_pearson['ROADCOND'])\n",
    "\n",
    "lightcond = preprocessing.LabelEncoder()\n",
    "lightcond.fit(df_coll_pearson['LIGHTCOND'])\n",
    "df_coll_pearson['LIGHTCOND'] = lightcond.transform(df_coll_pearson['LIGHTCOND'])\n",
    "\n",
    "\n",
    "df_coll_pearson.head(5)\n"
   ]
  },
  {
   "cell_type": "code",
   "execution_count": 56,
   "metadata": {
    "scrolled": true
   },
   "outputs": [
    {
     "data": {
      "text/html": [
       "<div>\n",
       "<style scoped>\n",
       "    .dataframe tbody tr th:only-of-type {\n",
       "        vertical-align: middle;\n",
       "    }\n",
       "\n",
       "    .dataframe tbody tr th {\n",
       "        vertical-align: top;\n",
       "    }\n",
       "\n",
       "    .dataframe thead th {\n",
       "        text-align: right;\n",
       "    }\n",
       "</style>\n",
       "<table border=\"1\" class=\"dataframe\">\n",
       "  <thead>\n",
       "    <tr style=\"text-align: right;\">\n",
       "      <th></th>\n",
       "      <th>ADDRTYPE</th>\n",
       "      <th>SEVERITYCODE</th>\n",
       "      <th>PERSONCOUNT</th>\n",
       "      <th>PEDCOUNT</th>\n",
       "      <th>PEDCYLCOUNT</th>\n",
       "      <th>VEHCOUNT</th>\n",
       "      <th>JUNCTIONTYPE</th>\n",
       "      <th>INATTENTIONIND</th>\n",
       "      <th>UNDERINFL</th>\n",
       "      <th>WEATHER</th>\n",
       "      <th>ROADCOND</th>\n",
       "      <th>LIGHTCOND</th>\n",
       "      <th>SPEEDING</th>\n",
       "    </tr>\n",
       "  </thead>\n",
       "  <tbody>\n",
       "    <tr>\n",
       "      <th>ADDRTYPE</th>\n",
       "      <td>1.000000</td>\n",
       "      <td>0.173803</td>\n",
       "      <td>0.053029</td>\n",
       "      <td>0.129287</td>\n",
       "      <td>0.076917</td>\n",
       "      <td>-0.054608</td>\n",
       "      <td>-0.805299</td>\n",
       "      <td>-0.076085</td>\n",
       "      <td>-0.050694</td>\n",
       "      <td>-0.051918</td>\n",
       "      <td>-0.009064</td>\n",
       "      <td>-0.035142</td>\n",
       "      <td>-0.058861</td>\n",
       "    </tr>\n",
       "    <tr>\n",
       "      <th>SEVERITYCODE</th>\n",
       "      <td>0.173803</td>\n",
       "      <td>1.000000</td>\n",
       "      <td>0.128641</td>\n",
       "      <td>0.281092</td>\n",
       "      <td>0.214854</td>\n",
       "      <td>0.002208</td>\n",
       "      <td>-0.220452</td>\n",
       "      <td>0.043036</td>\n",
       "      <td>-0.000790</td>\n",
       "      <td>-0.176131</td>\n",
       "      <td>-0.080253</td>\n",
       "      <td>-0.158328</td>\n",
       "      <td>0.063186</td>\n",
       "    </tr>\n",
       "    <tr>\n",
       "      <th>PERSONCOUNT</th>\n",
       "      <td>0.053029</td>\n",
       "      <td>0.128641</td>\n",
       "      <td>1.000000</td>\n",
       "      <td>-0.018095</td>\n",
       "      <td>-0.037887</td>\n",
       "      <td>0.378822</td>\n",
       "      <td>-0.087081</td>\n",
       "      <td>0.076741</td>\n",
       "      <td>-0.008585</td>\n",
       "      <td>-0.096414</td>\n",
       "      <td>-0.044655</td>\n",
       "      <td>-0.081753</td>\n",
       "      <td>0.001155</td>\n",
       "    </tr>\n",
       "    <tr>\n",
       "      <th>PEDCOUNT</th>\n",
       "      <td>0.129287</td>\n",
       "      <td>0.281092</td>\n",
       "      <td>-0.018095</td>\n",
       "      <td>1.000000</td>\n",
       "      <td>-0.018894</td>\n",
       "      <td>-0.252076</td>\n",
       "      <td>-0.132095</td>\n",
       "      <td>-0.006251</td>\n",
       "      <td>0.011215</td>\n",
       "      <td>-0.032379</td>\n",
       "      <td>-0.003183</td>\n",
       "      <td>-0.059443</td>\n",
       "      <td>-0.031209</td>\n",
       "    </tr>\n",
       "    <tr>\n",
       "      <th>PEDCYLCOUNT</th>\n",
       "      <td>0.076917</td>\n",
       "      <td>0.214854</td>\n",
       "      <td>-0.037887</td>\n",
       "      <td>-0.018894</td>\n",
       "      <td>1.000000</td>\n",
       "      <td>-0.241278</td>\n",
       "      <td>-0.093751</td>\n",
       "      <td>0.003787</td>\n",
       "      <td>-0.028309</td>\n",
       "      <td>-0.064170</td>\n",
       "      <td>-0.057263</td>\n",
       "      <td>-0.013756</td>\n",
       "      <td>-0.021157</td>\n",
       "    </tr>\n",
       "    <tr>\n",
       "      <th>VEHCOUNT</th>\n",
       "      <td>-0.054608</td>\n",
       "      <td>0.002208</td>\n",
       "      <td>0.378822</td>\n",
       "      <td>-0.252076</td>\n",
       "      <td>-0.241278</td>\n",
       "      <td>1.000000</td>\n",
       "      <td>0.034829</td>\n",
       "      <td>0.084990</td>\n",
       "      <td>-0.207664</td>\n",
       "      <td>-0.263241</td>\n",
       "      <td>-0.138814</td>\n",
       "      <td>-0.253710</td>\n",
       "      <td>-0.016586</td>\n",
       "    </tr>\n",
       "    <tr>\n",
       "      <th>JUNCTIONTYPE</th>\n",
       "      <td>-0.805299</td>\n",
       "      <td>-0.220452</td>\n",
       "      <td>-0.087081</td>\n",
       "      <td>-0.132095</td>\n",
       "      <td>-0.093751</td>\n",
       "      <td>0.034829</td>\n",
       "      <td>1.000000</td>\n",
       "      <td>0.049467</td>\n",
       "      <td>0.063518</td>\n",
       "      <td>0.153067</td>\n",
       "      <td>0.057577</td>\n",
       "      <td>0.117492</td>\n",
       "      <td>0.053291</td>\n",
       "    </tr>\n",
       "    <tr>\n",
       "      <th>INATTENTIONIND</th>\n",
       "      <td>-0.076085</td>\n",
       "      <td>0.043036</td>\n",
       "      <td>0.076741</td>\n",
       "      <td>-0.006251</td>\n",
       "      <td>0.003787</td>\n",
       "      <td>0.084990</td>\n",
       "      <td>0.049467</td>\n",
       "      <td>1.000000</td>\n",
       "      <td>-0.055614</td>\n",
       "      <td>-0.108806</td>\n",
       "      <td>-0.068360</td>\n",
       "      <td>-0.053503</td>\n",
       "      <td>-0.048658</td>\n",
       "    </tr>\n",
       "    <tr>\n",
       "      <th>UNDERINFL</th>\n",
       "      <td>-0.050694</td>\n",
       "      <td>-0.000790</td>\n",
       "      <td>-0.008585</td>\n",
       "      <td>0.011215</td>\n",
       "      <td>-0.028309</td>\n",
       "      <td>-0.207664</td>\n",
       "      <td>0.063518</td>\n",
       "      <td>-0.055614</td>\n",
       "      <td>1.000000</td>\n",
       "      <td>0.135482</td>\n",
       "      <td>0.074952</td>\n",
       "      <td>0.028738</td>\n",
       "      <td>0.074816</td>\n",
       "    </tr>\n",
       "    <tr>\n",
       "      <th>WEATHER</th>\n",
       "      <td>-0.051918</td>\n",
       "      <td>-0.176131</td>\n",
       "      <td>-0.096414</td>\n",
       "      <td>-0.032379</td>\n",
       "      <td>-0.064170</td>\n",
       "      <td>-0.263241</td>\n",
       "      <td>0.153067</td>\n",
       "      <td>-0.108806</td>\n",
       "      <td>0.135482</td>\n",
       "      <td>1.000000</td>\n",
       "      <td>0.707405</td>\n",
       "      <td>0.467006</td>\n",
       "      <td>0.004657</td>\n",
       "    </tr>\n",
       "    <tr>\n",
       "      <th>ROADCOND</th>\n",
       "      <td>-0.009064</td>\n",
       "      <td>-0.080253</td>\n",
       "      <td>-0.044655</td>\n",
       "      <td>-0.003183</td>\n",
       "      <td>-0.057263</td>\n",
       "      <td>-0.138814</td>\n",
       "      <td>0.057577</td>\n",
       "      <td>-0.068360</td>\n",
       "      <td>0.074952</td>\n",
       "      <td>0.707405</td>\n",
       "      <td>1.000000</td>\n",
       "      <td>0.155149</td>\n",
       "      <td>0.077448</td>\n",
       "    </tr>\n",
       "    <tr>\n",
       "      <th>LIGHTCOND</th>\n",
       "      <td>-0.035142</td>\n",
       "      <td>-0.158328</td>\n",
       "      <td>-0.081753</td>\n",
       "      <td>-0.059443</td>\n",
       "      <td>-0.013756</td>\n",
       "      <td>-0.253710</td>\n",
       "      <td>0.117492</td>\n",
       "      <td>-0.053503</td>\n",
       "      <td>0.028738</td>\n",
       "      <td>0.467006</td>\n",
       "      <td>0.155149</td>\n",
       "      <td>1.000000</td>\n",
       "      <td>-0.107317</td>\n",
       "    </tr>\n",
       "    <tr>\n",
       "      <th>SPEEDING</th>\n",
       "      <td>-0.058861</td>\n",
       "      <td>0.063186</td>\n",
       "      <td>0.001155</td>\n",
       "      <td>-0.031209</td>\n",
       "      <td>-0.021157</td>\n",
       "      <td>-0.016586</td>\n",
       "      <td>0.053291</td>\n",
       "      <td>-0.048658</td>\n",
       "      <td>0.074816</td>\n",
       "      <td>0.004657</td>\n",
       "      <td>0.077448</td>\n",
       "      <td>-0.107317</td>\n",
       "      <td>1.000000</td>\n",
       "    </tr>\n",
       "  </tbody>\n",
       "</table>\n",
       "</div>"
      ],
      "text/plain": [
       "                ADDRTYPE  SEVERITYCODE  PERSONCOUNT  PEDCOUNT  PEDCYLCOUNT  \\\n",
       "ADDRTYPE        1.000000      0.173803     0.053029  0.129287     0.076917   \n",
       "SEVERITYCODE    0.173803      1.000000     0.128641  0.281092     0.214854   \n",
       "PERSONCOUNT     0.053029      0.128641     1.000000 -0.018095    -0.037887   \n",
       "PEDCOUNT        0.129287      0.281092    -0.018095  1.000000    -0.018894   \n",
       "PEDCYLCOUNT     0.076917      0.214854    -0.037887 -0.018894     1.000000   \n",
       "VEHCOUNT       -0.054608      0.002208     0.378822 -0.252076    -0.241278   \n",
       "JUNCTIONTYPE   -0.805299     -0.220452    -0.087081 -0.132095    -0.093751   \n",
       "INATTENTIONIND -0.076085      0.043036     0.076741 -0.006251     0.003787   \n",
       "UNDERINFL      -0.050694     -0.000790    -0.008585  0.011215    -0.028309   \n",
       "WEATHER        -0.051918     -0.176131    -0.096414 -0.032379    -0.064170   \n",
       "ROADCOND       -0.009064     -0.080253    -0.044655 -0.003183    -0.057263   \n",
       "LIGHTCOND      -0.035142     -0.158328    -0.081753 -0.059443    -0.013756   \n",
       "SPEEDING       -0.058861      0.063186     0.001155 -0.031209    -0.021157   \n",
       "\n",
       "                VEHCOUNT  JUNCTIONTYPE  INATTENTIONIND  UNDERINFL   WEATHER  \\\n",
       "ADDRTYPE       -0.054608     -0.805299       -0.076085  -0.050694 -0.051918   \n",
       "SEVERITYCODE    0.002208     -0.220452        0.043036  -0.000790 -0.176131   \n",
       "PERSONCOUNT     0.378822     -0.087081        0.076741  -0.008585 -0.096414   \n",
       "PEDCOUNT       -0.252076     -0.132095       -0.006251   0.011215 -0.032379   \n",
       "PEDCYLCOUNT    -0.241278     -0.093751        0.003787  -0.028309 -0.064170   \n",
       "VEHCOUNT        1.000000      0.034829        0.084990  -0.207664 -0.263241   \n",
       "JUNCTIONTYPE    0.034829      1.000000        0.049467   0.063518  0.153067   \n",
       "INATTENTIONIND  0.084990      0.049467        1.000000  -0.055614 -0.108806   \n",
       "UNDERINFL      -0.207664      0.063518       -0.055614   1.000000  0.135482   \n",
       "WEATHER        -0.263241      0.153067       -0.108806   0.135482  1.000000   \n",
       "ROADCOND       -0.138814      0.057577       -0.068360   0.074952  0.707405   \n",
       "LIGHTCOND      -0.253710      0.117492       -0.053503   0.028738  0.467006   \n",
       "SPEEDING       -0.016586      0.053291       -0.048658   0.074816  0.004657   \n",
       "\n",
       "                ROADCOND  LIGHTCOND  SPEEDING  \n",
       "ADDRTYPE       -0.009064  -0.035142 -0.058861  \n",
       "SEVERITYCODE   -0.080253  -0.158328  0.063186  \n",
       "PERSONCOUNT    -0.044655  -0.081753  0.001155  \n",
       "PEDCOUNT       -0.003183  -0.059443 -0.031209  \n",
       "PEDCYLCOUNT    -0.057263  -0.013756 -0.021157  \n",
       "VEHCOUNT       -0.138814  -0.253710 -0.016586  \n",
       "JUNCTIONTYPE    0.057577   0.117492  0.053291  \n",
       "INATTENTIONIND -0.068360  -0.053503 -0.048658  \n",
       "UNDERINFL       0.074952   0.028738  0.074816  \n",
       "WEATHER         0.707405   0.467006  0.004657  \n",
       "ROADCOND        1.000000   0.155149  0.077448  \n",
       "LIGHTCOND       0.155149   1.000000 -0.107317  \n",
       "SPEEDING        0.077448  -0.107317  1.000000  "
      ]
     },
     "execution_count": 56,
     "metadata": {},
     "output_type": "execute_result"
    }
   ],
   "source": [
    "# Pearson correlation\n",
    "\n",
    "df_coll_pearson.corr()"
   ]
  },
  {
   "cell_type": "code",
   "execution_count": 57,
   "metadata": {
    "scrolled": true
   },
   "outputs": [
    {
     "data": {
      "text/plain": [
       "<AxesSubplot:>"
      ]
     },
     "execution_count": 57,
     "metadata": {},
     "output_type": "execute_result"
    },
    {
     "data": {
      "image/png": "[encoded data removed]",
      "text/plain": [
       "<Figure size 432x288 with 2 Axes>"
      ]
     },
     "metadata": {
      "needs_background": "light"
     },
     "output_type": "display_data"
    }
   ],
   "source": [
    "# the correlation heatmap\n",
    "\n",
    "import seaborn as sns\n",
    "\n",
    "sns.heatmap(df_coll_pearson.corr(), linewidth=.2, cbar_kws={\"shrink\": 1})"
   ]
  },
  {
   "cell_type": "markdown",
   "metadata": {},
   "source": [
    "**Selecting the Features set**"
   ]
  },
  {
   "cell_type": "code",
   "execution_count": 58,
   "metadata": {},
   "outputs": [
    {
     "name": "stdout",
     "output_type": "stream",
     "text": [
      "The number of rows and columns in the features set respectively are: (201786, 12)\n"
     ]
    },
    {
     "data": {
      "text/html": [
       "<div>\n",
       "<style scoped>\n",
       "    .dataframe tbody tr th:only-of-type {\n",
       "        vertical-align: middle;\n",
       "    }\n",
       "\n",
       "    .dataframe tbody tr th {\n",
       "        vertical-align: top;\n",
       "    }\n",
       "\n",
       "    .dataframe thead th {\n",
       "        text-align: right;\n",
       "    }\n",
       "</style>\n",
       "<table border=\"1\" class=\"dataframe\">\n",
       "  <thead>\n",
       "    <tr style=\"text-align: right;\">\n",
       "      <th></th>\n",
       "      <th>ADDRTYPE</th>\n",
       "      <th>PERSONCOUNT</th>\n",
       "      <th>PEDCOUNT</th>\n",
       "      <th>PEDCYLCOUNT</th>\n",
       "      <th>VEHCOUNT</th>\n",
       "      <th>JUNCTIONTYPE</th>\n",
       "      <th>INATTENTIONIND</th>\n",
       "      <th>UNDERINFL</th>\n",
       "      <th>WEATHER</th>\n",
       "      <th>ROADCOND</th>\n",
       "      <th>LIGHTCOND</th>\n",
       "      <th>SPEEDING</th>\n",
       "    </tr>\n",
       "  </thead>\n",
       "  <tbody>\n",
       "    <tr>\n",
       "      <th>0</th>\n",
       "      <td>Intersection</td>\n",
       "      <td>2</td>\n",
       "      <td>1</td>\n",
       "      <td>0</td>\n",
       "      <td>1</td>\n",
       "      <td>At Intersection (intersection related)</td>\n",
       "      <td>0</td>\n",
       "      <td>N</td>\n",
       "      <td>Clear</td>\n",
       "      <td>Dry</td>\n",
       "      <td>Daylight</td>\n",
       "      <td>0</td>\n",
       "    </tr>\n",
       "    <tr>\n",
       "      <th>1</th>\n",
       "      <td>Intersection</td>\n",
       "      <td>4</td>\n",
       "      <td>0</td>\n",
       "      <td>0</td>\n",
       "      <td>2</td>\n",
       "      <td>At Intersection (intersection related)</td>\n",
       "      <td>0</td>\n",
       "      <td>N</td>\n",
       "      <td>Raining</td>\n",
       "      <td>Wet</td>\n",
       "      <td>Dark - Street Lights On</td>\n",
       "      <td>0</td>\n",
       "    </tr>\n",
       "    <tr>\n",
       "      <th>2</th>\n",
       "      <td>Block</td>\n",
       "      <td>4</td>\n",
       "      <td>0</td>\n",
       "      <td>0</td>\n",
       "      <td>3</td>\n",
       "      <td>Mid-Block (not related to intersection)</td>\n",
       "      <td>0</td>\n",
       "      <td>N</td>\n",
       "      <td>Clear</td>\n",
       "      <td>Dry</td>\n",
       "      <td>Daylight</td>\n",
       "      <td>0</td>\n",
       "    </tr>\n",
       "    <tr>\n",
       "      <th>3</th>\n",
       "      <td>Intersection</td>\n",
       "      <td>2</td>\n",
       "      <td>0</td>\n",
       "      <td>0</td>\n",
       "      <td>2</td>\n",
       "      <td>At Intersection (intersection related)</td>\n",
       "      <td>0</td>\n",
       "      <td>N</td>\n",
       "      <td>Raining</td>\n",
       "      <td>Wet</td>\n",
       "      <td>Dark - Street Lights On</td>\n",
       "      <td>0</td>\n",
       "    </tr>\n",
       "    <tr>\n",
       "      <th>6</th>\n",
       "      <td>Block</td>\n",
       "      <td>2</td>\n",
       "      <td>0</td>\n",
       "      <td>0</td>\n",
       "      <td>2</td>\n",
       "      <td>Mid-Block (not related to intersection)</td>\n",
       "      <td>0</td>\n",
       "      <td>N</td>\n",
       "      <td>Clear</td>\n",
       "      <td>Dry</td>\n",
       "      <td>Dark - Street Lights On</td>\n",
       "      <td>0</td>\n",
       "    </tr>\n",
       "  </tbody>\n",
       "</table>\n",
       "</div>"
      ],
      "text/plain": [
       "       ADDRTYPE  PERSONCOUNT  PEDCOUNT  PEDCYLCOUNT  VEHCOUNT  \\\n",
       "0  Intersection            2         1            0         1   \n",
       "1  Intersection            4         0            0         2   \n",
       "2         Block            4         0            0         3   \n",
       "3  Intersection            2         0            0         2   \n",
       "6         Block            2         0            0         2   \n",
       "\n",
       "                              JUNCTIONTYPE  INATTENTIONIND UNDERINFL  WEATHER  \\\n",
       "0   At Intersection (intersection related)               0         N    Clear   \n",
       "1   At Intersection (intersection related)               0         N  Raining   \n",
       "2  Mid-Block (not related to intersection)               0         N    Clear   \n",
       "3   At Intersection (intersection related)               0         N  Raining   \n",
       "6  Mid-Block (not related to intersection)               0         N    Clear   \n",
       "\n",
       "  ROADCOND                LIGHTCOND  SPEEDING  \n",
       "0      Dry                 Daylight         0  \n",
       "1      Wet  Dark - Street Lights On         0  \n",
       "2      Dry                 Daylight         0  \n",
       "3      Wet  Dark - Street Lights On         0  \n",
       "6      Dry  Dark - Street Lights On         0  "
      ]
     },
     "execution_count": 58,
     "metadata": {},
     "output_type": "execute_result"
    }
   ],
   "source": [
    "# based on the above observation of the Pearson correlation actually there is nothing to drop as it seems\n",
    "\n",
    "features = df_coll_clean[['ADDRTYPE', 'PERSONCOUNT', 'PEDCOUNT', 'PEDCYLCOUNT', \\\n",
    "                          'VEHCOUNT', 'JUNCTIONTYPE','INATTENTIONIND', 'UNDERINFL', 'WEATHER', 'ROADCOND', \\\n",
    "                          'LIGHTCOND', 'SPEEDING']]\n",
    "\n",
    "print(\"The number of rows and columns in the features set respectively are:\", features.shape)\n",
    "features.head()"
   ]
  },
  {
   "cell_type": "markdown",
   "metadata": {},
   "source": [
    "**Specifying the target variable**"
   ]
  },
  {
   "cell_type": "code",
   "execution_count": 59,
   "metadata": {},
   "outputs": [
    {
     "name": "stdout",
     "output_type": "stream",
     "text": [
      "The number of entries in the target variable is: 201786\n"
     ]
    }
   ],
   "source": [
    "target = df_coll_clean['SEVERITYCODE']\n",
    "print(\"The number of entries in the target variable is:\", target.size)"
   ]
  },
  {
   "cell_type": "markdown",
   "metadata": {},
   "source": [
    "# Exploratory Data Analysis"
   ]
  },
  {
   "cell_type": "code",
   "execution_count": 61,
   "metadata": {},
   "outputs": [],
   "source": [
    "import seaborn as sns \n",
    "import matplotlib\n",
    "from matplotlib import pyplot as plt\n",
    "%matplotlib inline"
   ]
  },
  {
   "cell_type": "markdown",
   "metadata": {},
   "source": [
    "Let's try to get an idea about how much of the persons involved in an acident were pedestrians"
   ]
  },
  {
   "cell_type": "code",
   "execution_count": 62,
   "metadata": {},
   "outputs": [
    {
     "data": {
      "text/plain": [
       "<seaborn.axisgrid.FacetGrid at 0x27d83fab4f0>"
      ]
     },
     "execution_count": 62,
     "metadata": {},
     "output_type": "execute_result"
    },
    {
     "data": {
      "image/png": "[encoded data removed]",
      "text/plain": [
       "<Figure size 360x360 with 1 Axes>"
      ]
     },
     "metadata": {
      "needs_background": "light"
     },
     "output_type": "display_data"
    }
   ],
   "source": [
    "ax = sns.catplot (x = 'PEDCOUNT', y = 'PERSONCOUNT', jitter = False, data = df_coll_clean)\n",
    "ax.set(xlabel = 'Number of pedestrians among them', ylabel = 'Number of persons involved in the accident' )"
   ]
  },
  {
   "cell_type": "markdown",
   "metadata": {},
   "source": [
    "Let's try to get an idea about how much of the persons involved in an acident were cyclists"
   ]
  },
  {
   "cell_type": "code",
   "execution_count": 63,
   "metadata": {
    "scrolled": false
   },
   "outputs": [
    {
     "data": {
      "text/plain": [
       "<seaborn.axisgrid.FacetGrid at 0x27dea36f5e0>"
      ]
     },
     "execution_count": 63,
     "metadata": {},
     "output_type": "execute_result"
    },
    {
     "data": {
      "image/png": "[encoded data removed]",
      "text/plain": [
       "<Figure size 360x360 with 1 Axes>"
      ]
     },
     "metadata": {
      "needs_background": "light"
     },
     "output_type": "display_data"
    }
   ],
   "source": [
    "ax1 = sns.catplot (x = 'PEDCYLCOUNT', y = 'PERSONCOUNT', jitter = False, data = df_coll_clean)\n",
    "ax1.set(xlabel = 'Number of cyclists among them', ylabel = 'Number of persons involved in the accident')"
   ]
  },
  {
   "cell_type": "markdown",
   "metadata": {},
   "source": [
    "Let's try to get an idea about the number of persons involved in an accident when vehicles are involved"
   ]
  },
  {
   "cell_type": "code",
   "execution_count": 64,
   "metadata": {
    "scrolled": true
   },
   "outputs": [
    {
     "data": {
      "text/plain": [
       "<seaborn.axisgrid.FacetGrid at 0x27da4aaa820>"
      ]
     },
     "execution_count": 64,
     "metadata": {},
     "output_type": "execute_result"
    },
    {
     "data": {
      "image/png": "[encoded data removed]",
      "text/plain": [
       "<Figure size 360x360 with 1 Axes>"
      ]
     },
     "metadata": {
      "needs_background": "light"
     },
     "output_type": "display_data"
    }
   ],
   "source": [
    "ax2 = sns.catplot (x = 'VEHCOUNT', y = 'PERSONCOUNT', jitter = False, data = df_coll_clean)\n",
    "ax2.set(xlabel = 'Number of vehicles involved in the accident', ylabel = 'Number of persons involved in the accident' )"
   ]
  },
  {
   "cell_type": "markdown",
   "metadata": {},
   "source": [
    "Let's try to visualze the different label counts of the target variable SEVERITYCODE"
   ]
  },
  {
   "cell_type": "code",
   "execution_count": 65,
   "metadata": {
    "scrolled": false
   },
   "outputs": [
    {
     "data": {
      "text/plain": [
       "<AxesSubplot:xlabel='SEVERITYCODE', ylabel='count'>"
      ]
     },
     "execution_count": 65,
     "metadata": {},
     "output_type": "execute_result"
    },
    {
     "data": {
      "image/png": "[encoded data removed]",
      "text/plain": [
       "<Figure size 432x288 with 1 Axes>"
      ]
     },
     "metadata": {
      "needs_background": "light"
     },
     "output_type": "display_data"
    }
   ],
   "source": [
    "sns.countplot(x = df_coll_clean['SEVERITYCODE'], data=df_coll_clean)"
   ]
  },
  {
   "cell_type": "markdown",
   "metadata": {},
   "source": [
    "### Now we'll try to explore the relationship between each of the indipendent variables and `SEVERITYCODE`"
   ]
  },
  {
   "cell_type": "markdown",
   "metadata": {},
   "source": [
    "**Relationship between the Severity of an accident and Address type**"
   ]
  },
  {
   "cell_type": "code",
   "execution_count": 66,
   "metadata": {},
   "outputs": [
    {
     "data": {
      "text/plain": [
       "Block           131579\n",
       "Intersection     67433\n",
       "Other             2011\n",
       "Alley              763\n",
       "Name: ADDRTYPE, dtype: int64"
      ]
     },
     "execution_count": 66,
     "metadata": {},
     "output_type": "execute_result"
    }
   ],
   "source": [
    "df_coll_clean['ADDRTYPE'].value_counts()"
   ]
  },
  {
   "cell_type": "code",
   "execution_count": 68,
   "metadata": {
    "scrolled": true
   },
   "outputs": [
    {
     "data": {
      "text/plain": [
       "[Text(0.5, 0, 'Severity code'), Text(0, 0.5, 'Count, Intersection')]"
      ]
     },
     "execution_count": 68,
     "metadata": {},
     "output_type": "execute_result"
    },
    {
     "data": {
      "image/png": "[encoded data removed]",
      "text/plain": [
       "<Figure size 1080x360 with 4 Axes>"
      ]
     },
     "metadata": {
      "needs_background": "light"
     },
     "output_type": "display_data"
    }
   ],
   "source": [
    "block_df = df_coll_clean[df_coll_clean['ADDRTYPE']== 'Block']\n",
    "intersection_df = df_coll_clean[df_coll_clean['ADDRTYPE']== 'Intersection']\n",
    "alley_df = df_coll_clean[df_coll_clean['ADDRTYPE']== 'Alley']\n",
    "other_df = df_coll_clean[df_coll_clean['ADDRTYPE']== 'Other']\n",
    "\n",
    "fig, axes = plt.subplots(2, 2, sharex = True, figsize = (15,5))\n",
    "\n",
    "\n",
    "sns.countplot(ax = axes[1, 0], x = alley_df['SEVERITYCODE'], data = alley_df)\n",
    "axes[1,0].set(xlabel = 'Severity code', ylabel = 'Count, Alley')\n",
    "\n",
    "sns.countplot(ax = axes[1, 1], x = other_df['SEVERITYCODE'], data = other_df)\n",
    "axes[1,1].set(xlabel = 'Severity code', ylabel = 'Count, Intersection')\n",
    "\n",
    "sns.countplot(ax = axes[0, 0], x = block_df['SEVERITYCODE'], data = block_df)\n",
    "axes[0,0].set(xlabel = 'Severity code', ylabel = 'Count, Block')\n",
    "\n",
    "sns.countplot(ax = axes[0, 1], x = intersection_df['SEVERITYCODE'], data = intersection_df)\n",
    "axes[0,1].set(xlabel = 'Severity code', ylabel = 'Count, Intersection')"
   ]
  },
  {
   "cell_type": "markdown",
   "metadata": {},
   "source": [
    "**Relationship between the Severity of an accident and the junction type**"
   ]
  },
  {
   "cell_type": "markdown",
   "metadata": {},
   "source": [
    "**N.B.** it's tempting to keep only one independent feature between 'ADDRTYPE'\n",
    "and 'JUNCTIONTYPE' for modelling and drop the other, but on a close observation of the labels they\n",
    "contain, it becomes evident that they both are needed be kept"
   ]
  },
  {
   "cell_type": "code",
   "execution_count": 69,
   "metadata": {
    "scrolled": true
   },
   "outputs": [
    {
     "data": {
      "text/html": [
       "<div>\n",
       "<style scoped>\n",
       "    .dataframe tbody tr th:only-of-type {\n",
       "        vertical-align: middle;\n",
       "    }\n",
       "\n",
       "    .dataframe tbody tr th {\n",
       "        vertical-align: top;\n",
       "    }\n",
       "\n",
       "    .dataframe thead th {\n",
       "        text-align: right;\n",
       "    }\n",
       "</style>\n",
       "<table border=\"1\" class=\"dataframe\">\n",
       "  <thead>\n",
       "    <tr style=\"text-align: right;\">\n",
       "      <th></th>\n",
       "      <th>count</th>\n",
       "    </tr>\n",
       "  </thead>\n",
       "  <tbody>\n",
       "    <tr>\n",
       "      <th>Mid-Block (not related to intersection)</th>\n",
       "      <td>93815</td>\n",
       "    </tr>\n",
       "    <tr>\n",
       "      <th>At Intersection (intersection related)</th>\n",
       "      <td>65133</td>\n",
       "    </tr>\n",
       "    <tr>\n",
       "      <th>Mid-Block (but intersection related)</th>\n",
       "      <td>23088</td>\n",
       "    </tr>\n",
       "    <tr>\n",
       "      <th>Driveway Junction</th>\n",
       "      <td>10860</td>\n",
       "    </tr>\n",
       "    <tr>\n",
       "      <th>Other</th>\n",
       "      <td>6576</td>\n",
       "    </tr>\n",
       "    <tr>\n",
       "      <th>At Intersection (but not related to intersection)</th>\n",
       "      <td>2131</td>\n",
       "    </tr>\n",
       "    <tr>\n",
       "      <th>Ramp Junction</th>\n",
       "      <td>171</td>\n",
       "    </tr>\n",
       "    <tr>\n",
       "      <th>Unknown</th>\n",
       "      <td>12</td>\n",
       "    </tr>\n",
       "  </tbody>\n",
       "</table>\n",
       "</div>"
      ],
      "text/plain": [
       "                                                   count\n",
       "Mid-Block (not related to intersection)            93815\n",
       "At Intersection (intersection related)             65133\n",
       "Mid-Block (but intersection related)               23088\n",
       "Driveway Junction                                  10860\n",
       "Other                                               6576\n",
       "At Intersection (but not related to intersection)   2131\n",
       "Ramp Junction                                        171\n",
       "Unknown                                               12"
      ]
     },
     "execution_count": 69,
     "metadata": {},
     "output_type": "execute_result"
    }
   ],
   "source": [
    "df_coll_clean['JUNCTIONTYPE'].value_counts().to_frame('count')"
   ]
  },
  {
   "cell_type": "code",
   "execution_count": 72,
   "metadata": {
    "scrolled": false
   },
   "outputs": [
    {
     "data": {
      "text/plain": [
       "[Text(0.5, 0, 'Severity code'), Text(0, 0.5, 'Count, other')]"
      ]
     },
     "execution_count": 72,
     "metadata": {},
     "output_type": "execute_result"
    },
    {
     "data": {
      "image/png": "[encoded data removed]",
      "text/plain": [
       "<Figure size 1080x1440 with 8 Axes>"
      ]
     },
     "metadata": {
      "needs_background": "light"
     },
     "output_type": "display_data"
    }
   ],
   "source": [
    "junc1_df = df_coll_clean[df_coll_clean['JUNCTIONTYPE']== 'Mid-Block (not related to intersection)']\n",
    "junc2_df = df_coll_clean[df_coll_clean['JUNCTIONTYPE']== 'Mid-Block (but intersection related)']\n",
    "junc3_df = df_coll_clean[df_coll_clean['JUNCTIONTYPE']== 'At Intersection (but not related to intersection)']\n",
    "junc4_df = df_coll_clean[df_coll_clean['JUNCTIONTYPE']== 'At Intersection (intersection related)']\n",
    "junc5_df = df_coll_clean[df_coll_clean['JUNCTIONTYPE']== 'Driveway Junction']\n",
    "junc6_df = df_coll_clean[df_coll_clean['JUNCTIONTYPE']== 'Ramp Junction']\n",
    "junc7_df = df_coll_clean[df_coll_clean['JUNCTIONTYPE']== 'Other']\n",
    "junc8_df = df_coll_clean[df_coll_clean['JUNCTIONTYPE']== 'Unknown']\n",
    "\n",
    "\n",
    "fig, axes = plt.subplots(4, 2, sharex = True, figsize = (15,20))\n",
    "\n",
    "sns.countplot(ax = axes[3, 0], x = junc6_df['SEVERITYCODE'], palette = 'ch: .50', data = junc6_df)\n",
    "axes[3,0].set(xlabel = 'Severity code', ylabel = 'Count, Ramp Junction')\n",
    "\n",
    "sns.countplot(ax = axes[3, 1], x = junc8_df['SEVERITYCODE'], palette = 'ch: .50', data = junc8_df)\n",
    "axes[3,1].set(xlabel = 'Severity code', ylabel = 'Count, Unknown')\n",
    "\n",
    "sns.countplot(ax = axes[0, 0], x = junc1_df['SEVERITYCODE'], palette = 'ch: .50', data = junc1_df)\n",
    "axes[0,0].set(xlabel = 'Severity code', ylabel = 'Count, Mid-Block (not related to intersection)')\n",
    "\n",
    "sns.countplot(ax = axes[0, 1], x = junc2_df['SEVERITYCODE'], palette = 'ch: .50', data = junc2_df)\n",
    "axes[0,1].set(xlabel = 'Severity code', ylabel = 'Count, Mid-Block (but intersection related)')\n",
    "\n",
    "sns.countplot(ax = axes[1, 0], x = junc3_df['SEVERITYCODE'], palette = 'ch: .50', data = junc3_df)\n",
    "axes[1,0].set(xlabel = 'Severity code', ylabel = 'Count, At Intersection (but not related to intersection)')\n",
    "\n",
    "sns.countplot(ax = axes[1, 1], x = junc4_df['SEVERITYCODE'], palette = 'ch: .50', data = junc4_df)\n",
    "axes[1,1].set(xlabel = 'Severity code', ylabel = 'Count, At Intersection (intersection related)')\n",
    "\n",
    "sns.countplot(ax = axes[2, 0], x = junc5_df['SEVERITYCODE'], palette = 'ch: .50', data = junc5_df)\n",
    "axes[2,0].set(xlabel = 'Severity code', ylabel = 'Count, Driveway Junction')\n",
    "\n",
    "sns.countplot(ax = axes[2, 1], x = junc7_df['SEVERITYCODE'], palette = 'ch: .50', data = junc7_df)\n",
    "axes[2,1].set(xlabel = 'Severity code', ylabel = 'Count, other')"
   ]
  },
  {
   "cell_type": "markdown",
   "metadata": {},
   "source": [
    "**Relationship between the Severity of an accident and Person count**"
   ]
  },
  {
   "cell_type": "code",
   "execution_count": 73,
   "metadata": {},
   "outputs": [
    {
     "data": {
      "text/plain": [
       "[Text(0.5, 0, 'Severity code'),\n",
       " Text(0, 0.5, 'Number of persons involved in the accident')]"
      ]
     },
     "execution_count": 73,
     "metadata": {},
     "output_type": "execute_result"
    },
    {
     "data": {
      "image/png": "[encoded data removed]",
      "text/plain": [
       "<Figure size 432x288 with 1 Axes>"
      ]
     },
     "metadata": {
      "needs_background": "light"
     },
     "output_type": "display_data"
    }
   ],
   "source": [
    "ax3 = sns.barplot(x = 'SEVERITYCODE',y = 'PERSONCOUNT', data = df_coll_clean)\n",
    "ax3.set(xlabel = \"Severity code\", ylabel = 'Number of persons involved in the accident')\n"
   ]
  },
  {
   "cell_type": "markdown",
   "metadata": {},
   "source": [
    "**Relationship between the Severity of an accident and pedestrian count**"
   ]
  },
  {
   "cell_type": "code",
   "execution_count": 74,
   "metadata": {},
   "outputs": [
    {
     "data": {
      "text/plain": [
       "[Text(0.5, 0, 'Severity code'),\n",
       " Text(0, 0.5, 'Number of pedestrians involved in the accident')]"
      ]
     },
     "execution_count": 74,
     "metadata": {},
     "output_type": "execute_result"
    },
    {
     "data": {
      "image/png": "[encoded data removed]",
      "text/plain": [
       "<Figure size 432x288 with 1 Axes>"
      ]
     },
     "metadata": {
      "needs_background": "light"
     },
     "output_type": "display_data"
    }
   ],
   "source": [
    "ax3 = sns.barplot(x = 'SEVERITYCODE',y = 'PEDCOUNT', data = df_coll_clean)\n",
    "ax3.set(xlabel = \"Severity code\", ylabel = 'Number of pedestrians involved in the accident')"
   ]
  },
  {
   "cell_type": "markdown",
   "metadata": {},
   "source": [
    "**Relationship between the Severity of an accident and cyclist count**"
   ]
  },
  {
   "cell_type": "code",
   "execution_count": 75,
   "metadata": {},
   "outputs": [
    {
     "data": {
      "text/plain": [
       "[Text(0.5, 0, 'Severity code'),\n",
       " Text(0, 0.5, 'Number of cyclists involved in the accident')]"
      ]
     },
     "execution_count": 75,
     "metadata": {},
     "output_type": "execute_result"
    },
    {
     "data": {
      "image/png": "[encoded data removed]",
      "text/plain": [
       "<Figure size 432x288 with 1 Axes>"
      ]
     },
     "metadata": {
      "needs_background": "light"
     },
     "output_type": "display_data"
    }
   ],
   "source": [
    "ax3 = sns.barplot(x = 'SEVERITYCODE',y = 'PEDCYLCOUNT', data = df_coll_clean)\n",
    "ax3.set(xlabel = \"Severity code\", ylabel = 'Number of cyclists involved in the accident')"
   ]
  },
  {
   "cell_type": "markdown",
   "metadata": {},
   "source": [
    "**Relationship between the Severity of an accident and vehicle count**"
   ]
  },
  {
   "cell_type": "code",
   "execution_count": 76,
   "metadata": {},
   "outputs": [
    {
     "data": {
      "text/plain": [
       "[Text(0.5, 0, 'Severity code'),\n",
       " Text(0, 0.5, 'Number of vehicles involved in the accident')]"
      ]
     },
     "execution_count": 76,
     "metadata": {},
     "output_type": "execute_result"
    },
    {
     "data": {
      "image/png": "[encoded data removed]",
      "text/plain": [
       "<Figure size 432x288 with 1 Axes>"
      ]
     },
     "metadata": {
      "needs_background": "light"
     },
     "output_type": "display_data"
    }
   ],
   "source": [
    "ax3 = sns.barplot(x = 'SEVERITYCODE',y = 'VEHCOUNT', data = df_coll_clean)\n",
    "ax3.set(xlabel = \"Severity code\", ylabel = 'Number of vehicles involved in the accident')"
   ]
  },
  {
   "cell_type": "markdown",
   "metadata": {},
   "source": [
    "**Severity of the accidents where inattention played a part in the accident**"
   ]
  },
  {
   "cell_type": "code",
   "execution_count": 77,
   "metadata": {
    "scrolled": true
   },
   "outputs": [
    {
     "data": {
      "text/plain": [
       "[Text(0.5, 0, 'Severity code'),\n",
       " Text(0, 0.5, 'Count, when inattention played a part')]"
      ]
     },
     "execution_count": 77,
     "metadata": {},
     "output_type": "execute_result"
    },
    {
     "data": {
      "image/png": "[encoded data removed]",
      "text/plain": [
       "<Figure size 432x288 with 1 Axes>"
      ]
     },
     "metadata": {
      "needs_background": "light"
     },
     "output_type": "display_data"
    }
   ],
   "source": [
    "inatt_df = df_coll_clean[df_coll_clean['INATTENTIONIND']== 1]\n",
    "\n",
    "ax5 = sns.countplot(x = inatt_df['SEVERITYCODE'], data = inatt_df)\n",
    "ax5.set(xlabel = \"Severity code\", ylabel = 'Count, when inattention played a part')"
   ]
  },
  {
   "cell_type": "markdown",
   "metadata": {},
   "source": [
    "**Severity of the accidents where influence of drug/alcohol played a part in the accident**"
   ]
  },
  {
   "cell_type": "code",
   "execution_count": 78,
   "metadata": {},
   "outputs": [
    {
     "data": {
      "text/plain": [
       "[Text(0.5, 0, 'Severity code'),\n",
       " Text(0, 0.5, 'Count, when drug/alcohol influence played a part')]"
      ]
     },
     "execution_count": 78,
     "metadata": {},
     "output_type": "execute_result"
    },
    {
     "data": {
      "image/png": "[encoded data removed]",
      "text/plain": [
       "<Figure size 432x288 with 1 Axes>"
      ]
     },
     "metadata": {
      "needs_background": "light"
     },
     "output_type": "display_data"
    }
   ],
   "source": [
    "underinfl_df = df_coll_clean[df_coll_clean['UNDERINFL']== 'Y']\n",
    "\n",
    "ax6 = sns.countplot(x = underinfl_df['SEVERITYCODE'], data = underinfl_df)\n",
    "ax6.set(xlabel = \"Severity code\", ylabel = 'Count, when drug/alcohol influence played a part')"
   ]
  },
  {
   "cell_type": "markdown",
   "metadata": {},
   "source": [
    "**Severity of the accidents where speeding of the vehicles played a part in the accident**"
   ]
  },
  {
   "cell_type": "code",
   "execution_count": 79,
   "metadata": {},
   "outputs": [
    {
     "data": {
      "text/plain": [
       "[Text(0.5, 0, 'Severity code'),\n",
       " Text(0, 0.5, 'Count, when speeding played a part')]"
      ]
     },
     "execution_count": 79,
     "metadata": {},
     "output_type": "execute_result"
    },
    {
     "data": {
      "image/png": "[encoded data removed]",
      "text/plain": [
       "<Figure size 432x288 with 1 Axes>"
      ]
     },
     "metadata": {
      "needs_background": "light"
     },
     "output_type": "display_data"
    }
   ],
   "source": [
    "speeding_df = df_coll_clean[df_coll_clean['SPEEDING']== 1]\n",
    "\n",
    "ax7 = sns.countplot(x = speeding_df['SPEEDING'], data = speeding_df)\n",
    "ax7.set(xlabel = \"Severity code\", ylabel = 'Count, when speeding played a part')"
   ]
  },
  {
   "cell_type": "markdown",
   "metadata": {},
   "source": [
    "**N.B.** We can see from the above plot that speeding only led to the accidents with severity code category '1' only, none of the other severity levels were seen when speeding was a factor in the accidents. Thats why I'm going to remove the `SPEEDING` variable from the features set to avoid bias in our model towards this severity code category."
   ]
  },
  {
   "cell_type": "code",
   "execution_count": 80,
   "metadata": {
    "scrolled": true
   },
   "outputs": [
    {
     "name": "stderr",
     "output_type": "stream",
     "text": [
      "c:\\users\\sankh\\appdata\\local\\programs\\python\\python38\\lib\\site-packages\\pandas\\core\\frame.py:4162: SettingWithCopyWarning: \n",
      "A value is trying to be set on a copy of a slice from a DataFrame\n",
      "\n",
      "See the caveats in the documentation: https://pandas.pydata.org/pandas-docs/stable/user_guide/indexing.html#returning-a-view-versus-a-copy\n",
      "  return super().drop(\n"
     ]
    },
    {
     "data": {
      "text/html": [
       "<div>\n",
       "<style scoped>\n",
       "    .dataframe tbody tr th:only-of-type {\n",
       "        vertical-align: middle;\n",
       "    }\n",
       "\n",
       "    .dataframe tbody tr th {\n",
       "        vertical-align: top;\n",
       "    }\n",
       "\n",
       "    .dataframe thead th {\n",
       "        text-align: right;\n",
       "    }\n",
       "</style>\n",
       "<table border=\"1\" class=\"dataframe\">\n",
       "  <thead>\n",
       "    <tr style=\"text-align: right;\">\n",
       "      <th></th>\n",
       "      <th>ADDRTYPE</th>\n",
       "      <th>PERSONCOUNT</th>\n",
       "      <th>PEDCOUNT</th>\n",
       "      <th>PEDCYLCOUNT</th>\n",
       "      <th>VEHCOUNT</th>\n",
       "      <th>JUNCTIONTYPE</th>\n",
       "      <th>INATTENTIONIND</th>\n",
       "      <th>UNDERINFL</th>\n",
       "      <th>WEATHER</th>\n",
       "      <th>ROADCOND</th>\n",
       "      <th>LIGHTCOND</th>\n",
       "    </tr>\n",
       "  </thead>\n",
       "  <tbody>\n",
       "    <tr>\n",
       "      <th>0</th>\n",
       "      <td>Intersection</td>\n",
       "      <td>2</td>\n",
       "      <td>1</td>\n",
       "      <td>0</td>\n",
       "      <td>1</td>\n",
       "      <td>At Intersection (intersection related)</td>\n",
       "      <td>0</td>\n",
       "      <td>N</td>\n",
       "      <td>Clear</td>\n",
       "      <td>Dry</td>\n",
       "      <td>Daylight</td>\n",
       "    </tr>\n",
       "    <tr>\n",
       "      <th>1</th>\n",
       "      <td>Intersection</td>\n",
       "      <td>4</td>\n",
       "      <td>0</td>\n",
       "      <td>0</td>\n",
       "      <td>2</td>\n",
       "      <td>At Intersection (intersection related)</td>\n",
       "      <td>0</td>\n",
       "      <td>N</td>\n",
       "      <td>Raining</td>\n",
       "      <td>Wet</td>\n",
       "      <td>Dark - Street Lights On</td>\n",
       "    </tr>\n",
       "    <tr>\n",
       "      <th>2</th>\n",
       "      <td>Block</td>\n",
       "      <td>4</td>\n",
       "      <td>0</td>\n",
       "      <td>0</td>\n",
       "      <td>3</td>\n",
       "      <td>Mid-Block (not related to intersection)</td>\n",
       "      <td>0</td>\n",
       "      <td>N</td>\n",
       "      <td>Clear</td>\n",
       "      <td>Dry</td>\n",
       "      <td>Daylight</td>\n",
       "    </tr>\n",
       "    <tr>\n",
       "      <th>3</th>\n",
       "      <td>Intersection</td>\n",
       "      <td>2</td>\n",
       "      <td>0</td>\n",
       "      <td>0</td>\n",
       "      <td>2</td>\n",
       "      <td>At Intersection (intersection related)</td>\n",
       "      <td>0</td>\n",
       "      <td>N</td>\n",
       "      <td>Raining</td>\n",
       "      <td>Wet</td>\n",
       "      <td>Dark - Street Lights On</td>\n",
       "    </tr>\n",
       "    <tr>\n",
       "      <th>6</th>\n",
       "      <td>Block</td>\n",
       "      <td>2</td>\n",
       "      <td>0</td>\n",
       "      <td>0</td>\n",
       "      <td>2</td>\n",
       "      <td>Mid-Block (not related to intersection)</td>\n",
       "      <td>0</td>\n",
       "      <td>N</td>\n",
       "      <td>Clear</td>\n",
       "      <td>Dry</td>\n",
       "      <td>Dark - Street Lights On</td>\n",
       "    </tr>\n",
       "  </tbody>\n",
       "</table>\n",
       "</div>"
      ],
      "text/plain": [
       "       ADDRTYPE  PERSONCOUNT  PEDCOUNT  PEDCYLCOUNT  VEHCOUNT  \\\n",
       "0  Intersection            2         1            0         1   \n",
       "1  Intersection            4         0            0         2   \n",
       "2         Block            4         0            0         3   \n",
       "3  Intersection            2         0            0         2   \n",
       "6         Block            2         0            0         2   \n",
       "\n",
       "                              JUNCTIONTYPE  INATTENTIONIND UNDERINFL  WEATHER  \\\n",
       "0   At Intersection (intersection related)               0         N    Clear   \n",
       "1   At Intersection (intersection related)               0         N  Raining   \n",
       "2  Mid-Block (not related to intersection)               0         N    Clear   \n",
       "3   At Intersection (intersection related)               0         N  Raining   \n",
       "6  Mid-Block (not related to intersection)               0         N    Clear   \n",
       "\n",
       "  ROADCOND                LIGHTCOND  \n",
       "0      Dry                 Daylight  \n",
       "1      Wet  Dark - Street Lights On  \n",
       "2      Dry                 Daylight  \n",
       "3      Wet  Dark - Street Lights On  \n",
       "6      Dry  Dark - Street Lights On  "
      ]
     },
     "execution_count": 80,
     "metadata": {},
     "output_type": "execute_result"
    }
   ],
   "source": [
    "df_coll_clean.drop(['SPEEDING'], axis = 1, inplace = True) # let's also drop it from the df_coll_clean\n",
    "                                                             # as we will be using this dataframe further\n",
    "features.drop(['SPEEDING'], axis = 1, inplace = True)\n",
    "features.head(5)"
   ]
  },
  {
   "cell_type": "markdown",
   "metadata": {},
   "source": [
    "**Relationship between the Severity of an accident and the Weather condition**"
   ]
  },
  {
   "cell_type": "code",
   "execution_count": 81,
   "metadata": {},
   "outputs": [
    {
     "data": {
      "text/html": [
       "<div>\n",
       "<style scoped>\n",
       "    .dataframe tbody tr th:only-of-type {\n",
       "        vertical-align: middle;\n",
       "    }\n",
       "\n",
       "    .dataframe tbody tr th {\n",
       "        vertical-align: top;\n",
       "    }\n",
       "\n",
       "    .dataframe thead th {\n",
       "        text-align: right;\n",
       "    }\n",
       "</style>\n",
       "<table border=\"1\" class=\"dataframe\">\n",
       "  <thead>\n",
       "    <tr style=\"text-align: right;\">\n",
       "      <th></th>\n",
       "      <th>WEATHER</th>\n",
       "    </tr>\n",
       "  </thead>\n",
       "  <tbody>\n",
       "    <tr>\n",
       "      <th>Clear</th>\n",
       "      <td>114355</td>\n",
       "    </tr>\n",
       "    <tr>\n",
       "      <th>Raining</th>\n",
       "      <td>34011</td>\n",
       "    </tr>\n",
       "    <tr>\n",
       "      <th>Overcast</th>\n",
       "      <td>28506</td>\n",
       "    </tr>\n",
       "    <tr>\n",
       "      <th>Unknown</th>\n",
       "      <td>15131</td>\n",
       "    </tr>\n",
       "    <tr>\n",
       "      <th>Unspecified</th>\n",
       "      <td>7240</td>\n",
       "    </tr>\n",
       "    <tr>\n",
       "      <th>Snowing</th>\n",
       "      <td>919</td>\n",
       "    </tr>\n",
       "    <tr>\n",
       "      <th>Other</th>\n",
       "      <td>849</td>\n",
       "    </tr>\n",
       "    <tr>\n",
       "      <th>Fog/Smog/Smoke</th>\n",
       "      <td>577</td>\n",
       "    </tr>\n",
       "    <tr>\n",
       "      <th>Sleet/Hail/Freezing Rain</th>\n",
       "      <td>116</td>\n",
       "    </tr>\n",
       "    <tr>\n",
       "      <th>Blowing Sand/Dirt</th>\n",
       "      <td>56</td>\n",
       "    </tr>\n",
       "    <tr>\n",
       "      <th>Severe Crosswind</th>\n",
       "      <td>26</td>\n",
       "    </tr>\n",
       "  </tbody>\n",
       "</table>\n",
       "</div>"
      ],
      "text/plain": [
       "                          WEATHER\n",
       "Clear                      114355\n",
       "Raining                     34011\n",
       "Overcast                    28506\n",
       "Unknown                     15131\n",
       "Unspecified                  7240\n",
       "Snowing                       919\n",
       "Other                         849\n",
       "Fog/Smog/Smoke                577\n",
       "Sleet/Hail/Freezing Rain      116\n",
       "Blowing Sand/Dirt              56\n",
       "Severe Crosswind               26"
      ]
     },
     "execution_count": 81,
     "metadata": {},
     "output_type": "execute_result"
    }
   ],
   "source": [
    "df_coll_clean['WEATHER'].value_counts().to_frame()"
   ]
  },
  {
   "cell_type": "code",
   "execution_count": 83,
   "metadata": {},
   "outputs": [
    {
     "data": {
      "text/plain": [
       "[Text(0.5, 0, 'Severity code'), Text(0, 0.5, 'Count, Unspecified')]"
      ]
     },
     "execution_count": 83,
     "metadata": {},
     "output_type": "execute_result"
    },
    {
     "data": {
      "image/png": "[encoded data removed]",
      "text/plain": [
       "<Figure size 1080x1440 with 12 Axes>"
      ]
     },
     "metadata": {
      "needs_background": "light"
     },
     "output_type": "display_data"
    }
   ],
   "source": [
    "weath1_df = df_coll_clean[df_coll_clean['WEATHER']== 'Clear']\n",
    "weath2_df = df_coll_clean[df_coll_clean['WEATHER']== 'Raining']\n",
    "weath3_df = df_coll_clean[df_coll_clean['WEATHER']== 'Overcast']\n",
    "weath4_df = df_coll_clean[df_coll_clean['WEATHER']== 'Snowing']\n",
    "weath5_df = df_coll_clean[df_coll_clean['WEATHER']== 'Fog/Smog/Smoke']\n",
    "weath6_df = df_coll_clean[df_coll_clean['WEATHER']== 'Sleet/Hail/Freezing Rain']\n",
    "weath7_df = df_coll_clean[df_coll_clean['WEATHER']== 'Blowing Sand/Dirt']\n",
    "weath8_df = df_coll_clean[df_coll_clean['WEATHER']== 'Severe Crosswind']\n",
    "weath9_df = df_coll_clean[df_coll_clean['WEATHER']== 'Other']\n",
    "weath10_df = df_coll_clean[df_coll_clean['WEATHER']== 'Unknown']\n",
    "weath11_df = df_coll_clean[df_coll_clean['WEATHER']== 'Unspecified']\n",
    "\n",
    "\n",
    "fig, axes = plt.subplots(6, 2, sharex = True, figsize = (15,20))\n",
    "\n",
    "sns.countplot(ax = axes[0, 0], x = weath1_df['SEVERITYCODE'], palette = 'pastel', data = weath1_df)\n",
    "axes[0,0].set(xlabel = 'Severity code', ylabel = 'Count, Clear')\n",
    "\n",
    "sns.countplot(ax = axes[0, 1], x = weath2_df['SEVERITYCODE'], palette = 'pastel', data = weath2_df)\n",
    "axes[0,1].set(xlabel = 'Severity code', ylabel = 'Count, Raining')\n",
    "\n",
    "sns.countplot(ax = axes[1, 0], x = weath3_df['SEVERITYCODE'], palette = 'pastel', data = weath3_df)\n",
    "axes[1,0].set(xlabel = 'Severity code', ylabel = 'Count, Overcast')\n",
    "\n",
    "sns.countplot(ax = axes[1, 1], x = weath4_df['SEVERITYCODE'], palette = 'pastel', data = weath4_df)\n",
    "axes[1,1].set(xlabel = 'Severity code', ylabel = 'Count, Snowing')\n",
    "\n",
    "sns.countplot(ax = axes[2, 0], x = weath5_df['SEVERITYCODE'], palette = 'pastel', data = weath5_df)\n",
    "axes[2,0].set(xlabel = 'Severity code', ylabel = 'Count, Fog/Smog/Smoke')\n",
    "\n",
    "sns.countplot(ax = axes[2, 1], x = weath6_df['SEVERITYCODE'], palette = 'pastel', data = weath6_df)\n",
    "axes[2,1].set(xlabel = 'Severity code', ylabel = 'Count, Sleet/Hail/Freezing Rain')\n",
    "\n",
    "sns.countplot(ax = axes[3, 0], x = weath7_df['SEVERITYCODE'], palette = 'pastel', data = weath7_df)\n",
    "axes[3,0].set(xlabel = 'Severity code', ylabel = 'Count, Blowing Sand/Dirt')\n",
    "\n",
    "sns.countplot(ax = axes[3, 1], x = weath8_df['SEVERITYCODE'], palette = 'pastel', data = weath8_df)\n",
    "axes[3,1].set(xlabel = 'Severity code', ylabel = 'Count, Severe Crosswind')\n",
    "\n",
    "sns.countplot(ax = axes[4, 0], x = weath9_df['SEVERITYCODE'], palette = 'pastel', data = weath9_df)\n",
    "axes[4,0].set(xlabel = 'Severity code', ylabel = 'Count, Other')\n",
    "\n",
    "sns.countplot(ax = axes[4, 1], x = weath10_df['SEVERITYCODE'], palette = 'pastel', data = weath10_df)\n",
    "axes[4,1].set(xlabel = 'Severity code', ylabel = 'Count, Unknown')\n",
    "\n",
    "sns.countplot(ax = axes[5, 0], x = weath11_df['SEVERITYCODE'], palette = 'pastel', data = weath11_df)\n",
    "axes[5,0].set(xlabel = 'Severity code', ylabel = 'Count, Unspecified')"
   ]
  },
  {
   "cell_type": "markdown",
   "metadata": {},
   "source": [
    "**Relationship between Severity of an accident and Road condition**"
   ]
  },
  {
   "cell_type": "code",
   "execution_count": 84,
   "metadata": {},
   "outputs": [
    {
     "data": {
      "text/html": [
       "<div>\n",
       "<style scoped>\n",
       "    .dataframe tbody tr th:only-of-type {\n",
       "        vertical-align: middle;\n",
       "    }\n",
       "\n",
       "    .dataframe tbody tr th {\n",
       "        vertical-align: top;\n",
       "    }\n",
       "\n",
       "    .dataframe thead th {\n",
       "        text-align: right;\n",
       "    }\n",
       "</style>\n",
       "<table border=\"1\" class=\"dataframe\">\n",
       "  <thead>\n",
       "    <tr style=\"text-align: right;\">\n",
       "      <th></th>\n",
       "      <th>count</th>\n",
       "    </tr>\n",
       "  </thead>\n",
       "  <tbody>\n",
       "    <tr>\n",
       "      <th>Dry</th>\n",
       "      <td>128155</td>\n",
       "    </tr>\n",
       "    <tr>\n",
       "      <th>Wet</th>\n",
       "      <td>48702</td>\n",
       "    </tr>\n",
       "    <tr>\n",
       "      <th>Unknown</th>\n",
       "      <td>15129</td>\n",
       "    </tr>\n",
       "    <tr>\n",
       "      <th>Unspecified</th>\n",
       "      <td>7159</td>\n",
       "    </tr>\n",
       "    <tr>\n",
       "      <th>Ice</th>\n",
       "      <td>1231</td>\n",
       "    </tr>\n",
       "    <tr>\n",
       "      <th>Snow/Slush</th>\n",
       "      <td>1014</td>\n",
       "    </tr>\n",
       "    <tr>\n",
       "      <th>Other</th>\n",
       "      <td>136</td>\n",
       "    </tr>\n",
       "    <tr>\n",
       "      <th>Standing Water</th>\n",
       "      <td>119</td>\n",
       "    </tr>\n",
       "    <tr>\n",
       "      <th>Sand/Mud/Dirt</th>\n",
       "      <td>77</td>\n",
       "    </tr>\n",
       "    <tr>\n",
       "      <th>Oil</th>\n",
       "      <td>64</td>\n",
       "    </tr>\n",
       "  </tbody>\n",
       "</table>\n",
       "</div>"
      ],
      "text/plain": [
       "                 count\n",
       "Dry             128155\n",
       "Wet              48702\n",
       "Unknown          15129\n",
       "Unspecified       7159\n",
       "Ice               1231\n",
       "Snow/Slush        1014\n",
       "Other              136\n",
       "Standing Water     119\n",
       "Sand/Mud/Dirt       77\n",
       "Oil                 64"
      ]
     },
     "execution_count": 84,
     "metadata": {},
     "output_type": "execute_result"
    }
   ],
   "source": [
    "df_coll_clean['ROADCOND'].value_counts().to_frame('count')"
   ]
  },
  {
   "cell_type": "code",
   "execution_count": 88,
   "metadata": {
    "scrolled": true
   },
   "outputs": [
    {
     "data": {
      "text/plain": [
       "[Text(0.5, 0, 'Severity code'), Text(0, 0.5, 'Count, Unspecified')]"
      ]
     },
     "execution_count": 88,
     "metadata": {},
     "output_type": "execute_result"
    },
    {
     "data": {
      "image/png": "[encoded data removed]",
      "text/plain": [
       "<Figure size 1080x1440 with 10 Axes>"
      ]
     },
     "metadata": {
      "needs_background": "light"
     },
     "output_type": "display_data"
    }
   ],
   "source": [
    "road1_df = df_coll_clean[df_coll_clean['ROADCOND']== 'Dry']\n",
    "road2_df = df_coll_clean[df_coll_clean['ROADCOND']== 'Wet']\n",
    "road3_df = df_coll_clean[df_coll_clean['ROADCOND']== 'Ice']\n",
    "road4_df = df_coll_clean[df_coll_clean['ROADCOND']== 'Snow/Slush']\n",
    "road5_df = df_coll_clean[df_coll_clean['ROADCOND']== 'Standing Water']\n",
    "road6_df = df_coll_clean[df_coll_clean['ROADCOND']== 'Sand/Mud/Dirt']\n",
    "road7_df = df_coll_clean[df_coll_clean['ROADCOND']== 'Oil']\n",
    "road8_df = df_coll_clean[df_coll_clean['ROADCOND']== 'Other']\n",
    "road9_df = df_coll_clean[df_coll_clean['ROADCOND']== 'Unknown']\n",
    "road10_df = df_coll_clean[df_coll_clean['ROADCOND']== 'Unspecified']\n",
    "\n",
    "\n",
    "fig, axes = plt.subplots(5, 2, sharex = True, figsize = (15,20))\n",
    "\n",
    "sns.countplot(ax = axes[0, 0], x = road1_df['SEVERITYCODE'], palette = 'hls', data = road1_df)\n",
    "axes[0,0].set(xlabel = 'Severity code', ylabel = 'Count, Dry')\n",
    "\n",
    "sns.countplot(ax = axes[0, 1], x = road2_df['SEVERITYCODE'], palette = 'hls', data = road2_df)\n",
    "axes[0,1].set(xlabel = 'Severity code', ylabel = 'Count, Wet')\n",
    "\n",
    "sns.countplot(ax = axes[1, 0], x = road3_df['SEVERITYCODE'], palette = 'hls', data = road3_df)\n",
    "axes[1,0].set(xlabel = 'Severity code', ylabel = 'Count, Ice')\n",
    "\n",
    "sns.countplot(ax = axes[1, 1], x = road4_df['SEVERITYCODE'], palette = 'hls', data = road4_df)\n",
    "axes[1,1].set(xlabel = 'Severity code', ylabel = 'Count, Snow/Slush')\n",
    "\n",
    "sns.countplot(ax = axes[2, 0], x = road5_df['SEVERITYCODE'], palette = 'hls', data = road5_df)\n",
    "axes[2,0].set(xlabel = 'Severity code', ylabel = 'Count, Standing Water')\n",
    "\n",
    "sns.countplot(ax = axes[2, 1], x = road6_df['SEVERITYCODE'], palette = 'hls', data = road6_df)\n",
    "axes[2,1].set(xlabel = 'Severity code', ylabel = 'Count, Sand/Mud/Dirt')\n",
    "\n",
    "sns.countplot(ax = axes[3, 0], x = road7_df['SEVERITYCODE'], palette = 'hls', data = road7_df)\n",
    "axes[3,0].set(xlabel = 'Severity code', ylabel = 'Count, Oil')\n",
    "\n",
    "sns.countplot(ax = axes[3, 1], x = road8_df['SEVERITYCODE'], palette = 'hls', data = road8_df)\n",
    "axes[3,1].set(xlabel = 'Severity code', ylabel = 'Count, Other')\n",
    "\n",
    "sns.countplot(ax = axes[4, 0], x = road9_df['SEVERITYCODE'], palette = 'hls', data = road9_df)\n",
    "axes[4,0].set(xlabel = 'Severity code', ylabel = 'Count, Unknown')\n",
    "\n",
    "sns.countplot(ax = axes[4, 1], x = road10_df['SEVERITYCODE'], palette = 'hls', data = road10_df)\n",
    "axes[4,1].set(xlabel = 'Severity code', ylabel = 'Count, Unspecified')"
   ]
  },
  {
   "cell_type": "markdown",
   "metadata": {},
   "source": [
    "**Relationship between Severity of an Accident and Lighting condition**"
   ]
  },
  {
   "cell_type": "code",
   "execution_count": 89,
   "metadata": {
    "scrolled": true
   },
   "outputs": [
    {
     "data": {
      "text/html": [
       "<div>\n",
       "<style scoped>\n",
       "    .dataframe tbody tr th:only-of-type {\n",
       "        vertical-align: middle;\n",
       "    }\n",
       "\n",
       "    .dataframe tbody tr th {\n",
       "        vertical-align: top;\n",
       "    }\n",
       "\n",
       "    .dataframe thead th {\n",
       "        text-align: right;\n",
       "    }\n",
       "</style>\n",
       "<table border=\"1\" class=\"dataframe\">\n",
       "  <thead>\n",
       "    <tr style=\"text-align: right;\">\n",
       "      <th></th>\n",
       "      <th>count</th>\n",
       "    </tr>\n",
       "  </thead>\n",
       "  <tbody>\n",
       "    <tr>\n",
       "      <th>Daylight</th>\n",
       "      <td>119160</td>\n",
       "    </tr>\n",
       "    <tr>\n",
       "      <th>Dark - Street Lights On</th>\n",
       "      <td>50049</td>\n",
       "    </tr>\n",
       "    <tr>\n",
       "      <th>Unknown</th>\n",
       "      <td>13523</td>\n",
       "    </tr>\n",
       "    <tr>\n",
       "      <th>Unspecified</th>\n",
       "      <td>7328</td>\n",
       "    </tr>\n",
       "    <tr>\n",
       "      <th>Dusk</th>\n",
       "      <td>6076</td>\n",
       "    </tr>\n",
       "    <tr>\n",
       "      <th>Dawn</th>\n",
       "      <td>2598</td>\n",
       "    </tr>\n",
       "    <tr>\n",
       "      <th>Dark - No Street Lights</th>\n",
       "      <td>1572</td>\n",
       "    </tr>\n",
       "    <tr>\n",
       "      <th>Dark - Street Lights Off</th>\n",
       "      <td>1236</td>\n",
       "    </tr>\n",
       "    <tr>\n",
       "      <th>Other</th>\n",
       "      <td>244</td>\n",
       "    </tr>\n",
       "  </tbody>\n",
       "</table>\n",
       "</div>"
      ],
      "text/plain": [
       "                           count\n",
       "Daylight                  119160\n",
       "Dark - Street Lights On    50049\n",
       "Unknown                    13523\n",
       "Unspecified                 7328\n",
       "Dusk                        6076\n",
       "Dawn                        2598\n",
       "Dark - No Street Lights     1572\n",
       "Dark - Street Lights Off    1236\n",
       "Other                        244"
      ]
     },
     "execution_count": 89,
     "metadata": {},
     "output_type": "execute_result"
    }
   ],
   "source": [
    "df_coll_clean['LIGHTCOND'].value_counts().to_frame('count')"
   ]
  },
  {
   "cell_type": "code",
   "execution_count": 92,
   "metadata": {},
   "outputs": [
    {
     "data": {
      "text/plain": [
       "[Text(0.5, 0, 'Severity code'), Text(0, 0.5, 'Count, Unspecified')]"
      ]
     },
     "execution_count": 92,
     "metadata": {},
     "output_type": "execute_result"
    },
    {
     "data": {
      "image/png": "[encoded data removed]",
      "text/plain": [
       "<Figure size 1080x1440 with 10 Axes>"
      ]
     },
     "metadata": {
      "needs_background": "light"
     },
     "output_type": "display_data"
    }
   ],
   "source": [
    "light1_df = df_coll_clean[df_coll_clean['LIGHTCOND']== 'Daylight']\n",
    "light2_df = df_coll_clean[df_coll_clean['LIGHTCOND']== 'Dusk']\n",
    "light3_df = df_coll_clean[df_coll_clean['LIGHTCOND']== 'Dawn']\n",
    "light4_df = df_coll_clean[df_coll_clean['LIGHTCOND']== 'Dark - Street Lights On']\n",
    "light5_df = df_coll_clean[df_coll_clean['LIGHTCOND']== 'Dark - Street Lights Off']\n",
    "light6_df = df_coll_clean[df_coll_clean['LIGHTCOND']== 'Dark - No Street Lights']\n",
    "light7_df = df_coll_clean[df_coll_clean['LIGHTCOND']== 'Other']\n",
    "light8_df = df_coll_clean[df_coll_clean['LIGHTCOND']== 'Unknown']\n",
    "light9_df = df_coll_clean[df_coll_clean['LIGHTCOND']== 'Unspecified']\n",
    "\n",
    "\n",
    "fig, axes = plt.subplots(5, 2, sharex = True, figsize = (15,20))\n",
    "\n",
    "sns.countplot(ax = axes[0, 0], x = light1_df['SEVERITYCODE'], palette = 'rocket', data = light1_df)\n",
    "axes[0,0].set(xlabel = 'Severity code', ylabel = 'Count, Daylight')\n",
    "\n",
    "sns.countplot(ax = axes[0, 1], x = light2_df['SEVERITYCODE'], palette = 'rocket', data = light2_df)\n",
    "axes[0,1].set(xlabel = 'Severity code', ylabel = 'Count, Dusk')\n",
    "\n",
    "sns.countplot(ax = axes[1, 0], x = light3_df['SEVERITYCODE'], palette = 'rocket', data = light3_df)\n",
    "axes[1,0].set(xlabel = 'Severity code', ylabel = 'Count, Dawn')\n",
    "\n",
    "sns.countplot(ax = axes[1, 1], x = light4_df['SEVERITYCODE'], palette = 'rocket', data = light4_df)\n",
    "axes[1,1].set(xlabel = 'Severity code', ylabel = 'Count, Dark - Street Lights On')\n",
    "\n",
    "sns.countplot(ax = axes[2, 0], x = light5_df['SEVERITYCODE'], palette = 'rocket', data = light5_df)\n",
    "axes[2,0].set(xlabel = 'Severity code', ylabel = 'Count, Dark - Street Lights Off')\n",
    "\n",
    "sns.countplot(ax = axes[2, 1], x = light6_df['SEVERITYCODE'], palette = 'rocket', data = light6_df)\n",
    "axes[2,1].set(xlabel = 'Severity code', ylabel = 'Count, Dark - No Street Lights')\n",
    "\n",
    "sns.countplot(ax = axes[3, 0], x = light7_df['SEVERITYCODE'], palette = 'rocket', data = light7_df)\n",
    "axes[3,0].set(xlabel = 'Severity code', ylabel = 'Count, Other')\n",
    "\n",
    "sns.countplot(ax = axes[3, 1], x = light8_df['SEVERITYCODE'], palette = 'rocket', data = light8_df)\n",
    "axes[3,1].set(xlabel = 'Severity code', ylabel = 'Count, Unknown')\n",
    "\n",
    "sns.countplot(ax = axes[4, 0], x = light9_df['SEVERITYCODE'], palette = 'rocket', data = light9_df)\n",
    "axes[4,0].set(xlabel = 'Severity code', ylabel = 'Count, Unspecified')"
   ]
  },
  {
   "cell_type": "markdown",
   "metadata": {},
   "source": [
    "# Data pre-processing and Modelling"
   ]
  },
  {
   "cell_type": "code",
   "execution_count": null,
   "metadata": {},
   "outputs": [],
   "source": []
  },
  {
   "cell_type": "code",
   "execution_count": null,
   "metadata": {},
   "outputs": [],
   "source": []
  },
  {
   "cell_type": "code",
   "execution_count": null,
   "metadata": {},
   "outputs": [],
   "source": []
  },
  {
   "cell_type": "markdown",
   "metadata": {},
   "source": [
    "# Model Evaluation"
   ]
  },
  {
   "cell_type": "code",
   "execution_count": null,
   "metadata": {},
   "outputs": [],
   "source": []
  },
  {
   "cell_type": "code",
   "execution_count": null,
   "metadata": {},
   "outputs": [],
   "source": []
  },
  {
   "cell_type": "code",
   "execution_count": null,
   "metadata": {},
   "outputs": [],
   "source": []
  }
 ],
 "metadata": {
  "kernelspec": {
   "display_name": "Python 3",
   "language": "python",
   "name": "python3"
  },
  "language_info": {
   "codemirror_mode": {
    "name": "ipython",
    "version": 3
   },
   "file_extension": ".py",
   "mimetype": "text/x-python",
   "name": "python",
   "nbconvert_exporter": "python",
   "pygments_lexer": "ipython3",
   "version": "3.8.2"
  }
 },
 "nbformat": 4,
 "nbformat_minor": 4
}
