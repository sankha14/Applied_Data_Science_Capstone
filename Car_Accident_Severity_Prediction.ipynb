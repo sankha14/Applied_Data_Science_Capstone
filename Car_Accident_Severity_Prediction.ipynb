{
 "cells": [
  {
   "cell_type": "markdown",
   "metadata": {},
   "source": [
    "<h1 style=\"text-align:center;\"> IBM Applied Data Science Capstone Project </h1>\n",
    "<h2 style=\"text-align:center;\"> \"Car Accident Severity Prediction\" </h2>\n",
    "<h3 style=\"text-align:center;\"> Submission by:<a href=\"www.linkedin.com/in/tukait13\"> Sankhadeep Bhowmick</a></h3>"
   ]
  },
  {
   "cell_type": "markdown",
   "metadata": {},
   "source": [
    "This project aims to build a Machine Learning model using historical data on collisions in the city of Seattle, WA to predict the severity of future accidents."
   ]
  },
  {
   "cell_type": "code",
   "execution_count": 1,
   "metadata": {},
   "outputs": [],
   "source": [
    "import pandas as pd\n",
    "import numpy as np"
   ]
  },
  {
   "cell_type": "code",
   "execution_count": 2,
   "metadata": {},
   "outputs": [
    {
     "name": "stdout",
     "output_type": "stream",
     "text": [
      "Hello Capstone Project Course!\n"
     ]
    }
   ],
   "source": [
    "print(\"Hello Capstone Project Course!\")"
   ]
  },
  {
   "cell_type": "markdown",
   "metadata": {},
   "source": [
    "# Data Acquisition"
   ]
  },
  {
   "cell_type": "markdown",
   "metadata": {},
   "source": [
    "The collisions data is recorded by Seattle Department of Transportation, Traffic Management Division, Traffic Records Group and maintained by ArcGIS and can be found in the Kaggle dataset <a href = \"https://www.kaggle.com/jonleon/seattle-sdot-collisions-data\"> here </a> "
   ]
  },
  {
   "cell_type": "markdown",
   "metadata": {},
   "source": [
    "The dataset has been downloaded and saved to local."
   ]
  },
  {
   "cell_type": "markdown",
   "metadata": {},
   "source": [
    "# Data Understanding"
   ]
  },
  {
   "cell_type": "code",
   "execution_count": 3,
   "metadata": {
    "scrolled": false
   },
   "outputs": [
    {
     "data": {
      "text/html": [
       "<div>\n",
       "<style scoped>\n",
       "    .dataframe tbody tr th:only-of-type {\n",
       "        vertical-align: middle;\n",
       "    }\n",
       "\n",
       "    .dataframe tbody tr th {\n",
       "        vertical-align: top;\n",
       "    }\n",
       "\n",
       "    .dataframe thead th {\n",
       "        text-align: right;\n",
       "    }\n",
       "</style>\n",
       "<table border=\"1\" class=\"dataframe\">\n",
       "  <thead>\n",
       "    <tr style=\"text-align: right;\">\n",
       "      <th></th>\n",
       "      <th>X</th>\n",
       "      <th>Y</th>\n",
       "      <th>OBJECTID</th>\n",
       "      <th>INCKEY</th>\n",
       "      <th>COLDETKEY</th>\n",
       "      <th>REPORTNO</th>\n",
       "      <th>STATUS</th>\n",
       "      <th>ADDRTYPE</th>\n",
       "      <th>INTKEY</th>\n",
       "      <th>LOCATION</th>\n",
       "      <th>...</th>\n",
       "      <th>ROADCOND</th>\n",
       "      <th>LIGHTCOND</th>\n",
       "      <th>PEDROWNOTGRNT</th>\n",
       "      <th>SDOTCOLNUM</th>\n",
       "      <th>SPEEDING</th>\n",
       "      <th>ST_COLCODE</th>\n",
       "      <th>ST_COLDESC</th>\n",
       "      <th>SEGLANEKEY</th>\n",
       "      <th>CROSSWALKKEY</th>\n",
       "      <th>HITPARKEDCAR</th>\n",
       "    </tr>\n",
       "  </thead>\n",
       "  <tbody>\n",
       "    <tr>\n",
       "      <th>0</th>\n",
       "      <td>-122.386772</td>\n",
       "      <td>47.564720</td>\n",
       "      <td>1</td>\n",
       "      <td>326234</td>\n",
       "      <td>327734</td>\n",
       "      <td>E984735</td>\n",
       "      <td>Matched</td>\n",
       "      <td>Intersection</td>\n",
       "      <td>31893.0</td>\n",
       "      <td>CALIFORNIA AVE SW AND SW GENESEE ST</td>\n",
       "      <td>...</td>\n",
       "      <td>Dry</td>\n",
       "      <td>Daylight</td>\n",
       "      <td>Y</td>\n",
       "      <td>NaN</td>\n",
       "      <td>NaN</td>\n",
       "      <td>2</td>\n",
       "      <td>Vehicle turning left hits pedestrian</td>\n",
       "      <td>0</td>\n",
       "      <td>0</td>\n",
       "      <td>N</td>\n",
       "    </tr>\n",
       "    <tr>\n",
       "      <th>1</th>\n",
       "      <td>-122.341806</td>\n",
       "      <td>47.686934</td>\n",
       "      <td>2</td>\n",
       "      <td>326246</td>\n",
       "      <td>327746</td>\n",
       "      <td>E985430</td>\n",
       "      <td>Matched</td>\n",
       "      <td>Intersection</td>\n",
       "      <td>24228.0</td>\n",
       "      <td>STONE AVE N AND N 80TH ST</td>\n",
       "      <td>...</td>\n",
       "      <td>Wet</td>\n",
       "      <td>Dark - Street Lights On</td>\n",
       "      <td>NaN</td>\n",
       "      <td>NaN</td>\n",
       "      <td>NaN</td>\n",
       "      <td>10</td>\n",
       "      <td>Entering at angle</td>\n",
       "      <td>0</td>\n",
       "      <td>0</td>\n",
       "      <td>N</td>\n",
       "    </tr>\n",
       "    <tr>\n",
       "      <th>2</th>\n",
       "      <td>-122.374899</td>\n",
       "      <td>47.668666</td>\n",
       "      <td>3</td>\n",
       "      <td>329254</td>\n",
       "      <td>330754</td>\n",
       "      <td>EA16720</td>\n",
       "      <td>Matched</td>\n",
       "      <td>Block</td>\n",
       "      <td>NaN</td>\n",
       "      <td>NW MARKET ST BETWEEN 14TH AVE NW AND 15TH AVE NW</td>\n",
       "      <td>...</td>\n",
       "      <td>Dry</td>\n",
       "      <td>Daylight</td>\n",
       "      <td>NaN</td>\n",
       "      <td>NaN</td>\n",
       "      <td>NaN</td>\n",
       "      <td>11</td>\n",
       "      <td>From same direction - both going straight - bo...</td>\n",
       "      <td>0</td>\n",
       "      <td>0</td>\n",
       "      <td>N</td>\n",
       "    </tr>\n",
       "    <tr>\n",
       "      <th>3</th>\n",
       "      <td>-122.300758</td>\n",
       "      <td>47.683047</td>\n",
       "      <td>4</td>\n",
       "      <td>21200</td>\n",
       "      <td>21200</td>\n",
       "      <td>1227970</td>\n",
       "      <td>Matched</td>\n",
       "      <td>Intersection</td>\n",
       "      <td>24661.0</td>\n",
       "      <td>25TH AVE NE AND NE 75TH ST</td>\n",
       "      <td>...</td>\n",
       "      <td>Wet</td>\n",
       "      <td>Dark - Street Lights On</td>\n",
       "      <td>NaN</td>\n",
       "      <td>4160038.0</td>\n",
       "      <td>NaN</td>\n",
       "      <td>28</td>\n",
       "      <td>From opposite direction - one left turn - one ...</td>\n",
       "      <td>0</td>\n",
       "      <td>0</td>\n",
       "      <td>N</td>\n",
       "    </tr>\n",
       "    <tr>\n",
       "      <th>4</th>\n",
       "      <td>-122.313053</td>\n",
       "      <td>47.567241</td>\n",
       "      <td>5</td>\n",
       "      <td>17000</td>\n",
       "      <td>17000</td>\n",
       "      <td>1793348</td>\n",
       "      <td>Unmatched</td>\n",
       "      <td>Block</td>\n",
       "      <td>NaN</td>\n",
       "      <td>S DAKOTA ST BETWEEN 15TH AVE S AND 16TH AVE S</td>\n",
       "      <td>...</td>\n",
       "      <td>NaN</td>\n",
       "      <td>NaN</td>\n",
       "      <td>NaN</td>\n",
       "      <td>4289025.0</td>\n",
       "      <td>NaN</td>\n",
       "      <td>NaN</td>\n",
       "      <td>NaN</td>\n",
       "      <td>0</td>\n",
       "      <td>0</td>\n",
       "      <td>N</td>\n",
       "    </tr>\n",
       "  </tbody>\n",
       "</table>\n",
       "<p>5 rows × 40 columns</p>\n",
       "</div>"
      ],
      "text/plain": [
       "            X          Y  OBJECTID  INCKEY  COLDETKEY REPORTNO     STATUS  \\\n",
       "0 -122.386772  47.564720         1  326234     327734  E984735    Matched   \n",
       "1 -122.341806  47.686934         2  326246     327746  E985430    Matched   \n",
       "2 -122.374899  47.668666         3  329254     330754  EA16720    Matched   \n",
       "3 -122.300758  47.683047         4   21200      21200  1227970    Matched   \n",
       "4 -122.313053  47.567241         5   17000      17000  1793348  Unmatched   \n",
       "\n",
       "       ADDRTYPE   INTKEY                                          LOCATION  \\\n",
       "0  Intersection  31893.0               CALIFORNIA AVE SW AND SW GENESEE ST   \n",
       "1  Intersection  24228.0                         STONE AVE N AND N 80TH ST   \n",
       "2         Block      NaN  NW MARKET ST BETWEEN 14TH AVE NW AND 15TH AVE NW   \n",
       "3  Intersection  24661.0                        25TH AVE NE AND NE 75TH ST   \n",
       "4         Block      NaN     S DAKOTA ST BETWEEN 15TH AVE S AND 16TH AVE S   \n",
       "\n",
       "   ... ROADCOND                LIGHTCOND PEDROWNOTGRNT SDOTCOLNUM SPEEDING  \\\n",
       "0  ...      Dry                 Daylight             Y        NaN      NaN   \n",
       "1  ...      Wet  Dark - Street Lights On           NaN        NaN      NaN   \n",
       "2  ...      Dry                 Daylight           NaN        NaN      NaN   \n",
       "3  ...      Wet  Dark - Street Lights On           NaN  4160038.0      NaN   \n",
       "4  ...      NaN                      NaN           NaN  4289025.0      NaN   \n",
       "\n",
       "   ST_COLCODE                                         ST_COLDESC  SEGLANEKEY  \\\n",
       "0           2               Vehicle turning left hits pedestrian           0   \n",
       "1          10                                  Entering at angle           0   \n",
       "2          11  From same direction - both going straight - bo...           0   \n",
       "3          28  From opposite direction - one left turn - one ...           0   \n",
       "4         NaN                                                NaN           0   \n",
       "\n",
       "   CROSSWALKKEY  HITPARKEDCAR  \n",
       "0             0             N  \n",
       "1             0             N  \n",
       "2             0             N  \n",
       "3             0             N  \n",
       "4             0             N  \n",
       "\n",
       "[5 rows x 40 columns]"
      ]
     },
     "execution_count": 3,
     "metadata": {},
     "output_type": "execute_result"
    }
   ],
   "source": [
    "# reading the data into a pandas dataframe\n",
    "\n",
    "df_coll = pd.read_csv(\"Collisions.csv\")\n",
    "df_coll.head(5)"
   ]
  },
  {
   "cell_type": "code",
   "execution_count": 4,
   "metadata": {},
   "outputs": [
    {
     "data": {
      "text/plain": [
       "(221266, 40)"
      ]
     },
     "execution_count": 4,
     "metadata": {},
     "output_type": "execute_result"
    }
   ],
   "source": [
    "df_coll.shape"
   ]
  },
  {
   "cell_type": "code",
   "execution_count": 5,
   "metadata": {
    "scrolled": false
   },
   "outputs": [
    {
     "name": "stdout",
     "output_type": "stream",
     "text": [
      "<class 'pandas.core.frame.DataFrame'>\n",
      "RangeIndex: 221266 entries, 0 to 221265\n",
      "Data columns (total 40 columns):\n",
      " #   Column           Non-Null Count   Dtype  \n",
      "---  ------           --------------   -----  \n",
      " 0   X                213797 non-null  float64\n",
      " 1   Y                213797 non-null  float64\n",
      " 2   OBJECTID         221266 non-null  int64  \n",
      " 3   INCKEY           221266 non-null  int64  \n",
      " 4   COLDETKEY        221266 non-null  int64  \n",
      " 5   REPORTNO         221266 non-null  object \n",
      " 6   STATUS           221266 non-null  object \n",
      " 7   ADDRTYPE         217554 non-null  object \n",
      " 8   INTKEY           71823 non-null   float64\n",
      " 9   LOCATION         216680 non-null  object \n",
      " 10  EXCEPTRSNCODE    100863 non-null  object \n",
      " 11  EXCEPTRSNDESC    11775 non-null   object \n",
      " 12  SEVERITYCODE     221265 non-null  object \n",
      " 13  SEVERITYDESC     221266 non-null  object \n",
      " 14  COLLISIONTYPE    194767 non-null  object \n",
      " 15  PERSONCOUNT      221266 non-null  int64  \n",
      " 16  PEDCOUNT         221266 non-null  int64  \n",
      " 17  PEDCYLCOUNT      221266 non-null  int64  \n",
      " 18  VEHCOUNT         221266 non-null  int64  \n",
      " 19  INJURIES         221266 non-null  int64  \n",
      " 20  SERIOUSINJURIES  221266 non-null  int64  \n",
      " 21  FATALITIES       221266 non-null  int64  \n",
      " 22  INCDATE          221266 non-null  object \n",
      " 23  INCDTTM          221266 non-null  object \n",
      " 24  JUNCTIONTYPE     209299 non-null  object \n",
      " 25  SDOT_COLCODE     221265 non-null  float64\n",
      " 26  SDOT_COLDESC     221265 non-null  object \n",
      " 27  INATTENTIONIND   30188 non-null   object \n",
      " 28  UNDERINFL        194787 non-null  object \n",
      " 29  WEATHER          194578 non-null  object \n",
      " 30  ROADCOND         194658 non-null  object \n",
      " 31  LIGHTCOND        194490 non-null  object \n",
      " 32  PEDROWNOTGRNT    5188 non-null    object \n",
      " 33  SDOTCOLNUM       127205 non-null  float64\n",
      " 34  SPEEDING         9913 non-null    object \n",
      " 35  ST_COLCODE       211853 non-null  object \n",
      " 36  ST_COLDESC       194767 non-null  object \n",
      " 37  SEGLANEKEY       221266 non-null  int64  \n",
      " 38  CROSSWALKKEY     221266 non-null  int64  \n",
      " 39  HITPARKEDCAR     221266 non-null  object \n",
      "dtypes: float64(5), int64(12), object(23)\n",
      "memory usage: 67.5+ MB\n"
     ]
    }
   ],
   "source": [
    "df_coll.info()"
   ]
  },
  {
   "cell_type": "markdown",
   "metadata": {},
   "source": [
    "**The locations of the accidents can be visualized on a map using the lattitude `Y` and longitude `X` columns**"
   ]
  },
  {
   "cell_type": "code",
   "execution_count": 6,
   "metadata": {},
   "outputs": [
    {
     "data": {
      "text/html": [
       "<div style=\"width:100%;\"><div style=\"position:relative;width:100%;height:0;padding-bottom:60%;\"><span style=\"color:#565656\">Make this Notebook Trusted to load map: File -> Trust Notebook</span><iframe src=\"about:blank\" style=\"position:absolute;width:100%;height:100%;left:0;top:0;border:none !important;\" data-html=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 onload=\"this.contentDocument.open();this.contentDocument.write(atob(this.getAttribute('data-html')));this.contentDocument.close();\" allowfullscreen webkitallowfullscreen mozallowfullscreen></iframe></div></div>"
      ],
      "text/plain": [
       "<folium.folium.Map at 0x24e26e688b0>"
      ]
     },
     "execution_count": 6,
     "metadata": {},
     "output_type": "execute_result"
    }
   ],
   "source": [
    "import folium\n",
    "from folium.plugins import MarkerCluster\n",
    "\n",
    "map = folium.Map(location=[47.6062, -122.3321], zoom_start=12)\n",
    "marker_cluster = MarkerCluster().add_to(map)\n",
    "locations = df_coll[['Y', 'X']][df_coll['Y'].notna()].head(1000)\n",
    "locationlist = locations.values.tolist()\n",
    "for point in range(len(locations)):\n",
    "    folium.Marker(locationlist[point]).add_to(marker_cluster)\n",
    "map"
   ]
  },
  {
   "cell_type": "code",
   "execution_count": 7,
   "metadata": {},
   "outputs": [
    {
     "data": {
      "text/plain": [
       "Index(['X', 'Y', 'OBJECTID', 'INCKEY', 'COLDETKEY', 'REPORTNO', 'STATUS',\n",
       "       'ADDRTYPE', 'INTKEY', 'LOCATION', 'EXCEPTRSNCODE', 'EXCEPTRSNDESC',\n",
       "       'SEVERITYCODE', 'SEVERITYDESC', 'COLLISIONTYPE', 'PERSONCOUNT',\n",
       "       'PEDCOUNT', 'PEDCYLCOUNT', 'VEHCOUNT', 'INJURIES', 'SERIOUSINJURIES',\n",
       "       'FATALITIES', 'INCDATE', 'INCDTTM', 'JUNCTIONTYPE', 'SDOT_COLCODE',\n",
       "       'SDOT_COLDESC', 'INATTENTIONIND', 'UNDERINFL', 'WEATHER', 'ROADCOND',\n",
       "       'LIGHTCOND', 'PEDROWNOTGRNT', 'SDOTCOLNUM', 'SPEEDING', 'ST_COLCODE',\n",
       "       'ST_COLDESC', 'SEGLANEKEY', 'CROSSWALKKEY', 'HITPARKEDCAR'],\n",
       "      dtype='object')"
      ]
     },
     "execution_count": 7,
     "metadata": {},
     "output_type": "execute_result"
    }
   ],
   "source": [
    "df_coll.columns"
   ]
  },
  {
   "cell_type": "code",
   "execution_count": 8,
   "metadata": {},
   "outputs": [
    {
     "data": {
      "text/html": [
       "<div>\n",
       "<style scoped>\n",
       "    .dataframe tbody tr th:only-of-type {\n",
       "        vertical-align: middle;\n",
       "    }\n",
       "\n",
       "    .dataframe tbody tr th {\n",
       "        vertical-align: top;\n",
       "    }\n",
       "\n",
       "    .dataframe thead th {\n",
       "        text-align: right;\n",
       "    }\n",
       "</style>\n",
       "<table border=\"1\" class=\"dataframe\">\n",
       "  <thead>\n",
       "    <tr style=\"text-align: right;\">\n",
       "      <th></th>\n",
       "      <th>Count</th>\n",
       "    </tr>\n",
       "  </thead>\n",
       "  <tbody>\n",
       "    <tr>\n",
       "      <th>Block</th>\n",
       "      <td>144857</td>\n",
       "    </tr>\n",
       "    <tr>\n",
       "      <th>Intersection</th>\n",
       "      <td>71823</td>\n",
       "    </tr>\n",
       "    <tr>\n",
       "      <th>Alley</th>\n",
       "      <td>874</td>\n",
       "    </tr>\n",
       "  </tbody>\n",
       "</table>\n",
       "</div>"
      ],
      "text/plain": [
       "               Count\n",
       "Block         144857\n",
       "Intersection   71823\n",
       "Alley            874"
      ]
     },
     "execution_count": 8,
     "metadata": {},
     "output_type": "execute_result"
    }
   ],
   "source": [
    "df_coll['ADDRTYPE'].value_counts().to_frame('Count')"
   ]
  },
  {
   "cell_type": "code",
   "execution_count": 9,
   "metadata": {
    "scrolled": true
   },
   "outputs": [
    {
     "data": {
      "text/html": [
       "<div>\n",
       "<style scoped>\n",
       "    .dataframe tbody tr th:only-of-type {\n",
       "        vertical-align: middle;\n",
       "    }\n",
       "\n",
       "    .dataframe tbody tr th {\n",
       "        vertical-align: top;\n",
       "    }\n",
       "\n",
       "    .dataframe thead th {\n",
       "        text-align: right;\n",
       "    }\n",
       "</style>\n",
       "<table border=\"1\" class=\"dataframe\">\n",
       "  <thead>\n",
       "    <tr style=\"text-align: right;\">\n",
       "      <th></th>\n",
       "      <th>Count</th>\n",
       "    </tr>\n",
       "  </thead>\n",
       "  <tbody>\n",
       "    <tr>\n",
       "      <th>1</th>\n",
       "      <td>137485</td>\n",
       "    </tr>\n",
       "    <tr>\n",
       "      <th>2</th>\n",
       "      <td>58698</td>\n",
       "    </tr>\n",
       "    <tr>\n",
       "      <th>0</th>\n",
       "      <td>21635</td>\n",
       "    </tr>\n",
       "    <tr>\n",
       "      <th>2b</th>\n",
       "      <td>3098</td>\n",
       "    </tr>\n",
       "    <tr>\n",
       "      <th>3</th>\n",
       "      <td>349</td>\n",
       "    </tr>\n",
       "  </tbody>\n",
       "</table>\n",
       "</div>"
      ],
      "text/plain": [
       "     Count\n",
       "1   137485\n",
       "2    58698\n",
       "0    21635\n",
       "2b    3098\n",
       "3      349"
      ]
     },
     "execution_count": 9,
     "metadata": {},
     "output_type": "execute_result"
    }
   ],
   "source": [
    "df_coll['SEVERITYCODE'].value_counts().to_frame('Count')"
   ]
  },
  {
   "cell_type": "code",
   "execution_count": 10,
   "metadata": {
    "scrolled": true
   },
   "outputs": [
    {
     "data": {
      "text/html": [
       "<div>\n",
       "<style scoped>\n",
       "    .dataframe tbody tr th:only-of-type {\n",
       "        vertical-align: middle;\n",
       "    }\n",
       "\n",
       "    .dataframe tbody tr th {\n",
       "        vertical-align: top;\n",
       "    }\n",
       "\n",
       "    .dataframe thead th {\n",
       "        text-align: right;\n",
       "    }\n",
       "</style>\n",
       "<table border=\"1\" class=\"dataframe\">\n",
       "  <thead>\n",
       "    <tr style=\"text-align: right;\">\n",
       "      <th></th>\n",
       "      <th>Count</th>\n",
       "    </tr>\n",
       "  </thead>\n",
       "  <tbody>\n",
       "    <tr>\n",
       "      <th>Parked Car</th>\n",
       "      <td>48455</td>\n",
       "    </tr>\n",
       "    <tr>\n",
       "      <th>Angles</th>\n",
       "      <td>35469</td>\n",
       "    </tr>\n",
       "    <tr>\n",
       "      <th>Rear Ended</th>\n",
       "      <td>34624</td>\n",
       "    </tr>\n",
       "    <tr>\n",
       "      <th>Other</th>\n",
       "      <td>24528</td>\n",
       "    </tr>\n",
       "    <tr>\n",
       "      <th>Sideswipe</th>\n",
       "      <td>18855</td>\n",
       "    </tr>\n",
       "    <tr>\n",
       "      <th>Left Turn</th>\n",
       "      <td>14082</td>\n",
       "    </tr>\n",
       "    <tr>\n",
       "      <th>Pedestrian</th>\n",
       "      <td>7654</td>\n",
       "    </tr>\n",
       "    <tr>\n",
       "      <th>Cycles</th>\n",
       "      <td>5911</td>\n",
       "    </tr>\n",
       "    <tr>\n",
       "      <th>Right Turn</th>\n",
       "      <td>3008</td>\n",
       "    </tr>\n",
       "    <tr>\n",
       "      <th>Head On</th>\n",
       "      <td>2181</td>\n",
       "    </tr>\n",
       "  </tbody>\n",
       "</table>\n",
       "</div>"
      ],
      "text/plain": [
       "            Count\n",
       "Parked Car  48455\n",
       "Angles      35469\n",
       "Rear Ended  34624\n",
       "Other       24528\n",
       "Sideswipe   18855\n",
       "Left Turn   14082\n",
       "Pedestrian   7654\n",
       "Cycles       5911\n",
       "Right Turn   3008\n",
       "Head On      2181"
      ]
     },
     "execution_count": 10,
     "metadata": {},
     "output_type": "execute_result"
    }
   ],
   "source": [
    "df_coll['COLLISIONTYPE'].value_counts().to_frame('Count')"
   ]
  },
  {
   "cell_type": "code",
   "execution_count": 11,
   "metadata": {
    "scrolled": false
   },
   "outputs": [
    {
     "data": {
      "text/plain": [
       "count    221266.000000\n",
       "mean          2.226230\n",
       "std           1.470364\n",
       "min           0.000000\n",
       "25%           2.000000\n",
       "50%           2.000000\n",
       "75%           3.000000\n",
       "max          93.000000\n",
       "Name: PERSONCOUNT, dtype: float64"
      ]
     },
     "execution_count": 11,
     "metadata": {},
     "output_type": "execute_result"
    }
   ],
   "source": [
    "df_coll['PERSONCOUNT'].describe()"
   ]
  },
  {
   "cell_type": "code",
   "execution_count": 12,
   "metadata": {},
   "outputs": [
    {
     "data": {
      "text/plain": [
       "count    221266.000000\n",
       "mean          0.038103\n",
       "std           0.201745\n",
       "min           0.000000\n",
       "25%           0.000000\n",
       "50%           0.000000\n",
       "75%           0.000000\n",
       "max           6.000000\n",
       "Name: PEDCOUNT, dtype: float64"
      ]
     },
     "execution_count": 12,
     "metadata": {},
     "output_type": "execute_result"
    }
   ],
   "source": [
    "df_coll['PEDCOUNT'].describe()"
   ]
  },
  {
   "cell_type": "code",
   "execution_count": 13,
   "metadata": {},
   "outputs": [
    {
     "data": {
      "text/plain": [
       "count    221266.000000\n",
       "mean          0.027293\n",
       "std           0.164345\n",
       "min           0.000000\n",
       "25%           0.000000\n",
       "50%           0.000000\n",
       "75%           0.000000\n",
       "max           2.000000\n",
       "Name: PEDCYLCOUNT, dtype: float64"
      ]
     },
     "execution_count": 13,
     "metadata": {},
     "output_type": "execute_result"
    }
   ],
   "source": [
    "df_coll['PEDCYLCOUNT'].describe()"
   ]
  },
  {
   "cell_type": "code",
   "execution_count": 14,
   "metadata": {
    "scrolled": true
   },
   "outputs": [
    {
     "data": {
      "text/plain": [
       "count    221266.000000\n",
       "mean          1.728544\n",
       "std           0.831224\n",
       "min           0.000000\n",
       "25%           2.000000\n",
       "50%           2.000000\n",
       "75%           2.000000\n",
       "max          15.000000\n",
       "Name: VEHCOUNT, dtype: float64"
      ]
     },
     "execution_count": 14,
     "metadata": {},
     "output_type": "execute_result"
    }
   ],
   "source": [
    "df_coll['VEHCOUNT'].describe()"
   ]
  },
  {
   "cell_type": "code",
   "execution_count": 15,
   "metadata": {},
   "outputs": [
    {
     "data": {
      "text/plain": [
       "count    221266.000000\n",
       "mean          0.373844\n",
       "std           0.732086\n",
       "min           0.000000\n",
       "25%           0.000000\n",
       "50%           0.000000\n",
       "75%           1.000000\n",
       "max          78.000000\n",
       "Name: INJURIES, dtype: float64"
      ]
     },
     "execution_count": 15,
     "metadata": {},
     "output_type": "execute_result"
    }
   ],
   "source": [
    "df_coll['INJURIES'].describe()"
   ]
  },
  {
   "cell_type": "code",
   "execution_count": 16,
   "metadata": {},
   "outputs": [
    {
     "data": {
      "text/plain": [
       "count    221266.000000\n",
       "mean          0.015149\n",
       "std           0.157908\n",
       "min           0.000000\n",
       "25%           0.000000\n",
       "50%           0.000000\n",
       "75%           0.000000\n",
       "max          41.000000\n",
       "Name: SERIOUSINJURIES, dtype: float64"
      ]
     },
     "execution_count": 16,
     "metadata": {},
     "output_type": "execute_result"
    }
   ],
   "source": [
    "df_coll['SERIOUSINJURIES'].describe()"
   ]
  },
  {
   "cell_type": "code",
   "execution_count": 17,
   "metadata": {
    "scrolled": true
   },
   "outputs": [
    {
     "data": {
      "text/plain": [
       "count    221266.000000\n",
       "mean          0.001681\n",
       "std           0.044562\n",
       "min           0.000000\n",
       "25%           0.000000\n",
       "50%           0.000000\n",
       "75%           0.000000\n",
       "max           5.000000\n",
       "Name: FATALITIES, dtype: float64"
      ]
     },
     "execution_count": 17,
     "metadata": {},
     "output_type": "execute_result"
    }
   ],
   "source": [
    "df_coll['FATALITIES'].describe()"
   ]
  },
  {
   "cell_type": "code",
   "execution_count": 18,
   "metadata": {
    "scrolled": false
   },
   "outputs": [
    {
     "data": {
      "text/html": [
       "<div>\n",
       "<style scoped>\n",
       "    .dataframe tbody tr th:only-of-type {\n",
       "        vertical-align: middle;\n",
       "    }\n",
       "\n",
       "    .dataframe tbody tr th {\n",
       "        vertical-align: top;\n",
       "    }\n",
       "\n",
       "    .dataframe thead th {\n",
       "        text-align: right;\n",
       "    }\n",
       "</style>\n",
       "<table border=\"1\" class=\"dataframe\">\n",
       "  <thead>\n",
       "    <tr style=\"text-align: right;\">\n",
       "      <th></th>\n",
       "      <th>Count</th>\n",
       "    </tr>\n",
       "  </thead>\n",
       "  <tbody>\n",
       "    <tr>\n",
       "      <th>Mid-Block (not related to intersection)</th>\n",
       "      <td>101579</td>\n",
       "    </tr>\n",
       "    <tr>\n",
       "      <th>At Intersection (intersection related)</th>\n",
       "      <td>69117</td>\n",
       "    </tr>\n",
       "    <tr>\n",
       "      <th>Mid-Block (but intersection related)</th>\n",
       "      <td>24402</td>\n",
       "    </tr>\n",
       "    <tr>\n",
       "      <th>Driveway Junction</th>\n",
       "      <td>11495</td>\n",
       "    </tr>\n",
       "    <tr>\n",
       "      <th>At Intersection (but not related to intersection)</th>\n",
       "      <td>2495</td>\n",
       "    </tr>\n",
       "    <tr>\n",
       "      <th>Ramp Junction</th>\n",
       "      <td>190</td>\n",
       "    </tr>\n",
       "    <tr>\n",
       "      <th>Unknown</th>\n",
       "      <td>21</td>\n",
       "    </tr>\n",
       "  </tbody>\n",
       "</table>\n",
       "</div>"
      ],
      "text/plain": [
       "                                                    Count\n",
       "Mid-Block (not related to intersection)            101579\n",
       "At Intersection (intersection related)              69117\n",
       "Mid-Block (but intersection related)                24402\n",
       "Driveway Junction                                   11495\n",
       "At Intersection (but not related to intersection)    2495\n",
       "Ramp Junction                                         190\n",
       "Unknown                                                21"
      ]
     },
     "execution_count": 18,
     "metadata": {},
     "output_type": "execute_result"
    }
   ],
   "source": [
    "df_coll['JUNCTIONTYPE'].value_counts().to_frame('Count')"
   ]
  },
  {
   "cell_type": "code",
   "execution_count": 19,
   "metadata": {
    "scrolled": true
   },
   "outputs": [
    {
     "data": {
      "text/plain": [
       "Index(['X', 'Y', 'OBJECTID', 'INCKEY', 'COLDETKEY', 'REPORTNO', 'STATUS',\n",
       "       'ADDRTYPE', 'INTKEY', 'LOCATION', 'EXCEPTRSNCODE', 'EXCEPTRSNDESC',\n",
       "       'SEVERITYCODE', 'SEVERITYDESC', 'COLLISIONTYPE', 'PERSONCOUNT',\n",
       "       'PEDCOUNT', 'PEDCYLCOUNT', 'VEHCOUNT', 'INJURIES', 'SERIOUSINJURIES',\n",
       "       'FATALITIES', 'INCDATE', 'INCDTTM', 'JUNCTIONTYPE', 'SDOT_COLCODE',\n",
       "       'SDOT_COLDESC', 'INATTENTIONIND', 'UNDERINFL', 'WEATHER', 'ROADCOND',\n",
       "       'LIGHTCOND', 'PEDROWNOTGRNT', 'SDOTCOLNUM', 'SPEEDING', 'ST_COLCODE',\n",
       "       'ST_COLDESC', 'SEGLANEKEY', 'CROSSWALKKEY', 'HITPARKEDCAR'],\n",
       "      dtype='object')"
      ]
     },
     "execution_count": 19,
     "metadata": {},
     "output_type": "execute_result"
    }
   ],
   "source": [
    "df_coll.columns"
   ]
  },
  {
   "cell_type": "code",
   "execution_count": 20,
   "metadata": {},
   "outputs": [
    {
     "data": {
      "text/html": [
       "<div>\n",
       "<style scoped>\n",
       "    .dataframe tbody tr th:only-of-type {\n",
       "        vertical-align: middle;\n",
       "    }\n",
       "\n",
       "    .dataframe tbody tr th {\n",
       "        vertical-align: top;\n",
       "    }\n",
       "\n",
       "    .dataframe thead th {\n",
       "        text-align: right;\n",
       "    }\n",
       "</style>\n",
       "<table border=\"1\" class=\"dataframe\">\n",
       "  <thead>\n",
       "    <tr style=\"text-align: right;\">\n",
       "      <th></th>\n",
       "      <th>Count</th>\n",
       "    </tr>\n",
       "  </thead>\n",
       "  <tbody>\n",
       "    <tr>\n",
       "      <th>Y</th>\n",
       "      <td>30188</td>\n",
       "    </tr>\n",
       "  </tbody>\n",
       "</table>\n",
       "</div>"
      ],
      "text/plain": [
       "   Count\n",
       "Y  30188"
      ]
     },
     "execution_count": 20,
     "metadata": {},
     "output_type": "execute_result"
    }
   ],
   "source": [
    "df_coll['INATTENTIONIND'].value_counts().to_frame('Count')"
   ]
  },
  {
   "cell_type": "code",
   "execution_count": 21,
   "metadata": {},
   "outputs": [
    {
     "data": {
      "text/html": [
       "<div>\n",
       "<style scoped>\n",
       "    .dataframe tbody tr th:only-of-type {\n",
       "        vertical-align: middle;\n",
       "    }\n",
       "\n",
       "    .dataframe tbody tr th {\n",
       "        vertical-align: top;\n",
       "    }\n",
       "\n",
       "    .dataframe thead th {\n",
       "        text-align: right;\n",
       "    }\n",
       "</style>\n",
       "<table border=\"1\" class=\"dataframe\">\n",
       "  <thead>\n",
       "    <tr style=\"text-align: right;\">\n",
       "      <th></th>\n",
       "      <th>Count</th>\n",
       "    </tr>\n",
       "  </thead>\n",
       "  <tbody>\n",
       "    <tr>\n",
       "      <th>N</th>\n",
       "      <td>103482</td>\n",
       "    </tr>\n",
       "    <tr>\n",
       "      <th>0</th>\n",
       "      <td>81676</td>\n",
       "    </tr>\n",
       "    <tr>\n",
       "      <th>Y</th>\n",
       "      <td>5399</td>\n",
       "    </tr>\n",
       "    <tr>\n",
       "      <th>1</th>\n",
       "      <td>4230</td>\n",
       "    </tr>\n",
       "  </tbody>\n",
       "</table>\n",
       "</div>"
      ],
      "text/plain": [
       "    Count\n",
       "N  103482\n",
       "0   81676\n",
       "Y    5399\n",
       "1    4230"
      ]
     },
     "execution_count": 21,
     "metadata": {},
     "output_type": "execute_result"
    }
   ],
   "source": [
    "df_coll['UNDERINFL'].value_counts().to_frame('Count')"
   ]
  },
  {
   "cell_type": "code",
   "execution_count": 22,
   "metadata": {},
   "outputs": [
    {
     "data": {
      "text/html": [
       "<div>\n",
       "<style scoped>\n",
       "    .dataframe tbody tr th:only-of-type {\n",
       "        vertical-align: middle;\n",
       "    }\n",
       "\n",
       "    .dataframe tbody tr th {\n",
       "        vertical-align: top;\n",
       "    }\n",
       "\n",
       "    .dataframe thead th {\n",
       "        text-align: right;\n",
       "    }\n",
       "</style>\n",
       "<table border=\"1\" class=\"dataframe\">\n",
       "  <thead>\n",
       "    <tr style=\"text-align: right;\">\n",
       "      <th></th>\n",
       "      <th>Count</th>\n",
       "    </tr>\n",
       "  </thead>\n",
       "  <tbody>\n",
       "    <tr>\n",
       "      <th>Clear</th>\n",
       "      <td>114361</td>\n",
       "    </tr>\n",
       "    <tr>\n",
       "      <th>Raining</th>\n",
       "      <td>34021</td>\n",
       "    </tr>\n",
       "    <tr>\n",
       "      <th>Overcast</th>\n",
       "      <td>28508</td>\n",
       "    </tr>\n",
       "    <tr>\n",
       "      <th>Unknown</th>\n",
       "      <td>15131</td>\n",
       "    </tr>\n",
       "    <tr>\n",
       "      <th>Snowing</th>\n",
       "      <td>919</td>\n",
       "    </tr>\n",
       "    <tr>\n",
       "      <th>Other</th>\n",
       "      <td>853</td>\n",
       "    </tr>\n",
       "    <tr>\n",
       "      <th>Fog/Smog/Smoke</th>\n",
       "      <td>577</td>\n",
       "    </tr>\n",
       "    <tr>\n",
       "      <th>Sleet/Hail/Freezing Rain</th>\n",
       "      <td>116</td>\n",
       "    </tr>\n",
       "    <tr>\n",
       "      <th>Blowing Sand/Dirt</th>\n",
       "      <td>56</td>\n",
       "    </tr>\n",
       "    <tr>\n",
       "      <th>Severe Crosswind</th>\n",
       "      <td>26</td>\n",
       "    </tr>\n",
       "    <tr>\n",
       "      <th>Partly Cloudy</th>\n",
       "      <td>9</td>\n",
       "    </tr>\n",
       "    <tr>\n",
       "      <th>Blowing Snow</th>\n",
       "      <td>1</td>\n",
       "    </tr>\n",
       "  </tbody>\n",
       "</table>\n",
       "</div>"
      ],
      "text/plain": [
       "                           Count\n",
       "Clear                     114361\n",
       "Raining                    34021\n",
       "Overcast                   28508\n",
       "Unknown                    15131\n",
       "Snowing                      919\n",
       "Other                        853\n",
       "Fog/Smog/Smoke               577\n",
       "Sleet/Hail/Freezing Rain     116\n",
       "Blowing Sand/Dirt             56\n",
       "Severe Crosswind              26\n",
       "Partly Cloudy                  9\n",
       "Blowing Snow                   1"
      ]
     },
     "execution_count": 22,
     "metadata": {},
     "output_type": "execute_result"
    }
   ],
   "source": [
    "df_coll['WEATHER'].value_counts().to_frame('Count')"
   ]
  },
  {
   "cell_type": "code",
   "execution_count": 23,
   "metadata": {},
   "outputs": [
    {
     "data": {
      "text/html": [
       "<div>\n",
       "<style scoped>\n",
       "    .dataframe tbody tr th:only-of-type {\n",
       "        vertical-align: middle;\n",
       "    }\n",
       "\n",
       "    .dataframe tbody tr th {\n",
       "        vertical-align: top;\n",
       "    }\n",
       "\n",
       "    .dataframe thead th {\n",
       "        text-align: right;\n",
       "    }\n",
       "</style>\n",
       "<table border=\"1\" class=\"dataframe\">\n",
       "  <thead>\n",
       "    <tr style=\"text-align: right;\">\n",
       "      <th></th>\n",
       "      <th>Count</th>\n",
       "    </tr>\n",
       "  </thead>\n",
       "  <tbody>\n",
       "    <tr>\n",
       "      <th>Dry</th>\n",
       "      <td>128171</td>\n",
       "    </tr>\n",
       "    <tr>\n",
       "      <th>Wet</th>\n",
       "      <td>48715</td>\n",
       "    </tr>\n",
       "    <tr>\n",
       "      <th>Unknown</th>\n",
       "      <td>15131</td>\n",
       "    </tr>\n",
       "    <tr>\n",
       "      <th>Ice</th>\n",
       "      <td>1231</td>\n",
       "    </tr>\n",
       "    <tr>\n",
       "      <th>Snow/Slush</th>\n",
       "      <td>1014</td>\n",
       "    </tr>\n",
       "    <tr>\n",
       "      <th>Other</th>\n",
       "      <td>136</td>\n",
       "    </tr>\n",
       "    <tr>\n",
       "      <th>Standing Water</th>\n",
       "      <td>119</td>\n",
       "    </tr>\n",
       "    <tr>\n",
       "      <th>Sand/Mud/Dirt</th>\n",
       "      <td>77</td>\n",
       "    </tr>\n",
       "    <tr>\n",
       "      <th>Oil</th>\n",
       "      <td>64</td>\n",
       "    </tr>\n",
       "  </tbody>\n",
       "</table>\n",
       "</div>"
      ],
      "text/plain": [
       "                 Count\n",
       "Dry             128171\n",
       "Wet              48715\n",
       "Unknown          15131\n",
       "Ice               1231\n",
       "Snow/Slush        1014\n",
       "Other              136\n",
       "Standing Water     119\n",
       "Sand/Mud/Dirt       77\n",
       "Oil                 64"
      ]
     },
     "execution_count": 23,
     "metadata": {},
     "output_type": "execute_result"
    }
   ],
   "source": [
    "df_coll['ROADCOND'].value_counts().to_frame('Count')"
   ]
  },
  {
   "cell_type": "code",
   "execution_count": 24,
   "metadata": {
    "scrolled": true
   },
   "outputs": [
    {
     "data": {
      "text/html": [
       "<div>\n",
       "<style scoped>\n",
       "    .dataframe tbody tr th:only-of-type {\n",
       "        vertical-align: middle;\n",
       "    }\n",
       "\n",
       "    .dataframe tbody tr th {\n",
       "        vertical-align: top;\n",
       "    }\n",
       "\n",
       "    .dataframe thead th {\n",
       "        text-align: right;\n",
       "    }\n",
       "</style>\n",
       "<table border=\"1\" class=\"dataframe\">\n",
       "  <thead>\n",
       "    <tr style=\"text-align: right;\">\n",
       "      <th></th>\n",
       "      <th>Count</th>\n",
       "    </tr>\n",
       "  </thead>\n",
       "  <tbody>\n",
       "    <tr>\n",
       "      <th>Daylight</th>\n",
       "      <td>119166</td>\n",
       "    </tr>\n",
       "    <tr>\n",
       "      <th>Dark - Street Lights On</th>\n",
       "      <td>50053</td>\n",
       "    </tr>\n",
       "    <tr>\n",
       "      <th>Unknown</th>\n",
       "      <td>13523</td>\n",
       "    </tr>\n",
       "    <tr>\n",
       "      <th>Dusk</th>\n",
       "      <td>6076</td>\n",
       "    </tr>\n",
       "    <tr>\n",
       "      <th>Dawn</th>\n",
       "      <td>2599</td>\n",
       "    </tr>\n",
       "    <tr>\n",
       "      <th>Dark - No Street Lights</th>\n",
       "      <td>1573</td>\n",
       "    </tr>\n",
       "    <tr>\n",
       "      <th>Dark - Street Lights Off</th>\n",
       "      <td>1236</td>\n",
       "    </tr>\n",
       "    <tr>\n",
       "      <th>Other</th>\n",
       "      <td>244</td>\n",
       "    </tr>\n",
       "    <tr>\n",
       "      <th>Dark - Unknown Lighting</th>\n",
       "      <td>20</td>\n",
       "    </tr>\n",
       "  </tbody>\n",
       "</table>\n",
       "</div>"
      ],
      "text/plain": [
       "                           Count\n",
       "Daylight                  119166\n",
       "Dark - Street Lights On    50053\n",
       "Unknown                    13523\n",
       "Dusk                        6076\n",
       "Dawn                        2599\n",
       "Dark - No Street Lights     1573\n",
       "Dark - Street Lights Off    1236\n",
       "Other                        244\n",
       "Dark - Unknown Lighting       20"
      ]
     },
     "execution_count": 24,
     "metadata": {},
     "output_type": "execute_result"
    }
   ],
   "source": [
    "df_coll['LIGHTCOND'].value_counts().to_frame('Count')"
   ]
  },
  {
   "cell_type": "code",
   "execution_count": 25,
   "metadata": {},
   "outputs": [
    {
     "data": {
      "text/html": [
       "<div>\n",
       "<style scoped>\n",
       "    .dataframe tbody tr th:only-of-type {\n",
       "        vertical-align: middle;\n",
       "    }\n",
       "\n",
       "    .dataframe tbody tr th {\n",
       "        vertical-align: top;\n",
       "    }\n",
       "\n",
       "    .dataframe thead th {\n",
       "        text-align: right;\n",
       "    }\n",
       "</style>\n",
       "<table border=\"1\" class=\"dataframe\">\n",
       "  <thead>\n",
       "    <tr style=\"text-align: right;\">\n",
       "      <th></th>\n",
       "      <th>Count</th>\n",
       "    </tr>\n",
       "  </thead>\n",
       "  <tbody>\n",
       "    <tr>\n",
       "      <th>Y</th>\n",
       "      <td>9913</td>\n",
       "    </tr>\n",
       "  </tbody>\n",
       "</table>\n",
       "</div>"
      ],
      "text/plain": [
       "   Count\n",
       "Y   9913"
      ]
     },
     "execution_count": 25,
     "metadata": {},
     "output_type": "execute_result"
    }
   ],
   "source": [
    "df_coll['SPEEDING'].value_counts().to_frame('Count')"
   ]
  },
  {
   "cell_type": "code",
   "execution_count": 26,
   "metadata": {
    "scrolled": true
   },
   "outputs": [
    {
     "data": {
      "text/html": [
       "<div>\n",
       "<style scoped>\n",
       "    .dataframe tbody tr th:only-of-type {\n",
       "        vertical-align: middle;\n",
       "    }\n",
       "\n",
       "    .dataframe tbody tr th {\n",
       "        vertical-align: top;\n",
       "    }\n",
       "\n",
       "    .dataframe thead th {\n",
       "        text-align: right;\n",
       "    }\n",
       "</style>\n",
       "<table border=\"1\" class=\"dataframe\">\n",
       "  <thead>\n",
       "    <tr style=\"text-align: right;\">\n",
       "      <th></th>\n",
       "      <th>Count</th>\n",
       "    </tr>\n",
       "  </thead>\n",
       "  <tbody>\n",
       "    <tr>\n",
       "      <th>N</th>\n",
       "      <td>209290</td>\n",
       "    </tr>\n",
       "    <tr>\n",
       "      <th>Y</th>\n",
       "      <td>11976</td>\n",
       "    </tr>\n",
       "  </tbody>\n",
       "</table>\n",
       "</div>"
      ],
      "text/plain": [
       "    Count\n",
       "N  209290\n",
       "Y   11976"
      ]
     },
     "execution_count": 26,
     "metadata": {},
     "output_type": "execute_result"
    }
   ],
   "source": [
    "df_coll['HITPARKEDCAR'].value_counts().to_frame('Count')"
   ]
  },
  {
   "cell_type": "markdown",
   "metadata": {},
   "source": [
    "# Data cleaning / Data wrangling"
   ]
  },
  {
   "cell_type": "markdown",
   "metadata": {},
   "source": [
    "**Dropping the columns that are irrelevant to our final goal**"
   ]
  },
  {
   "cell_type": "code",
   "execution_count": 27,
   "metadata": {},
   "outputs": [
    {
     "data": {
      "text/plain": [
       "Index(['X', 'Y', 'OBJECTID', 'INCKEY', 'COLDETKEY', 'REPORTNO', 'STATUS',\n",
       "       'ADDRTYPE', 'INTKEY', 'LOCATION', 'EXCEPTRSNCODE', 'EXCEPTRSNDESC',\n",
       "       'SEVERITYCODE', 'SEVERITYDESC', 'COLLISIONTYPE', 'PERSONCOUNT',\n",
       "       'PEDCOUNT', 'PEDCYLCOUNT', 'VEHCOUNT', 'INJURIES', 'SERIOUSINJURIES',\n",
       "       'FATALITIES', 'INCDATE', 'INCDTTM', 'JUNCTIONTYPE', 'SDOT_COLCODE',\n",
       "       'SDOT_COLDESC', 'INATTENTIONIND', 'UNDERINFL', 'WEATHER', 'ROADCOND',\n",
       "       'LIGHTCOND', 'PEDROWNOTGRNT', 'SDOTCOLNUM', 'SPEEDING', 'ST_COLCODE',\n",
       "       'ST_COLDESC', 'SEGLANEKEY', 'CROSSWALKKEY', 'HITPARKEDCAR'],\n",
       "      dtype='object')"
      ]
     },
     "execution_count": 27,
     "metadata": {},
     "output_type": "execute_result"
    }
   ],
   "source": [
    "df_coll.columns"
   ]
  },
  {
   "cell_type": "code",
   "execution_count": 28,
   "metadata": {
    "scrolled": false
   },
   "outputs": [
    {
     "data": {
      "text/html": [
       "<div>\n",
       "<style scoped>\n",
       "    .dataframe tbody tr th:only-of-type {\n",
       "        vertical-align: middle;\n",
       "    }\n",
       "\n",
       "    .dataframe tbody tr th {\n",
       "        vertical-align: top;\n",
       "    }\n",
       "\n",
       "    .dataframe thead th {\n",
       "        text-align: right;\n",
       "    }\n",
       "</style>\n",
       "<table border=\"1\" class=\"dataframe\">\n",
       "  <thead>\n",
       "    <tr style=\"text-align: right;\">\n",
       "      <th></th>\n",
       "      <th>X</th>\n",
       "      <th>Y</th>\n",
       "      <th>ADDRTYPE</th>\n",
       "      <th>SEVERITYCODE</th>\n",
       "      <th>PERSONCOUNT</th>\n",
       "      <th>PEDCOUNT</th>\n",
       "      <th>PEDCYLCOUNT</th>\n",
       "      <th>VEHCOUNT</th>\n",
       "      <th>JUNCTIONTYPE</th>\n",
       "      <th>INATTENTIONIND</th>\n",
       "      <th>UNDERINFL</th>\n",
       "      <th>WEATHER</th>\n",
       "      <th>ROADCOND</th>\n",
       "      <th>LIGHTCOND</th>\n",
       "      <th>SPEEDING</th>\n",
       "    </tr>\n",
       "  </thead>\n",
       "  <tbody>\n",
       "    <tr>\n",
       "      <th>0</th>\n",
       "      <td>-122.386772</td>\n",
       "      <td>47.564720</td>\n",
       "      <td>Intersection</td>\n",
       "      <td>2</td>\n",
       "      <td>2</td>\n",
       "      <td>1</td>\n",
       "      <td>0</td>\n",
       "      <td>1</td>\n",
       "      <td>At Intersection (intersection related)</td>\n",
       "      <td>NaN</td>\n",
       "      <td>N</td>\n",
       "      <td>Clear</td>\n",
       "      <td>Dry</td>\n",
       "      <td>Daylight</td>\n",
       "      <td>NaN</td>\n",
       "    </tr>\n",
       "    <tr>\n",
       "      <th>1</th>\n",
       "      <td>-122.341806</td>\n",
       "      <td>47.686934</td>\n",
       "      <td>Intersection</td>\n",
       "      <td>2</td>\n",
       "      <td>4</td>\n",
       "      <td>0</td>\n",
       "      <td>0</td>\n",
       "      <td>2</td>\n",
       "      <td>At Intersection (intersection related)</td>\n",
       "      <td>NaN</td>\n",
       "      <td>N</td>\n",
       "      <td>Raining</td>\n",
       "      <td>Wet</td>\n",
       "      <td>Dark - Street Lights On</td>\n",
       "      <td>NaN</td>\n",
       "    </tr>\n",
       "    <tr>\n",
       "      <th>2</th>\n",
       "      <td>-122.374899</td>\n",
       "      <td>47.668666</td>\n",
       "      <td>Block</td>\n",
       "      <td>1</td>\n",
       "      <td>4</td>\n",
       "      <td>0</td>\n",
       "      <td>0</td>\n",
       "      <td>3</td>\n",
       "      <td>Mid-Block (not related to intersection)</td>\n",
       "      <td>NaN</td>\n",
       "      <td>N</td>\n",
       "      <td>Clear</td>\n",
       "      <td>Dry</td>\n",
       "      <td>Daylight</td>\n",
       "      <td>NaN</td>\n",
       "    </tr>\n",
       "    <tr>\n",
       "      <th>3</th>\n",
       "      <td>-122.300758</td>\n",
       "      <td>47.683047</td>\n",
       "      <td>Intersection</td>\n",
       "      <td>1</td>\n",
       "      <td>2</td>\n",
       "      <td>0</td>\n",
       "      <td>0</td>\n",
       "      <td>2</td>\n",
       "      <td>At Intersection (intersection related)</td>\n",
       "      <td>NaN</td>\n",
       "      <td>0</td>\n",
       "      <td>Raining</td>\n",
       "      <td>Wet</td>\n",
       "      <td>Dark - Street Lights On</td>\n",
       "      <td>NaN</td>\n",
       "    </tr>\n",
       "    <tr>\n",
       "      <th>4</th>\n",
       "      <td>-122.313053</td>\n",
       "      <td>47.567241</td>\n",
       "      <td>Block</td>\n",
       "      <td>0</td>\n",
       "      <td>0</td>\n",
       "      <td>0</td>\n",
       "      <td>0</td>\n",
       "      <td>0</td>\n",
       "      <td>Mid-Block (but intersection related)</td>\n",
       "      <td>NaN</td>\n",
       "      <td>NaN</td>\n",
       "      <td>NaN</td>\n",
       "      <td>NaN</td>\n",
       "      <td>NaN</td>\n",
       "      <td>NaN</td>\n",
       "    </tr>\n",
       "  </tbody>\n",
       "</table>\n",
       "</div>"
      ],
      "text/plain": [
       "            X          Y      ADDRTYPE SEVERITYCODE  PERSONCOUNT  PEDCOUNT  \\\n",
       "0 -122.386772  47.564720  Intersection            2            2         1   \n",
       "1 -122.341806  47.686934  Intersection            2            4         0   \n",
       "2 -122.374899  47.668666         Block            1            4         0   \n",
       "3 -122.300758  47.683047  Intersection            1            2         0   \n",
       "4 -122.313053  47.567241         Block            0            0         0   \n",
       "\n",
       "   PEDCYLCOUNT  VEHCOUNT                             JUNCTIONTYPE  \\\n",
       "0            0         1   At Intersection (intersection related)   \n",
       "1            0         2   At Intersection (intersection related)   \n",
       "2            0         3  Mid-Block (not related to intersection)   \n",
       "3            0         2   At Intersection (intersection related)   \n",
       "4            0         0     Mid-Block (but intersection related)   \n",
       "\n",
       "  INATTENTIONIND UNDERINFL  WEATHER ROADCOND                LIGHTCOND SPEEDING  \n",
       "0            NaN         N    Clear      Dry                 Daylight      NaN  \n",
       "1            NaN         N  Raining      Wet  Dark - Street Lights On      NaN  \n",
       "2            NaN         N    Clear      Dry                 Daylight      NaN  \n",
       "3            NaN         0  Raining      Wet  Dark - Street Lights On      NaN  \n",
       "4            NaN       NaN      NaN      NaN                      NaN      NaN  "
      ]
     },
     "execution_count": 28,
     "metadata": {},
     "output_type": "execute_result"
    }
   ],
   "source": [
    "df_coll_rel = df_coll.drop(['OBJECTID', 'INCKEY', 'COLDETKEY', 'REPORTNO', 'STATUS', 'INTKEY', 'LOCATION', \\\n",
    "                            'EXCEPTRSNCODE', 'EXCEPTRSNDESC', 'SEVERITYDESC', 'COLLISIONTYPE', 'INJURIES', \\\n",
    "                            'SERIOUSINJURIES', 'FATALITIES', 'INCDATE', 'INCDTTM', 'SDOT_COLCODE','SDOT_COLDESC', \\\n",
    "                            'PEDROWNOTGRNT', 'SDOTCOLNUM', 'ST_COLCODE', 'ST_COLDESC', 'SEGLANEKEY', \\\n",
    "                            'CROSSWALKKEY', 'HITPARKEDCAR'],axis=1)\n",
    "\n",
    "df_coll_rel.head(5) # The relevant dataframe"
   ]
  },
  {
   "cell_type": "markdown",
   "metadata": {},
   "source": [
    "**We would also drop the `X` and `Y` coordinates as we want our model to be independent of the location of the accidents, rather we would keep the `ADDRTYPE` and `JUNCTIONTYPE` columns to include the properties of the locations where the accidents took place**"
   ]
  },
  {
   "cell_type": "code",
   "execution_count": 29,
   "metadata": {
    "scrolled": true
   },
   "outputs": [
    {
     "data": {
      "text/html": [
       "<div>\n",
       "<style scoped>\n",
       "    .dataframe tbody tr th:only-of-type {\n",
       "        vertical-align: middle;\n",
       "    }\n",
       "\n",
       "    .dataframe tbody tr th {\n",
       "        vertical-align: top;\n",
       "    }\n",
       "\n",
       "    .dataframe thead th {\n",
       "        text-align: right;\n",
       "    }\n",
       "</style>\n",
       "<table border=\"1\" class=\"dataframe\">\n",
       "  <thead>\n",
       "    <tr style=\"text-align: right;\">\n",
       "      <th></th>\n",
       "      <th>ADDRTYPE</th>\n",
       "      <th>SEVERITYCODE</th>\n",
       "      <th>PERSONCOUNT</th>\n",
       "      <th>PEDCOUNT</th>\n",
       "      <th>PEDCYLCOUNT</th>\n",
       "      <th>VEHCOUNT</th>\n",
       "      <th>JUNCTIONTYPE</th>\n",
       "      <th>INATTENTIONIND</th>\n",
       "      <th>UNDERINFL</th>\n",
       "      <th>WEATHER</th>\n",
       "      <th>ROADCOND</th>\n",
       "      <th>LIGHTCOND</th>\n",
       "      <th>SPEEDING</th>\n",
       "    </tr>\n",
       "  </thead>\n",
       "  <tbody>\n",
       "    <tr>\n",
       "      <th>0</th>\n",
       "      <td>Intersection</td>\n",
       "      <td>2</td>\n",
       "      <td>2</td>\n",
       "      <td>1</td>\n",
       "      <td>0</td>\n",
       "      <td>1</td>\n",
       "      <td>At Intersection (intersection related)</td>\n",
       "      <td>NaN</td>\n",
       "      <td>N</td>\n",
       "      <td>Clear</td>\n",
       "      <td>Dry</td>\n",
       "      <td>Daylight</td>\n",
       "      <td>NaN</td>\n",
       "    </tr>\n",
       "    <tr>\n",
       "      <th>1</th>\n",
       "      <td>Intersection</td>\n",
       "      <td>2</td>\n",
       "      <td>4</td>\n",
       "      <td>0</td>\n",
       "      <td>0</td>\n",
       "      <td>2</td>\n",
       "      <td>At Intersection (intersection related)</td>\n",
       "      <td>NaN</td>\n",
       "      <td>N</td>\n",
       "      <td>Raining</td>\n",
       "      <td>Wet</td>\n",
       "      <td>Dark - Street Lights On</td>\n",
       "      <td>NaN</td>\n",
       "    </tr>\n",
       "    <tr>\n",
       "      <th>2</th>\n",
       "      <td>Block</td>\n",
       "      <td>1</td>\n",
       "      <td>4</td>\n",
       "      <td>0</td>\n",
       "      <td>0</td>\n",
       "      <td>3</td>\n",
       "      <td>Mid-Block (not related to intersection)</td>\n",
       "      <td>NaN</td>\n",
       "      <td>N</td>\n",
       "      <td>Clear</td>\n",
       "      <td>Dry</td>\n",
       "      <td>Daylight</td>\n",
       "      <td>NaN</td>\n",
       "    </tr>\n",
       "    <tr>\n",
       "      <th>3</th>\n",
       "      <td>Intersection</td>\n",
       "      <td>1</td>\n",
       "      <td>2</td>\n",
       "      <td>0</td>\n",
       "      <td>0</td>\n",
       "      <td>2</td>\n",
       "      <td>At Intersection (intersection related)</td>\n",
       "      <td>NaN</td>\n",
       "      <td>0</td>\n",
       "      <td>Raining</td>\n",
       "      <td>Wet</td>\n",
       "      <td>Dark - Street Lights On</td>\n",
       "      <td>NaN</td>\n",
       "    </tr>\n",
       "    <tr>\n",
       "      <th>4</th>\n",
       "      <td>Block</td>\n",
       "      <td>0</td>\n",
       "      <td>0</td>\n",
       "      <td>0</td>\n",
       "      <td>0</td>\n",
       "      <td>0</td>\n",
       "      <td>Mid-Block (but intersection related)</td>\n",
       "      <td>NaN</td>\n",
       "      <td>NaN</td>\n",
       "      <td>NaN</td>\n",
       "      <td>NaN</td>\n",
       "      <td>NaN</td>\n",
       "      <td>NaN</td>\n",
       "    </tr>\n",
       "  </tbody>\n",
       "</table>\n",
       "</div>"
      ],
      "text/plain": [
       "       ADDRTYPE SEVERITYCODE  PERSONCOUNT  PEDCOUNT  PEDCYLCOUNT  VEHCOUNT  \\\n",
       "0  Intersection            2            2         1            0         1   \n",
       "1  Intersection            2            4         0            0         2   \n",
       "2         Block            1            4         0            0         3   \n",
       "3  Intersection            1            2         0            0         2   \n",
       "4         Block            0            0         0            0         0   \n",
       "\n",
       "                              JUNCTIONTYPE INATTENTIONIND UNDERINFL  WEATHER  \\\n",
       "0   At Intersection (intersection related)            NaN         N    Clear   \n",
       "1   At Intersection (intersection related)            NaN         N  Raining   \n",
       "2  Mid-Block (not related to intersection)            NaN         N    Clear   \n",
       "3   At Intersection (intersection related)            NaN         0  Raining   \n",
       "4     Mid-Block (but intersection related)            NaN       NaN      NaN   \n",
       "\n",
       "  ROADCOND                LIGHTCOND SPEEDING  \n",
       "0      Dry                 Daylight      NaN  \n",
       "1      Wet  Dark - Street Lights On      NaN  \n",
       "2      Dry                 Daylight      NaN  \n",
       "3      Wet  Dark - Street Lights On      NaN  \n",
       "4      NaN                      NaN      NaN  "
      ]
     },
     "execution_count": 29,
     "metadata": {},
     "output_type": "execute_result"
    }
   ],
   "source": [
    "df_coll_rel.drop(['X', 'Y'],axis=1, inplace = True)\n",
    "df_coll_rel.head(5)"
   ]
  },
  {
   "cell_type": "markdown",
   "metadata": {},
   "source": [
    "**Checking for missing values in the relevant dataframe and dealing with them**"
   ]
  },
  {
   "cell_type": "code",
   "execution_count": 30,
   "metadata": {
    "scrolled": true
   },
   "outputs": [
    {
     "data": {
      "text/plain": [
       "ADDRTYPE            3712\n",
       "SEVERITYCODE           1\n",
       "PERSONCOUNT            0\n",
       "PEDCOUNT               0\n",
       "PEDCYLCOUNT            0\n",
       "VEHCOUNT               0\n",
       "JUNCTIONTYPE       11967\n",
       "INATTENTIONIND    191078\n",
       "UNDERINFL          26479\n",
       "WEATHER            26688\n",
       "ROADCOND           26608\n",
       "LIGHTCOND          26776\n",
       "SPEEDING          211353\n",
       "dtype: int64"
      ]
     },
     "execution_count": 30,
     "metadata": {},
     "output_type": "execute_result"
    }
   ],
   "source": [
    "df_coll_rel.isnull().sum()"
   ]
  },
  {
   "cell_type": "code",
   "execution_count": 31,
   "metadata": {
    "scrolled": true
   },
   "outputs": [
    {
     "data": {
      "text/plain": [
       "ADDRTYPE            3712\n",
       "SEVERITYCODE           0\n",
       "PERSONCOUNT            0\n",
       "PEDCOUNT               0\n",
       "PEDCYLCOUNT            0\n",
       "VEHCOUNT               0\n",
       "JUNCTIONTYPE       11967\n",
       "INATTENTIONIND    191077\n",
       "UNDERINFL          26479\n",
       "WEATHER            26688\n",
       "ROADCOND           26608\n",
       "LIGHTCOND          26776\n",
       "SPEEDING          211352\n",
       "dtype: int64"
      ]
     },
     "execution_count": 31,
     "metadata": {},
     "output_type": "execute_result"
    }
   ],
   "source": [
    "# removing the entire row where 'SEVERITYCODE' is NULL\n",
    "\n",
    "df_coll_rel.dropna(subset=['SEVERITYCODE'], inplace = True)\n",
    "\n",
    "df_coll_rel.isnull().sum()"
   ]
  },
  {
   "cell_type": "code",
   "execution_count": 32,
   "metadata": {
    "scrolled": true
   },
   "outputs": [
    {
     "data": {
      "text/html": [
       "<div>\n",
       "<style scoped>\n",
       "    .dataframe tbody tr th:only-of-type {\n",
       "        vertical-align: middle;\n",
       "    }\n",
       "\n",
       "    .dataframe tbody tr th {\n",
       "        vertical-align: top;\n",
       "    }\n",
       "\n",
       "    .dataframe thead th {\n",
       "        text-align: right;\n",
       "    }\n",
       "</style>\n",
       "<table border=\"1\" class=\"dataframe\">\n",
       "  <thead>\n",
       "    <tr style=\"text-align: right;\">\n",
       "      <th></th>\n",
       "      <th>ADDRTYPE</th>\n",
       "      <th>SEVERITYCODE</th>\n",
       "      <th>PERSONCOUNT</th>\n",
       "      <th>PEDCOUNT</th>\n",
       "      <th>PEDCYLCOUNT</th>\n",
       "      <th>VEHCOUNT</th>\n",
       "      <th>JUNCTIONTYPE</th>\n",
       "      <th>INATTENTIONIND</th>\n",
       "      <th>UNDERINFL</th>\n",
       "      <th>WEATHER</th>\n",
       "      <th>ROADCOND</th>\n",
       "      <th>LIGHTCOND</th>\n",
       "      <th>SPEEDING</th>\n",
       "    </tr>\n",
       "  </thead>\n",
       "  <tbody>\n",
       "    <tr>\n",
       "      <th>0</th>\n",
       "      <td>Intersection</td>\n",
       "      <td>2</td>\n",
       "      <td>2</td>\n",
       "      <td>1</td>\n",
       "      <td>0</td>\n",
       "      <td>1</td>\n",
       "      <td>At Intersection (intersection related)</td>\n",
       "      <td>NaN</td>\n",
       "      <td>N</td>\n",
       "      <td>Clear</td>\n",
       "      <td>Dry</td>\n",
       "      <td>Daylight</td>\n",
       "      <td>NaN</td>\n",
       "    </tr>\n",
       "    <tr>\n",
       "      <th>1</th>\n",
       "      <td>Intersection</td>\n",
       "      <td>2</td>\n",
       "      <td>4</td>\n",
       "      <td>0</td>\n",
       "      <td>0</td>\n",
       "      <td>2</td>\n",
       "      <td>At Intersection (intersection related)</td>\n",
       "      <td>NaN</td>\n",
       "      <td>N</td>\n",
       "      <td>Raining</td>\n",
       "      <td>Wet</td>\n",
       "      <td>Dark - Street Lights On</td>\n",
       "      <td>NaN</td>\n",
       "    </tr>\n",
       "    <tr>\n",
       "      <th>2</th>\n",
       "      <td>Block</td>\n",
       "      <td>1</td>\n",
       "      <td>4</td>\n",
       "      <td>0</td>\n",
       "      <td>0</td>\n",
       "      <td>3</td>\n",
       "      <td>Mid-Block (not related to intersection)</td>\n",
       "      <td>NaN</td>\n",
       "      <td>N</td>\n",
       "      <td>Clear</td>\n",
       "      <td>Dry</td>\n",
       "      <td>Daylight</td>\n",
       "      <td>NaN</td>\n",
       "    </tr>\n",
       "    <tr>\n",
       "      <th>3</th>\n",
       "      <td>Intersection</td>\n",
       "      <td>1</td>\n",
       "      <td>2</td>\n",
       "      <td>0</td>\n",
       "      <td>0</td>\n",
       "      <td>2</td>\n",
       "      <td>At Intersection (intersection related)</td>\n",
       "      <td>NaN</td>\n",
       "      <td>0</td>\n",
       "      <td>Raining</td>\n",
       "      <td>Wet</td>\n",
       "      <td>Dark - Street Lights On</td>\n",
       "      <td>NaN</td>\n",
       "    </tr>\n",
       "    <tr>\n",
       "      <th>4</th>\n",
       "      <td>Block</td>\n",
       "      <td>0</td>\n",
       "      <td>0</td>\n",
       "      <td>0</td>\n",
       "      <td>0</td>\n",
       "      <td>0</td>\n",
       "      <td>Mid-Block (but intersection related)</td>\n",
       "      <td>NaN</td>\n",
       "      <td>NaN</td>\n",
       "      <td>others</td>\n",
       "      <td>others</td>\n",
       "      <td>others</td>\n",
       "      <td>NaN</td>\n",
       "    </tr>\n",
       "  </tbody>\n",
       "</table>\n",
       "</div>"
      ],
      "text/plain": [
       "       ADDRTYPE SEVERITYCODE  PERSONCOUNT  PEDCOUNT  PEDCYLCOUNT  VEHCOUNT  \\\n",
       "0  Intersection            2            2         1            0         1   \n",
       "1  Intersection            2            4         0            0         2   \n",
       "2         Block            1            4         0            0         3   \n",
       "3  Intersection            1            2         0            0         2   \n",
       "4         Block            0            0         0            0         0   \n",
       "\n",
       "                              JUNCTIONTYPE INATTENTIONIND UNDERINFL  WEATHER  \\\n",
       "0   At Intersection (intersection related)            NaN         N    Clear   \n",
       "1   At Intersection (intersection related)            NaN         N  Raining   \n",
       "2  Mid-Block (not related to intersection)            NaN         N    Clear   \n",
       "3   At Intersection (intersection related)            NaN         0  Raining   \n",
       "4     Mid-Block (but intersection related)            NaN       NaN   others   \n",
       "\n",
       "  ROADCOND                LIGHTCOND SPEEDING  \n",
       "0      Dry                 Daylight      NaN  \n",
       "1      Wet  Dark - Street Lights On      NaN  \n",
       "2      Dry                 Daylight      NaN  \n",
       "3      Wet  Dark - Street Lights On      NaN  \n",
       "4   others                   others      NaN  "
      ]
     },
     "execution_count": 32,
     "metadata": {},
     "output_type": "execute_result"
    }
   ],
   "source": [
    "# Labeling the missing values for the categorical variables 'ADDRTYPE', \n",
    "# 'JUNCTIONTYPE', 'WEATHER', 'ROADCOND' and 'LIGHTCOND' to \"others\"\n",
    "\n",
    "\n",
    "df_coll_rel['ADDRTYPE'] = df_coll_rel['ADDRTYPE'].fillna(0)\n",
    "df_coll_rel['ADDRTYPE'] = df_coll_rel['ADDRTYPE'].replace(0,'others')\n",
    "\n",
    "df_coll_rel['JUNCTIONTYPE'] = df_coll_rel['JUNCTIONTYPE'].fillna(0)\n",
    "df_coll_rel['JUNCTIONTYPE'] = df_coll_rel['JUNCTIONTYPE'].replace(0,'others')\n",
    "\n",
    "df_coll_rel['WEATHER'] = df_coll_rel['WEATHER'].fillna(0)\n",
    "df_coll_rel['WEATHER'] = df_coll_rel['WEATHER'].replace(0,'others')\n",
    "\n",
    "df_coll_rel['ROADCOND'] = df_coll_rel['ROADCOND'].fillna(0)\n",
    "df_coll_rel['ROADCOND'] = df_coll_rel['ROADCOND'].replace(0,'others')\n",
    "\n",
    "df_coll_rel['LIGHTCOND'] = df_coll_rel['LIGHTCOND'].fillna(0)\n",
    "df_coll_rel['LIGHTCOND'] = df_coll_rel['LIGHTCOND'].replace(0,'others')\n",
    "\n",
    "\n",
    "df_coll_rel.head(5)"
   ]
  },
  {
   "cell_type": "code",
   "execution_count": 33,
   "metadata": {
    "scrolled": true
   },
   "outputs": [
    {
     "data": {
      "text/plain": [
       "ADDRTYPE               0\n",
       "SEVERITYCODE           0\n",
       "PERSONCOUNT            0\n",
       "PEDCOUNT               0\n",
       "PEDCYLCOUNT            0\n",
       "VEHCOUNT               0\n",
       "JUNCTIONTYPE           0\n",
       "INATTENTIONIND    191077\n",
       "UNDERINFL          26479\n",
       "WEATHER                0\n",
       "ROADCOND               0\n",
       "LIGHTCOND              0\n",
       "SPEEDING          211352\n",
       "dtype: int64"
      ]
     },
     "execution_count": 33,
     "metadata": {},
     "output_type": "execute_result"
    }
   ],
   "source": [
    "df_coll_rel.isnull().sum()"
   ]
  },
  {
   "cell_type": "code",
   "execution_count": 34,
   "metadata": {},
   "outputs": [
    {
     "data": {
      "text/html": [
       "<div>\n",
       "<style scoped>\n",
       "    .dataframe tbody tr th:only-of-type {\n",
       "        vertical-align: middle;\n",
       "    }\n",
       "\n",
       "    .dataframe tbody tr th {\n",
       "        vertical-align: top;\n",
       "    }\n",
       "\n",
       "    .dataframe thead th {\n",
       "        text-align: right;\n",
       "    }\n",
       "</style>\n",
       "<table border=\"1\" class=\"dataframe\">\n",
       "  <thead>\n",
       "    <tr style=\"text-align: right;\">\n",
       "      <th></th>\n",
       "      <th>count</th>\n",
       "    </tr>\n",
       "  </thead>\n",
       "  <tbody>\n",
       "    <tr>\n",
       "      <th>Y</th>\n",
       "      <td>30188</td>\n",
       "    </tr>\n",
       "  </tbody>\n",
       "</table>\n",
       "</div>"
      ],
      "text/plain": [
       "   count\n",
       "Y  30188"
      ]
     },
     "execution_count": 34,
     "metadata": {},
     "output_type": "execute_result"
    }
   ],
   "source": [
    "df_coll_rel['INATTENTIONIND'].value_counts().to_frame('count')"
   ]
  },
  {
   "cell_type": "code",
   "execution_count": 35,
   "metadata": {},
   "outputs": [
    {
     "data": {
      "text/html": [
       "<div>\n",
       "<style scoped>\n",
       "    .dataframe tbody tr th:only-of-type {\n",
       "        vertical-align: middle;\n",
       "    }\n",
       "\n",
       "    .dataframe tbody tr th {\n",
       "        vertical-align: top;\n",
       "    }\n",
       "\n",
       "    .dataframe thead th {\n",
       "        text-align: right;\n",
       "    }\n",
       "</style>\n",
       "<table border=\"1\" class=\"dataframe\">\n",
       "  <thead>\n",
       "    <tr style=\"text-align: right;\">\n",
       "      <th></th>\n",
       "      <th>count</th>\n",
       "    </tr>\n",
       "  </thead>\n",
       "  <tbody>\n",
       "    <tr>\n",
       "      <th>0</th>\n",
       "      <td>191077</td>\n",
       "    </tr>\n",
       "    <tr>\n",
       "      <th>1</th>\n",
       "      <td>30188</td>\n",
       "    </tr>\n",
       "  </tbody>\n",
       "</table>\n",
       "</div>"
      ],
      "text/plain": [
       "    count\n",
       "0  191077\n",
       "1   30188"
      ]
     },
     "execution_count": 35,
     "metadata": {},
     "output_type": "execute_result"
    }
   ],
   "source": [
    "# replacing the missing values in the 'INATTENTIONIND' column with 0 and 'Y' with 1\n",
    "\n",
    "df_coll_rel['INATTENTIONIND'] = df_coll_rel['INATTENTIONIND'].fillna(0)\n",
    "df_coll_rel['INATTENTIONIND'] = df_coll_rel['INATTENTIONIND'].replace('Y',1)\n",
    "\n",
    "df_coll_rel['INATTENTIONIND'].value_counts().to_frame('count')"
   ]
  },
  {
   "cell_type": "code",
   "execution_count": 36,
   "metadata": {
    "scrolled": true
   },
   "outputs": [
    {
     "data": {
      "text/html": [
       "<div>\n",
       "<style scoped>\n",
       "    .dataframe tbody tr th:only-of-type {\n",
       "        vertical-align: middle;\n",
       "    }\n",
       "\n",
       "    .dataframe tbody tr th {\n",
       "        vertical-align: top;\n",
       "    }\n",
       "\n",
       "    .dataframe thead th {\n",
       "        text-align: right;\n",
       "    }\n",
       "</style>\n",
       "<table border=\"1\" class=\"dataframe\">\n",
       "  <thead>\n",
       "    <tr style=\"text-align: right;\">\n",
       "      <th></th>\n",
       "      <th>count</th>\n",
       "    </tr>\n",
       "  </thead>\n",
       "  <tbody>\n",
       "    <tr>\n",
       "      <th>N</th>\n",
       "      <td>103481</td>\n",
       "    </tr>\n",
       "    <tr>\n",
       "      <th>0</th>\n",
       "      <td>81676</td>\n",
       "    </tr>\n",
       "    <tr>\n",
       "      <th>Y</th>\n",
       "      <td>5399</td>\n",
       "    </tr>\n",
       "    <tr>\n",
       "      <th>1</th>\n",
       "      <td>4230</td>\n",
       "    </tr>\n",
       "  </tbody>\n",
       "</table>\n",
       "</div>"
      ],
      "text/plain": [
       "    count\n",
       "N  103481\n",
       "0   81676\n",
       "Y    5399\n",
       "1    4230"
      ]
     },
     "execution_count": 36,
     "metadata": {},
     "output_type": "execute_result"
    }
   ],
   "source": [
    "df_coll_rel['UNDERINFL'].value_counts().to_frame('count')"
   ]
  },
  {
   "cell_type": "code",
   "execution_count": 37,
   "metadata": {},
   "outputs": [
    {
     "data": {
      "text/html": [
       "<div>\n",
       "<style scoped>\n",
       "    .dataframe tbody tr th:only-of-type {\n",
       "        vertical-align: middle;\n",
       "    }\n",
       "\n",
       "    .dataframe tbody tr th {\n",
       "        vertical-align: top;\n",
       "    }\n",
       "\n",
       "    .dataframe thead th {\n",
       "        text-align: right;\n",
       "    }\n",
       "</style>\n",
       "<table border=\"1\" class=\"dataframe\">\n",
       "  <thead>\n",
       "    <tr style=\"text-align: right;\">\n",
       "      <th></th>\n",
       "      <th>count</th>\n",
       "    </tr>\n",
       "  </thead>\n",
       "  <tbody>\n",
       "    <tr>\n",
       "      <th>N</th>\n",
       "      <td>185157</td>\n",
       "    </tr>\n",
       "    <tr>\n",
       "      <th>UN</th>\n",
       "      <td>26479</td>\n",
       "    </tr>\n",
       "    <tr>\n",
       "      <th>Y</th>\n",
       "      <td>9629</td>\n",
       "    </tr>\n",
       "  </tbody>\n",
       "</table>\n",
       "</div>"
      ],
      "text/plain": [
       "     count\n",
       "N   185157\n",
       "UN   26479\n",
       "Y     9629"
      ]
     },
     "execution_count": 37,
     "metadata": {},
     "output_type": "execute_result"
    }
   ],
   "source": [
    "# keeping the labels of the 'UNDERINFL' columns cateorical as of now\n",
    "# replacing 0 with 'N' and 1 with 'Y' and the NaN values with 'UN' (stands for 'Unknown')\n",
    "\n",
    "df_coll_rel['UNDERINFL'] = df_coll_rel['UNDERINFL'].replace('1', 'Y')\n",
    "df_coll_rel['UNDERINFL'] = df_coll_rel['UNDERINFL'].replace('0', 'N')\n",
    "\n",
    "df_coll_rel['UNDERINFL'] = df_coll_rel['UNDERINFL'].fillna(2)\n",
    "df_coll_rel['UNDERINFL'] = df_coll_rel['UNDERINFL'].replace(2,'UN')\n",
    "\n",
    "\n",
    "df_coll_rel['UNDERINFL'].value_counts().to_frame('count')"
   ]
  },
  {
   "cell_type": "code",
   "execution_count": 38,
   "metadata": {},
   "outputs": [
    {
     "data": {
      "text/html": [
       "<div>\n",
       "<style scoped>\n",
       "    .dataframe tbody tr th:only-of-type {\n",
       "        vertical-align: middle;\n",
       "    }\n",
       "\n",
       "    .dataframe tbody tr th {\n",
       "        vertical-align: top;\n",
       "    }\n",
       "\n",
       "    .dataframe thead th {\n",
       "        text-align: right;\n",
       "    }\n",
       "</style>\n",
       "<table border=\"1\" class=\"dataframe\">\n",
       "  <thead>\n",
       "    <tr style=\"text-align: right;\">\n",
       "      <th></th>\n",
       "      <th>count</th>\n",
       "    </tr>\n",
       "  </thead>\n",
       "  <tbody>\n",
       "    <tr>\n",
       "      <th>Y</th>\n",
       "      <td>9913</td>\n",
       "    </tr>\n",
       "  </tbody>\n",
       "</table>\n",
       "</div>"
      ],
      "text/plain": [
       "   count\n",
       "Y   9913"
      ]
     },
     "execution_count": 38,
     "metadata": {},
     "output_type": "execute_result"
    }
   ],
   "source": [
    "df_coll_rel['SPEEDING'].value_counts().to_frame('count')"
   ]
  },
  {
   "cell_type": "code",
   "execution_count": 39,
   "metadata": {},
   "outputs": [
    {
     "data": {
      "text/html": [
       "<div>\n",
       "<style scoped>\n",
       "    .dataframe tbody tr th:only-of-type {\n",
       "        vertical-align: middle;\n",
       "    }\n",
       "\n",
       "    .dataframe tbody tr th {\n",
       "        vertical-align: top;\n",
       "    }\n",
       "\n",
       "    .dataframe thead th {\n",
       "        text-align: right;\n",
       "    }\n",
       "</style>\n",
       "<table border=\"1\" class=\"dataframe\">\n",
       "  <thead>\n",
       "    <tr style=\"text-align: right;\">\n",
       "      <th></th>\n",
       "      <th>count</th>\n",
       "    </tr>\n",
       "  </thead>\n",
       "  <tbody>\n",
       "    <tr>\n",
       "      <th>0</th>\n",
       "      <td>211352</td>\n",
       "    </tr>\n",
       "    <tr>\n",
       "      <th>1</th>\n",
       "      <td>9913</td>\n",
       "    </tr>\n",
       "  </tbody>\n",
       "</table>\n",
       "</div>"
      ],
      "text/plain": [
       "    count\n",
       "0  211352\n",
       "1    9913"
      ]
     },
     "execution_count": 39,
     "metadata": {},
     "output_type": "execute_result"
    }
   ],
   "source": [
    "# replacing the labels of the 'SPEEDING' column, 'Y' with 1 and NaN values with 0\n",
    "\n",
    "df_coll_rel['SPEEDING'] = df_coll_rel['SPEEDING'].map({'Y': 1, np.nan : 0})\n",
    "\n",
    "df_coll_rel['SPEEDING'].value_counts().to_frame('count')"
   ]
  },
  {
   "cell_type": "markdown",
   "metadata": {},
   "source": [
    "**Now we finally have our cleaned dataset**"
   ]
  },
  {
   "cell_type": "code",
   "execution_count": 40,
   "metadata": {
    "scrolled": false
   },
   "outputs": [
    {
     "data": {
      "text/html": [
       "<div>\n",
       "<style scoped>\n",
       "    .dataframe tbody tr th:only-of-type {\n",
       "        vertical-align: middle;\n",
       "    }\n",
       "\n",
       "    .dataframe tbody tr th {\n",
       "        vertical-align: top;\n",
       "    }\n",
       "\n",
       "    .dataframe thead th {\n",
       "        text-align: right;\n",
       "    }\n",
       "</style>\n",
       "<table border=\"1\" class=\"dataframe\">\n",
       "  <thead>\n",
       "    <tr style=\"text-align: right;\">\n",
       "      <th></th>\n",
       "      <th>ADDRTYPE</th>\n",
       "      <th>SEVERITYCODE</th>\n",
       "      <th>PERSONCOUNT</th>\n",
       "      <th>PEDCOUNT</th>\n",
       "      <th>PEDCYLCOUNT</th>\n",
       "      <th>VEHCOUNT</th>\n",
       "      <th>JUNCTIONTYPE</th>\n",
       "      <th>INATTENTIONIND</th>\n",
       "      <th>UNDERINFL</th>\n",
       "      <th>WEATHER</th>\n",
       "      <th>ROADCOND</th>\n",
       "      <th>LIGHTCOND</th>\n",
       "      <th>SPEEDING</th>\n",
       "    </tr>\n",
       "  </thead>\n",
       "  <tbody>\n",
       "    <tr>\n",
       "      <th>0</th>\n",
       "      <td>Intersection</td>\n",
       "      <td>2</td>\n",
       "      <td>2</td>\n",
       "      <td>1</td>\n",
       "      <td>0</td>\n",
       "      <td>1</td>\n",
       "      <td>At Intersection (intersection related)</td>\n",
       "      <td>0</td>\n",
       "      <td>N</td>\n",
       "      <td>Clear</td>\n",
       "      <td>Dry</td>\n",
       "      <td>Daylight</td>\n",
       "      <td>0</td>\n",
       "    </tr>\n",
       "    <tr>\n",
       "      <th>1</th>\n",
       "      <td>Intersection</td>\n",
       "      <td>2</td>\n",
       "      <td>4</td>\n",
       "      <td>0</td>\n",
       "      <td>0</td>\n",
       "      <td>2</td>\n",
       "      <td>At Intersection (intersection related)</td>\n",
       "      <td>0</td>\n",
       "      <td>N</td>\n",
       "      <td>Raining</td>\n",
       "      <td>Wet</td>\n",
       "      <td>Dark - Street Lights On</td>\n",
       "      <td>0</td>\n",
       "    </tr>\n",
       "    <tr>\n",
       "      <th>2</th>\n",
       "      <td>Block</td>\n",
       "      <td>1</td>\n",
       "      <td>4</td>\n",
       "      <td>0</td>\n",
       "      <td>0</td>\n",
       "      <td>3</td>\n",
       "      <td>Mid-Block (not related to intersection)</td>\n",
       "      <td>0</td>\n",
       "      <td>N</td>\n",
       "      <td>Clear</td>\n",
       "      <td>Dry</td>\n",
       "      <td>Daylight</td>\n",
       "      <td>0</td>\n",
       "    </tr>\n",
       "    <tr>\n",
       "      <th>3</th>\n",
       "      <td>Intersection</td>\n",
       "      <td>1</td>\n",
       "      <td>2</td>\n",
       "      <td>0</td>\n",
       "      <td>0</td>\n",
       "      <td>2</td>\n",
       "      <td>At Intersection (intersection related)</td>\n",
       "      <td>0</td>\n",
       "      <td>N</td>\n",
       "      <td>Raining</td>\n",
       "      <td>Wet</td>\n",
       "      <td>Dark - Street Lights On</td>\n",
       "      <td>0</td>\n",
       "    </tr>\n",
       "    <tr>\n",
       "      <th>4</th>\n",
       "      <td>Block</td>\n",
       "      <td>0</td>\n",
       "      <td>0</td>\n",
       "      <td>0</td>\n",
       "      <td>0</td>\n",
       "      <td>0</td>\n",
       "      <td>Mid-Block (but intersection related)</td>\n",
       "      <td>0</td>\n",
       "      <td>UN</td>\n",
       "      <td>others</td>\n",
       "      <td>others</td>\n",
       "      <td>others</td>\n",
       "      <td>0</td>\n",
       "    </tr>\n",
       "  </tbody>\n",
       "</table>\n",
       "</div>"
      ],
      "text/plain": [
       "       ADDRTYPE SEVERITYCODE  PERSONCOUNT  PEDCOUNT  PEDCYLCOUNT  VEHCOUNT  \\\n",
       "0  Intersection            2            2         1            0         1   \n",
       "1  Intersection            2            4         0            0         2   \n",
       "2         Block            1            4         0            0         3   \n",
       "3  Intersection            1            2         0            0         2   \n",
       "4         Block            0            0         0            0         0   \n",
       "\n",
       "                              JUNCTIONTYPE  INATTENTIONIND UNDERINFL  WEATHER  \\\n",
       "0   At Intersection (intersection related)               0         N    Clear   \n",
       "1   At Intersection (intersection related)               0         N  Raining   \n",
       "2  Mid-Block (not related to intersection)               0         N    Clear   \n",
       "3   At Intersection (intersection related)               0         N  Raining   \n",
       "4     Mid-Block (but intersection related)               0        UN   others   \n",
       "\n",
       "  ROADCOND                LIGHTCOND  SPEEDING  \n",
       "0      Dry                 Daylight         0  \n",
       "1      Wet  Dark - Street Lights On         0  \n",
       "2      Dry                 Daylight         0  \n",
       "3      Wet  Dark - Street Lights On         0  \n",
       "4   others                   others         0  "
      ]
     },
     "execution_count": 40,
     "metadata": {},
     "output_type": "execute_result"
    }
   ],
   "source": [
    "df_coll_clean = df_coll_rel\n",
    "df_coll_clean.head(5)"
   ]
  },
  {
   "cell_type": "code",
   "execution_count": 41,
   "metadata": {},
   "outputs": [
    {
     "data": {
      "text/plain": [
       "ADDRTYPE          0\n",
       "SEVERITYCODE      0\n",
       "PERSONCOUNT       0\n",
       "PEDCOUNT          0\n",
       "PEDCYLCOUNT       0\n",
       "VEHCOUNT          0\n",
       "JUNCTIONTYPE      0\n",
       "INATTENTIONIND    0\n",
       "UNDERINFL         0\n",
       "WEATHER           0\n",
       "ROADCOND          0\n",
       "LIGHTCOND         0\n",
       "SPEEDING          0\n",
       "dtype: int64"
      ]
     },
     "execution_count": 41,
     "metadata": {},
     "output_type": "execute_result"
    }
   ],
   "source": [
    "df_coll_clean.isnull().sum()"
   ]
  },
  {
   "cell_type": "code",
   "execution_count": 42,
   "metadata": {},
   "outputs": [
    {
     "name": "stdout",
     "output_type": "stream",
     "text": [
      "<class 'pandas.core.frame.DataFrame'>\n",
      "Int64Index: 221265 entries, 0 to 221265\n",
      "Data columns (total 13 columns):\n",
      " #   Column          Non-Null Count   Dtype \n",
      "---  ------          --------------   ----- \n",
      " 0   ADDRTYPE        221265 non-null  object\n",
      " 1   SEVERITYCODE    221265 non-null  object\n",
      " 2   PERSONCOUNT     221265 non-null  int64 \n",
      " 3   PEDCOUNT        221265 non-null  int64 \n",
      " 4   PEDCYLCOUNT     221265 non-null  int64 \n",
      " 5   VEHCOUNT        221265 non-null  int64 \n",
      " 6   JUNCTIONTYPE    221265 non-null  object\n",
      " 7   INATTENTIONIND  221265 non-null  int64 \n",
      " 8   UNDERINFL       221265 non-null  object\n",
      " 9   WEATHER         221265 non-null  object\n",
      " 10  ROADCOND        221265 non-null  object\n",
      " 11  LIGHTCOND       221265 non-null  object\n",
      " 12  SPEEDING        221265 non-null  int64 \n",
      "dtypes: int64(6), object(7)\n",
      "memory usage: 23.6+ MB\n"
     ]
    }
   ],
   "source": [
    "# checking whether the datatypes of the columns are consistent or not\n",
    "\n",
    "df_coll_clean.info()"
   ]
  },
  {
   "cell_type": "code",
   "execution_count": 43,
   "metadata": {
    "scrolled": true
   },
   "outputs": [
    {
     "name": "stdout",
     "output_type": "stream",
     "text": [
      "<class 'pandas.core.frame.DataFrame'>\n",
      "Int64Index: 221265 entries, 0 to 221265\n",
      "Data columns (total 13 columns):\n",
      " #   Column          Non-Null Count   Dtype \n",
      "---  ------          --------------   ----- \n",
      " 0   ADDRTYPE        221265 non-null  object\n",
      " 1   SEVERITYCODE    221265 non-null  object\n",
      " 2   PERSONCOUNT     221265 non-null  int64 \n",
      " 3   PEDCOUNT        221265 non-null  int64 \n",
      " 4   PEDCYLCOUNT     221265 non-null  int64 \n",
      " 5   VEHCOUNT        221265 non-null  int64 \n",
      " 6   JUNCTIONTYPE    221265 non-null  object\n",
      " 7   INATTENTIONIND  221265 non-null  int64 \n",
      " 8   UNDERINFL       221265 non-null  object\n",
      " 9   WEATHER         221265 non-null  object\n",
      " 10  ROADCOND        221265 non-null  object\n",
      " 11  LIGHTCOND       221265 non-null  object\n",
      " 12  SPEEDING        221265 non-null  int64 \n",
      "dtypes: int64(6), object(7)\n",
      "memory usage: 23.6+ MB\n"
     ]
    }
   ],
   "source": [
    "# the datatype of 'INATTENSIONID' column should be 'int64' as we\n",
    "# have coverted the labels to either 0's or 1's, but it's 'object'\n",
    "# so lets convert the datatype to 'int64'\n",
    "\n",
    "df_coll_clean['INATTENTIONIND'] = df_coll_clean['INATTENTIONIND'].astype('int64')\n",
    "\n",
    "df_coll_clean.info()"
   ]
  },
  {
   "cell_type": "code",
   "execution_count": 44,
   "metadata": {},
   "outputs": [
    {
     "data": {
      "text/plain": [
       "(221265, 13)"
      ]
     },
     "execution_count": 44,
     "metadata": {},
     "output_type": "execute_result"
    }
   ],
   "source": [
    "df_coll_clean.shape"
   ]
  },
  {
   "cell_type": "markdown",
   "metadata": {},
   "source": [
    "# Feature Selection"
   ]
  },
  {
   "cell_type": "markdown",
   "metadata": {},
   "source": [
    "**Calculating Pearson correlation for the Features in the cleaned dataset in order to best select the Features for modelling**"
   ]
  },
  {
   "cell_type": "code",
   "execution_count": 45,
   "metadata": {},
   "outputs": [],
   "source": [
    "# I'm going to use \"one hot encoding\" for the categorical variables while developing the model\n",
    "# so copying the cleaned dataset into another variable because I am going to use LabelEncoder()\n",
    "# as of now to convert the labels of categorical variables into numeric values in order to calculate their\n",
    "# Pearson correlation with the target variable 'SEVERITYCODE'\n",
    "\n",
    "df_coll_pearson = df_coll_clean.copy()"
   ]
  },
  {
   "cell_type": "code",
   "execution_count": 46,
   "metadata": {
    "scrolled": false
   },
   "outputs": [
    {
     "data": {
      "text/html": [
       "<div>\n",
       "<style scoped>\n",
       "    .dataframe tbody tr th:only-of-type {\n",
       "        vertical-align: middle;\n",
       "    }\n",
       "\n",
       "    .dataframe tbody tr th {\n",
       "        vertical-align: top;\n",
       "    }\n",
       "\n",
       "    .dataframe thead th {\n",
       "        text-align: right;\n",
       "    }\n",
       "</style>\n",
       "<table border=\"1\" class=\"dataframe\">\n",
       "  <thead>\n",
       "    <tr style=\"text-align: right;\">\n",
       "      <th></th>\n",
       "      <th>ADDRTYPE</th>\n",
       "      <th>SEVERITYCODE</th>\n",
       "      <th>PERSONCOUNT</th>\n",
       "      <th>PEDCOUNT</th>\n",
       "      <th>PEDCYLCOUNT</th>\n",
       "      <th>VEHCOUNT</th>\n",
       "      <th>JUNCTIONTYPE</th>\n",
       "      <th>INATTENTIONIND</th>\n",
       "      <th>UNDERINFL</th>\n",
       "      <th>WEATHER</th>\n",
       "      <th>ROADCOND</th>\n",
       "      <th>LIGHTCOND</th>\n",
       "      <th>SPEEDING</th>\n",
       "    </tr>\n",
       "  </thead>\n",
       "  <tbody>\n",
       "    <tr>\n",
       "      <th>0</th>\n",
       "      <td>2</td>\n",
       "      <td>2</td>\n",
       "      <td>2</td>\n",
       "      <td>1</td>\n",
       "      <td>0</td>\n",
       "      <td>1</td>\n",
       "      <td>1</td>\n",
       "      <td>0</td>\n",
       "      <td>0</td>\n",
       "      <td>2</td>\n",
       "      <td>0</td>\n",
       "      <td>5</td>\n",
       "      <td>0</td>\n",
       "    </tr>\n",
       "    <tr>\n",
       "      <th>1</th>\n",
       "      <td>2</td>\n",
       "      <td>2</td>\n",
       "      <td>4</td>\n",
       "      <td>0</td>\n",
       "      <td>0</td>\n",
       "      <td>2</td>\n",
       "      <td>1</td>\n",
       "      <td>0</td>\n",
       "      <td>0</td>\n",
       "      <td>7</td>\n",
       "      <td>8</td>\n",
       "      <td>2</td>\n",
       "      <td>0</td>\n",
       "    </tr>\n",
       "    <tr>\n",
       "      <th>2</th>\n",
       "      <td>1</td>\n",
       "      <td>1</td>\n",
       "      <td>4</td>\n",
       "      <td>0</td>\n",
       "      <td>0</td>\n",
       "      <td>3</td>\n",
       "      <td>4</td>\n",
       "      <td>0</td>\n",
       "      <td>0</td>\n",
       "      <td>2</td>\n",
       "      <td>0</td>\n",
       "      <td>5</td>\n",
       "      <td>0</td>\n",
       "    </tr>\n",
       "    <tr>\n",
       "      <th>3</th>\n",
       "      <td>2</td>\n",
       "      <td>1</td>\n",
       "      <td>2</td>\n",
       "      <td>0</td>\n",
       "      <td>0</td>\n",
       "      <td>2</td>\n",
       "      <td>1</td>\n",
       "      <td>0</td>\n",
       "      <td>0</td>\n",
       "      <td>7</td>\n",
       "      <td>8</td>\n",
       "      <td>2</td>\n",
       "      <td>0</td>\n",
       "    </tr>\n",
       "    <tr>\n",
       "      <th>4</th>\n",
       "      <td>1</td>\n",
       "      <td>0</td>\n",
       "      <td>0</td>\n",
       "      <td>0</td>\n",
       "      <td>0</td>\n",
       "      <td>0</td>\n",
       "      <td>3</td>\n",
       "      <td>0</td>\n",
       "      <td>1</td>\n",
       "      <td>12</td>\n",
       "      <td>9</td>\n",
       "      <td>9</td>\n",
       "      <td>0</td>\n",
       "    </tr>\n",
       "  </tbody>\n",
       "</table>\n",
       "</div>"
      ],
      "text/plain": [
       "   ADDRTYPE  SEVERITYCODE  PERSONCOUNT  PEDCOUNT  PEDCYLCOUNT  VEHCOUNT  \\\n",
       "0         2             2            2         1            0         1   \n",
       "1         2             2            4         0            0         2   \n",
       "2         1             1            4         0            0         3   \n",
       "3         2             1            2         0            0         2   \n",
       "4         1             0            0         0            0         0   \n",
       "\n",
       "   JUNCTIONTYPE  INATTENTIONIND  UNDERINFL  WEATHER  ROADCOND  LIGHTCOND  \\\n",
       "0             1               0          0        2         0          5   \n",
       "1             1               0          0        7         8          2   \n",
       "2             4               0          0        2         0          5   \n",
       "3             1               0          0        7         8          2   \n",
       "4             3               0          1       12         9          9   \n",
       "\n",
       "   SPEEDING  \n",
       "0         0  \n",
       "1         0  \n",
       "2         0  \n",
       "3         0  \n",
       "4         0  "
      ]
     },
     "execution_count": 46,
     "metadata": {},
     "output_type": "execute_result"
    }
   ],
   "source": [
    "# encoding the labels of the categorical variables as Pearson's Correlation only works\n",
    "# on numeric values\n",
    "\n",
    "from sklearn import preprocessing\n",
    "\n",
    "\n",
    "severity = preprocessing.LabelEncoder()\n",
    "severity.fit(df_coll_pearson['SEVERITYCODE'])\n",
    "df_coll_pearson['SEVERITYCODE'] = severity.transform(df_coll_pearson['SEVERITYCODE'])\n",
    "\n",
    "\n",
    "addrtype = preprocessing.LabelEncoder()\n",
    "addrtype.fit(df_coll_pearson['ADDRTYPE'])\n",
    "df_coll_pearson['ADDRTYPE'] = addrtype.transform(df_coll_pearson['ADDRTYPE'])\n",
    "\n",
    "junctype = preprocessing.LabelEncoder()\n",
    "junctype.fit(df_coll_pearson['JUNCTIONTYPE'])\n",
    "df_coll_pearson['JUNCTIONTYPE'] = junctype.transform(df_coll_pearson['JUNCTIONTYPE'])\n",
    "\n",
    "underinfl = preprocessing.LabelEncoder()\n",
    "underinfl.fit(df_coll_pearson['UNDERINFL'])\n",
    "df_coll_pearson['UNDERINFL'] = underinfl.transform(df_coll_pearson['UNDERINFL'])\n",
    "\n",
    "\n",
    "weather = preprocessing.LabelEncoder()\n",
    "weather.fit(df_coll_pearson['WEATHER'])\n",
    "df_coll_pearson['WEATHER'] = weather.transform(df_coll_pearson['WEATHER'])\n",
    "\n",
    "roadcond = preprocessing.LabelEncoder()\n",
    "roadcond.fit(df_coll_pearson['ROADCOND'])\n",
    "df_coll_pearson['ROADCOND'] = roadcond.transform(df_coll_pearson['ROADCOND'])\n",
    "\n",
    "lightcond = preprocessing.LabelEncoder()\n",
    "lightcond.fit(df_coll_pearson['LIGHTCOND'])\n",
    "df_coll_pearson['LIGHTCOND'] = lightcond.transform(df_coll_pearson['LIGHTCOND'])\n",
    "\n",
    "\n",
    "df_coll_pearson.head(5)\n"
   ]
  },
  {
   "cell_type": "code",
   "execution_count": 47,
   "metadata": {
    "scrolled": true
   },
   "outputs": [
    {
     "data": {
      "text/html": [
       "<div>\n",
       "<style scoped>\n",
       "    .dataframe tbody tr th:only-of-type {\n",
       "        vertical-align: middle;\n",
       "    }\n",
       "\n",
       "    .dataframe tbody tr th {\n",
       "        vertical-align: top;\n",
       "    }\n",
       "\n",
       "    .dataframe thead th {\n",
       "        text-align: right;\n",
       "    }\n",
       "</style>\n",
       "<table border=\"1\" class=\"dataframe\">\n",
       "  <thead>\n",
       "    <tr style=\"text-align: right;\">\n",
       "      <th></th>\n",
       "      <th>ADDRTYPE</th>\n",
       "      <th>SEVERITYCODE</th>\n",
       "      <th>PERSONCOUNT</th>\n",
       "      <th>PEDCOUNT</th>\n",
       "      <th>PEDCYLCOUNT</th>\n",
       "      <th>VEHCOUNT</th>\n",
       "      <th>JUNCTIONTYPE</th>\n",
       "      <th>INATTENTIONIND</th>\n",
       "      <th>UNDERINFL</th>\n",
       "      <th>WEATHER</th>\n",
       "      <th>ROADCOND</th>\n",
       "      <th>LIGHTCOND</th>\n",
       "      <th>SPEEDING</th>\n",
       "    </tr>\n",
       "  </thead>\n",
       "  <tbody>\n",
       "    <tr>\n",
       "      <th>ADDRTYPE</th>\n",
       "      <td>1.000000</td>\n",
       "      <td>0.115531</td>\n",
       "      <td>0.032179</td>\n",
       "      <td>0.118419</td>\n",
       "      <td>0.070069</td>\n",
       "      <td>-0.054169</td>\n",
       "      <td>-0.625312</td>\n",
       "      <td>-0.073017</td>\n",
       "      <td>-0.029190</td>\n",
       "      <td>-0.023275</td>\n",
       "      <td>-0.002129</td>\n",
       "      <td>-0.005082</td>\n",
       "      <td>-0.056117</td>\n",
       "    </tr>\n",
       "    <tr>\n",
       "      <th>SEVERITYCODE</th>\n",
       "      <td>0.115531</td>\n",
       "      <td>1.000000</td>\n",
       "      <td>0.370575</td>\n",
       "      <td>0.260548</td>\n",
       "      <td>0.203206</td>\n",
       "      <td>0.384890</td>\n",
       "      <td>-0.277974</td>\n",
       "      <td>0.107642</td>\n",
       "      <td>-0.292593</td>\n",
       "      <td>-0.458319</td>\n",
       "      <td>-0.332118</td>\n",
       "      <td>-0.428936</td>\n",
       "      <td>0.090660</td>\n",
       "    </tr>\n",
       "    <tr>\n",
       "      <th>PERSONCOUNT</th>\n",
       "      <td>0.032179</td>\n",
       "      <td>0.370575</td>\n",
       "      <td>1.000000</td>\n",
       "      <td>0.011604</td>\n",
       "      <td>-0.009165</td>\n",
       "      <td>0.558807</td>\n",
       "      <td>-0.167258</td>\n",
       "      <td>0.125228</td>\n",
       "      <td>-0.237620</td>\n",
       "      <td>-0.341294</td>\n",
       "      <td>-0.249070</td>\n",
       "      <td>-0.319682</td>\n",
       "      <td>0.032634</td>\n",
       "    </tr>\n",
       "    <tr>\n",
       "      <th>PEDCOUNT</th>\n",
       "      <td>0.118419</td>\n",
       "      <td>0.260548</td>\n",
       "      <td>0.011604</td>\n",
       "      <td>1.000000</td>\n",
       "      <td>-0.015823</td>\n",
       "      <td>-0.154356</td>\n",
       "      <td>-0.124452</td>\n",
       "      <td>0.001026</td>\n",
       "      <td>-0.019081</td>\n",
       "      <td>-0.058284</td>\n",
       "      <td>-0.033331</td>\n",
       "      <td>-0.080264</td>\n",
       "      <td>-0.027151</td>\n",
       "    </tr>\n",
       "    <tr>\n",
       "      <th>PEDCYLCOUNT</th>\n",
       "      <td>0.070069</td>\n",
       "      <td>0.203206</td>\n",
       "      <td>-0.009165</td>\n",
       "      <td>-0.015823</td>\n",
       "      <td>1.000000</td>\n",
       "      <td>-0.150740</td>\n",
       "      <td>-0.091758</td>\n",
       "      <td>0.010113</td>\n",
       "      <td>-0.049958</td>\n",
       "      <td>-0.082600</td>\n",
       "      <td>-0.076290</td>\n",
       "      <td>-0.032481</td>\n",
       "      <td>-0.017617</td>\n",
       "    </tr>\n",
       "    <tr>\n",
       "      <th>VEHCOUNT</th>\n",
       "      <td>-0.054169</td>\n",
       "      <td>0.384890</td>\n",
       "      <td>0.558807</td>\n",
       "      <td>-0.154356</td>\n",
       "      <td>-0.150740</td>\n",
       "      <td>1.000000</td>\n",
       "      <td>-0.108269</td>\n",
       "      <td>0.144077</td>\n",
       "      <td>-0.455410</td>\n",
       "      <td>-0.535225</td>\n",
       "      <td>-0.406393</td>\n",
       "      <td>-0.502848</td>\n",
       "      <td>0.030775</td>\n",
       "    </tr>\n",
       "    <tr>\n",
       "      <th>JUNCTIONTYPE</th>\n",
       "      <td>-0.625312</td>\n",
       "      <td>-0.277974</td>\n",
       "      <td>-0.167258</td>\n",
       "      <td>-0.124452</td>\n",
       "      <td>-0.091758</td>\n",
       "      <td>-0.108269</td>\n",
       "      <td>1.000000</td>\n",
       "      <td>0.007912</td>\n",
       "      <td>0.138574</td>\n",
       "      <td>0.245537</td>\n",
       "      <td>0.158331</td>\n",
       "      <td>0.200768</td>\n",
       "      <td>0.024645</td>\n",
       "    </tr>\n",
       "    <tr>\n",
       "      <th>INATTENTIONIND</th>\n",
       "      <td>-0.073017</td>\n",
       "      <td>0.107642</td>\n",
       "      <td>0.125228</td>\n",
       "      <td>0.001026</td>\n",
       "      <td>0.010113</td>\n",
       "      <td>0.144077</td>\n",
       "      <td>0.007912</td>\n",
       "      <td>1.000000</td>\n",
       "      <td>-0.108697</td>\n",
       "      <td>-0.158970</td>\n",
       "      <td>-0.122771</td>\n",
       "      <td>-0.099150</td>\n",
       "      <td>-0.039873</td>\n",
       "    </tr>\n",
       "    <tr>\n",
       "      <th>UNDERINFL</th>\n",
       "      <td>-0.029190</td>\n",
       "      <td>-0.292593</td>\n",
       "      <td>-0.237620</td>\n",
       "      <td>-0.019081</td>\n",
       "      <td>-0.049958</td>\n",
       "      <td>-0.455410</td>\n",
       "      <td>0.138574</td>\n",
       "      <td>-0.108697</td>\n",
       "      <td>1.000000</td>\n",
       "      <td>0.379468</td>\n",
       "      <td>0.293600</td>\n",
       "      <td>0.267345</td>\n",
       "      <td>0.031959</td>\n",
       "    </tr>\n",
       "    <tr>\n",
       "      <th>WEATHER</th>\n",
       "      <td>-0.023275</td>\n",
       "      <td>-0.458319</td>\n",
       "      <td>-0.341294</td>\n",
       "      <td>-0.058284</td>\n",
       "      <td>-0.082600</td>\n",
       "      <td>-0.535225</td>\n",
       "      <td>0.245537</td>\n",
       "      <td>-0.158970</td>\n",
       "      <td>0.379468</td>\n",
       "      <td>1.000000</td>\n",
       "      <td>0.820264</td>\n",
       "      <td>0.583367</td>\n",
       "      <td>-0.030522</td>\n",
       "    </tr>\n",
       "    <tr>\n",
       "      <th>ROADCOND</th>\n",
       "      <td>-0.002129</td>\n",
       "      <td>-0.332118</td>\n",
       "      <td>-0.249070</td>\n",
       "      <td>-0.033331</td>\n",
       "      <td>-0.076290</td>\n",
       "      <td>-0.406393</td>\n",
       "      <td>0.158331</td>\n",
       "      <td>-0.122771</td>\n",
       "      <td>0.293600</td>\n",
       "      <td>0.820264</td>\n",
       "      <td>1.000000</td>\n",
       "      <td>0.369867</td>\n",
       "      <td>0.031622</td>\n",
       "    </tr>\n",
       "    <tr>\n",
       "      <th>LIGHTCOND</th>\n",
       "      <td>-0.005082</td>\n",
       "      <td>-0.428936</td>\n",
       "      <td>-0.319682</td>\n",
       "      <td>-0.080264</td>\n",
       "      <td>-0.032481</td>\n",
       "      <td>-0.502848</td>\n",
       "      <td>0.200768</td>\n",
       "      <td>-0.099150</td>\n",
       "      <td>0.267345</td>\n",
       "      <td>0.583367</td>\n",
       "      <td>0.369867</td>\n",
       "      <td>1.000000</td>\n",
       "      <td>-0.129387</td>\n",
       "    </tr>\n",
       "    <tr>\n",
       "      <th>SPEEDING</th>\n",
       "      <td>-0.056117</td>\n",
       "      <td>0.090660</td>\n",
       "      <td>0.032634</td>\n",
       "      <td>-0.027151</td>\n",
       "      <td>-0.017617</td>\n",
       "      <td>0.030775</td>\n",
       "      <td>0.024645</td>\n",
       "      <td>-0.039873</td>\n",
       "      <td>0.031959</td>\n",
       "      <td>-0.030522</td>\n",
       "      <td>0.031622</td>\n",
       "      <td>-0.129387</td>\n",
       "      <td>1.000000</td>\n",
       "    </tr>\n",
       "  </tbody>\n",
       "</table>\n",
       "</div>"
      ],
      "text/plain": [
       "                ADDRTYPE  SEVERITYCODE  PERSONCOUNT  PEDCOUNT  PEDCYLCOUNT  \\\n",
       "ADDRTYPE        1.000000      0.115531     0.032179  0.118419     0.070069   \n",
       "SEVERITYCODE    0.115531      1.000000     0.370575  0.260548     0.203206   \n",
       "PERSONCOUNT     0.032179      0.370575     1.000000  0.011604    -0.009165   \n",
       "PEDCOUNT        0.118419      0.260548     0.011604  1.000000    -0.015823   \n",
       "PEDCYLCOUNT     0.070069      0.203206    -0.009165 -0.015823     1.000000   \n",
       "VEHCOUNT       -0.054169      0.384890     0.558807 -0.154356    -0.150740   \n",
       "JUNCTIONTYPE   -0.625312     -0.277974    -0.167258 -0.124452    -0.091758   \n",
       "INATTENTIONIND -0.073017      0.107642     0.125228  0.001026     0.010113   \n",
       "UNDERINFL      -0.029190     -0.292593    -0.237620 -0.019081    -0.049958   \n",
       "WEATHER        -0.023275     -0.458319    -0.341294 -0.058284    -0.082600   \n",
       "ROADCOND       -0.002129     -0.332118    -0.249070 -0.033331    -0.076290   \n",
       "LIGHTCOND      -0.005082     -0.428936    -0.319682 -0.080264    -0.032481   \n",
       "SPEEDING       -0.056117      0.090660     0.032634 -0.027151    -0.017617   \n",
       "\n",
       "                VEHCOUNT  JUNCTIONTYPE  INATTENTIONIND  UNDERINFL   WEATHER  \\\n",
       "ADDRTYPE       -0.054169     -0.625312       -0.073017  -0.029190 -0.023275   \n",
       "SEVERITYCODE    0.384890     -0.277974        0.107642  -0.292593 -0.458319   \n",
       "PERSONCOUNT     0.558807     -0.167258        0.125228  -0.237620 -0.341294   \n",
       "PEDCOUNT       -0.154356     -0.124452        0.001026  -0.019081 -0.058284   \n",
       "PEDCYLCOUNT    -0.150740     -0.091758        0.010113  -0.049958 -0.082600   \n",
       "VEHCOUNT        1.000000     -0.108269        0.144077  -0.455410 -0.535225   \n",
       "JUNCTIONTYPE   -0.108269      1.000000        0.007912   0.138574  0.245537   \n",
       "INATTENTIONIND  0.144077      0.007912        1.000000  -0.108697 -0.158970   \n",
       "UNDERINFL      -0.455410      0.138574       -0.108697   1.000000  0.379468   \n",
       "WEATHER        -0.535225      0.245537       -0.158970   0.379468  1.000000   \n",
       "ROADCOND       -0.406393      0.158331       -0.122771   0.293600  0.820264   \n",
       "LIGHTCOND      -0.502848      0.200768       -0.099150   0.267345  0.583367   \n",
       "SPEEDING        0.030775      0.024645       -0.039873   0.031959 -0.030522   \n",
       "\n",
       "                ROADCOND  LIGHTCOND  SPEEDING  \n",
       "ADDRTYPE       -0.002129  -0.005082 -0.056117  \n",
       "SEVERITYCODE   -0.332118  -0.428936  0.090660  \n",
       "PERSONCOUNT    -0.249070  -0.319682  0.032634  \n",
       "PEDCOUNT       -0.033331  -0.080264 -0.027151  \n",
       "PEDCYLCOUNT    -0.076290  -0.032481 -0.017617  \n",
       "VEHCOUNT       -0.406393  -0.502848  0.030775  \n",
       "JUNCTIONTYPE    0.158331   0.200768  0.024645  \n",
       "INATTENTIONIND -0.122771  -0.099150 -0.039873  \n",
       "UNDERINFL       0.293600   0.267345  0.031959  \n",
       "WEATHER         0.820264   0.583367 -0.030522  \n",
       "ROADCOND        1.000000   0.369867  0.031622  \n",
       "LIGHTCOND       0.369867   1.000000 -0.129387  \n",
       "SPEEDING        0.031622  -0.129387  1.000000  "
      ]
     },
     "execution_count": 47,
     "metadata": {},
     "output_type": "execute_result"
    }
   ],
   "source": [
    "# Pearson correlation\n",
    "\n",
    "df_coll_pearson.corr()"
   ]
  },
  {
   "cell_type": "code",
   "execution_count": 48,
   "metadata": {
    "scrolled": true
   },
   "outputs": [
    {
     "data": {
      "text/plain": [
       "<AxesSubplot:>"
      ]
     },
     "execution_count": 48,
     "metadata": {},
     "output_type": "execute_result"
    },
    {
     "data": {
      "image/png": "[encoded data removed]",
      "text/plain": [
       "<Figure size 432x288 with 2 Axes>"
      ]
     },
     "metadata": {
      "needs_background": "light"
     },
     "output_type": "display_data"
    }
   ],
   "source": [
    "# the correlation heatmap\n",
    "\n",
    "import seaborn as sns\n",
    "\n",
    "sns.heatmap(df_coll_pearson.corr(), linewidth=.2, cbar_kws={\"shrink\": 1})"
   ]
  },
  {
   "cell_type": "markdown",
   "metadata": {},
   "source": [
    "**Selecting the Features set**"
   ]
  },
  {
   "cell_type": "code",
   "execution_count": 49,
   "metadata": {},
   "outputs": [
    {
     "name": "stdout",
     "output_type": "stream",
     "text": [
      "The number of rows and columns in the features set respectively are: (221265, 12)\n"
     ]
    },
    {
     "data": {
      "text/html": [
       "<div>\n",
       "<style scoped>\n",
       "    .dataframe tbody tr th:only-of-type {\n",
       "        vertical-align: middle;\n",
       "    }\n",
       "\n",
       "    .dataframe tbody tr th {\n",
       "        vertical-align: top;\n",
       "    }\n",
       "\n",
       "    .dataframe thead th {\n",
       "        text-align: right;\n",
       "    }\n",
       "</style>\n",
       "<table border=\"1\" class=\"dataframe\">\n",
       "  <thead>\n",
       "    <tr style=\"text-align: right;\">\n",
       "      <th></th>\n",
       "      <th>ADDRTYPE</th>\n",
       "      <th>PERSONCOUNT</th>\n",
       "      <th>PEDCOUNT</th>\n",
       "      <th>PEDCYLCOUNT</th>\n",
       "      <th>VEHCOUNT</th>\n",
       "      <th>JUNCTIONTYPE</th>\n",
       "      <th>INATTENTIONIND</th>\n",
       "      <th>UNDERINFL</th>\n",
       "      <th>WEATHER</th>\n",
       "      <th>ROADCOND</th>\n",
       "      <th>LIGHTCOND</th>\n",
       "      <th>SPEEDING</th>\n",
       "    </tr>\n",
       "  </thead>\n",
       "  <tbody>\n",
       "    <tr>\n",
       "      <th>0</th>\n",
       "      <td>Intersection</td>\n",
       "      <td>2</td>\n",
       "      <td>1</td>\n",
       "      <td>0</td>\n",
       "      <td>1</td>\n",
       "      <td>At Intersection (intersection related)</td>\n",
       "      <td>0</td>\n",
       "      <td>N</td>\n",
       "      <td>Clear</td>\n",
       "      <td>Dry</td>\n",
       "      <td>Daylight</td>\n",
       "      <td>0</td>\n",
       "    </tr>\n",
       "    <tr>\n",
       "      <th>1</th>\n",
       "      <td>Intersection</td>\n",
       "      <td>4</td>\n",
       "      <td>0</td>\n",
       "      <td>0</td>\n",
       "      <td>2</td>\n",
       "      <td>At Intersection (intersection related)</td>\n",
       "      <td>0</td>\n",
       "      <td>N</td>\n",
       "      <td>Raining</td>\n",
       "      <td>Wet</td>\n",
       "      <td>Dark - Street Lights On</td>\n",
       "      <td>0</td>\n",
       "    </tr>\n",
       "    <tr>\n",
       "      <th>2</th>\n",
       "      <td>Block</td>\n",
       "      <td>4</td>\n",
       "      <td>0</td>\n",
       "      <td>0</td>\n",
       "      <td>3</td>\n",
       "      <td>Mid-Block (not related to intersection)</td>\n",
       "      <td>0</td>\n",
       "      <td>N</td>\n",
       "      <td>Clear</td>\n",
       "      <td>Dry</td>\n",
       "      <td>Daylight</td>\n",
       "      <td>0</td>\n",
       "    </tr>\n",
       "    <tr>\n",
       "      <th>3</th>\n",
       "      <td>Intersection</td>\n",
       "      <td>2</td>\n",
       "      <td>0</td>\n",
       "      <td>0</td>\n",
       "      <td>2</td>\n",
       "      <td>At Intersection (intersection related)</td>\n",
       "      <td>0</td>\n",
       "      <td>N</td>\n",
       "      <td>Raining</td>\n",
       "      <td>Wet</td>\n",
       "      <td>Dark - Street Lights On</td>\n",
       "      <td>0</td>\n",
       "    </tr>\n",
       "    <tr>\n",
       "      <th>4</th>\n",
       "      <td>Block</td>\n",
       "      <td>0</td>\n",
       "      <td>0</td>\n",
       "      <td>0</td>\n",
       "      <td>0</td>\n",
       "      <td>Mid-Block (but intersection related)</td>\n",
       "      <td>0</td>\n",
       "      <td>UN</td>\n",
       "      <td>others</td>\n",
       "      <td>others</td>\n",
       "      <td>others</td>\n",
       "      <td>0</td>\n",
       "    </tr>\n",
       "  </tbody>\n",
       "</table>\n",
       "</div>"
      ],
      "text/plain": [
       "       ADDRTYPE  PERSONCOUNT  PEDCOUNT  PEDCYLCOUNT  VEHCOUNT  \\\n",
       "0  Intersection            2         1            0         1   \n",
       "1  Intersection            4         0            0         2   \n",
       "2         Block            4         0            0         3   \n",
       "3  Intersection            2         0            0         2   \n",
       "4         Block            0         0            0         0   \n",
       "\n",
       "                              JUNCTIONTYPE  INATTENTIONIND UNDERINFL  WEATHER  \\\n",
       "0   At Intersection (intersection related)               0         N    Clear   \n",
       "1   At Intersection (intersection related)               0         N  Raining   \n",
       "2  Mid-Block (not related to intersection)               0         N    Clear   \n",
       "3   At Intersection (intersection related)               0         N  Raining   \n",
       "4     Mid-Block (but intersection related)               0        UN   others   \n",
       "\n",
       "  ROADCOND                LIGHTCOND  SPEEDING  \n",
       "0      Dry                 Daylight         0  \n",
       "1      Wet  Dark - Street Lights On         0  \n",
       "2      Dry                 Daylight         0  \n",
       "3      Wet  Dark - Street Lights On         0  \n",
       "4   others                   others         0  "
      ]
     },
     "execution_count": 49,
     "metadata": {},
     "output_type": "execute_result"
    }
   ],
   "source": [
    "# based on the above observation of the Pearson correlation actually there is nothing to drop as it seems\n",
    "\n",
    "features = df_coll_clean[['ADDRTYPE', 'PERSONCOUNT', 'PEDCOUNT', 'PEDCYLCOUNT', \\\n",
    "                          'VEHCOUNT', 'JUNCTIONTYPE','INATTENTIONIND', 'UNDERINFL', 'WEATHER', 'ROADCOND', \\\n",
    "                          'LIGHTCOND', 'SPEEDING']]\n",
    "\n",
    "print(\"The number of rows and columns in the features set respectively are:\", features.shape)\n",
    "features.head()"
   ]
  },
  {
   "cell_type": "markdown",
   "metadata": {},
   "source": [
    "**Specifying the target variable**"
   ]
  },
  {
   "cell_type": "code",
   "execution_count": 50,
   "metadata": {},
   "outputs": [
    {
     "name": "stdout",
     "output_type": "stream",
     "text": [
      "The number of entries in the target variable is: 221265\n"
     ]
    }
   ],
   "source": [
    "target = df_coll_clean['SEVERITYCODE']\n",
    "print(\"The number of entries in the target variable is:\", target.size)"
   ]
  },
  {
   "cell_type": "markdown",
   "metadata": {},
   "source": [
    "# Exploratory Data Analysis"
   ]
  },
  {
   "cell_type": "code",
   "execution_count": 52,
   "metadata": {},
   "outputs": [],
   "source": [
    "import matplotlib\n",
    "from matplotlib import pyplot as plt\n",
    "%matplotlib inline"
   ]
  },
  {
   "cell_type": "code",
   "execution_count": 53,
   "metadata": {},
   "outputs": [
    {
     "data": {
      "text/plain": [
       "<seaborn.axisgrid.FacetGrid at 0x24e4b635730>"
      ]
     },
     "execution_count": 53,
     "metadata": {},
     "output_type": "execute_result"
    },
    {
     "data": {
      "image/png": "[encoded data removed]",
      "text/plain": [
       "<Figure size 360x360 with 1 Axes>"
      ]
     },
     "metadata": {
      "needs_background": "light"
     },
     "output_type": "display_data"
    }
   ],
   "source": [
    "# trying to get an idea about how much of the persons involved in an acident were pedestrians\n",
    "\n",
    "ax = sns.catplot (x = 'PEDCOUNT', y = 'PERSONCOUNT', jitter = False, data = df_coll_clean)\n",
    "ax.set(xlabel = 'Number of pedestrians among them', ylabel = 'Number of persons involved in the accident' )"
   ]
  },
  {
   "cell_type": "code",
   "execution_count": 54,
   "metadata": {
    "scrolled": false
   },
   "outputs": [
    {
     "data": {
      "text/plain": [
       "<seaborn.axisgrid.FacetGrid at 0x24e4cef3fa0>"
      ]
     },
     "execution_count": 54,
     "metadata": {},
     "output_type": "execute_result"
    },
    {
     "data": {
      "image/png": "[encoded data removed]",
      "text/plain": [
       "<Figure size 360x360 with 1 Axes>"
      ]
     },
     "metadata": {
      "needs_background": "light"
     },
     "output_type": "display_data"
    }
   ],
   "source": [
    "# trying to get an idea about how much of the persons involved in an acident were cyclists\n",
    "\n",
    "\n",
    "ax1 = sns.catplot (x = 'PEDCYLCOUNT', y = 'PERSONCOUNT', jitter = False, data = df_coll_clean)\n",
    "ax1.set(xlabel = 'Number of cyclists among them', ylabel = 'Number of persons involved in the accident')"
   ]
  },
  {
   "cell_type": "code",
   "execution_count": 55,
   "metadata": {
    "scrolled": true
   },
   "outputs": [
    {
     "data": {
      "text/plain": [
       "<seaborn.axisgrid.FacetGrid at 0x24e4cd35cd0>"
      ]
     },
     "execution_count": 55,
     "metadata": {},
     "output_type": "execute_result"
    },
    {
     "data": {
      "image/png": "[encoded data removed]",
      "text/plain": [
       "<Figure size 360x360 with 1 Axes>"
      ]
     },
     "metadata": {
      "needs_background": "light"
     },
     "output_type": "display_data"
    }
   ],
   "source": [
    "# trying to get an idea about the number of persons involved in an accident when vehicles are involved\n",
    "\n",
    "ax2 = sns.catplot (x = 'VEHCOUNT', y = 'PERSONCOUNT', jitter = False, data = df_coll_clean)\n",
    "ax2.set(xlabel = 'Number of vehicles involved in the accident', ylabel = 'Number of persons involved in the accident' )"
   ]
  },
  {
   "cell_type": "code",
   "execution_count": 107,
   "metadata": {},
   "outputs": [
    {
     "data": {
      "text/plain": [
       "<AxesSubplot:xlabel='SEVERITYCODE', ylabel='count'>"
      ]
     },
     "execution_count": 107,
     "metadata": {},
     "output_type": "execute_result"
    },
    {
     "data": {
      "image/png": "[encoded data removed]",
      "text/plain": [
       "<Figure size 432x288 with 1 Axes>"
      ]
     },
     "metadata": {
      "needs_background": "light"
     },
     "output_type": "display_data"
    }
   ],
   "source": [
    "# trying to visualze the different label counts of the target variable SEVERITYCODE \n",
    "\n",
    "sns.countplot(x = df_coll_clean['SEVERITYCODE'], data=df_coll_clean)"
   ]
  },
  {
   "cell_type": "markdown",
   "metadata": {},
   "source": [
    "**Now we'll try to explore the relationship between each of the indipendent variables and the target variable `SEVERITYCODE`**"
   ]
  },
  {
   "cell_type": "code",
   "execution_count": 112,
   "metadata": {
    "scrolled": true
   },
   "outputs": [
    {
     "data": {
      "text/plain": [
       "[Text(0.5, 0, 'Severity code'), Text(0, 0.5, 'Count, Alley')]"
      ]
     },
     "execution_count": 112,
     "metadata": {},
     "output_type": "execute_result"
    },
    {
     "data": {
      "image/png": "[encoded data removed]",
      "text/plain": [
       "<Figure size 720x360 with 4 Axes>"
      ]
     },
     "metadata": {
      "needs_background": "light"
     },
     "output_type": "display_data"
    }
   ],
   "source": [
    "# Relationship between the Severity of an accident and Address type\n",
    "\n",
    "block_df = df_coll_clean[df_coll_clean['ADDRTYPE']== 'Block']\n",
    "intersection_df = df_coll_clean[df_coll_clean['ADDRTYPE']== 'Intersection']\n",
    "alley_df = df_coll_clean[df_coll_clean['ADDRTYPE']== 'Alley']\n",
    "\n",
    "fig, axes = plt.subplots(2, 2, sharex = True, figsize = (10,5))\n",
    "sns.countplot(ax = axes[0, 0], x = block_df['SEVERITYCODE'], data = block_df)\n",
    "axes[0,0].set(xlabel = 'Severity code', ylabel = 'Count, Block')\n",
    "sns.countplot(ax = axes[0, 1], x = intersection_df['SEVERITYCODE'], data = intersection_df)\n",
    "axes[0,1].set(xlabel = 'Severity code', ylabel = 'Count, Intersection')\n",
    "sns.countplot(ax = axes[1, 0], x = alley_df['SEVERITYCODE'], data = alley_df)\n",
    "axes[1,0].set(xlabel = 'Severity code', ylabel = 'Count, Alley')"
   ]
  },
  {
   "cell_type": "code",
   "execution_count": null,
   "metadata": {},
   "outputs": [],
   "source": [
    "# Relationship between the Severity of an accident and the junction type\n",
    "\n",
    "\n",
    "\n",
    "\n",
    "\n",
    "\n"
   ]
  },
  {
   "cell_type": "code",
   "execution_count": 59,
   "metadata": {},
   "outputs": [
    {
     "data": {
      "text/plain": [
       "[Text(0.5, 0, 'Severity code'),\n",
       " Text(0, 0.5, 'Number of persons involved in the accident')]"
      ]
     },
     "execution_count": 59,
     "metadata": {},
     "output_type": "execute_result"
    },
    {
     "data": {
      "image/png": "[encoded data removed]",
      "text/plain": [
       "<Figure size 432x288 with 1 Axes>"
      ]
     },
     "metadata": {
      "needs_background": "light"
     },
     "output_type": "display_data"
    }
   ],
   "source": [
    "# Relationship between the Severity of an accident and Person count\n",
    "\n",
    "ax3 = sns.barplot(x = 'SEVERITYCODE',y = 'PERSONCOUNT', data = df_coll_clean)\n",
    "ax3.set(xlabel = \"Severity code\", ylabel = 'Number of persons involved in the accident')\n"
   ]
  },
  {
   "cell_type": "code",
   "execution_count": 99,
   "metadata": {},
   "outputs": [
    {
     "data": {
      "text/plain": [
       "[Text(0.5, 0, 'Severity code'),\n",
       " Text(0, 0.5, 'Number of pedestrians involved in the accident')]"
      ]
     },
     "execution_count": 99,
     "metadata": {},
     "output_type": "execute_result"
    },
    {
     "data": {
      "image/png": "[encoded data removed]",
      "text/plain": [
       "<Figure size 432x288 with 1 Axes>"
      ]
     },
     "metadata": {
      "needs_background": "light"
     },
     "output_type": "display_data"
    }
   ],
   "source": [
    "# Relationship between the Severity of an accident and pedestrian count\n",
    "\n",
    "ax3 = sns.barplot(x = 'SEVERITYCODE',y = 'PEDCOUNT', data = df_coll_clean)\n",
    "ax3.set(xlabel = \"Severity code\", ylabel = 'Number of pedestrians involved in the accident')"
   ]
  },
  {
   "cell_type": "code",
   "execution_count": 100,
   "metadata": {},
   "outputs": [
    {
     "data": {
      "text/plain": [
       "[Text(0.5, 0, 'Severity code'),\n",
       " Text(0, 0.5, 'Number of cyclists involved in the accident')]"
      ]
     },
     "execution_count": 100,
     "metadata": {},
     "output_type": "execute_result"
    },
    {
     "data": {
      "image/png": "[encoded data removed]",
      "text/plain": [
       "<Figure size 432x288 with 1 Axes>"
      ]
     },
     "metadata": {
      "needs_background": "light"
     },
     "output_type": "display_data"
    }
   ],
   "source": [
    "# Relationship between the Severity of an accident and cyclist count\n",
    "\n",
    "ax3 = sns.barplot(x = 'SEVERITYCODE',y = 'PEDCYLCOUNT', data = df_coll_clean)\n",
    "ax3.set(xlabel = \"Severity code\", ylabel = 'Number of cyclists involved in the accident')"
   ]
  },
  {
   "cell_type": "code",
   "execution_count": 101,
   "metadata": {},
   "outputs": [
    {
     "data": {
      "text/plain": [
       "[Text(0.5, 0, 'Severity code'),\n",
       " Text(0, 0.5, 'Number of vehicles involved in the accident')]"
      ]
     },
     "execution_count": 101,
     "metadata": {},
     "output_type": "execute_result"
    },
    {
     "data": {
      "image/png": "[encoded data removed]",
      "text/plain": [
       "<Figure size 432x288 with 1 Axes>"
      ]
     },
     "metadata": {
      "needs_background": "light"
     },
     "output_type": "display_data"
    }
   ],
   "source": [
    "# Relationship between the Severity of an accident and vehicle count\n",
    "\n",
    "ax3 = sns.barplot(x = 'SEVERITYCODE',y = 'VEHCOUNT', data = df_coll_clean)\n",
    "ax3.set(xlabel = \"Severity code\", ylabel = 'Number of vehicles involved in the accident')"
   ]
  },
  {
   "cell_type": "code",
   "execution_count": 104,
   "metadata": {
    "scrolled": true
   },
   "outputs": [
    {
     "data": {
      "text/plain": [
       "[Text(0.5, 0, 'Severity code'),\n",
       " Text(0, 0.5, 'Count, when inattention played a part')]"
      ]
     },
     "execution_count": 104,
     "metadata": {},
     "output_type": "execute_result"
    },
    {
     "data": {
      "image/png": "[encoded data removed]",
      "text/plain": [
       "<Figure size 432x288 with 1 Axes>"
      ]
     },
     "metadata": {
      "needs_background": "light"
     },
     "output_type": "display_data"
    }
   ],
   "source": [
    "# Severity of the accidents where inattention played a part in the accident\n",
    "\n",
    "inatt_df = df_coll_clean[df_coll_clean['INATTENTIONIND']== 1]\n",
    "\n",
    "ax5 = sns.countplot(x = inatt_df['SEVERITYCODE'], data = inatt_df)\n",
    "ax5.set(xlabel = \"Severity code\", ylabel = 'Count, when inattention played a part')"
   ]
  },
  {
   "cell_type": "code",
   "execution_count": 105,
   "metadata": {},
   "outputs": [
    {
     "data": {
      "text/plain": [
       "[Text(0.5, 0, 'Severity code'),\n",
       " Text(0, 0.5, 'Count, when drug/alcohol influence played a part')]"
      ]
     },
     "execution_count": 105,
     "metadata": {},
     "output_type": "execute_result"
    },
    {
     "data": {
      "image/png": "[encoded data removed]",
      "text/plain": [
       "<Figure size 432x288 with 1 Axes>"
      ]
     },
     "metadata": {
      "needs_background": "light"
     },
     "output_type": "display_data"
    }
   ],
   "source": [
    "# Severity of the accidents where influence of drug/alcohol played a part in the accident\n",
    "\n",
    "underinfl_df = df_coll_clean[df_coll_clean['UNDERINFL']== 'Y']\n",
    "\n",
    "ax6 = sns.countplot(x = underinfl_df['SEVERITYCODE'], data = underinfl_df)\n",
    "ax6.set(xlabel = \"Severity code\", ylabel = 'Count, when drug/alcohol influence played a part')"
   ]
  },
  {
   "cell_type": "code",
   "execution_count": 106,
   "metadata": {},
   "outputs": [
    {
     "data": {
      "text/plain": [
       "[Text(0.5, 0, 'Severity code'),\n",
       " Text(0, 0.5, 'Count, when speeding played a part')]"
      ]
     },
     "execution_count": 106,
     "metadata": {},
     "output_type": "execute_result"
    },
    {
     "data": {
      "image/png": "[encoded data removed]",
      "text/plain": [
       "<Figure size 432x288 with 1 Axes>"
      ]
     },
     "metadata": {
      "needs_background": "light"
     },
     "output_type": "display_data"
    }
   ],
   "source": [
    "# Severity of the accidents where speeding of the vehicles played a part in the accident\n",
    "\n",
    "speeding_df = df_coll_clean[df_coll_clean['SPEEDING']== 1]\n",
    "\n",
    "ax7 = sns.countplot(x = speeding_df['SPEEDING'], data = speeding_df)\n",
    "ax7.set(xlabel = \"Severity code\", ylabel = 'Count, when speeding played a part')"
   ]
  },
  {
   "cell_type": "markdown",
   "metadata": {},
   "source": [
    "**N.B. We can see from the above plot that speeding only led to the accidents with severity code category '1' only, none of the other severity levels were seen when speeding was a factor in the accidents. Thats why I'm going to remove the `SPEEDING` variable from the features set to avoid bias in our model towards this severity code category.**"
   ]
  },
  {
   "cell_type": "code",
   "execution_count": 82,
   "metadata": {
    "scrolled": true
   },
   "outputs": [
    {
     "data": {
      "text/html": [
       "<div>\n",
       "<style scoped>\n",
       "    .dataframe tbody tr th:only-of-type {\n",
       "        vertical-align: middle;\n",
       "    }\n",
       "\n",
       "    .dataframe tbody tr th {\n",
       "        vertical-align: top;\n",
       "    }\n",
       "\n",
       "    .dataframe thead th {\n",
       "        text-align: right;\n",
       "    }\n",
       "</style>\n",
       "<table border=\"1\" class=\"dataframe\">\n",
       "  <thead>\n",
       "    <tr style=\"text-align: right;\">\n",
       "      <th></th>\n",
       "      <th>ADDRTYPE</th>\n",
       "      <th>PERSONCOUNT</th>\n",
       "      <th>PEDCOUNT</th>\n",
       "      <th>PEDCYLCOUNT</th>\n",
       "      <th>VEHCOUNT</th>\n",
       "      <th>JUNCTIONTYPE</th>\n",
       "      <th>INATTENTIONIND</th>\n",
       "      <th>UNDERINFL</th>\n",
       "      <th>WEATHER</th>\n",
       "      <th>ROADCOND</th>\n",
       "      <th>LIGHTCOND</th>\n",
       "    </tr>\n",
       "  </thead>\n",
       "  <tbody>\n",
       "    <tr>\n",
       "      <th>0</th>\n",
       "      <td>Intersection</td>\n",
       "      <td>2</td>\n",
       "      <td>1</td>\n",
       "      <td>0</td>\n",
       "      <td>1</td>\n",
       "      <td>At Intersection (intersection related)</td>\n",
       "      <td>0</td>\n",
       "      <td>N</td>\n",
       "      <td>Clear</td>\n",
       "      <td>Dry</td>\n",
       "      <td>Daylight</td>\n",
       "    </tr>\n",
       "    <tr>\n",
       "      <th>1</th>\n",
       "      <td>Intersection</td>\n",
       "      <td>4</td>\n",
       "      <td>0</td>\n",
       "      <td>0</td>\n",
       "      <td>2</td>\n",
       "      <td>At Intersection (intersection related)</td>\n",
       "      <td>0</td>\n",
       "      <td>N</td>\n",
       "      <td>Raining</td>\n",
       "      <td>Wet</td>\n",
       "      <td>Dark - Street Lights On</td>\n",
       "    </tr>\n",
       "    <tr>\n",
       "      <th>2</th>\n",
       "      <td>Block</td>\n",
       "      <td>4</td>\n",
       "      <td>0</td>\n",
       "      <td>0</td>\n",
       "      <td>3</td>\n",
       "      <td>Mid-Block (not related to intersection)</td>\n",
       "      <td>0</td>\n",
       "      <td>N</td>\n",
       "      <td>Clear</td>\n",
       "      <td>Dry</td>\n",
       "      <td>Daylight</td>\n",
       "    </tr>\n",
       "    <tr>\n",
       "      <th>3</th>\n",
       "      <td>Intersection</td>\n",
       "      <td>2</td>\n",
       "      <td>0</td>\n",
       "      <td>0</td>\n",
       "      <td>2</td>\n",
       "      <td>At Intersection (intersection related)</td>\n",
       "      <td>0</td>\n",
       "      <td>N</td>\n",
       "      <td>Raining</td>\n",
       "      <td>Wet</td>\n",
       "      <td>Dark - Street Lights On</td>\n",
       "    </tr>\n",
       "    <tr>\n",
       "      <th>4</th>\n",
       "      <td>Block</td>\n",
       "      <td>0</td>\n",
       "      <td>0</td>\n",
       "      <td>0</td>\n",
       "      <td>0</td>\n",
       "      <td>Mid-Block (but intersection related)</td>\n",
       "      <td>0</td>\n",
       "      <td>UN</td>\n",
       "      <td>others</td>\n",
       "      <td>others</td>\n",
       "      <td>others</td>\n",
       "    </tr>\n",
       "  </tbody>\n",
       "</table>\n",
       "</div>"
      ],
      "text/plain": [
       "       ADDRTYPE  PERSONCOUNT  PEDCOUNT  PEDCYLCOUNT  VEHCOUNT  \\\n",
       "0  Intersection            2         1            0         1   \n",
       "1  Intersection            4         0            0         2   \n",
       "2         Block            4         0            0         3   \n",
       "3  Intersection            2         0            0         2   \n",
       "4         Block            0         0            0         0   \n",
       "\n",
       "                              JUNCTIONTYPE  INATTENTIONIND UNDERINFL  WEATHER  \\\n",
       "0   At Intersection (intersection related)               0         N    Clear   \n",
       "1   At Intersection (intersection related)               0         N  Raining   \n",
       "2  Mid-Block (not related to intersection)               0         N    Clear   \n",
       "3   At Intersection (intersection related)               0         N  Raining   \n",
       "4     Mid-Block (but intersection related)               0        UN   others   \n",
       "\n",
       "  ROADCOND                LIGHTCOND  \n",
       "0      Dry                 Daylight  \n",
       "1      Wet  Dark - Street Lights On  \n",
       "2      Dry                 Daylight  \n",
       "3      Wet  Dark - Street Lights On  \n",
       "4   others                   others  "
      ]
     },
     "execution_count": 82,
     "metadata": {},
     "output_type": "execute_result"
    }
   ],
   "source": [
    "features.drop(['SPEEDING'], axis = 1, inplace = True)\n",
    "features.head(5)"
   ]
  },
  {
   "cell_type": "code",
   "execution_count": null,
   "metadata": {},
   "outputs": [],
   "source": []
  },
  {
   "cell_type": "code",
   "execution_count": null,
   "metadata": {},
   "outputs": [],
   "source": []
  },
  {
   "cell_type": "code",
   "execution_count": null,
   "metadata": {},
   "outputs": [],
   "source": []
  },
  {
   "cell_type": "code",
   "execution_count": null,
   "metadata": {},
   "outputs": [],
   "source": []
  },
  {
   "cell_type": "code",
   "execution_count": null,
   "metadata": {},
   "outputs": [],
   "source": []
  },
  {
   "cell_type": "markdown",
   "metadata": {},
   "source": [
    "# Data pre-processing and Modelling"
   ]
  },
  {
   "cell_type": "code",
   "execution_count": null,
   "metadata": {},
   "outputs": [],
   "source": []
  },
  {
   "cell_type": "code",
   "execution_count": null,
   "metadata": {},
   "outputs": [],
   "source": []
  },
  {
   "cell_type": "code",
   "execution_count": null,
   "metadata": {},
   "outputs": [],
   "source": []
  },
  {
   "cell_type": "markdown",
   "metadata": {},
   "source": [
    "# Model Evaluation"
   ]
  },
  {
   "cell_type": "code",
   "execution_count": null,
   "metadata": {},
   "outputs": [],
   "source": []
  },
  {
   "cell_type": "code",
   "execution_count": null,
   "metadata": {},
   "outputs": [],
   "source": []
  },
  {
   "cell_type": "code",
   "execution_count": null,
   "metadata": {},
   "outputs": [],
   "source": []
  }
 ],
 "metadata": {
  "kernelspec": {
   "display_name": "Python 3",
   "language": "python",
   "name": "python3"
  },
  "language_info": {
   "codemirror_mode": {
    "name": "ipython",
    "version": 3
   },
   "file_extension": ".py",
   "mimetype": "text/x-python",
   "name": "python",
   "nbconvert_exporter": "python",
   "pygments_lexer": "ipython3",
   "version": "3.8.2"
  }
 },
 "nbformat": 4,
 "nbformat_minor": 4
}
